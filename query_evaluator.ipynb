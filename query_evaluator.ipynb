{
 "cells": [
  {
   "cell_type": "code",
   "execution_count": 1,
   "metadata": {},
   "outputs": [],
   "source": [
    "import random\n",
    "import json\n",
    "from groq import Groq\n",
    "from time import sleep\n",
    "from tqdm import tqdm"
   ]
  },
  {
   "cell_type": "code",
   "execution_count": 2,
   "metadata": {},
   "outputs": [],
   "source": [
    "path = 'data/queries.json'"
   ]
  },
  {
   "cell_type": "code",
   "execution_count": 3,
   "metadata": {},
   "outputs": [],
   "source": [
    "import json\n",
    "\n",
    "with open(path, 'r', encoding='utf-8') as f:\n",
    "    data = f.readlines()\n",
    "    data = [json.loads(line) for line in data]"
   ]
  },
  {
   "cell_type": "code",
   "execution_count": 4,
   "metadata": {},
   "outputs": [
    {
     "data": {
      "text/plain": [
       "[{'id': '2205.13172',\n",
       "  'submitter': 'Sergei V. Ketov',\n",
       "  'authors': 'Sergei V. Ketov',\n",
       "  'title': 'Starobinsky-Bel-Robinson gravity',\n",
       "  'comments': '7 pages, no figures, LaTeX; major revision',\n",
       "  'journal-ref': 'Universe 2022, 8, 351',\n",
       "  'doi': '10.3390/universe8070351',\n",
       "  'report-no': 'IPMU22-0031',\n",
       "  'categories': 'gr-qc astro-ph.CO hep-th',\n",
       "  'license': 'http://creativecommons.org/licenses/by/4.0/',\n",
       "  'abstract': '  A novel superstring-inspired gravitational theory in four spacetime\\ndimensions is proposed as a sum of the modified $(R+\\\\alpha R^2)$ gravity\\nmotivated by the Starobinsky inflation and the Bel-Robinson-tensor-squared term\\nmotivated by the eleven-dimensional M-theory dimensionally reduced to four\\ndimensions. The proposed Starobinsky-Bel-Robinson action has only two\\nparameters, which makes it suitable for verifiable physical applications in\\nblack hole physics, cosmological inflation and Hawking radiation in the early\\nuniverse.\\n',\n",
       "  'versions': [{'version': 'v1', 'created': 'Thu, 26 May 2022 06:04:18 GMT'},\n",
       "   {'version': 'v2', 'created': 'Thu, 23 Jun 2022 06:59:32 GMT'},\n",
       "   {'version': 'v3', 'created': 'Mon, 31 Oct 2022 07:37:07 GMT'}],\n",
       "  'update_date': '2022-11-01',\n",
       "  'authors_parsed': [['Ketov', 'Sergei V.', '']],\n",
       "  'query': 'modified gravity theory with starobinsky inflation and bel-robinson tensor'},\n",
       " {'id': '2010.11978',\n",
       "  'submitter': 'Md. Abu Bakr Siddique',\n",
       "  'authors': 'Md. Abu Bakr Siddique, Shadman Sakib, Mohammad Mahmudur Rahman Khan,\\n  Abyaz Kader Tanzeem, Madiha Chowdhury, Nowrin Yasmin',\n",
       "  'title': 'Deep Convolutional Neural Networks Model-based Brain Tumor Detection in\\n  Brain MRI Images',\n",
       "  'comments': '4th International conference on I-SMAC (IoT in Social, Mobile,\\n  Analytics and Cloud) (I-SMAC 2020), IEEE, 7-9 October 2020, TamilNadu, INDIA',\n",
       "  'journal-ref': '2020 Fourth International Conference on I-SMAC (IoT in Social,\\n  Mobile, Analytics and Cloud) (I-SMAC)',\n",
       "  'doi': '10.1109/I-SMAC49090.2020.9243461',\n",
       "  'report-no': None,\n",
       "  'categories': 'eess.IV cs.CV cs.LG cs.NE',\n",
       "  'license': 'http://creativecommons.org/licenses/by-nc-sa/4.0/',\n",
       "  'abstract': \"  Diagnosing Brain Tumor with the aid of Magnetic Resonance Imaging (MRI) has\\ngained enormous prominence over the years, primarily in the field of medical\\nscience. Detection and/or partitioning of brain tumors solely with the aid of\\nMR imaging is achieved at the cost of immense time and effort and demands a lot\\nof expertise from engaged personnel. This substantiates the necessity of\\nfabricating an autonomous model brain tumor diagnosis. Our work involves\\nimplementing a deep convolutional neural network (DCNN) for diagnosing brain\\ntumors from MR images. The dataset used in this paper consists of 253 brain MR\\nimages where 155 images are reported to have tumors. Our model can single out\\nthe MR images with tumors with an overall accuracy of 96%. The model\\noutperformed the existing conventional methods for the diagnosis of brain tumor\\nin the test dataset (Precision = 0.93, Sensitivity = 1.00, and F1-score =\\n0.97). Moreover, the proposed model's average precision-recall score is 0.93,\\nCohen's Kappa 0.91, and AUC 0.95. Therefore, the proposed model can help\\nclinical experts verify whether the patient has a brain tumor and,\\nconsequently, accelerate the treatment procedure.\\n\",\n",
       "  'versions': [{'version': 'v1', 'created': 'Sat, 3 Oct 2020 07:42:17 GMT'}],\n",
       "  'update_date': '2020-11-19',\n",
       "  'authors_parsed': [['Siddique', 'Md. Abu Bakr', ''],\n",
       "   ['Sakib', 'Shadman', ''],\n",
       "   ['Khan', 'Mohammad Mahmudur Rahman', ''],\n",
       "   ['Tanzeem', 'Abyaz Kader', ''],\n",
       "   ['Chowdhury', 'Madiha', ''],\n",
       "   ['Yasmin', 'Nowrin', '']],\n",
       "  'query': 'brain tumor detection using deep learning and mri images'},\n",
       " {'id': '1810.05064',\n",
       "  'submitter': 'Dennis Rohde',\n",
       "  'authors': 'Hendrik Fichtenberger, Dennis Rohde',\n",
       "  'title': 'A Theory-Based Evaluation of Nearest Neighbor Models Put Into Practice',\n",
       "  'comments': None,\n",
       "  'journal-ref': None,\n",
       "  'doi': None,\n",
       "  'report-no': None,\n",
       "  'categories': 'cs.LG stat.ML',\n",
       "  'license': 'http://arxiv.org/licenses/nonexclusive-distrib/1.0/',\n",
       "  'abstract': '  In the $k$-nearest neighborhood model ($k$-NN), we are given a set of points\\n$P$, and we shall answer queries $q$ by returning the $k$ nearest neighbors of\\n$q$ in $P$ according to some metric. This concept is crucial in many areas of\\ndata analysis and data processing, e.g., computer vision, document retrieval\\nand machine learning. Many $k$-NN algorithms have been published and\\nimplemented, but often the relation between parameters and accuracy of the\\ncomputed $k$-NN is not explicit. We study property testing of $k$-NN graphs in\\ntheory and evaluate it empirically: given a point set $P \\\\subset\\n\\\\mathbb{R}^\\\\delta$ and a directed graph $G=(P,E)$, is $G$ a $k$-NN graph, i.e.,\\nevery point $p \\\\in P$ has outgoing edges to its $k$ nearest neighbors, or is it\\n$\\\\epsilon$-far from being a $k$-NN graph? Here, $\\\\epsilon$-far means that one\\nhas to change more than an $\\\\epsilon$-fraction of the edges in order to make\\n$G$ a $k$-NN graph. We develop a randomized algorithm with one-sided error that\\ndecides this question, i.e., a property tester for the $k$-NN property, with\\ncomplexity $O(\\\\sqrt{n} k^2 / \\\\epsilon^2)$ measured in terms of the number of\\nvertices and edges it inspects, and we prove a lower bound of $\\\\Omega(\\\\sqrt{n /\\n\\\\epsilon k})$. We evaluate our tester empirically on the $k$-NN models computed\\nby various algorithms and show that it can be used to detect $k$-NN models with\\nbad accuracy in significantly less time than the building time of the $k$-NN\\nmodel.\\n',\n",
       "  'versions': [{'version': 'v1', 'created': 'Thu, 11 Oct 2018 14:56:03 GMT'},\n",
       "   {'version': 'v2', 'created': 'Thu, 22 Nov 2018 14:28:12 GMT'},\n",
       "   {'version': 'v3', 'created': 'Fri, 30 Nov 2018 18:33:18 GMT'}],\n",
       "  'update_date': '2018-12-03',\n",
       "  'authors_parsed': [['Fichtenberger', 'Hendrik', ''],\n",
       "   ['Rohde', 'Dennis', '']],\n",
       "  'query': 'evaluating the accuracy of k-nearest neighbor models in data analysis'},\n",
       " {'id': '2205.13358',\n",
       "  'submitter': 'Tong Wei',\n",
       "  'authors': 'Tong Wei, Qian-Yu Liu, Jiang-Xin Shi, Wei-Wei Tu, Lan-Zhe Guo',\n",
       "  'title': 'Transfer and Share: Semi-Supervised Learning from Long-Tailed Data',\n",
       "  'comments': 'paper under review',\n",
       "  'journal-ref': None,\n",
       "  'doi': None,\n",
       "  'report-no': None,\n",
       "  'categories': 'cs.LG',\n",
       "  'license': 'http://creativecommons.org/licenses/by/4.0/',\n",
       "  'abstract': '  Long-Tailed Semi-Supervised Learning (LTSSL) aims to learn from\\nclass-imbalanced data where only a few samples are annotated. Existing\\nsolutions typically require substantial cost to solve complex optimization\\nproblems, or class-balanced undersampling which can result in information loss.\\nIn this paper, we present the TRAS (TRAnsfer and Share) to effectively utilize\\nlong-tailed semi-supervised data. TRAS transforms the imbalanced pseudo-label\\ndistribution of a traditional SSL model via a delicate function to enhance the\\nsupervisory signals for minority classes. It then transfers the distribution to\\na target model such that the minority class will receive significant attention.\\nInterestingly, TRAS shows that more balanced pseudo-label distribution can\\nsubstantially benefit minority-class training, instead of seeking to generate\\naccurate pseudo-labels as in previous works. To simplify the approach, TRAS\\nmerges the training of the traditional SSL model and the target model into a\\nsingle procedure by sharing the feature extractor, where both classifiers help\\nimprove the representation learning. According to extensive experiments, TRAS\\ndelivers much higher accuracy than state-of-the-art methods in the entire set\\nof classes as well as minority classes.\\n',\n",
       "  'versions': [{'version': 'v1', 'created': 'Thu, 26 May 2022 13:37:59 GMT'}],\n",
       "  'update_date': '2022-05-27',\n",
       "  'authors_parsed': [['Wei', 'Tong', ''],\n",
       "   ['Liu', 'Qian-Yu', ''],\n",
       "   ['Shi', 'Jiang-Xin', ''],\n",
       "   ['Tu', 'Wei-Wei', ''],\n",
       "   ['Guo', 'Lan-Zhe', '']],\n",
       "  'query': 'long-tailed data semi-supervised learning class imbalance solutions'},\n",
       " {'id': '2205.13175',\n",
       "  'submitter': 'Rares Ambrosie',\n",
       "  'authors': 'Rare\\\\c{s} Ambrosie, Cezar Oniciuc, Ye-Lin Ou',\n",
       "  'title': 'Biharmonic homogeneous polynomial maps between spheres',\n",
       "  'comments': '36 pages',\n",
       "  'journal-ref': None,\n",
       "  'doi': None,\n",
       "  'report-no': None,\n",
       "  'categories': 'math.DG',\n",
       "  'license': 'http://arxiv.org/licenses/nonexclusive-distrib/1.0/',\n",
       "  'abstract': '  In this paper we first prove a characterization formula for biharmonic maps\\nin Euclidean spheres and, as an application, we construct a family of\\nbiharmonic maps from a flat $2$-dimensional torus $\\\\mathbb{T}$ into the\\n$3$-dimensional unit Euclidean sphere $\\\\mathbb{S}^3$. Then, for the special\\ncase of maps between spheres whose components are given by homogeneous\\npolynomials of the same degree, we find a more specific form for their\\nbitension field. Further, we apply this formula to the case when the degree is\\n$2$, and we obtain the classification of all proper biharmonic quadratic forms\\nfrom $\\\\mathbb{S}^1$ to $\\\\mathbb{S}^n$, $n \\\\geq 2$, from $\\\\mathbb{S}^m$ to\\n$\\\\mathbb{S}^2$, $m \\\\geq 2$, and from $\\\\mathbb{S}^m$ to $\\\\mathbb{S}^3$, $m \\\\geq\\n2$.\\n',\n",
       "  'versions': [{'version': 'v1', 'created': 'Thu, 26 May 2022 06:14:12 GMT'}],\n",
       "  'update_date': '2022-05-27',\n",
       "  'authors_parsed': [['Ambrosie', 'Rareş', ''],\n",
       "   ['Oniciuc', 'Cezar', ''],\n",
       "   ['Ou', 'Ye-Lin', '']],\n",
       "  'query': 'biharmonic polynomial maps between euclidean spheres'},\n",
       " {'id': '2205.13160',\n",
       "  'submitter': 'Dajiang Chen',\n",
       "  'authors': 'He Xue (1), Dajiang Chen (2), Ning Zhang (3), Hong-Ning Dai (4),\\n  Keping Yu (5) ((1) Sichuan Fire Research Institute of Ministry of Emergency\\n  Management, (2) University of Electronic Science and Technology of China, (3)\\n  University of Windsor, (4) Lingnan University, (5) Waseda University)',\n",
       "  'title': 'Integration of Blockchain and Edge Computing in Internet of Things: A\\n  Survey',\n",
       "  'comments': None,\n",
       "  'journal-ref': None,\n",
       "  'doi': None,\n",
       "  'report-no': None,\n",
       "  'categories': 'cs.CR eess.SP',\n",
       "  'license': 'http://arxiv.org/licenses/nonexclusive-distrib/1.0/',\n",
       "  'abstract': '  As an important technology to ensure data security, consistency,\\ntraceability, etc., blockchain has been increasingly used in Internet of Things\\n(IoT) applications. The integration of blockchain and edge computing can\\nfurther improve the resource utilization in terms of network, computing,\\nstorage, and security. This paper aims to present a survey on the integration\\nof blockchain and edge computing. In particular, we first give an overview of\\nblockchain and edge computing. We then present a general architecture of an\\nintegration of blockchain and edge computing system. We next study how to\\nutilize blockchain to benefit edge computing, as well as how to use edge\\ncomputing to benefit blockchain. We also discuss the issues brought by the\\nintegration of blockchain and edge computing system and solutions from\\nperspectives of resource management, joint optimization, data management,\\ncomputation offloading and security mechanism. Finally, we analyze and\\nsummarize the existing challenges posed by the integration of blockchain and\\nedge computing system and the potential solutions in the future.\\n',\n",
       "  'versions': [{'version': 'v1', 'created': 'Thu, 26 May 2022 05:14:22 GMT'}],\n",
       "  'update_date': '2022-05-27',\n",
       "  'authors_parsed': [['Xue', 'He', ''],\n",
       "   ['Chen', 'Dajiang', ''],\n",
       "   ['Zhang', 'Ning', ''],\n",
       "   ['Dai', 'Hong-Ning', ''],\n",
       "   ['Yu', 'Keping', '']],\n",
       "  'query': 'blockchain and edge computing integration in iot applications'},\n",
       " {'id': '2205.13362',\n",
       "  'submitter': 'Sam Yang',\n",
       "  'authors': 'Sam Yang, Bjorn Vaagensmith, Deepika Patra, Ryan Hruska, Tyler\\n  Phillips',\n",
       "  'title': 'Multi-fidelity power flow solver',\n",
       "  'comments': '6 pages',\n",
       "  'journal-ref': None,\n",
       "  'doi': None,\n",
       "  'report-no': None,\n",
       "  'categories': 'cs.LG cs.SY eess.SY',\n",
       "  'license': 'http://creativecommons.org/licenses/by/4.0/',\n",
       "  'abstract': \"  We propose a multi-fidelity neural network (MFNN) tailored for rapid\\nhigh-dimensional grid power flow simulations and contingency analysis with\\nscarce high-fidelity contingency data. The proposed model comprises two\\nnetworks -- the first one trained on DC approximation as low-fidelity data and\\ncoupled to a high-fidelity neural net trained on both low- and high-fidelity\\npower flow data. Each network features a latent module which parametrizes the\\nmodel by a discrete grid topology vector for generalization (e.g., $n$ power\\nlines with $k$ disconnections or contingencies, if any), and the targeted\\nhigh-fidelity output is a weighted sum of linear and nonlinear functions. We\\ntested the model on 14- and 118-bus test cases and evaluated its performance\\nbased on the $n-k$ power flow prediction accuracy with respect to imbalanced\\ncontingency data and high-to-low-fidelity sample ratio. The results presented\\nherein demonstrate MFNN's potential and its limits with up to two orders of\\nmagnitude faster and more accurate power flow solutions than DC approximation.\\n\",\n",
       "  'versions': [{'version': 'v1', 'created': 'Thu, 26 May 2022 13:43:26 GMT'}],\n",
       "  'update_date': '2022-05-27',\n",
       "  'authors_parsed': [['Yang', 'Sam', ''],\n",
       "   ['Vaagensmith', 'Bjorn', ''],\n",
       "   ['Patra', 'Deepika', ''],\n",
       "   ['Hruska', 'Ryan', ''],\n",
       "   ['Phillips', 'Tyler', '']],\n",
       "  'query': 'neural network for power grid simulation and contingency analysis'},\n",
       " {'id': '1908.10088',\n",
       "  'submitter': 'Yang Liu',\n",
       "  'authors': 'Yang Liu, Runnan He, Kuanquan Wang, Qince Li, Qiang Sun, Na Zhao and\\n  Henggui Zhang',\n",
       "  'title': 'Automatic Detection of ECG Abnormalities by using an Ensemble of Deep\\n  Residual Networks with Attention',\n",
       "  'comments': '8 pages, 2 figures, conference',\n",
       "  'journal-ref': None,\n",
       "  'doi': None,\n",
       "  'report-no': None,\n",
       "  'categories': 'cs.LG eess.SP stat.ML',\n",
       "  'license': 'http://arxiv.org/licenses/nonexclusive-distrib/1.0/',\n",
       "  'abstract': '  Heart disease is one of the most common diseases causing morbidity and\\nmortality. Electrocardiogram (ECG) has been widely used for diagnosing heart\\ndiseases for its simplicity and non-invasive property. Automatic ECG analyzing\\ntechnologies are expected to reduce human working load and increase diagnostic\\nefficacy. However, there are still some challenges to be addressed for\\nachieving this goal. In this study, we develop an algorithm to identify\\nmultiple abnormalities from 12-lead ECG recordings. In the algorithm pipeline,\\nseveral preprocessing methods are firstly applied on the ECG data for\\ndenoising, augmentation and balancing recording numbers of variant classes. In\\nconsideration of efficiency and consistency of data length, the recordings are\\npadded or truncated into a medium length, where the padding/truncating time\\nwindows are selected randomly to sup-press overfitting. Then, the ECGs are used\\nto train deep neural network (DNN) models with a novel structure that combines\\na deep residual network with an attention mechanism. Finally, an ensemble model\\nis built based on these trained models to make predictions on the test data\\nset. Our method is evaluated based on the test set of the First China ECG\\nIntelligent Competition dataset by using the F1 metric that is regarded as the\\nharmonic mean between the precision and recall. The resultant overall F1 score\\nof the algorithm is 0.875, showing a promising performance and potential for\\npractical use.\\n',\n",
       "  'versions': [{'version': 'v1', 'created': 'Tue, 27 Aug 2019 08:57:55 GMT'}],\n",
       "  'update_date': '2019-08-28',\n",
       "  'authors_parsed': [['Liu', 'Yang', ''],\n",
       "   ['He', 'Runnan', ''],\n",
       "   ['Wang', 'Kuanquan', ''],\n",
       "   ['Li', 'Qince', ''],\n",
       "   ['Sun', 'Qiang', ''],\n",
       "   ['Zhao', 'Na', ''],\n",
       "   ['Zhang', 'Henggui', '']],\n",
       "  'query': 'identifying heart disease through automatic ecg analysis using deep learning algorithms'},\n",
       " {'id': '1810.05176',\n",
       "  'submitter': 'Oliver Witzel',\n",
       "  'authors': 'Anna Hasenfratz, Claudio Rebbi, Oliver Witzel',\n",
       "  'title': 'Determination of the $N_f=12$ step scaling function using M\\\\\"obius\\n  domain wall fermions',\n",
       "  'comments': 'Poster presented at The 36th Annual International Symposium on\\n  Lattice Field Theory, 22-28 July, 2018, Michigan State University, East\\n  Lansing, Michigan, USA; 7 pages, 5 figures',\n",
       "  'journal-ref': None,\n",
       "  'doi': None,\n",
       "  'report-no': None,\n",
       "  'categories': 'hep-lat hep-ph',\n",
       "  'license': 'http://arxiv.org/licenses/nonexclusive-distrib/1.0/',\n",
       "  'abstract': '  We calculate the renormalized step scaling function for twelve fundamental\\nflavors nonperturbatively by determining the gradient flow coupling on gauge\\nfield configurations generated with dynamical stout-smeared M\\\\\"obius domain\\nwall fermions and Symanzik gauge action. Using Zeuthen, Symanzik, and Wilson\\nflow we measure the energy density with three different operators. Our updated\\nanalysis is based on up to five volume pairs ranging from L^4=8^4 up to 32^4.\\nPredictions for the infinite volume extrapolated step scaling function based on\\ndifferent flows and operators are mutually consistent. Our new results confirm\\nthe previously observed significant discrepancy with staggered fermion\\nsimulations in a wide range of the renormalized coupling.\\n',\n",
       "  'versions': [{'version': 'v1', 'created': 'Thu, 11 Oct 2018 18:00:24 GMT'}],\n",
       "  'update_date': '2018-10-15',\n",
       "  'authors_parsed': [['Hasenfratz', 'Anna', ''],\n",
       "   ['Rebbi', 'Claudio', ''],\n",
       "   ['Witzel', 'Oliver', '']],\n",
       "  'query': 'step scaling function calculation with dynamical fermions and symanzik gauge action'},\n",
       " {'id': '2002.11079',\n",
       "  'submitter': 'Yukai Shi',\n",
       "  'authors': 'Yukai Shi, Haoyu Zhong, Zhijing Yang, Xiaojun Yang, Liang Lin',\n",
       "  'title': 'DDet: Dual-path Dynamic Enhancement Network for Real-World Image\\n  Super-Resolution',\n",
       "  'comments': 'Code address: https://github.com/ykshi/DDet',\n",
       "  'journal-ref': None,\n",
       "  'doi': '10.1109/LSP.2020.2978410',\n",
       "  'report-no': None,\n",
       "  'categories': 'cs.CV cs.MM eess.IV',\n",
       "  'license': 'http://arxiv.org/licenses/nonexclusive-distrib/1.0/',\n",
       "  'abstract': '  Different from traditional image super-resolution task, real image\\nsuper-resolution(Real-SR) focus on the relationship between real-world\\nhigh-resolution(HR) and low-resolution(LR) image. Most of the traditional image\\nSR obtains the LR sample by applying a fixed down-sampling operator. Real-SR\\nobtains the LR and HR image pair by incorporating different quality optical\\nsensors. Generally, Real-SR has more challenges as well as broader application\\nscenarios. Previous image SR methods fail to exhibit similar performance on\\nReal-SR as the image data is not aligned inherently. In this article, we\\npropose a Dual-path Dynamic Enhancement Network(DDet) for Real-SR, which\\naddresses the cross-camera image mapping by realizing a dual-way dynamic\\nsub-pixel weighted aggregation and refinement. Unlike conventional methods\\nwhich stack up massive convolutional blocks for feature representation, we\\nintroduce a content-aware framework to study non-inherently aligned image pair\\nin image SR issue. First, we use a content-adaptive component to exhibit the\\nMulti-scale Dynamic Attention(MDA). Second, we incorporate a long-term skip\\nconnection with a Coupled Detail Manipulation(CDM) to perform collaborative\\ncompensation and manipulation. The above dual-path model is joint into a\\nunified model and works collaboratively. Extensive experiments on the\\nchallenging benchmarks demonstrate the superiority of our model.\\n',\n",
       "  'versions': [{'version': 'v1', 'created': 'Tue, 25 Feb 2020 18:24:51 GMT'}],\n",
       "  'update_date': '2020-04-22',\n",
       "  'authors_parsed': [['Shi', 'Yukai', ''],\n",
       "   ['Zhong', 'Haoyu', ''],\n",
       "   ['Yang', 'Zhijing', ''],\n",
       "   ['Yang', 'Xiaojun', ''],\n",
       "   ['Lin', 'Liang', '']],\n",
       "  'query': 'dual path image super resolution network for real-world images'}]"
      ]
     },
     "execution_count": 4,
     "metadata": {},
     "output_type": "execute_result"
    }
   ],
   "source": [
    "data[:10]"
   ]
  },
  {
   "cell_type": "code",
   "execution_count": 5,
   "metadata": {},
   "outputs": [],
   "source": [
    "from AuthKey import GROQ_API_KEY\n",
    "\n",
    "client = Groq(\n",
    "    api_key=GROQ_API_KEY,\n",
    ")"
   ]
  },
  {
   "cell_type": "code",
   "execution_count": 71,
   "metadata": {},
   "outputs": [],
   "source": [
    "def evaluate_articles_boolean(artigos, \n",
    "                      query,\n",
    "                      model = 'llama3-70b-8192',\n",
    "                      max_tokens = 1000,\n",
    "                      verbose = True):\n",
    "    \"\"\"\n",
    "    artigos: list of dictionaries with the following keys: 'title', 'abstract'\n",
    "    query: string with the query that the articles will be evaluated against\n",
    "\n",
    "    Returns a list of dictionaries with the following keys: 'title', 'abstract', 'eval', where 'eval' is a boolean value where 1 means relevant and 0 means not relevant to the query    \n",
    "    \"\"\"\n",
    "\n",
    "    evaluated = []\n",
    "    if verbose: print(\"Query:\", query)\n",
    "\n",
    "    for artigo in tqdm(artigos, desc=\"Evaluating articles\"):\n",
    "        prompt = f\"Read the following article, named '{artigo['title']}', with the following content: \\n {artigo['abstract']} \\n \\\n",
    "                Evaluate if the article is relevant to the following query, and don't be strict about your classification: {query} \\n\"\n",
    "\n",
    "        while True:\n",
    "            try:\n",
    "                response = client.chat.completions.create(\n",
    "                    model=model,\n",
    "                    n=1,\n",
    "                    messages=[\n",
    "                        {\"role\": \"user\", \"content\": \"You are an assistant AI specialized in evaluating articles based on a given query. \\\n",
    "                        Your goal is to evaluate an article's relevance based on a search query. You should return only the number 1 or 0, where 1 means true and 0 means false, \\\n",
    "                        based on whether the article is at least slightly relevant to a given query. If the article is related to the same field, it is enough for it to be considered relevant. For example: \\n \\\n",
    "                        Read the following article, named 'Increased lifespan on athletes', with the following content: \\n Sports practicing has been shown to increase lifespawn and health. \\n\\\n",
    "                        Evaluate if the article is relevant to the following query: Positive health impacts on volleyball practice. \\n \\\n",
    "                        Response: 1\"},\n",
    "                        {\"role\": \"user\", \"content\": prompt}\n",
    "                    ],\n",
    "                    max_tokens = max_tokens)\n",
    "                if int(response.choices[0].message.content.lower()) in [0, 1]:\n",
    "                    evaluated.append({'title': artigo['title'], 'abstract': artigo['abstract'], 'eval': response.choices[0].message.content.lower()})\n",
    "                    if verbose: print(f\"Article '{artigo['title']}' evaluated as {response.choices[0].message.content.lower()}\")\n",
    "                    break\n",
    "                else:\n",
    "                    print(\"Invalid response, trying again.\")\n",
    "            except Exception as e:\n",
    "                print(\"Rate limit achieved:\", e)\n",
    "                sleep(30)\n",
    "                continue\n",
    "    return evaluated"
   ]
  },
  {
   "cell_type": "code",
   "execution_count": 46,
   "metadata": {},
   "outputs": [
    {
     "data": {
      "text/plain": [
       "'transformer-based models for optimizing ranked list truncation in information retrieval'"
      ]
     },
     "execution_count": 46,
     "metadata": {},
     "output_type": "execute_result"
    }
   ],
   "source": [
    "query = data[99]['query']\n",
    "query"
   ]
  },
  {
   "cell_type": "code",
   "execution_count": 50,
   "metadata": {},
   "outputs": [
    {
     "name": "stdout",
     "output_type": "stream",
     "text": [
      "Query: transformer-based models for optimizing ranked list truncation in information retrieval\n"
     ]
    },
    {
     "name": "stderr",
     "output_type": "stream",
     "text": [
      "Evaluating articles:   1%|          | 1/100 [00:00<00:42,  2.35it/s]"
     ]
    },
    {
     "name": "stdout",
     "output_type": "stream",
     "text": [
      "Article 'Starobinsky-Bel-Robinson gravity' evaluated as 0\n"
     ]
    },
    {
     "name": "stderr",
     "output_type": "stream",
     "text": [
      "Evaluating articles:   2%|▏         | 2/100 [00:00<00:37,  2.59it/s]"
     ]
    },
    {
     "name": "stdout",
     "output_type": "stream",
     "text": [
      "Article 'Deep Convolutional Neural Networks Model-based Brain Tumor Detection in\n",
      "  Brain MRI Images' evaluated as 0\n"
     ]
    },
    {
     "name": "stderr",
     "output_type": "stream",
     "text": [
      "Evaluating articles:   3%|▎         | 3/100 [00:01<00:43,  2.25it/s]"
     ]
    },
    {
     "name": "stdout",
     "output_type": "stream",
     "text": [
      "Article 'A Theory-Based Evaluation of Nearest Neighbor Models Put Into Practice' evaluated as 0\n"
     ]
    },
    {
     "name": "stderr",
     "output_type": "stream",
     "text": [
      "Evaluating articles:   4%|▍         | 4/100 [00:01<00:39,  2.44it/s]"
     ]
    },
    {
     "name": "stdout",
     "output_type": "stream",
     "text": [
      "Article 'Transfer and Share: Semi-Supervised Learning from Long-Tailed Data' evaluated as 0\n"
     ]
    },
    {
     "name": "stderr",
     "output_type": "stream",
     "text": [
      "Evaluating articles:   5%|▌         | 5/100 [00:05<02:26,  1.54s/it]"
     ]
    },
    {
     "name": "stdout",
     "output_type": "stream",
     "text": [
      "Article 'Biharmonic homogeneous polynomial maps between spheres' evaluated as 0\n"
     ]
    },
    {
     "name": "stderr",
     "output_type": "stream",
     "text": [
      "Evaluating articles:   6%|▌         | 6/100 [00:15<07:17,  4.66s/it]"
     ]
    },
    {
     "name": "stdout",
     "output_type": "stream",
     "text": [
      "Article 'Integration of Blockchain and Edge Computing in Internet of Things: A\n",
      "  Survey' evaluated as 0\n"
     ]
    },
    {
     "name": "stderr",
     "output_type": "stream",
     "text": [
      "Evaluating articles:   7%|▋         | 7/100 [00:24<09:15,  5.97s/it]"
     ]
    },
    {
     "name": "stdout",
     "output_type": "stream",
     "text": [
      "Article 'Multi-fidelity power flow solver' evaluated as 0\n"
     ]
    },
    {
     "name": "stderr",
     "output_type": "stream",
     "text": [
      "Evaluating articles:   8%|▊         | 8/100 [00:34<11:04,  7.23s/it]"
     ]
    },
    {
     "name": "stdout",
     "output_type": "stream",
     "text": [
      "Article 'Automatic Detection of ECG Abnormalities by using an Ensemble of Deep\n",
      "  Residual Networks with Attention' evaluated as 0\n"
     ]
    },
    {
     "name": "stderr",
     "output_type": "stream",
     "text": [
      "Evaluating articles:   9%|▉         | 9/100 [00:44<12:10,  8.03s/it]"
     ]
    },
    {
     "name": "stdout",
     "output_type": "stream",
     "text": [
      "Article 'Determination of the $N_f=12$ step scaling function using M\\\"obius\n",
      "  domain wall fermions' evaluated as 0\n"
     ]
    },
    {
     "name": "stderr",
     "output_type": "stream",
     "text": [
      "Evaluating articles:  10%|█         | 10/100 [00:48<10:27,  6.97s/it]"
     ]
    },
    {
     "name": "stdout",
     "output_type": "stream",
     "text": [
      "Article 'DDet: Dual-path Dynamic Enhancement Network for Real-World Image\n",
      "  Super-Resolution' evaluated as 0\n"
     ]
    },
    {
     "name": "stderr",
     "output_type": "stream",
     "text": [
      "Evaluating articles:  11%|█         | 11/100 [00:57<11:12,  7.56s/it]"
     ]
    },
    {
     "name": "stdout",
     "output_type": "stream",
     "text": [
      "Article 'Thermalizing two identical particles' evaluated as 0\n"
     ]
    },
    {
     "name": "stderr",
     "output_type": "stream",
     "text": [
      "Evaluating articles:  12%|█▏        | 12/100 [01:06<11:34,  7.90s/it]"
     ]
    },
    {
     "name": "stdout",
     "output_type": "stream",
     "text": [
      "Article 'Development of Transition-Edge Sensor X-ray Microcalorimeter Linear\n",
      "  Array for Compton Scattering and Energy Dispersive Diffraction Imaging' evaluated as 0\n"
     ]
    },
    {
     "name": "stderr",
     "output_type": "stream",
     "text": [
      "Evaluating articles:  13%|█▎        | 13/100 [01:10<09:38,  6.65s/it]"
     ]
    },
    {
     "name": "stdout",
     "output_type": "stream",
     "text": [
      "Article 'Multiple representations of real numbers on self-similar sets with\n",
      "  overlaps' evaluated as 0\n"
     ]
    },
    {
     "name": "stderr",
     "output_type": "stream",
     "text": [
      "Evaluating articles:  14%|█▍        | 14/100 [01:19<10:32,  7.35s/it]"
     ]
    },
    {
     "name": "stdout",
     "output_type": "stream",
     "text": [
      "Article 'Lying on networks: The role of structure and topology in promoting\n",
      "  honesty' evaluated as 0\n"
     ]
    },
    {
     "name": "stderr",
     "output_type": "stream",
     "text": [
      "Evaluating articles:  15%|█▌        | 15/100 [01:23<09:14,  6.52s/it]"
     ]
    },
    {
     "name": "stdout",
     "output_type": "stream",
     "text": [
      "Article 'Elevated ionizing photon production efficiency in faint\n",
      "  high-equivalent-width Lyman-alpha emitters' evaluated as 0\n"
     ]
    },
    {
     "name": "stderr",
     "output_type": "stream",
     "text": [
      "Evaluating articles:  16%|█▌        | 16/100 [01:33<10:27,  7.47s/it]"
     ]
    },
    {
     "name": "stdout",
     "output_type": "stream",
     "text": [
      "Article 'Don't shoot butterfly with rifles: Multi-channel Continuous Speech\n",
      "  Separation with Early Exit Transformer' evaluated as 0\n"
     ]
    },
    {
     "name": "stderr",
     "output_type": "stream",
     "text": [
      "Evaluating articles:  17%|█▋        | 17/100 [01:39<09:35,  6.94s/it]"
     ]
    },
    {
     "name": "stdout",
     "output_type": "stream",
     "text": [
      "Article 'Unpredictable repeatability in molecular evolution' evaluated as 0\n"
     ]
    },
    {
     "name": "stderr",
     "output_type": "stream",
     "text": [
      "Evaluating articles:  18%|█▊        | 18/100 [01:47<10:11,  7.46s/it]"
     ]
    },
    {
     "name": "stdout",
     "output_type": "stream",
     "text": [
      "Article 'Simplex-averaged finite element methods for $H({\\rm grad})$, $H({\\rm\n",
      "  curl})$ and $H({\\rm div})$ convection-diffusion problems' evaluated as 0\n"
     ]
    },
    {
     "name": "stderr",
     "output_type": "stream",
     "text": [
      "Evaluating articles:  19%|█▉        | 19/100 [01:56<10:33,  7.82s/it]"
     ]
    },
    {
     "name": "stdout",
     "output_type": "stream",
     "text": [
      "Article 'Fourier transform detection of weak optical transitions with cyclic\n",
      "  routines' evaluated as 0\n"
     ]
    },
    {
     "name": "stderr",
     "output_type": "stream",
     "text": [
      "Evaluating articles:  20%|██        | 20/100 [02:02<09:33,  7.17s/it]"
     ]
    },
    {
     "name": "stdout",
     "output_type": "stream",
     "text": [
      "Article 'sBSNN: Stochastic-Bits Enabled Binary Spiking Neural Network with\n",
      "  On-Chip Learning for Energy Efficient Neuromorphic Computing at the Edge' evaluated as 0\n"
     ]
    },
    {
     "name": "stderr",
     "output_type": "stream",
     "text": [
      "Evaluating articles:  21%|██        | 21/100 [02:04<07:36,  5.78s/it]"
     ]
    },
    {
     "name": "stdout",
     "output_type": "stream",
     "text": [
      "Article 'Which Generation Shows the Most Prudent Data Sharing Behaviour?' evaluated as 0\n"
     ]
    },
    {
     "name": "stderr",
     "output_type": "stream",
     "text": [
      "Evaluating articles:  22%|██▏       | 22/100 [02:13<08:43,  6.71s/it]"
     ]
    },
    {
     "name": "stdout",
     "output_type": "stream",
     "text": [
      "Article 'A New Charter of Ethics and Rights of Artificial Consciousness in a\n",
      "  Human World' evaluated as 0\n"
     ]
    },
    {
     "name": "stderr",
     "output_type": "stream",
     "text": [
      "Evaluating articles:  23%|██▎       | 23/100 [02:17<07:23,  5.76s/it]"
     ]
    },
    {
     "name": "stdout",
     "output_type": "stream",
     "text": [
      "Article 'X-ray measurement model incorporating energy-correlated material\n",
      "  variability and its application in information-theoretic system analysis' evaluated as 0\n"
     ]
    },
    {
     "name": "stderr",
     "output_type": "stream",
     "text": [
      "Evaluating articles:  24%|██▍       | 24/100 [02:21<06:51,  5.41s/it]"
     ]
    },
    {
     "name": "stdout",
     "output_type": "stream",
     "text": [
      "Article 'Superconductor-metal quantum transition at the EuO-KTaO3 interface' evaluated as 0\n"
     ]
    },
    {
     "name": "stderr",
     "output_type": "stream",
     "text": [
      "Evaluating articles:  25%|██▌       | 25/100 [02:31<08:21,  6.69s/it]"
     ]
    },
    {
     "name": "stdout",
     "output_type": "stream",
     "text": [
      "Article 'Efficient Inverse-Free Incremental and Decremental Algorithms for\n",
      "  Multiple Hidden Nodes in Extreme Learning Machine' evaluated as 0\n"
     ]
    },
    {
     "name": "stderr",
     "output_type": "stream",
     "text": [
      "Evaluating articles:  26%|██▌       | 26/100 [02:41<09:21,  7.59s/it]"
     ]
    },
    {
     "name": "stdout",
     "output_type": "stream",
     "text": [
      "Article 'Fingerprints of giant planets in the composition of solar twins' evaluated as 0\n"
     ]
    },
    {
     "name": "stderr",
     "output_type": "stream",
     "text": [
      "Evaluating articles:  27%|██▋       | 27/100 [02:51<10:21,  8.52s/it]"
     ]
    },
    {
     "name": "stdout",
     "output_type": "stream",
     "text": [
      "Article 'Few-Shot Adaptation of Generative Adversarial Networks' evaluated as 0\n"
     ]
    },
    {
     "name": "stderr",
     "output_type": "stream",
     "text": [
      "Evaluating articles:  28%|██▊       | 28/100 [03:00<10:16,  8.56s/it]"
     ]
    },
    {
     "name": "stdout",
     "output_type": "stream",
     "text": [
      "Article 'Lamina-specific neuronal properties promote robust, stable signal\n",
      "  propagation in feedforward networks' evaluated as 0\n"
     ]
    },
    {
     "name": "stderr",
     "output_type": "stream",
     "text": [
      "Evaluating articles:  29%|██▉       | 29/100 [03:06<09:07,  7.71s/it]"
     ]
    },
    {
     "name": "stdout",
     "output_type": "stream",
     "text": [
      "Article 'BCFT entanglement entropy at large central charge and the black hole\n",
      "  interior' evaluated as 0\n"
     ]
    },
    {
     "name": "stderr",
     "output_type": "stream",
     "text": [
      "Evaluating articles:  30%|███       | 30/100 [03:08<07:11,  6.16s/it]"
     ]
    },
    {
     "name": "stdout",
     "output_type": "stream",
     "text": [
      "Article 'Longitudinal tension and mechanical stability of a pressurized straw\n",
      "  tube' evaluated as 0\n"
     ]
    },
    {
     "name": "stderr",
     "output_type": "stream",
     "text": [
      "Evaluating articles:  31%|███       | 31/100 [03:17<08:06,  7.05s/it]"
     ]
    },
    {
     "name": "stdout",
     "output_type": "stream",
     "text": [
      "Article 'MeshAdv: Adversarial Meshes for Visual Recognition' evaluated as 0\n"
     ]
    },
    {
     "name": "stderr",
     "output_type": "stream",
     "text": [
      "Evaluating articles:  32%|███▏      | 32/100 [03:23<07:33,  6.67s/it]"
     ]
    },
    {
     "name": "stdout",
     "output_type": "stream",
     "text": [
      "Article 'Automatic Segmentation, Feature Extraction and Comparison of Healthy and\n",
      "  Stroke Cerebral Vasculature' evaluated as 0\n"
     ]
    },
    {
     "name": "stderr",
     "output_type": "stream",
     "text": [
      "Evaluating articles:  33%|███▎      | 33/100 [03:29<07:08,  6.39s/it]"
     ]
    },
    {
     "name": "stdout",
     "output_type": "stream",
     "text": [
      "Article 'How Phonotactics Affect Multilingual and Zero-shot ASR Performance' evaluated as 0\n"
     ]
    },
    {
     "name": "stderr",
     "output_type": "stream",
     "text": [
      "Evaluating articles:  34%|███▍      | 34/100 [03:32<05:48,  5.28s/it]"
     ]
    },
    {
     "name": "stdout",
     "output_type": "stream",
     "text": [
      "Article 'Constraining annihilating dark matter by radio continuum spectrum of the\n",
      "  Large Magellanic Cloud' evaluated as 0\n"
     ]
    },
    {
     "name": "stderr",
     "output_type": "stream",
     "text": [
      "Evaluating articles:  35%|███▌      | 35/100 [03:37<05:51,  5.41s/it]"
     ]
    },
    {
     "name": "stdout",
     "output_type": "stream",
     "text": [
      "Article 'Contrastive Learning with Adversarial Examples' evaluated as 0\n"
     ]
    },
    {
     "name": "stderr",
     "output_type": "stream",
     "text": [
      "Evaluating articles:  36%|███▌      | 36/100 [03:45<06:30,  6.09s/it]"
     ]
    },
    {
     "name": "stdout",
     "output_type": "stream",
     "text": [
      "Article 'DeeBERT: Dynamic Early Exiting for Accelerating BERT Inference' evaluated as 1\n"
     ]
    },
    {
     "name": "stderr",
     "output_type": "stream",
     "text": [
      "Evaluating articles:  37%|███▋      | 37/100 [03:54<07:12,  6.87s/it]"
     ]
    },
    {
     "name": "stdout",
     "output_type": "stream",
     "text": [
      "Article 'Listening for Sirens: Locating and Classifying Acoustic Alarms in City\n",
      "  Scenes' evaluated as 0\n"
     ]
    },
    {
     "name": "stderr",
     "output_type": "stream",
     "text": [
      "Evaluating articles:  38%|███▊      | 38/100 [04:04<08:18,  8.04s/it]"
     ]
    },
    {
     "name": "stdout",
     "output_type": "stream",
     "text": [
      "Article 'Transient chaotic dimensionality expansion by recurrent networks' evaluated as 0\n"
     ]
    },
    {
     "name": "stderr",
     "output_type": "stream",
     "text": [
      "Evaluating articles:  39%|███▉      | 39/100 [04:09<07:08,  7.02s/it]"
     ]
    },
    {
     "name": "stdout",
     "output_type": "stream",
     "text": [
      "Article 'Ergodic Achievable Rate Maximization of RIS-assisted Millimeter-Wave\n",
      "  MIMO-OFDM Communication Systems' evaluated as 0\n",
      "Rate limit achieved: invalid literal for int() with base 10: '0 \\n\\nthis article is not relevant to the query about transformer-based models for optimizing ranked list truncation in information retrieval. the article is focused on a deep learning guided fuzzing\n"
     ]
    },
    {
     "name": "stderr",
     "output_type": "stream",
     "text": [
      "Evaluating articles:  40%|████      | 40/100 [04:50<17:03, 17.05s/it]"
     ]
    },
    {
     "name": "stdout",
     "output_type": "stream",
     "text": [
      "Article 'DeFuzz: Deep Learning Guided Directed Fuzzing' evaluated as 0\n"
     ]
    },
    {
     "name": "stderr",
     "output_type": "stream",
     "text": [
      "Evaluating articles:  41%|████      | 41/100 [04:50<11:51, 12.05s/it]"
     ]
    },
    {
     "name": "stdout",
     "output_type": "stream",
     "text": [
      "Article 'Inherently stable effective field theory for dark energy and modified\n",
      "  gravity' evaluated as 0\n"
     ]
    },
    {
     "name": "stderr",
     "output_type": "stream",
     "text": [
      "Evaluating articles:  42%|████▏     | 42/100 [04:50<08:15,  8.54s/it]"
     ]
    },
    {
     "name": "stdout",
     "output_type": "stream",
     "text": [
      "Article 'On complexity of representations of quivers' evaluated as 0\n"
     ]
    },
    {
     "name": "stderr",
     "output_type": "stream",
     "text": [
      "Evaluating articles:  43%|████▎     | 43/100 [04:51<05:46,  6.08s/it]"
     ]
    },
    {
     "name": "stdout",
     "output_type": "stream",
     "text": [
      "Article 'Quantum Formation of Primordial Black holes' evaluated as 0\n"
     ]
    },
    {
     "name": "stderr",
     "output_type": "stream",
     "text": [
      "Evaluating articles:  44%|████▍     | 44/100 [04:53<04:43,  5.07s/it]"
     ]
    },
    {
     "name": "stdout",
     "output_type": "stream",
     "text": [
      "Article 'Tree Reconstruction using Topology Optimisation' evaluated as 0\n"
     ]
    },
    {
     "name": "stderr",
     "output_type": "stream",
     "text": [
      "Evaluating articles:  45%|████▌     | 45/100 [04:59<04:43,  5.15s/it]"
     ]
    },
    {
     "name": "stdout",
     "output_type": "stream",
     "text": [
      "Article 'Deep Learning for Ultra-Reliable and Low-Latency Communications in 6G\n",
      "  Networks' evaluated as 0\n"
     ]
    },
    {
     "name": "stderr",
     "output_type": "stream",
     "text": [
      "Evaluating articles:  46%|████▌     | 46/100 [05:03<04:29,  4.98s/it]"
     ]
    },
    {
     "name": "stdout",
     "output_type": "stream",
     "text": [
      "Article 'Active galactic nuclei ghosts: A systematic search for faded nuclei' evaluated as 0\n"
     ]
    },
    {
     "name": "stderr",
     "output_type": "stream",
     "text": [
      "Evaluating articles:  47%|████▋     | 47/100 [05:12<05:22,  6.08s/it]"
     ]
    },
    {
     "name": "stdout",
     "output_type": "stream",
     "text": [
      "Article 'Nonbinary Error-Detecting Hybrid Codes' evaluated as 0\n"
     ]
    },
    {
     "name": "stderr",
     "output_type": "stream",
     "text": [
      "Evaluating articles:  48%|████▊     | 48/100 [05:21<05:56,  6.86s/it]"
     ]
    },
    {
     "name": "stdout",
     "output_type": "stream",
     "text": [
      "Article 'Interactive Movement Primitives: Planning to Push Occluding Pieces for\n",
      "  Fruit Picking' evaluated as 0\n"
     ]
    },
    {
     "name": "stderr",
     "output_type": "stream",
     "text": [
      "Evaluating articles:  49%|████▉     | 49/100 [05:30<06:33,  7.71s/it]"
     ]
    },
    {
     "name": "stdout",
     "output_type": "stream",
     "text": [
      "Article 'Pb-doped p-type Bi$_2$Se$_3$ thin films via interfacial engineering' evaluated as 0\n"
     ]
    },
    {
     "name": "stderr",
     "output_type": "stream",
     "text": [
      "Evaluating articles:  50%|█████     | 50/100 [05:34<05:22,  6.46s/it]"
     ]
    },
    {
     "name": "stdout",
     "output_type": "stream",
     "text": [
      "Article 'Growth of nonsymmetric operads' evaluated as 0\n"
     ]
    },
    {
     "name": "stderr",
     "output_type": "stream",
     "text": [
      "Evaluating articles:  51%|█████     | 51/100 [05:43<05:53,  7.21s/it]"
     ]
    },
    {
     "name": "stdout",
     "output_type": "stream",
     "text": [
      "Article 'Optimizing Electric Multiple Unit Circulation Plan within Maintenance\n",
      "  Constraints for High-Speed Railway System' evaluated as 0\n"
     ]
    },
    {
     "name": "stderr",
     "output_type": "stream",
     "text": [
      "Evaluating articles:  52%|█████▏    | 52/100 [05:46<04:53,  6.12s/it]"
     ]
    },
    {
     "name": "stdout",
     "output_type": "stream",
     "text": [
      "Article 'Near-field imaging of surface-plasmon vortex-modes around a single\n",
      "  elliptical nanohole in a gold film' evaluated as 0\n"
     ]
    },
    {
     "name": "stderr",
     "output_type": "stream",
     "text": [
      "Evaluating articles:  53%|█████▎    | 53/100 [05:55<05:30,  7.02s/it]"
     ]
    },
    {
     "name": "stdout",
     "output_type": "stream",
     "text": [
      "Article 'Driven translocation of a semiflexible polymer through a conical channel\n",
      "  in the presence of attractive surface interactions' evaluated as 0\n"
     ]
    },
    {
     "name": "stderr",
     "output_type": "stream",
     "text": [
      "Evaluating articles:  54%|█████▍    | 54/100 [06:03<05:31,  7.21s/it]"
     ]
    },
    {
     "name": "stdout",
     "output_type": "stream",
     "text": [
      "Article 'The Accuracy of Restricted Boltzmann Machine Models of Ising Systems' evaluated as 0\n"
     ]
    },
    {
     "name": "stderr",
     "output_type": "stream",
     "text": [
      "Evaluating articles:  55%|█████▌    | 55/100 [06:11<05:33,  7.40s/it]"
     ]
    },
    {
     "name": "stdout",
     "output_type": "stream",
     "text": [
      "Article 'See saw mechanism with Yukawa alignment for neutrinos' evaluated as 0\n"
     ]
    },
    {
     "name": "stderr",
     "output_type": "stream",
     "text": [
      "Evaluating articles:  56%|█████▌    | 56/100 [06:14<04:27,  6.09s/it]"
     ]
    },
    {
     "name": "stdout",
     "output_type": "stream",
     "text": [
      "Article 'Game Values of Strong Placement Games' evaluated as 0\n"
     ]
    },
    {
     "name": "stderr",
     "output_type": "stream",
     "text": [
      "Evaluating articles:  57%|█████▋    | 57/100 [06:20<04:16,  5.97s/it]"
     ]
    },
    {
     "name": "stdout",
     "output_type": "stream",
     "text": [
      "Article 'On the centralizer of vector fields: criteria of triviality and\n",
      "  genericity results' evaluated as 0\n"
     ]
    },
    {
     "name": "stderr",
     "output_type": "stream",
     "text": [
      "Evaluating articles:  58%|█████▊    | 58/100 [06:25<04:07,  5.88s/it]"
     ]
    },
    {
     "name": "stdout",
     "output_type": "stream",
     "text": [
      "Article 'Attacks Which Do Not Kill Training Make Adversarial Learning Stronger' evaluated as 0\n"
     ]
    },
    {
     "name": "stderr",
     "output_type": "stream",
     "text": [
      "Evaluating articles:  59%|█████▉    | 59/100 [06:30<03:45,  5.51s/it]"
     ]
    },
    {
     "name": "stdout",
     "output_type": "stream",
     "text": [
      "Article 'SymNMF-Net for The Symmetric NMF Problem' evaluated as 0\n"
     ]
    },
    {
     "name": "stderr",
     "output_type": "stream",
     "text": [
      "Evaluating articles:  60%|██████    | 60/100 [06:39<04:18,  6.45s/it]"
     ]
    },
    {
     "name": "stdout",
     "output_type": "stream",
     "text": [
      "Article 'Vibrational Heat-Bath Configuration Interaction' evaluated as 0\n"
     ]
    },
    {
     "name": "stderr",
     "output_type": "stream",
     "text": [
      "Evaluating articles:  61%|██████    | 61/100 [06:42<03:39,  5.62s/it]"
     ]
    },
    {
     "name": "stdout",
     "output_type": "stream",
     "text": [
      "Article 'A unified view of space-time covariance functions through Gelfand pairs' evaluated as 0\n"
     ]
    },
    {
     "name": "stderr",
     "output_type": "stream",
     "text": [
      "Evaluating articles:  62%|██████▏   | 62/100 [06:52<04:20,  6.84s/it]"
     ]
    },
    {
     "name": "stdout",
     "output_type": "stream",
     "text": [
      "Article 'Grasping as Inference: Reactive Grasping in Heavily Cluttered\n",
      "  Environment' evaluated as 0\n"
     ]
    },
    {
     "name": "stderr",
     "output_type": "stream",
     "text": [
      "Evaluating articles:  63%|██████▎   | 63/100 [06:57<03:49,  6.21s/it]"
     ]
    },
    {
     "name": "stdout",
     "output_type": "stream",
     "text": [
      "Article 'The Case for Learning Application Behavior to Improve Hardware Energy\n",
      "  Efficiency' evaluated as 0\n"
     ]
    },
    {
     "name": "stderr",
     "output_type": "stream",
     "text": [
      "Evaluating articles:  64%|██████▍   | 64/100 [07:02<03:37,  6.05s/it]"
     ]
    },
    {
     "name": "stdout",
     "output_type": "stream",
     "text": [
      "Article 'Cost-Optimal Laser-Accelerated Lightsails' evaluated as 0\n"
     ]
    },
    {
     "name": "stderr",
     "output_type": "stream",
     "text": [
      "Evaluating articles:  65%|██████▌   | 65/100 [07:07<03:17,  5.66s/it]"
     ]
    },
    {
     "name": "stdout",
     "output_type": "stream",
     "text": [
      "Article 'Nonreciprocal directional dichroism induced by a temperature gradient as\n",
      "  a probe for mobile spin dynamics in quantum magnets' evaluated as 0\n"
     ]
    },
    {
     "name": "stderr",
     "output_type": "stream",
     "text": [
      "Evaluating articles:  66%|██████▌   | 66/100 [07:12<03:01,  5.34s/it]"
     ]
    },
    {
     "name": "stdout",
     "output_type": "stream",
     "text": [
      "Article 'A broadband achromatic polarization-insensitive metalens consisting of\n",
      "  anisotropic nanostructures' evaluated as 0\n"
     ]
    },
    {
     "name": "stderr",
     "output_type": "stream",
     "text": [
      "Evaluating articles:  67%|██████▋   | 67/100 [07:19<03:20,  6.07s/it]"
     ]
    },
    {
     "name": "stdout",
     "output_type": "stream",
     "text": [
      "Article 'Asymptotic Expansions of The Traces of the Thermoelastic Operators' evaluated as 0\n"
     ]
    },
    {
     "name": "stderr",
     "output_type": "stream",
     "text": [
      "Evaluating articles:  68%|██████▊   | 68/100 [07:25<03:10,  5.95s/it]"
     ]
    },
    {
     "name": "stdout",
     "output_type": "stream",
     "text": [
      "Article 'On Eventually Periodic Sets as Minimal Additive Complements' evaluated as 0\n"
     ]
    },
    {
     "name": "stderr",
     "output_type": "stream",
     "text": [
      "Evaluating articles:  69%|██████▉   | 69/100 [07:29<02:42,  5.23s/it]"
     ]
    },
    {
     "name": "stdout",
     "output_type": "stream",
     "text": [
      "Article 'Two-phonon structures for beta-decay theory' evaluated as 0\n"
     ]
    },
    {
     "name": "stderr",
     "output_type": "stream",
     "text": [
      "Evaluating articles:  70%|███████   | 70/100 [07:37<03:07,  6.26s/it]"
     ]
    },
    {
     "name": "stdout",
     "output_type": "stream",
     "text": [
      "Article 'Symbiotic Child Emotional Support with Social Robots and Temporal\n",
      "  Knowledge Graphs' evaluated as 0\n"
     ]
    },
    {
     "name": "stderr",
     "output_type": "stream",
     "text": [
      "Evaluating articles:  71%|███████   | 71/100 [07:42<02:47,  5.77s/it]"
     ]
    },
    {
     "name": "stdout",
     "output_type": "stream",
     "text": [
      "Article 'High Tc superconductivity in heavy Rare Earth Hydrides: correlation\n",
      "  between the presence of the f states on the Fermi surface, nesting and the\n",
      "  value of Tc' evaluated as 0\n"
     ]
    },
    {
     "name": "stderr",
     "output_type": "stream",
     "text": [
      "Evaluating articles:  72%|███████▏  | 72/100 [07:54<03:31,  7.56s/it]"
     ]
    },
    {
     "name": "stdout",
     "output_type": "stream",
     "text": [
      "Article 'Diffusion in the presence of correlated dynamical disorder and coherent\n",
      "  exciton transfer in the non-Markovian limit' evaluated as 0\n"
     ]
    },
    {
     "name": "stderr",
     "output_type": "stream",
     "text": [
      "Evaluating articles:  73%|███████▎  | 73/100 [07:58<03:00,  6.70s/it]"
     ]
    },
    {
     "name": "stdout",
     "output_type": "stream",
     "text": [
      "Article 'Continuous-time multi-state capture-recapture models' evaluated as 0\n"
     ]
    },
    {
     "name": "stderr",
     "output_type": "stream",
     "text": [
      "Evaluating articles:  74%|███████▍  | 74/100 [08:08<03:17,  7.59s/it]"
     ]
    },
    {
     "name": "stdout",
     "output_type": "stream",
     "text": [
      "Article 'A panoramic landscape of the Sagittarius stream in Gaia DR2 revealed\n",
      "  with the STREAMFINDER spyglass' evaluated as 0\n"
     ]
    },
    {
     "name": "stderr",
     "output_type": "stream",
     "text": [
      "Evaluating articles:  75%|███████▌  | 75/100 [08:12<02:40,  6.41s/it]"
     ]
    },
    {
     "name": "stdout",
     "output_type": "stream",
     "text": [
      "Article 'Application of the iterative reconstruction to simulated galaxy fields' evaluated as 0\n"
     ]
    },
    {
     "name": "stderr",
     "output_type": "stream",
     "text": [
      "Evaluating articles:  76%|███████▌  | 76/100 [08:19<02:36,  6.51s/it]"
     ]
    },
    {
     "name": "stdout",
     "output_type": "stream",
     "text": [
      "Article 'Model Watermarking for Image Processing Networks' evaluated as 0\n"
     ]
    },
    {
     "name": "stderr",
     "output_type": "stream",
     "text": [
      "Evaluating articles:  77%|███████▋  | 77/100 [08:28<02:53,  7.55s/it]"
     ]
    },
    {
     "name": "stdout",
     "output_type": "stream",
     "text": [
      "Article 'Numerical approximation of elliptic problems with log-normal random\n",
      "  coefficients' evaluated as 0\n"
     ]
    },
    {
     "name": "stderr",
     "output_type": "stream",
     "text": [
      "Evaluating articles:  78%|███████▊  | 78/100 [08:33<02:26,  6.66s/it]"
     ]
    },
    {
     "name": "stdout",
     "output_type": "stream",
     "text": [
      "Article 'A search for cosmological anisotropy using the Lyman alpha forest from\n",
      "  SDSS quasar spectra' evaluated as 0\n"
     ]
    },
    {
     "name": "stderr",
     "output_type": "stream",
     "text": [
      "Evaluating articles:  79%|███████▉  | 79/100 [08:38<02:06,  6.04s/it]"
     ]
    },
    {
     "name": "stdout",
     "output_type": "stream",
     "text": [
      "Article 'An Inertial Block Majorization Minimization Framework for Nonsmooth\n",
      "  Nonconvex Optimization' evaluated as 0\n"
     ]
    },
    {
     "name": "stderr",
     "output_type": "stream",
     "text": [
      "Evaluating articles:  80%|████████  | 80/100 [08:41<01:44,  5.22s/it]"
     ]
    },
    {
     "name": "stdout",
     "output_type": "stream",
     "text": [
      "Article 'Big Quantum cohomology of orbifold spheres' evaluated as 0\n"
     ]
    },
    {
     "name": "stderr",
     "output_type": "stream",
     "text": [
      "Evaluating articles:  81%|████████  | 81/100 [08:45<01:32,  4.88s/it]"
     ]
    },
    {
     "name": "stdout",
     "output_type": "stream",
     "text": [
      "Article 'Synchrotron radiation from a charge circulating around a cylinder with\n",
      "  negative permittivity' evaluated as 0\n"
     ]
    },
    {
     "name": "stderr",
     "output_type": "stream",
     "text": [
      "Evaluating articles:  82%|████████▏ | 82/100 [08:50<01:26,  4.83s/it]"
     ]
    },
    {
     "name": "stdout",
     "output_type": "stream",
     "text": [
      "Article 'Novel Cascaded Gaussian Mixture Model-Deep Neural Network Classifier for\n",
      "  Speaker Identification in Emotional Talking Environments' evaluated as 0\n"
     ]
    },
    {
     "name": "stderr",
     "output_type": "stream",
     "text": [
      "Evaluating articles:  83%|████████▎ | 83/100 [08:58<01:38,  5.82s/it]"
     ]
    },
    {
     "name": "stdout",
     "output_type": "stream",
     "text": [
      "Article 'A Note About the {Ki(z)} Functions' evaluated as 0\n"
     ]
    },
    {
     "name": "stderr",
     "output_type": "stream",
     "text": [
      "Evaluating articles:  84%|████████▍ | 84/100 [09:01<01:22,  5.14s/it]"
     ]
    },
    {
     "name": "stdout",
     "output_type": "stream",
     "text": [
      "Article 'Understanding Metrics for Paraphrasing' evaluated as 0\n"
     ]
    },
    {
     "name": "stderr",
     "output_type": "stream",
     "text": [
      "Evaluating articles:  85%|████████▌ | 85/100 [09:06<01:12,  4.83s/it]"
     ]
    },
    {
     "name": "stdout",
     "output_type": "stream",
     "text": [
      "Article 'Single Crystal Growth of Cuprate Superconductor\n",
      "  (Lu$_{0.8}$Nd$_{0.2}$)Ba$_2$Cu$_4$O$_8$ by KOH Flux Method' evaluated as 0\n"
     ]
    },
    {
     "name": "stderr",
     "output_type": "stream",
     "text": [
      "Evaluating articles:  86%|████████▌ | 86/100 [09:11<01:11,  5.08s/it]"
     ]
    },
    {
     "name": "stdout",
     "output_type": "stream",
     "text": [
      "Article 'Nonlinear Stochastic Trajectory Optimization for Centroidal Momentum\n",
      "  Motion Generation of Legged Robots' evaluated as 0\n"
     ]
    },
    {
     "name": "stderr",
     "output_type": "stream",
     "text": [
      "Evaluating articles:  87%|████████▋ | 87/100 [09:15<01:00,  4.63s/it]"
     ]
    },
    {
     "name": "stdout",
     "output_type": "stream",
     "text": [
      "Article 'Leveraging Causal Inference for Explainable Automatic Program Repair' evaluated as 0\n"
     ]
    },
    {
     "name": "stderr",
     "output_type": "stream",
     "text": [
      "Evaluating articles:  88%|████████▊ | 88/100 [09:19<00:55,  4.62s/it]"
     ]
    },
    {
     "name": "stdout",
     "output_type": "stream",
     "text": [
      "Article 'Temporal Attention-Augmented Graph Convolutional Network for Efficient\n",
      "  Skeleton-Based Human Action Recognition' evaluated as 0\n"
     ]
    },
    {
     "name": "stderr",
     "output_type": "stream",
     "text": [
      "Evaluating articles:  89%|████████▉ | 89/100 [09:24<00:50,  4.60s/it]"
     ]
    },
    {
     "name": "stdout",
     "output_type": "stream",
     "text": [
      "Article 'Control Design of Autonomous Drone Using Deep Learning Based Image\n",
      "  Understanding Techniques' evaluated as 0\n"
     ]
    },
    {
     "name": "stderr",
     "output_type": "stream",
     "text": [
      "Evaluating articles:  90%|█████████ | 90/100 [09:27<00:39,  3.99s/it]"
     ]
    },
    {
     "name": "stdout",
     "output_type": "stream",
     "text": [
      "Article 'Rigidity for rigid analytic motives' evaluated as 0\n"
     ]
    },
    {
     "name": "stderr",
     "output_type": "stream",
     "text": [
      "Evaluating articles:  91%|█████████ | 91/100 [09:34<00:45,  5.09s/it]"
     ]
    },
    {
     "name": "stdout",
     "output_type": "stream",
     "text": [
      "Article 'Sizing the White Whale' evaluated as 0\n"
     ]
    },
    {
     "name": "stderr",
     "output_type": "stream",
     "text": [
      "Evaluating articles:  92%|█████████▏| 92/100 [09:42<00:48,  6.01s/it]"
     ]
    },
    {
     "name": "stdout",
     "output_type": "stream",
     "text": [
      "Article 'Regularized maximal fidelity of the generalized Pauli channels' evaluated as 0\n"
     ]
    },
    {
     "name": "stderr",
     "output_type": "stream",
     "text": [
      "Evaluating articles:  93%|█████████▎| 93/100 [09:49<00:43,  6.21s/it]"
     ]
    },
    {
     "name": "stdout",
     "output_type": "stream",
     "text": [
      "Article 'Fighting Contextual Bandits with Stochastic Smoothing' evaluated as 0\n"
     ]
    },
    {
     "name": "stderr",
     "output_type": "stream",
     "text": [
      "Evaluating articles:  94%|█████████▍| 94/100 [09:54<00:34,  5.79s/it]"
     ]
    },
    {
     "name": "stdout",
     "output_type": "stream",
     "text": [
      "Article 'Acute Lymphoblastic Leukemia Detection Using Hypercomplex-Valued\n",
      "  Convolutional Neural Networks' evaluated as 0\n"
     ]
    },
    {
     "name": "stderr",
     "output_type": "stream",
     "text": [
      "Evaluating articles:  95%|█████████▌| 95/100 [10:02<00:32,  6.41s/it]"
     ]
    },
    {
     "name": "stdout",
     "output_type": "stream",
     "text": [
      "Article 'The profinite completion of relatively hyperbolic virtually special\n",
      "  groups' evaluated as 0\n"
     ]
    },
    {
     "name": "stderr",
     "output_type": "stream",
     "text": [
      "Evaluating articles:  96%|█████████▌| 96/100 [10:11<00:28,  7.18s/it]"
     ]
    },
    {
     "name": "stdout",
     "output_type": "stream",
     "text": [
      "Article 'On-Shell Electric-Magnetic Duality and the Dual Graviton' evaluated as 0\n"
     ]
    },
    {
     "name": "stderr",
     "output_type": "stream",
     "text": [
      "Evaluating articles:  97%|█████████▋| 97/100 [10:18<00:21,  7.32s/it]"
     ]
    },
    {
     "name": "stdout",
     "output_type": "stream",
     "text": [
      "Article 'A stationary heat conduction problem' evaluated as 0\n"
     ]
    },
    {
     "name": "stderr",
     "output_type": "stream",
     "text": [
      "Evaluating articles:  98%|█████████▊| 98/100 [10:23<00:12,  6.49s/it]"
     ]
    },
    {
     "name": "stdout",
     "output_type": "stream",
     "text": [
      "Article 'Small-mass naked singularities censored by the Higgs field' evaluated as 0\n"
     ]
    },
    {
     "name": "stderr",
     "output_type": "stream",
     "text": [
      "Evaluating articles:  99%|█████████▉| 99/100 [10:29<00:06,  6.25s/it]"
     ]
    },
    {
     "name": "stdout",
     "output_type": "stream",
     "text": [
      "Article 'Thermal Instability of Halo Gas Heated by Streaming Cosmic Rays' evaluated as 0\n"
     ]
    },
    {
     "name": "stderr",
     "output_type": "stream",
     "text": [
      "Evaluating articles: 100%|██████████| 100/100 [10:33<00:00,  6.34s/it]"
     ]
    },
    {
     "name": "stdout",
     "output_type": "stream",
     "text": [
      "Article 'Choppy: Cut Transformer For Ranked List Truncation' evaluated as 1\n"
     ]
    },
    {
     "name": "stderr",
     "output_type": "stream",
     "text": [
      "\n"
     ]
    }
   ],
   "source": [
    "evaluated = evaluate_articles_boolean(data, query)"
   ]
  },
  {
   "cell_type": "code",
   "execution_count": 54,
   "metadata": {},
   "outputs": [],
   "source": [
    "import pandas as pd\n",
    "evaluated_df = pd.DataFrame(evaluated)"
   ]
  },
  {
   "cell_type": "code",
   "execution_count": 55,
   "metadata": {},
   "outputs": [
    {
     "data": {
      "text/html": [
       "<div>\n",
       "<style scoped>\n",
       "    .dataframe tbody tr th:only-of-type {\n",
       "        vertical-align: middle;\n",
       "    }\n",
       "\n",
       "    .dataframe tbody tr th {\n",
       "        vertical-align: top;\n",
       "    }\n",
       "\n",
       "    .dataframe thead th {\n",
       "        text-align: right;\n",
       "    }\n",
       "</style>\n",
       "<table border=\"1\" class=\"dataframe\">\n",
       "  <thead>\n",
       "    <tr style=\"text-align: right;\">\n",
       "      <th></th>\n",
       "      <th>title</th>\n",
       "      <th>abstract</th>\n",
       "      <th>eval</th>\n",
       "    </tr>\n",
       "  </thead>\n",
       "  <tbody>\n",
       "    <tr>\n",
       "      <th>35</th>\n",
       "      <td>DeeBERT: Dynamic Early Exiting for Acceleratin...</td>\n",
       "      <td>Large-scale pre-trained language models such...</td>\n",
       "      <td>1</td>\n",
       "    </tr>\n",
       "    <tr>\n",
       "      <th>99</th>\n",
       "      <td>Choppy: Cut Transformer For Ranked List Trunca...</td>\n",
       "      <td>Work in information retrieval has traditiona...</td>\n",
       "      <td>1</td>\n",
       "    </tr>\n",
       "  </tbody>\n",
       "</table>\n",
       "</div>"
      ],
      "text/plain": [
       "                                                title  \\\n",
       "35  DeeBERT: Dynamic Early Exiting for Acceleratin...   \n",
       "99  Choppy: Cut Transformer For Ranked List Trunca...   \n",
       "\n",
       "                                             abstract eval  \n",
       "35    Large-scale pre-trained language models such...    1  \n",
       "99    Work in information retrieval has traditiona...    1  "
      ]
     },
     "execution_count": 55,
     "metadata": {},
     "output_type": "execute_result"
    }
   ],
   "source": [
    "evaluated_df[evaluated_df['eval'] == '1']"
   ]
  },
  {
   "cell_type": "code",
   "execution_count": 77,
   "metadata": {},
   "outputs": [],
   "source": [
    "import json"
   ]
  },
  {
   "cell_type": "code",
   "execution_count": 107,
   "metadata": {},
   "outputs": [],
   "source": [
    "def get_initial_response(prompt, model = 'llama3-70b-8192', max_tokens = 1000):\n",
    "    while True:\n",
    "        try:\n",
    "            response = client.chat.completions.create(\n",
    "                model=model,\n",
    "                n=1,\n",
    "                messages=[\n",
    "                    {\"role\": \"user\", \"content\": \"You are an assistant AI specialized in evaluating articles based on a given query. \\\n",
    "                    Your goal is to evaluate an article's relevance based on a search query. You should return only one of the following integers: 0, 1, 2, or 3. \\\n",
    "                    0 means that the article has absolutely no relevance for the query. \\\n",
    "                    1 means that the article is only very slightly relevant to the query, sharing at most a similar topic. \\\n",
    "                    2 means that the article is relevant to the query, sharing many similarities, but it's still not entirely relevant to the query. \\\n",
    "                    3 means that the article is completely relevant to the query. \\\n",
    "                    For example: \\n \\\n",
    "                    Read the following article, named 'Increased lifespan on athletes', with the following content: \\n Sports practicing has been shown to increase lifespawn and health. \\n\\\n",
    "                    Evaluate how relevant the article is to the following query: Positive health impacts on volleyball practice. \\n \\\n",
    "                    Response: 2\"},\n",
    "                    {\"role\": \"user\", \"content\": prompt}\n",
    "                ],\n",
    "                max_tokens = max_tokens)\n",
    "            return response.choices[0].message.content.lower()\n",
    "        except Exception as e:\n",
    "            print(\"Error when generating initial response:\", e)\n",
    "            sleep(30)\n",
    "            continue"
   ]
  },
  {
   "cell_type": "code",
   "execution_count": 111,
   "metadata": {},
   "outputs": [],
   "source": [
    "def get_feedback(artigo, query, response, model = 'llama3-70b-8192', max_tokens = 1000):\n",
    "    while True:\n",
    "        try:\n",
    "            feedback = client.chat.completions.create(\n",
    "                model=model,\n",
    "                n=1,\n",
    "                messages=[\n",
    "                    {\"role\": \"user\", \"content\": f\"You are an assistant AI specialized in reevaluating articles based on a given query. \\\n",
    "                    Your goal is to reevaluate the classification given by the previous assistant, about an article's relevance based on a search query. The relevance levels are: \\\n",
    "                    0 means that the article has absolutely no relevance for the query. \\\n",
    "                    1 means that the article is only very slightly relevant to the query, sharing at most a similar topic. \\\n",
    "                    2 means that the article is relevant to the query, sharing many similarities, but it's still not entirely relevant to the query. \\\n",
    "                    3 means that the article is completely relevant to the query. \\\n",
    "                    The article, titled '{artigo['title']}', has the following content: \\n {artigo['abstract']} \\n \\\n",
    "                    The query is: {query} \\n \\\n",
    "                    The previous evaluation is: {response} \\n \\\n",
    "                    Do you agree with the previous evaluation? \\\n",
    "                    Try to avoid extreme answers like 0 or 3 unless you are sure that is the case. \\\n",
    "                    Write your answer in the following json structure, where 'explanation' represents your reasoning, and 'eval' represents your evaluation: \\n \\\n",
    "                    {{\\\"explanation\\\": \\\"your explanation\\\", \\\"eval\\\": \\\"your evaluation, needs to be exactly 0, 1, 2, or 3.\\\"\\}}\"}\n",
    "                ],\n",
    "                max_tokens = max_tokens)\n",
    "            return feedback.choices[0].message.content.lower()\n",
    "        except Exception as e:\n",
    "            print(\"Error when generating feedback:\", e)\n",
    "            sleep(30)\n",
    "            continue"
   ]
  },
  {
   "cell_type": "code",
   "execution_count": 112,
   "metadata": {},
   "outputs": [],
   "source": [
    "def get_feedback_json(artigo, query, response, model = 'llama3-70b-8192', max_tokens = 1000):\n",
    "    while True:\n",
    "        try:\n",
    "            feedback = get_feedback(artigo, query, response, model, max_tokens)\n",
    "            dict = json.loads(feedback)\n",
    "            dict['eval'] = int(dict['eval'])\n",
    "            if dict['eval'] in [0, 1, 2, 3]:\n",
    "                return dict\n",
    "            else:\n",
    "                raise Exception(\"Invalid evaluation: \", dict['eval'])\n",
    "        except Exception as e:\n",
    "            print(\"Error when parsing feedback:\", e)"
   ]
  },
  {
   "cell_type": "code",
   "execution_count": 113,
   "metadata": {},
   "outputs": [],
   "source": [
    "def evaluate_articles_levels(artigos, \n",
    "                      query,\n",
    "                      model = 'llama3-70b-8192',\n",
    "                      max_tokens = 1000,\n",
    "                      verbose = True):\n",
    "    \"\"\"\n",
    "    artigos: list of dictionaries with the following keys: 'title', 'abstract'\n",
    "    query: string with the query that the articles will be evaluated against\n",
    "\n",
    "    Returns a list of dictionaries with the following keys: 'title', 'abstract', 'eval', \n",
    "    where 'eval' is an integer from 0 to 3 where 0 means no relevance, 1 is very slightly relevant,\n",
    "    2 is relevant, and 3 means completely relevant to the query    \n",
    "    \"\"\"\n",
    "\n",
    "    evaluated = []\n",
    "    if verbose: print(\"Query:\", query)\n",
    "\n",
    "    for artigo in tqdm(artigos, desc=\"Evaluating articles\"):\n",
    "        prompt = f\"Read the following article, named '{artigo['title']}', with the following content: \\n {artigo['abstract']} \\n \\\n",
    "                Evaluate how relevant the article is to the following query: {query} \\n\"\n",
    "\n",
    "        response = get_initial_response(prompt, model, max_tokens)\n",
    "\n",
    "        feedback = get_feedback_json(artigo, query, response, model, max_tokens)\n",
    "        \n",
    "        if verbose: print(f\"Article: '{artigo['title']}'\\n Classification: {feedback}\")\n",
    "        evaluated.append({'title': artigo['title'], 'abstract': artigo['abstract'], 'eval': feedback['eval']})\n",
    "    return evaluated"
   ]
  },
  {
   "cell_type": "code",
   "execution_count": 114,
   "metadata": {},
   "outputs": [
    {
     "name": "stdout",
     "output_type": "stream",
     "text": [
      "Query: transformer-based models for optimizing ranked list truncation in information retrieval\n"
     ]
    },
    {
     "name": "stderr",
     "output_type": "stream",
     "text": [
      "Evaluating articles:   1%|          | 1/100 [00:01<03:04,  1.86s/it]"
     ]
    },
    {
     "name": "stdout",
     "output_type": "stream",
     "text": [
      "Article: 'Starobinsky-Bel-Robinson gravity'\n",
      " Classification: {'explanation': 'the article discusses a novel gravitational theory inspired by superstring theory, which has no apparent connection to transformer-based models or optimizing ranked list truncation in information retrieval. the topics are unrelated, and the article does not mention anything related to the query. however, the query is specific to a particular area of information retrieval, and the article is about a completely different field of research. therefore, i agree with the previous evaluation.', 'eval': 0}\n"
     ]
    },
    {
     "name": "stderr",
     "output_type": "stream",
     "text": [
      "Evaluating articles:   2%|▏         | 2/100 [00:03<02:59,  1.83s/it]"
     ]
    },
    {
     "name": "stdout",
     "output_type": "stream",
     "text": [
      "Article: 'Deep Convolutional Neural Networks Model-based Brain Tumor Detection in\n",
      "  Brain MRI Images'\n",
      " Classification: {'explanation': 'i agree with the previous evaluation that the article is not directly related to the query about transformer-based models for optimizing ranked list truncation in information retrieval. the article discusses brain tumor detection using deep convolutional neural networks, which is a different topic in the field of medical science. however, i would rate the relevance as 1 instead of 0, as both topics share a common ground in machine learning and neural networks, although the application domains are different.', 'eval': 1}\n"
     ]
    },
    {
     "name": "stderr",
     "output_type": "stream",
     "text": [
      "Evaluating articles:   3%|▎         | 3/100 [00:16<11:20,  7.01s/it]"
     ]
    },
    {
     "name": "stdout",
     "output_type": "stream",
     "text": [
      "Article: 'A Theory-Based Evaluation of Nearest Neighbor Models Put Into Practice'\n",
      " Classification: {'explanation': 'i agree with the previous evaluation that the article is not directly related to transformer-based models or optimizing ranked list truncation in information retrieval. the article focuses on k-nearest neighbors models and their evaluation, which is a different topic from the query. however, i would rate the relevance as 1 instead of 0, because both topics are related to data analysis and processing, sharing a similar topic of data processing, even though the connection is not direct.', 'eval': 1}\n"
     ]
    },
    {
     "name": "stderr",
     "output_type": "stream",
     "text": [
      "Evaluating articles:   4%|▍         | 4/100 [00:29<14:38,  9.15s/it]"
     ]
    },
    {
     "name": "stdout",
     "output_type": "stream",
     "text": [
      "Article: 'Transfer and Share: Semi-Supervised Learning from Long-Tailed Data'\n",
      " Classification: {'explanation': 'i agree with the previous evaluation that the article is not relevant to the query. the article focuses on semi-supervised learning for long-tailed data, whereas the query is about transformer-based models for optimizing ranked list truncation in information retrieval. there is no mention of transformers, information retrieval, or ranked list truncation in the article, making it unrelated to the query.', 'eval': 0}\n"
     ]
    },
    {
     "name": "stderr",
     "output_type": "stream",
     "text": [
      "Evaluating articles:   5%|▌         | 5/100 [00:45<18:17, 11.55s/it]"
     ]
    },
    {
     "name": "stdout",
     "output_type": "stream",
     "text": [
      "Article: 'Biharmonic homogeneous polynomial maps between spheres'\n",
      " Classification: {'explanation': 'the article appears to be focused on mathematical concepts and proofs related to biharmonic maps and polynomial maps between spheres, whereas the query is about transformer-based models for optimizing ranked list truncation in information retrieval. there is no apparent connection between the two topics, making the article irrelevant to the query.', 'eval': 0}\n"
     ]
    },
    {
     "name": "stderr",
     "output_type": "stream",
     "text": [
      "Evaluating articles:   6%|▌         | 6/100 [01:03<21:39, 13.82s/it]"
     ]
    },
    {
     "name": "stdout",
     "output_type": "stream",
     "text": [
      "Article: 'Integration of Blockchain and Edge Computing in Internet of Things: A\n",
      "  Survey'\n",
      " Classification: {'explanation': \"i agree with the previous evaluation that the article is not directly related to the query. the article discusses the integration of blockchain and edge computing in iot applications, whereas the query is about transformer-based models for optimizing ranked list truncation in information retrieval. there is no apparent connection between the two topics. however, i wouldn't rate it a 0, as both topics are related to technology and computing, sharing a similar topic even if it's a broad and distant connection.\", 'eval': 1}\n"
     ]
    },
    {
     "name": "stderr",
     "output_type": "stream",
     "text": [
      "Evaluating articles:   7%|▋         | 7/100 [01:17<21:48, 14.06s/it]"
     ]
    },
    {
     "name": "stdout",
     "output_type": "stream",
     "text": [
      "Article: 'Multi-fidelity power flow solver'\n",
      " Classification: {'explanation': \"the article discusses a multi-fidelity neural network for power flow simulations and contingency analysis, which has no apparent connection to transformer-based models or ranked list truncation in information retrieval. the topics and domains are completely different, making the article not relevant to the query. however, i wouldn't rate it as 0 (absolutely no relevance), as both topics involve complex computational models, which is a very loose connection. hence, i rate it as 1, meaning the article is only very slightly relevant to the query.\", 'eval': 1}\n"
     ]
    },
    {
     "name": "stderr",
     "output_type": "stream",
     "text": [
      "Evaluating articles:   8%|▊         | 8/100 [01:38<24:53, 16.24s/it]"
     ]
    },
    {
     "name": "stdout",
     "output_type": "stream",
     "text": [
      "Article: 'Automatic Detection of ECG Abnormalities by using an Ensemble of Deep\n",
      "  Residual Networks with Attention'\n",
      " Classification: {'explanation': \"i agree with the previous evaluation that the article is not relevant to the query about transformer-based models for optimizing ranked list truncation in information retrieval. the article is focused on using deep residual networks with attention for automatic detection of ecg abnormalities in the medical/healthcare domain, which is a completely different topic. there is no mention of transformer-based models or information retrieval in the article. however, i wouldn't rate it as a 0, as it's still a topic related to ai/ml, even if it's in a different domain. therefore, i would rate it as 1, indicating that the article is only very slightly relevant to the query.\", 'eval': 1}\n"
     ]
    },
    {
     "name": "stderr",
     "output_type": "stream",
     "text": [
      "Evaluating articles:   9%|▉         | 9/100 [01:55<24:51, 16.39s/it]"
     ]
    },
    {
     "name": "stdout",
     "output_type": "stream",
     "text": [
      "Article: 'Determination of the $N_f=12$ step scaling function using M\\\"obius\n",
      "  domain wall fermions'\n",
      " Classification: {'explanation': 'i concur with the previous evaluation that the article is unrelated to the query. the article focuses on particle physics and computational methods, specifically using domain wall fermions and gauge actions, whereas the query is about transformer-based models in information retrieval, which is a distinct field. there is no mention or connection between the two topics.', 'eval': 0}\n"
     ]
    },
    {
     "name": "stderr",
     "output_type": "stream",
     "text": [
      "Evaluating articles:  10%|█         | 10/100 [02:12<25:01, 16.68s/it]"
     ]
    },
    {
     "name": "stdout",
     "output_type": "stream",
     "text": [
      "Article: 'DDet: Dual-path Dynamic Enhancement Network for Real-World Image\n",
      "  Super-Resolution'\n",
      " Classification: {'explanation': 'the article discusses a dual-path dynamic enhancement network for real-world image super-resolution, which is unrelated to the query about transformer-based models for optimizing ranked list truncation in information retrieval. the topics and techniques mentioned in the article, such as image super-resolution, convolutional blocks, and dynamic attention, are not relevant to the query. therefore, i agree with the previous evaluation.', 'eval': 0}\n"
     ]
    },
    {
     "name": "stderr",
     "output_type": "stream",
     "text": [
      "Evaluating articles:  11%|█         | 11/100 [02:21<21:03, 14.20s/it]"
     ]
    },
    {
     "name": "stdout",
     "output_type": "stream",
     "text": [
      "Article: 'Thermalizing two identical particles'\n",
      " Classification: {'explanation': 'i completely agree with the previous evaluation. the article discusses quantum mechanics and statistical physics, which are unrelated to transformer-based models in information retrieval. there is no apparent connection or similarity between the two topics. the article does not mention anything related to transformers, models, optimization, ranked lists, truncation, or information retrieval, which are the key concepts in the query. the topics are completely divergent.', 'eval': 0}\n"
     ]
    },
    {
     "name": "stderr",
     "output_type": "stream",
     "text": [
      "Evaluating articles:  12%|█▏        | 12/100 [02:31<18:58, 12.94s/it]"
     ]
    },
    {
     "name": "stdout",
     "output_type": "stream",
     "text": [
      "Article: 'Development of Transition-Edge Sensor X-ray Microcalorimeter Linear\n",
      "  Array for Compton Scattering and Energy Dispersive Diffraction Imaging'\n",
      " Classification: {'explanation': 'the article is about the development of a transition-edge sensor microcalorimeter linear array for x-ray diffraction imaging and compton scattering applications, which has no apparent connection to transformer-based models or optimizing ranked list truncation in information retrieval. the topics and terminology used in the article are unrelated to the query, making it irrelevant to the search query.', 'eval': 0}\n"
     ]
    },
    {
     "name": "stderr",
     "output_type": "stream",
     "text": [
      "Evaluating articles:  13%|█▎        | 13/100 [02:51<22:03, 15.22s/it]"
     ]
    },
    {
     "name": "stdout",
     "output_type": "stream",
     "text": [
      "Article: 'Multiple representations of real numbers on self-similar sets with\n",
      "  overlaps'\n",
      " Classification: {'explanation': 'i completely agree with the previous evaluation. the article is a mathematical paper that deals with representations of real numbers on self-similar sets with overlaps, which has no apparent connection to the query about transformer-based models for optimizing ranked list truncation in information retrieval. the topics are vastly different and there is no mention of the query-related topics in the article.', 'eval': 0}\n"
     ]
    },
    {
     "name": "stderr",
     "output_type": "stream",
     "text": [
      "Evaluating articles:  14%|█▍        | 14/100 [03:16<26:03, 18.18s/it]"
     ]
    },
    {
     "name": "stdout",
     "output_type": "stream",
     "text": [
      "Article: 'Lying on networks: The role of structure and topology in promoting\n",
      "  honesty'\n",
      " Classification: {'explanation': 'the article discusses the dynamics of lying in networks, while the query is about transformer-based models for optimizing ranked list truncation in information retrieval. the topics are completely unrelated, and there is no mention of any of the concepts mentioned in the query in the article. therefore, the article has absolutely no relevance to the query.', 'eval': 0}\n"
     ]
    },
    {
     "name": "stderr",
     "output_type": "stream",
     "text": [
      "Evaluating articles:  15%|█▌        | 15/100 [03:36<26:30, 18.71s/it]"
     ]
    },
    {
     "name": "stdout",
     "output_type": "stream",
     "text": [
      "Article: 'Elevated ionizing photon production efficiency in faint\n",
      "  high-equivalent-width Lyman-alpha emitters'\n",
      " Classification: {'explanation': 'i agree with the previous evaluation. the article is from the field of astrophysics and discusses topics that are unrelated to the query, which is about transformer-based models for optimizing ranked list truncation in information retrieval. there is no mention or connection to the concepts in the query, making the article irrelevant to the query.', 'eval': 0}\n"
     ]
    },
    {
     "name": "stderr",
     "output_type": "stream",
     "text": [
      "Evaluating articles:  16%|█▌        | 16/100 [04:00<28:21, 20.25s/it]"
     ]
    },
    {
     "name": "stdout",
     "output_type": "stream",
     "text": [
      "Article: 'Don't shoot butterfly with rifles: Multi-channel Continuous Speech\n",
      "  Separation with Early Exit Transformer'\n",
      " Classification: {'explanation': 'while the article primarily discusses the application of transformers in speech separation, it does mention the modeling capacity of transformers, which could be potentially relevant to optimizing ranked list truncation in information retrieval. however, the connection is still quite distant, and the article does not directly address the topic of the query.', 'eval': 1}\n"
     ]
    },
    {
     "name": "stderr",
     "output_type": "stream",
     "text": [
      "Evaluating articles:  17%|█▋        | 17/100 [04:18<26:59, 19.52s/it]"
     ]
    },
    {
     "name": "stdout",
     "output_type": "stream",
     "text": [
      "Article: 'Unpredictable repeatability in molecular evolution'\n",
      " Classification: {'explanation': \"i agree with the previous evaluation that the article is unrelated to the query. the article discusses molecular evolution, genotypic level, and fitness effects, which have no connection to transformer-based models or optimizing ranked list truncation in information retrieval. the topics are fundamentally different, and the article does not mention anything related to the query. the article's content is focused on biological and evolutionary concepts, while the query is about information retrieval and transformer-based models. there is no overlap or similarity between the two.\", 'eval': 0}\n"
     ]
    },
    {
     "name": "stderr",
     "output_type": "stream",
     "text": [
      "Evaluating articles:  18%|█▊        | 18/100 [04:26<22:07, 16.19s/it]"
     ]
    },
    {
     "name": "stdout",
     "output_type": "stream",
     "text": [
      "Article: 'Simplex-averaged finite element methods for $H({\\rm grad})$, $H({\\rm\n",
      "  curl})$ and $H({\\rm div})$ convection-diffusion problems'\n",
      " Classification: {'explanation': 'the article is about finite element methods for convection-diffusion problems, which is a completely different field from information retrieval and transformer-based models. the query is about optimizing ranked list truncation in information retrieval, which is unrelated to the topic of the article. therefore, i agree with the previous evaluation that the article has absolutely no relevance to the query.', 'eval': 0}\n"
     ]
    },
    {
     "name": "stderr",
     "output_type": "stream",
     "text": [
      "Evaluating articles:  19%|█▉        | 19/100 [04:44<22:23, 16.58s/it]"
     ]
    },
    {
     "name": "stdout",
     "output_type": "stream",
     "text": [
      "Article: 'Fourier transform detection of weak optical transitions with cyclic\n",
      "  routines'\n",
      " Classification: {'explanation': \"i agree with the previous evaluation that the article is not directly related to transformer-based models or information retrieval. however, i think the previous evaluation is too harsh. the article does mention the fourier transform, which is a mathematical concept that has connections to signal processing and analysis. while it's true that the article's application is in a completely different field, the fourier transform itself could be seen as a tangential connection to the query. therefore, i would rate the relevance as 1, indicating a very slight relevance.\", 'eval': 1}\n"
     ]
    },
    {
     "name": "stderr",
     "output_type": "stream",
     "text": [
      "Evaluating articles:  20%|██        | 20/100 [05:01<22:15, 16.69s/it]"
     ]
    },
    {
     "name": "stdout",
     "output_type": "stream",
     "text": [
      "Article: 'sBSNN: Stochastic-Bits Enabled Binary Spiking Neural Network with\n",
      "  On-Chip Learning for Energy Efficient Neuromorphic Computing at the Edge'\n",
      " Classification: {'explanation': 'i agree with the previous evaluation that the article is not directly related to the query about transformer-based models for optimizing ranked list truncation in information retrieval. the article discusses a specific type of neural network architecture (sbsnn) and its application to image recognition tasks, which is unrelated to the topic of transformer-based models and ranked list truncation in information retrieval. however, both articles deal with neural networks and computing, which share a similar topic. therefore, i would rate this article a 1, as it is only very slightly relevant to the query.', 'eval': 1}\n"
     ]
    },
    {
     "name": "stderr",
     "output_type": "stream",
     "text": [
      "Evaluating articles:  21%|██        | 21/100 [05:15<20:45, 15.77s/it]"
     ]
    },
    {
     "name": "stdout",
     "output_type": "stream",
     "text": [
      "Article: 'Which Generation Shows the Most Prudent Data Sharing Behaviour?'\n",
      " Classification: {'explanation': 'i agree with the previous evaluation that the article is not directly related to the query about transformer-based models for optimizing ranked list truncation in information retrieval. the article is about a study on data sharing behavior and attitudes among different age groups, which is a completely different topic. however, i would rate the relevance as 1 instead of 0, as both topics are related to data and information, and the article does touch on data sharing behavior, which shares a similar theme with the query. however, the connection is very weak and the article does not provide any insights or relevance to the specific query.', 'eval': 1}\n"
     ]
    },
    {
     "name": "stderr",
     "output_type": "stream",
     "text": [
      "Evaluating articles:  22%|██▏       | 22/100 [05:31<20:39, 15.89s/it]"
     ]
    },
    {
     "name": "stdout",
     "output_type": "stream",
     "text": [
      "Article: 'A New Charter of Ethics and Rights of Artificial Consciousness in a\n",
      "  Human World'\n",
      " Classification: {'explanation': 'i agree with the previous evaluation. the article discusses artificial consciousness, ethics, and rights, which is unrelated to transformer-based models and information retrieval. there is no mention of these topics in the article, and the query is not even tangentially related to the content.', 'eval': 0}\n"
     ]
    },
    {
     "name": "stderr",
     "output_type": "stream",
     "text": [
      "Evaluating articles:  23%|██▎       | 23/100 [05:47<20:24, 15.91s/it]"
     ]
    },
    {
     "name": "stdout",
     "output_type": "stream",
     "text": [
      "Article: 'X-ray measurement model incorporating energy-correlated material\n",
      "  variability and its application in information-theoretic system analysis'\n",
      " Classification: {'explanation': \"i agree with the previous evaluation that the topics of the article and the query are unrelated. the article focuses on x-ray measurement models and their application in analyzing x-ray imaging and sensing systems, while the query is about transformer-based models for optimizing ranked list truncation in information retrieval. there is no mention of transformers, ranked list truncation, or information retrieval in the article. however, i would rate the relevance as 1 instead of 0, since both topics share a common theme of 'analysis' and 'performance optimization', albeit in different domains.\", 'eval': 1}\n"
     ]
    },
    {
     "name": "stderr",
     "output_type": "stream",
     "text": [
      "Evaluating articles:  24%|██▍       | 24/100 [05:57<18:12, 14.38s/it]"
     ]
    },
    {
     "name": "stdout",
     "output_type": "stream",
     "text": [
      "Article: 'Superconductor-metal quantum transition at the EuO-KTaO3 interface'\n",
      " Classification: {'explanation': 'i agree with the previous evaluation. the article discusses superconductivity and quantum physics, with no mention of transformer-based models, information retrieval, or ranked list truncation. the topics are completely unrelated, and there is no connection between the article and the query.', 'eval': 0}\n"
     ]
    },
    {
     "name": "stderr",
     "output_type": "stream",
     "text": [
      "Evaluating articles:  25%|██▌       | 25/100 [06:21<21:22, 17.10s/it]"
     ]
    },
    {
     "name": "stdout",
     "output_type": "stream",
     "text": [
      "Article: 'Efficient Inverse-Free Incremental and Decremental Algorithms for\n",
      "  Multiple Hidden Nodes in Extreme Learning Machine'\n",
      " Classification: {'explanation': 'i completely agree with the previous evaluation. the article discusses extreme learning machine (elm) and its variants, which is a type of neural network, whereas the query mentions transformer-based models for optimizing ranked list truncation in information retrieval. the two topics seem to be unrelated, and there is no mention of transformers, information retrieval, or ranked list truncation in the article. therefore, i concur that the article has absolutely no relevance to the query.', 'eval': 0}\n"
     ]
    },
    {
     "name": "stderr",
     "output_type": "stream",
     "text": [
      "Evaluating articles:  26%|██▌       | 26/100 [06:47<24:19, 19.72s/it]"
     ]
    },
    {
     "name": "stdout",
     "output_type": "stream",
     "text": [
      "Article: 'Fingerprints of giant planets in the composition of solar twins'\n",
      " Classification: {'explanation': 'i agree with the previous evaluation. the article is discussing planetary formation and astrobiology, which is a completely unrelated topic to the query that is about transformer-based models for optimizing ranked list truncation in information retrieval, which is a topic in the field of computer science and natural language processing. there is no connection or similarity between the two topics, making the article irrelevant to the query.', 'eval': 0}\n"
     ]
    },
    {
     "name": "stderr",
     "output_type": "stream",
     "text": [
      "Evaluating articles:  27%|██▋       | 27/100 [07:05<23:30, 19.32s/it]"
     ]
    },
    {
     "name": "stdout",
     "output_type": "stream",
     "text": [
      "Article: 'Few-Shot Adaptation of Generative Adversarial Networks'\n",
      " Classification: {'explanation': \"i agree with the previous evaluation that the article is not relevant to the query. the article discusses adapting generative adversarial networks (gans) for few-shot image synthesis, which is unrelated to the query about transformer-based models for optimizing ranked list truncation in information retrieval. there is no mention of transformers, ranked list truncation, or information retrieval in the article. however, i would rate the article's relevance as 1 instead of 0, as both topics belong to the broader field of artificial intelligence and machine learning, sharing a similar theme.\", 'eval': 1}\n",
      "Error when parsing feedback: Expecting value: line 1 column 1 (char 0)\n"
     ]
    },
    {
     "name": "stderr",
     "output_type": "stream",
     "text": [
      "Evaluating articles:  28%|██▊       | 28/100 [07:28<24:30, 20.42s/it]"
     ]
    },
    {
     "name": "stdout",
     "output_type": "stream",
     "text": [
      "Article: 'Lamina-specific neuronal properties promote robust, stable signal\n",
      "  propagation in feedforward networks'\n",
      " Classification: {'explanation': \"while the article is indeed focused on neural networks in the context of neuroscience, and the query appears to be unrelated, i disagree with the previous evaluation of 0. the article does mention 'information transmission' and 'information processing', which are concepts that are also relevant in the context of natural language processing and computer science. although the connection is tenuous, it's not entirely non-existent. therefore, i would rate the relevance of this article as 1, indicating that the article is only very slightly relevant to the query, sharing at most a similar topic.\", 'eval': 1}\n"
     ]
    },
    {
     "name": "stderr",
     "output_type": "stream",
     "text": [
      "Evaluating articles:  29%|██▉       | 29/100 [07:54<25:58, 21.95s/it]"
     ]
    },
    {
     "name": "stdout",
     "output_type": "stream",
     "text": [
      "Article: 'BCFT entanglement entropy at large central charge and the black hole\n",
      "  interior'\n",
      " Classification: {'explanation': 'i agree with the previous evaluation. the article is discussing concepts in theoretical physics, such as entanglement entropy, boundary conformal field theory, and black hole physics, which are unrelated to transformer-based models for optimizing ranked list truncation in information retrieval. the topics, terminology, and methods used in the article are completely distinct from the query, indicating a complete lack of relevance.', 'eval': 0}\n",
      "Error when parsing feedback: Expecting value: line 1 column 1 (char 0)\n"
     ]
    },
    {
     "name": "stderr",
     "output_type": "stream",
     "text": [
      "Evaluating articles:  30%|███       | 30/100 [08:13<24:45, 21.22s/it]"
     ]
    },
    {
     "name": "stdout",
     "output_type": "stream",
     "text": [
      "Article: 'Longitudinal tension and mechanical stability of a pressurized straw\n",
      "  tube'\n",
      " Classification: {'explanation': \"i agree with the previous evaluation that the article is not directly related to transformer-based models or optimization of ranked list truncation in information retrieval. the article discusses straw tubes, mechanical properties, and particle detectors, which seems unrelated to the query. however, i wouldn't rate it as 0, since the article still shares a common theme of scientific methodology and research, which could be considered as slightly relevant. hence, i would rate it as 1, indicating that the article is only very slightly relevant to the query.\", 'eval': 1}\n"
     ]
    },
    {
     "name": "stderr",
     "output_type": "stream",
     "text": [
      "Evaluating articles:  31%|███       | 31/100 [08:30<22:54, 19.93s/it]"
     ]
    },
    {
     "name": "stdout",
     "output_type": "stream",
     "text": [
      "Article: 'MeshAdv: Adversarial Meshes for Visual Recognition'\n",
      " Classification: {'explanation': \"i agree with the previous evaluation that the article is not directly related to the query about transformer-based models for optimizing ranked list truncation in information retrieval. the article focuses on adversarial meshes and 3d shape manipulation for attacking deep neural networks, which is a distinct topic from the query. however, i wouldn't rate it as 0 because the article does mention deep neural networks, which are related to transformer-based models. although the connection is weak, it's not entirely absent.\", 'eval': 1}\n"
     ]
    },
    {
     "name": "stderr",
     "output_type": "stream",
     "text": [
      "Evaluating articles:  32%|███▏      | 32/100 [08:53<23:39, 20.87s/it]"
     ]
    },
    {
     "name": "stdout",
     "output_type": "stream",
     "text": [
      "Article: 'Automatic Segmentation, Feature Extraction and Comparison of Healthy and\n",
      "  Stroke Cerebral Vasculature'\n",
      " Classification: {'explanation': \"i agree with the previous evaluation. the article discusses a method for automated segmentation and feature extraction of cerebral vasculature, which is a topic unrelated to the query about transformer-based models for optimizing ranked list truncation in information retrieval. there is no overlap or connection between the two topics, and the article does not mention any of the keywords from the query. while the article's methodology might be interesting from a general computer science perspective, it has no direct relevance to the query.\", 'eval': 0}\n"
     ]
    },
    {
     "name": "stderr",
     "output_type": "stream",
     "text": [
      "Evaluating articles:  33%|███▎      | 33/100 [09:21<25:40, 23.00s/it]"
     ]
    },
    {
     "name": "stdout",
     "output_type": "stream",
     "text": [
      "Article: 'How Phonotactics Affect Multilingual and Zero-shot ASR Performance'\n",
      " Classification: {'explanation': 'i agree with the previous evaluation that the topics of the article and the query are unrelated. the article focuses on automatic speech recognition and phonotactics, while the query is about transformer-based models for optimizing ranked list truncation in information retrieval. there is no mention of information retrieval, ranked list truncation, or optimization in the article, making it irrelevant to the query.', 'eval': 0}\n"
     ]
    },
    {
     "name": "stderr",
     "output_type": "stream",
     "text": [
      "Evaluating articles:  34%|███▍      | 34/100 [09:29<20:09, 18.33s/it]"
     ]
    },
    {
     "name": "stdout",
     "output_type": "stream",
     "text": [
      "Article: 'Constraining annihilating dark matter by radio continuum spectrum of the\n",
      "  Large Magellanic Cloud'\n",
      " Classification: {'explanation': 'the article discusses dark matter annihilation signals in the large magellanic cloud, which is a topic in astrophysics. the query is about transformer-based models for optimizing ranked list truncation in information retrieval, which is a topic in natural language processing and information retrieval. the two topics are completely unrelated, and the article does not mention anything related to the query. therefore, i agree with the previous evaluation that the article is not relevant to the query.', 'eval': 0}\n"
     ]
    },
    {
     "name": "stderr",
     "output_type": "stream",
     "text": [
      "Evaluating articles:  35%|███▌      | 35/100 [09:51<21:05, 19.47s/it]"
     ]
    },
    {
     "name": "stdout",
     "output_type": "stream",
     "text": [
      "Article: 'Contrastive Learning with Adversarial Examples'\n",
      " Classification: {'explanation': 'i agree with the previous evaluation that the article is not directly relevant to the query about transformer-based models for optimizing ranked list truncation in information retrieval. the article focuses on contrastive learning and self-supervised learning in computer vision, which is a distinct topic from the query. however, i would rate the relevance as 1 instead of 0 because both topics are related to machine learning and share some general concepts, such as deep learning and optimization. this shared context creates a slight connection between the two, even if they are not directly related.', 'eval': 1}\n"
     ]
    },
    {
     "name": "stderr",
     "output_type": "stream",
     "text": [
      "Evaluating articles:  36%|███▌      | 36/100 [10:07<19:41, 18.46s/it]"
     ]
    },
    {
     "name": "stdout",
     "output_type": "stream",
     "text": [
      "Article: 'DeeBERT: Dynamic Early Exiting for Accelerating BERT Inference'\n",
      " Classification: {'explanation': \"i agree with the previous evaluation that the article is relevant but not entirely relevant to the query. the article discusses optimizing transformer-based models, specifically bert, which aligns with the query's topic. however, the article's focus is on accelerating bert inference in general, rather than specifically on ranked list truncation in information retrieval. while there is a connection between the article's topic and the query, the specific application mentioned in the query is not the main focus of the article.\", 'eval': 2}\n"
     ]
    },
    {
     "name": "stderr",
     "output_type": "stream",
     "text": [
      "Evaluating articles:  37%|███▋      | 37/100 [10:26<19:32, 18.61s/it]"
     ]
    },
    {
     "name": "stdout",
     "output_type": "stream",
     "text": [
      "Article: 'Listening for Sirens: Locating and Classifying Acoustic Alarms in City\n",
      "  Scenes'\n",
      " Classification: {'explanation': 'the article is about acoustic event detection and sound source localization in an urban scenario, specifically focusing on identifying and locating horns and sirens of emergency vehicles. it has no relation to transformer-based models or optimizing ranked list truncation in information retrieval, which are concepts related to natural language processing and information retrieval. the content of the article and the query are unrelated, but they both involve processing and analysis of signals, albeit different types (acoustic vs. textual). this faint connection justifies a relevance level of 1.', 'eval': 1}\n"
     ]
    },
    {
     "name": "stderr",
     "output_type": "stream",
     "text": [
      "Evaluating articles:  38%|███▊      | 38/100 [10:36<16:38, 16.10s/it]"
     ]
    },
    {
     "name": "stdout",
     "output_type": "stream",
     "text": [
      "Article: 'Transient chaotic dimensionality expansion by recurrent networks'\n",
      " Classification: {'explanation': \"i agree with the previous evaluation that the article is not directly related to transformer-based models or optimizing ranked list truncation in information retrieval. the article discusses neural networks and chaos theory, which seem to be unrelated to the query. however, as the article is about neural networks, which are a fundamental concept in ai and machine learning, i wouldn't rate it a 0, since it's possible that some future research could explore the application of chaos theory in neural networks to optimization tasks in information retrieval. hence, i would rate it a 1, indicating that the article is only very slightly relevant to the query.\", 'eval': 1}\n",
      "Error when parsing feedback: Expecting value: line 1 column 1 (char 0)\n"
     ]
    },
    {
     "name": "stderr",
     "output_type": "stream",
     "text": [
      "Evaluating articles:  39%|███▉      | 39/100 [11:03<19:35, 19.27s/it]"
     ]
    },
    {
     "name": "stdout",
     "output_type": "stream",
     "text": [
      "Article: 'Ergodic Achievable Rate Maximization of RIS-assisted Millimeter-Wave\n",
      "  MIMO-OFDM Communication Systems'\n",
      " Classification: {'explanation': 'i agree with the previous evaluation that the article is completely unrelated to the query, which is about transformer-based models for optimizing ranked list truncation in information retrieval. the article discusses reconfigurable intelligent surface (ris) assisted millimeter-wave mimo-ofdm communication systems, which is a topic in wireless communication, whereas the query is in the domain of information retrieval. there is no mention of transformers, ranked list truncation, or information retrieval in the article, making it irrelevant to the query.', 'eval': 0}\n"
     ]
    },
    {
     "name": "stderr",
     "output_type": "stream",
     "text": [
      "Evaluating articles:  40%|████      | 40/100 [11:12<16:26, 16.44s/it]"
     ]
    },
    {
     "name": "stdout",
     "output_type": "stream",
     "text": [
      "Article: 'DeFuzz: Deep Learning Guided Directed Fuzzing'\n",
      " Classification: {'explanation': 'i agree with the previous evaluation that the article is not directly related to the query. the article focuses on deep learning guided fuzzing for software vulnerability detection, while the query is about transformer-based models for optimizing ranked list truncation in information retrieval. although both topics involve deep learning, the application domains and specific topics are distinct. however, i would argue that the article is slightly more relevant than a complete mismatch, as it demonstrates the application of deep learning in a different domain. therefore, i would rate the relevance as 1.', 'eval': 1}\n"
     ]
    },
    {
     "name": "stderr",
     "output_type": "stream",
     "text": [
      "Evaluating articles:  41%|████      | 41/100 [11:28<15:45, 16.02s/it]"
     ]
    },
    {
     "name": "stdout",
     "output_type": "stream",
     "text": [
      "Article: 'Inherently stable effective field theory for dark energy and modified\n",
      "  gravity'\n",
      " Classification: {'explanation': 'i agree with the previous evaluation that the article is completely unrelated to the query, which is about transformer-based models for optimizing ranked list truncation in information retrieval. the article is focused on cosmology and theoretical physics, discussing effective field theory for dark energy and modified gravity. there is no apparent connection or overlap between the two topics. while the article is well-written and discusses a specific area of research, it is not relevant to the query.', 'eval': 0}\n"
     ]
    },
    {
     "name": "stderr",
     "output_type": "stream",
     "text": [
      "Evaluating articles:  42%|████▏     | 42/100 [11:35<12:59, 13.43s/it]"
     ]
    },
    {
     "name": "stdout",
     "output_type": "stream",
     "text": [
      "Article: 'On complexity of representations of quivers'\n",
      " Classification: {'explanation': 'i agree with the previous evaluation that the article has no connection to transformer-based models or information retrieval, which are the main topics of the query. the article is focused on algebraic representations and quivers, which is a completely different field of study. there is no mention of machine learning, natural language processing, or information retrieval in the article. therefore, i concur that the relevance of this article to the query is very low.', 'eval': 0}\n"
     ]
    },
    {
     "name": "stderr",
     "output_type": "stream",
     "text": [
      "Evaluating articles:  43%|████▎     | 43/100 [11:46<12:11, 12.83s/it]"
     ]
    },
    {
     "name": "stdout",
     "output_type": "stream",
     "text": [
      "Article: 'Quantum Formation of Primordial Black holes'\n",
      " Classification: {'explanation': 'the article is about quantum mechanics and primordial black holes, which has no relation to transformer-based models or ranked list truncation in information retrieval. the topics are completely different and unrelated, making the article not relevant to the query.', 'eval': 0}\n"
     ]
    },
    {
     "name": "stderr",
     "output_type": "stream",
     "text": [
      "Evaluating articles:  44%|████▍     | 44/100 [12:08<14:28, 15.51s/it]"
     ]
    },
    {
     "name": "stdout",
     "output_type": "stream",
     "text": [
      "Article: 'Tree Reconstruction using Topology Optimisation'\n",
      " Classification: {'explanation': 'i agree with the previous evaluation. the article focuses on tree reconstruction using topology optimization, which is unrelated to transformer-based models and optimizing ranked list truncation in information retrieval. the topics, keywords, and concepts discussed in the article do not overlap with the query, making it irrelevant to the query.', 'eval': 0}\n"
     ]
    },
    {
     "name": "stderr",
     "output_type": "stream",
     "text": [
      "Evaluating articles:  45%|████▌     | 45/100 [12:20<13:21, 14.58s/it]"
     ]
    },
    {
     "name": "stdout",
     "output_type": "stream",
     "text": [
      "Article: 'Deep Learning for Ultra-Reliable and Low-Latency Communications in 6G\n",
      "  Networks'\n",
      " Classification: {'explanation': 'i completely agree with the previous evaluation. the article focuses on the application of deep learning techniques in 6g networks, specifically urllc, with no mention of transformer-based models, ranked list truncation, or information retrieval, which are the key concepts in the query. the topics are indeed unrelated, making the article not relevant to the query.', 'eval': 0}\n"
     ]
    },
    {
     "name": "stderr",
     "output_type": "stream",
     "text": [
      "Evaluating articles:  46%|████▌     | 46/100 [12:45<15:53, 17.65s/it]"
     ]
    },
    {
     "name": "stdout",
     "output_type": "stream",
     "text": [
      "Article: 'Active galactic nuclei ghosts: A systematic search for faded nuclei'\n",
      " Classification: {'explanation': \"the article is about active galactic nuclei and their evolution, discussing the fading and rising of their activity. it is unrelated to the topic of transformer-based models for optimizing ranked list truncation in information retrieval. the content is about astrophysics, and there is no connection to the query. however, i wouldn't rate it as 0 because it's still a research article discussing a scientific topic, and in a very broad sense, it shares a similar general topic of scientific research with the query. but it's still very far from being relevant to the query.\", 'eval': 1}\n",
      "Error when parsing feedback: Expecting value: line 1 column 1 (char 0)\n"
     ]
    },
    {
     "name": "stderr",
     "output_type": "stream",
     "text": [
      "Evaluating articles:  47%|████▋     | 47/100 [13:08<16:55, 19.16s/it]"
     ]
    },
    {
     "name": "stdout",
     "output_type": "stream",
     "text": [
      "Article: 'Nonbinary Error-Detecting Hybrid Codes'\n",
      " Classification: {'explanation': \"i agree with the previous evaluation. the article discusses quantum computing and coding theory, which is unrelated to transformer-based models and ranked list truncation in information retrieval. the topics are distinct and do not share any apparent connections. while the article does mention 'information' in the context of classical information transmission, it is not related to the 'information retrieval' mentioned in the query. therefore, i concur that the article has no relevance to the query.\", 'eval': 0}\n"
     ]
    },
    {
     "name": "stderr",
     "output_type": "stream",
     "text": [
      "Evaluating articles:  48%|████▊     | 48/100 [13:25<16:05, 18.57s/it]"
     ]
    },
    {
     "name": "stdout",
     "output_type": "stream",
     "text": [
      "Article: 'Interactive Movement Primitives: Planning to Push Occluding Pieces for\n",
      "  Fruit Picking'\n",
      " Classification: {'explanation': 'i agree with the previous evaluation that the article and the query are unrelated. the article focuses on robotic technology and fruit picking, while the query is about transformer-based models for optimizing ranked list truncation in information retrieval. there is no overlap or similarity between the two topics. the article does not mention transformers, ranked list truncation, or information retrieval in any way. therefore, i conclude that the article is not relevant to the query.', 'eval': 0}\n"
     ]
    },
    {
     "name": "stderr",
     "output_type": "stream",
     "text": [
      "Evaluating articles:  49%|████▉     | 49/100 [13:49<17:03, 20.07s/it]"
     ]
    },
    {
     "name": "stdout",
     "output_type": "stream",
     "text": [
      "Article: 'Pb-doped p-type Bi$_2$Se$_3$ thin films via interfacial engineering'\n",
      " Classification: {'explanation': 'the article is about pb-doped p-type bi2se3 thin films and its properties, which has no connection to transformer-based models or optimizing ranked list truncation in information retrieval. the topics are completely unrelated, making the article irrelevant to the query.', 'eval': 0}\n"
     ]
    },
    {
     "name": "stderr",
     "output_type": "stream",
     "text": [
      "Evaluating articles:  50%|█████     | 50/100 [14:05<15:38, 18.78s/it]"
     ]
    },
    {
     "name": "stdout",
     "output_type": "stream",
     "text": [
      "Article: 'Growth of nonsymmetric operads'\n",
      " Classification: {'explanation': 'i agree with the previous evaluation. the article is about nonsymmetric operads, a mathematical concept, and has no connection to transformer-based models or information retrieval, which are topics in computer science and natural language processing. the content of the article does not share any similarities with the query, making it completely irrelevant.', 'eval': 0}\n"
     ]
    },
    {
     "name": "stderr",
     "output_type": "stream",
     "text": [
      "Evaluating articles:  51%|█████     | 51/100 [14:25<15:49, 19.38s/it]"
     ]
    },
    {
     "name": "stdout",
     "output_type": "stream",
     "text": [
      "Article: 'Optimizing Electric Multiple Unit Circulation Plan within Maintenance\n",
      "  Constraints for High-Speed Railway System'\n",
      " Classification: {'explanation': 'i agree with the previous evaluation that the article is not directly related to the query. the article focuses on optimizing emu circulation plans for high-speed railways, which is unrelated to transformer-based models for optimizing ranked list truncation in information retrieval. while both topics involve optimization, the domains and techniques used are completely different. however, i would rate it as 1 instead of 0 because the article does involve optimization, which shares a slight connection with the query.', 'eval': 1}\n",
      "Error when parsing feedback: Expecting value: line 1 column 1 (char 0)\n"
     ]
    },
    {
     "name": "stderr",
     "output_type": "stream",
     "text": [
      "Evaluating articles:  52%|█████▏    | 52/100 [14:55<17:58, 22.46s/it]"
     ]
    },
    {
     "name": "stdout",
     "output_type": "stream",
     "text": [
      "Article: 'Near-field imaging of surface-plasmon vortex-modes around a single\n",
      "  elliptical nanohole in a gold film'\n",
      " Classification: {'explanation': 'i agree with the previous evaluation that the article is not related to the query about transformer-based models for optimizing ranked list truncation in information retrieval. the article is focused on surface plasmon modes and nanoholes in a gold film, which is a completely different field of study. the language, concepts, and techniques used in the article are distinct from those in the query, indicating a lack of relevance. however, i would rate the relevance as 1 instead of 0, as the article is still a scientific/academic paper, and there might be some general, high-level connections between the two fields, such as the use of mathematical models or computational methods. but these connections are too vague and indirect to imply any significant relevance.', 'eval': 1}\n"
     ]
    },
    {
     "name": "stderr",
     "output_type": "stream",
     "text": [
      "Evaluating articles:  53%|█████▎    | 53/100 [15:05<14:34, 18.61s/it]"
     ]
    },
    {
     "name": "stdout",
     "output_type": "stream",
     "text": [
      "Article: 'Driven translocation of a semiflexible polymer through a conical channel\n",
      "  in the presence of attractive surface interactions'\n",
      " Classification: {'explanation': \"the article is about the translocation of a semiflexible polymer through a conical channel, which has no apparent connection to transformer-based models or optimizing ranked list truncation in information retrieval. the topics and fields of study are completely unrelated, making it difficult to find any relevance between the two. however, i wouldn't classify it as a 0 since the article does touch on concepts like dynamics and optimization, albeit in a completely different context. therefore, i would evaluate the article's relevance to the query as 1.\", 'eval': 1}\n"
     ]
    },
    {
     "name": "stderr",
     "output_type": "stream",
     "text": [
      "Evaluating articles:  54%|█████▍    | 54/100 [15:17<12:56, 16.87s/it]"
     ]
    },
    {
     "name": "stdout",
     "output_type": "stream",
     "text": [
      "Article: 'The Accuracy of Restricted Boltzmann Machine Models of Ising Systems'\n",
      " Classification: {'explanation': \"i agree with the previous evaluation that the article is not related to the query. the article focuses on restricted boltzmann machine models of ising systems, which is a topic in statistical physics, whereas the query is about transformer-based models for optimizing ranked list truncation in information retrieval, which is a topic in natural language processing. there is no overlap between the content of the article and the query. however, i wouldn't rate it as 0 because the article is still a machine learning/modeling topic, albeit in a different domain. therefore, i would rate it as 1, indicating that the article shares a similar topic (machine learning/models) but is not relevant to the query.\", 'eval': 1}\n",
      "Error when parsing feedback: Expecting value: line 1 column 1 (char 0)\n"
     ]
    },
    {
     "name": "stderr",
     "output_type": "stream",
     "text": [
      "Evaluating articles:  55%|█████▌    | 55/100 [15:44<14:45, 19.69s/it]"
     ]
    },
    {
     "name": "stdout",
     "output_type": "stream",
     "text": [
      "Article: 'See saw mechanism with Yukawa alignment for neutrinos'\n",
      " Classification: {'explanation': 'i concur with the previous evaluation that the article is unrelated to the query, which focuses on transformer-based models for optimizing ranked list truncation in information retrieval. the article, on the other hand, discusses a seesaw mechanism with yukawa alignment for neutrinos, which is a topic in particle physics. there is no apparent connection between the two, and the technical terms and concepts used in the article are not related to the query. the relevance is therefore very low.', 'eval': 0}\n"
     ]
    },
    {
     "name": "stderr",
     "output_type": "stream",
     "text": [
      "Evaluating articles:  56%|█████▌    | 56/100 [16:03<14:15, 19.44s/it]"
     ]
    },
    {
     "name": "stdout",
     "output_type": "stream",
     "text": [
      "Article: 'Game Values of Strong Placement Games'\n",
      " Classification: {'explanation': 'i agree with the previous evaluation that the article is unrelated to the query about transformer-based models for optimizing ranked list truncation in information retrieval. the article discusses game theory and simplicial complexes, which are far removed from the topics of natural language processing and information retrieval. there is no apparent connection between the two topics, and the language and concepts used in the article are not relevant to the query. however, i would rate this article a 1 instead of 0, as it shares a similar topic in the sense that both game theory and information retrieval involve abstract structures and mathematical concepts, even if they are not directly related.', 'eval': 1}\n"
     ]
    },
    {
     "name": "stderr",
     "output_type": "stream",
     "text": [
      "Evaluating articles:  57%|█████▋    | 57/100 [16:14<12:17, 17.16s/it]"
     ]
    },
    {
     "name": "stdout",
     "output_type": "stream",
     "text": [
      "Article: 'On the centralizer of vector fields: criteria of triviality and\n",
      "  genericity results'\n",
      " Classification: {'explanation': 'the article is about vector fields and riemannian manifolds, which is a completely different topic from transformer-based models and ranked list truncation in information retrieval. there is no mention of transformers, information retrieval, or ranked lists in the article. the previous evaluation of 0 is correct, as the article is not relevant to the query at all.', 'eval': 0}\n"
     ]
    },
    {
     "name": "stderr",
     "output_type": "stream",
     "text": [
      "Evaluating articles:  58%|█████▊    | 58/100 [16:40<13:51, 19.79s/it]"
     ]
    },
    {
     "name": "stdout",
     "output_type": "stream",
     "text": [
      "Article: 'Attacks Which Do Not Kill Training Make Adversarial Learning Stronger'\n",
      " Classification: {'explanation': \"i agree with the previous evaluation that the article is not directly related to the query topics of transformer-based models, optimizing ranked list truncation, or information retrieval. the article focuses on adversarial training and robustness in machine learning, which seems to be a different domain. however, i wouldn't say the article has absolutely no relevance, as both topics are related to machine learning and optimization techniques. therefore, i would rate the relevance as 1, indicating a slight relevance due to the shared domain of machine learning.\", 'eval': 1}\n"
     ]
    },
    {
     "name": "stderr",
     "output_type": "stream",
     "text": [
      "Evaluating articles:  59%|█████▉    | 59/100 [17:05<14:34, 21.32s/it]"
     ]
    },
    {
     "name": "stdout",
     "output_type": "stream",
     "text": [
      "Article: 'SymNMF-Net for The Symmetric NMF Problem'\n",
      " Classification: {'explanation': \"i agree with the previous evaluation. the article is about symmetric non-negative matrix factorization (symnmf) and proposes a neural network called symnmf-net to solve the symnmf problem, which has no relation to transformer-based models, ranked list truncation, or information retrieval. the topics are completely different, and there is no mention of the query's keywords in the article.\", 'eval': 0}\n"
     ]
    },
    {
     "name": "stderr",
     "output_type": "stream",
     "text": [
      "Evaluating articles:  60%|██████    | 60/100 [17:22<13:14, 19.87s/it]"
     ]
    },
    {
     "name": "stdout",
     "output_type": "stream",
     "text": [
      "Article: 'Vibrational Heat-Bath Configuration Interaction'\n",
      " Classification: {'explanation': \"i completely agree with the previous evaluation. the article discusses a method for calculating vibrational eigenstates in anharmonic systems, which is a topic in physics or chemistry, whereas the query is about transformer-based models for optimizing ranked list truncation in information retrieval, which is a topic in natural language processing and information retrieval. there is no connection between the two topics, and the article does not mention any of the keywords from the query. the article's content is completely unrelated to the query.\", 'eval': 0}\n"
     ]
    },
    {
     "name": "stderr",
     "output_type": "stream",
     "text": [
      "Evaluating articles:  61%|██████    | 61/100 [17:37<12:07, 18.64s/it]"
     ]
    },
    {
     "name": "stdout",
     "output_type": "stream",
     "text": [
      "Article: 'A unified view of space-time covariance functions through Gelfand pairs'\n",
      " Classification: {'explanation': 'i agree with the previous evaluation. the article discusses gelfand pairs and their application to spatio-temporal statistics, which has no apparent connection to transformer-based models, ranked list truncation, or information retrieval. the topics are completely unrelated, and the article does not mention any relevant keywords related to the query.', 'eval': 0}\n"
     ]
    },
    {
     "name": "stderr",
     "output_type": "stream",
     "text": [
      "Evaluating articles:  62%|██████▏   | 62/100 [17:50<10:35, 16.72s/it]"
     ]
    },
    {
     "name": "stdout",
     "output_type": "stream",
     "text": [
      "Article: 'Grasping as Inference: Reactive Grasping in Heavily Cluttered\n",
      "  Environment'\n",
      " Classification: {'explanation': 'i agree with the previous evaluation that the article is not relevant to the query. the article discusses grasping and robotics, which is a completely different topic from transformer-based models for optimizing ranked list truncation in information retrieval. there is no mention of transformers, natural language processing, or information retrieval in the article. therefore, the article has absolutely no relevance to the query.', 'eval': 0}\n"
     ]
    },
    {
     "name": "stderr",
     "output_type": "stream",
     "text": [
      "Evaluating articles:  63%|██████▎   | 63/100 [18:08<10:37, 17.24s/it]"
     ]
    },
    {
     "name": "stdout",
     "output_type": "stream",
     "text": [
      "Article: 'The Case for Learning Application Behavior to Improve Hardware Energy\n",
      "  Efficiency'\n",
      " Classification: {'explanation': 'i partially agree with the previous evaluation. although the topics seem different at first glance, both the article and the query are related to the field of computer science and involve the use of deep learning models. however, the specific applications and goals are distinct, and there is no direct connection between optimizing hardware energy efficiency and ranked list truncation in information retrieval. therefore, i would rate the relevance as 1, indicating that the article is only slightly relevant to the query, sharing a similar topic but not directly related.', 'eval': 1}\n"
     ]
    },
    {
     "name": "stderr",
     "output_type": "stream",
     "text": [
      "Evaluating articles:  64%|██████▍   | 64/100 [18:22<09:46, 16.29s/it]"
     ]
    },
    {
     "name": "stdout",
     "output_type": "stream",
     "text": [
      "Article: 'Cost-Optimal Laser-Accelerated Lightsails'\n",
      " Classification: {'explanation': 'i completely agree with the previous evaluation. the article discusses laser-accelerated lightsails and their applications in space missions, which is entirely unrelated to the query about transformer-based models for optimizing ranked list truncation in information retrieval. there is no mention of transformers, models, optimization, or information retrieval in the article, and the content of the article has no connection to the query. the topics are completely disparate, and the article does not provide any relevant information or insights that could be applicable to the query.', 'eval': 0}\n"
     ]
    },
    {
     "name": "stderr",
     "output_type": "stream",
     "text": [
      "Evaluating articles:  65%|██████▌   | 65/100 [18:44<10:26, 17.89s/it]"
     ]
    },
    {
     "name": "stdout",
     "output_type": "stream",
     "text": [
      "Article: 'Nonreciprocal directional dichroism induced by a temperature gradient as\n",
      "  a probe for mobile spin dynamics in quantum magnets'\n",
      " Classification: {'explanation': \"the article is about quantum magnets and experimental probes, which is unrelated to transformer-based models for optimizing ranked list truncation in information retrieval. the topics are completely different, and there is no mention of transformers, ranked lists, or information retrieval in the article. however, i wouldn't say it has 'absolutely no relevance' since both topics are related to scientific research, so i'll give it a 1.\", 'eval': 1}\n"
     ]
    },
    {
     "name": "stderr",
     "output_type": "stream",
     "text": [
      "Evaluating articles:  66%|██████▌   | 66/100 [19:06<10:50, 19.15s/it]"
     ]
    },
    {
     "name": "stdout",
     "output_type": "stream",
     "text": [
      "Article: 'A broadband achromatic polarization-insensitive metalens consisting of\n",
      "  anisotropic nanostructures'\n",
      " Classification: {'explanation': 'i agree with the previous evaluation that the article has absolutely no relevance to the query. the article discusses metasurfaces, metalenses, and optical devices, which are unrelated to the topic of transformer-based models for optimizing ranked list truncation in information retrieval. the two subjects belong to different fields, namely optics and natural language processing, with no overlap or similarity. therefore, the article has no relevance to the query.', 'eval': 0}\n"
     ]
    },
    {
     "name": "stderr",
     "output_type": "stream",
     "text": [
      "Evaluating articles:  67%|██████▋   | 67/100 [19:26<10:36, 19.28s/it]"
     ]
    },
    {
     "name": "stdout",
     "output_type": "stream",
     "text": [
      "Article: 'Asymptotic Expansions of The Traces of the Thermoelastic Operators'\n",
      " Classification: {'explanation': 'the article is about asymptotic expansions of thermoelastic operators in riemannian manifolds, which is a topic in mathematics and physics that has no apparent connection to transformer-based models or information retrieval. the query is about optimizing ranked list truncation in information retrieval using transformer-based models, which is a topic in natural language processing and machine learning. there is no shared topic or keyword between the article and the query, making the article irrelevant to the query.', 'eval': 0}\n"
     ]
    },
    {
     "name": "stderr",
     "output_type": "stream",
     "text": [
      "Evaluating articles:  68%|██████▊   | 68/100 [19:42<09:51, 18.49s/it]"
     ]
    },
    {
     "name": "stdout",
     "output_type": "stream",
     "text": [
      "Article: 'On Eventually Periodic Sets as Minimal Additive Complements'\n",
      " Classification: {'explanation': 'the article discusses additive complements in abelian groups, specifically focusing on eventually periodic sets, which is a topic in abstract algebra. the query, on the other hand, is about transformer-based models for optimizing ranked list truncation in information retrieval, which is a topic in artificial intelligence and natural language processing. these two topics are unrelated, and there is no connection between the concepts discussed in the article and the query. therefore, i agree with the previous evaluation.', 'eval': 0}\n"
     ]
    },
    {
     "name": "stderr",
     "output_type": "stream",
     "text": [
      "Evaluating articles:  69%|██████▉   | 69/100 [20:03<09:53, 19.14s/it]"
     ]
    },
    {
     "name": "stdout",
     "output_type": "stream",
     "text": [
      "Article: 'Two-phonon structures for beta-decay theory'\n",
      " Classification: {'explanation': 'i agree with the previous evaluation of 0 because the article is completely unrelated to the query. the article discusses beta-decay theory and nuclear physics, while the query is about transformer-based models for optimizing ranked list truncation in information retrieval. there is no mention of transformers, information retrieval, or ranked list truncation in the article, and the concepts discussed are entirely different from the query.', 'eval': 0}\n"
     ]
    },
    {
     "name": "stderr",
     "output_type": "stream",
     "text": [
      "Evaluating articles:  70%|███████   | 70/100 [20:17<08:45, 17.52s/it]"
     ]
    },
    {
     "name": "stdout",
     "output_type": "stream",
     "text": [
      "Article: 'Symbiotic Child Emotional Support with Social Robots and Temporal\n",
      "  Knowledge Graphs'\n",
      " Classification: {'explanation': \"the article discusses the development of a symbiotic framework for real-time emotional support with social robots and knowledge graphs, which has no apparent connection to the query about transformer-based models for optimizing ranked list truncation in information retrieval. the topics are unrelated, and the article does not mention anything about information retrieval or transformer-based models. however, since the article is focused on a specific application of ai in child emotional support, i wouldn't rate it as a 0 because it still shares a very general connection to ai and machine learning, which might be marginally related to the query. therefore, i would rate it as a 1, indicating very slight relevance.\", 'eval': 1}\n"
     ]
    },
    {
     "name": "stderr",
     "output_type": "stream",
     "text": [
      "Evaluating articles:  71%|███████   | 71/100 [20:29<07:39, 15.86s/it]"
     ]
    },
    {
     "name": "stdout",
     "output_type": "stream",
     "text": [
      "Article: 'High Tc superconductivity in heavy Rare Earth Hydrides: correlation\n",
      "  between the presence of the f states on the Fermi surface, nesting and the\n",
      "  value of Tc'\n",
      " Classification: {'explanation': 'i agree with the previous evaluation that the article has no relevance to the query. the article is about superconductivity in rare earth hydrides, which is a topic in materials science, whereas the query is about transformer-based models for optimizing ranked list truncation in information retrieval, which is a topic in natural language processing and information retrieval. there is no overlap or connection between the two topics, making the article completely irrelevant to the query.', 'eval': 0}\n"
     ]
    },
    {
     "name": "stderr",
     "output_type": "stream",
     "text": [
      "Evaluating articles:  72%|███████▏  | 72/100 [20:40<06:43, 14.40s/it]"
     ]
    },
    {
     "name": "stdout",
     "output_type": "stream",
     "text": [
      "Article: 'Diffusion in the presence of correlated dynamical disorder and coherent\n",
      "  exciton transfer in the non-Markovian limit'\n",
      " Classification: {'explanation': 'the article is not related to transformer-based models or optimizing ranked list truncation in information retrieval, which are topics in natural language processing and information retrieval. the article is focused on quantum systems, hamiltonian, and quantum coherence, which are concepts from physics. therefore, i agree that the article has no relevance to the query.', 'eval': 0}\n"
     ]
    },
    {
     "name": "stderr",
     "output_type": "stream",
     "text": [
      "Evaluating articles:  73%|███████▎  | 73/100 [21:00<07:14, 16.10s/it]"
     ]
    },
    {
     "name": "stdout",
     "output_type": "stream",
     "text": [
      "Article: 'Continuous-time multi-state capture-recapture models'\n",
      " Classification: {'explanation': \"i agree with the previous evaluation that the article is not relevant to the query. the article is about continuous-time multi-state capture-recapture models, which is a topic in statistics and biology, whereas the query is about transformer-based models for optimizing ranked list truncation in information retrieval, which is a topic in natural language processing and computer science. there is no connection or similarity between the two topics, making the article irrelevant to the query. however, i wouldn't rate it as 0 because the article does contain some technical terms and concepts that could be potentially related to optimization techniques, although in a very indirect way. therefore, i would rate the relevance as 1, indicating that the article is only very slightly relevant to the query, sharing at most a similar topic.\", 'eval': 1}\n"
     ]
    },
    {
     "name": "stderr",
     "output_type": "stream",
     "text": [
      "Evaluating articles:  74%|███████▍  | 74/100 [21:17<07:12, 16.63s/it]"
     ]
    },
    {
     "name": "stdout",
     "output_type": "stream",
     "text": [
      "Article: 'A panoramic landscape of the Sagittarius stream in Gaia DR2 revealed\n",
      "  with the STREAMFINDER spyglass'\n",
      " Classification: {'explanation': 'i agree with the previous evaluation that the article is completely unrelated to the query. the article discusses astronomy and the sagittarius stream, while the query is about transformer-based models for optimizing ranked list truncation in information retrieval. there is no connection between the two topics, making the article irrelevant to the query.', 'eval': 0}\n"
     ]
    },
    {
     "name": "stderr",
     "output_type": "stream",
     "text": [
      "Evaluating articles:  75%|███████▌  | 75/100 [21:34<06:51, 16.47s/it]"
     ]
    },
    {
     "name": "stdout",
     "output_type": "stream",
     "text": [
      "Article: 'Application of the iterative reconstruction to simulated galaxy fields'\n",
      " Classification: {'explanation': 'the article discusses the application of an iterative reconstruction method to galaxy mocks in redshift space, which has no direct relation to transformer-based models or optimizing ranked list truncation in information retrieval. the topics and fields studied are completely different, with the article focusing on astrophysics and galaxy simulations, while the query is related to natural language processing and information retrieval. although both topics involve computational methods, there is no conceptual overlap or connection between the two.', 'eval': 0}\n",
      "Error when parsing feedback: Expecting value: line 1 column 1 (char 0)\n"
     ]
    },
    {
     "name": "stderr",
     "output_type": "stream",
     "text": [
      "Evaluating articles:  76%|███████▌  | 76/100 [22:01<07:54, 19.75s/it]"
     ]
    },
    {
     "name": "stdout",
     "output_type": "stream",
     "text": [
      "Article: 'Model Watermarking for Image Processing Networks'\n",
      " Classification: {'explanation': \"i agree with the previous evaluation that the article is not directly related to transformer-based models or ranked list truncation in information retrieval. however, i would argue that the article's focus on deep learning models and their protection could be remotely relevant to the query, especially since it discusses model intellectual property protection, which might be tangentially related to models used in information retrieval. therefore, i would rate the relevance as 1, indicating a slight connection but not a direct relevance.\", 'eval': 1}\n"
     ]
    },
    {
     "name": "stderr",
     "output_type": "stream",
     "text": [
      "Evaluating articles:  77%|███████▋  | 77/100 [22:19<07:25, 19.36s/it]"
     ]
    },
    {
     "name": "stdout",
     "output_type": "stream",
     "text": [
      "Article: 'Numerical approximation of elliptic problems with log-normal random\n",
      "  coefficients'\n",
      " Classification: {'explanation': 'i agree with the previous evaluation that the article is not relevant to the query. the article discusses numerical approximation of elliptic problems with log-normal random coefficients, which is a completely different topic from transformer-based models for optimizing ranked list truncation in information retrieval. there is no connection or similarity between the two topics. the article does not mention transformers, optimization, ranked lists, truncation, or information retrieval at all.', 'eval': 0}\n"
     ]
    },
    {
     "name": "stderr",
     "output_type": "stream",
     "text": [
      "Evaluating articles:  78%|███████▊  | 78/100 [22:29<06:01, 16.43s/it]"
     ]
    },
    {
     "name": "stdout",
     "output_type": "stream",
     "text": [
      "Article: 'A search for cosmological anisotropy using the Lyman alpha forest from\n",
      "  SDSS quasar spectra'\n",
      " Classification: {'explanation': \"the article is about cosmological anisotropy and the lyman alpha forest, while the query is about transformer-based models for optimizing ranked list truncation in information retrieval. the topics are unrelated, but they both fall under the broad category of data analysis. since the article doesn't mention anything about machine learning, transformers, or information retrieval, i agree with the previous evaluation that the article is not relevant to the query. however, i wouldn't say it has absolutely no relevance, as both topics involve data analysis and interpretation. hence, i would give a slightly higher evaluation.\", 'eval': 1}\n"
     ]
    },
    {
     "name": "stderr",
     "output_type": "stream",
     "text": [
      "Evaluating articles:  79%|███████▉  | 79/100 [22:47<05:54, 16.87s/it]"
     ]
    },
    {
     "name": "stdout",
     "output_type": "stream",
     "text": [
      "Article: 'An Inertial Block Majorization Minimization Framework for Nonsmooth\n",
      "  Nonconvex Optimization'\n",
      " Classification: {'explanation': 'i agree with the previous evaluation. the article discusses a novel framework for nonsmooth nonconvex optimization problems, which is unrelated to transformer-based models for optimizing ranked list truncation in information retrieval. the topics seem to be from different domains, and the article does not mention key terms from the query such as transformers, information retrieval, or ranked list truncation. however, i would rate the relevance as 1 instead of 0, as both topics share a connection to machine learning and optimization, albeit in different contexts.', 'eval': 1}\n"
     ]
    },
    {
     "name": "stderr",
     "output_type": "stream",
     "text": [
      "Evaluating articles:  80%|████████  | 80/100 [22:53<04:34, 13.73s/it]"
     ]
    },
    {
     "name": "stdout",
     "output_type": "stream",
     "text": [
      "Article: 'Big Quantum cohomology of orbifold spheres'\n",
      " Classification: {'explanation': \"the article is about constructing a kodaira-spencer map in the context of algebraic geometry, which has no apparent connection to transformer-based models or information retrieval. the topics discussed are unrelated, and the query terms do not appear in the article. however, it's clear that the article is discussing a specific mathematical concept, and it's not entirely impossible that some future research could bridge the gap between this topic and information retrieval. hence, i don't evaluate it as 0, but rather as a very low relevance.\", 'eval': 1}\n"
     ]
    },
    {
     "name": "stderr",
     "output_type": "stream",
     "text": [
      "Evaluating articles:  81%|████████  | 81/100 [23:05<04:10, 13.19s/it]"
     ]
    },
    {
     "name": "stdout",
     "output_type": "stream",
     "text": [
      "Article: 'Synchrotron radiation from a charge circulating around a cylinder with\n",
      "  negative permittivity'\n",
      " Classification: {'explanation': 'i agree with the previous evaluation. the article is focused on electromagnetism and radiation, discussing concepts like dielectric permittivity and synchrotron radiation, which are entirely unrelated to transformer-based models, ranked lists, truncation, and information retrieval. there is no mention of the key terms in the query, making it clear that the article is not relevant to the query.', 'eval': 0}\n"
     ]
    },
    {
     "name": "stderr",
     "output_type": "stream",
     "text": [
      "Evaluating articles:  82%|████████▏ | 82/100 [23:16<03:44, 12.49s/it]"
     ]
    },
    {
     "name": "stdout",
     "output_type": "stream",
     "text": [
      "Article: 'Novel Cascaded Gaussian Mixture Model-Deep Neural Network Classifier for\n",
      "  Speaker Identification in Emotional Talking Environments'\n",
      " Classification: {'explanation': \"i concur with the previous evaluation that the article is not relevant to the query about transformer-based models for optimizing ranked list truncation in information retrieval. the article discusses speaker identification using gaussian mixture model-deep neural network classifier, which is unrelated to the query topic. however, since the article is still related to deep learning and neural networks, i wouldn't say it has absolutely no relevance. hence, i would rate it a 1, indicating a slight relevance due to the shared topic of deep learning, but no direct connection to the query.\", 'eval': 1}\n",
      "Error when parsing feedback: Expecting value: line 1 column 1 (char 0)\n"
     ]
    },
    {
     "name": "stderr",
     "output_type": "stream",
     "text": [
      "Evaluating articles:  83%|████████▎ | 83/100 [23:38<04:18, 15.21s/it]"
     ]
    },
    {
     "name": "stdout",
     "output_type": "stream",
     "text": [
      "Article: 'A Note About the {Ki(z)} Functions'\n",
      " Classification: {'explanation': 'i agree with the previous evaluation. the article discusses mathematical properties of the ki(z) functions, which has no apparent connection to transformer-based models or information retrieval. the topics are unrelated, and there is no overlap between the two.', 'eval': 0}\n"
     ]
    },
    {
     "name": "stderr",
     "output_type": "stream",
     "text": [
      "Evaluating articles:  84%|████████▍ | 84/100 [23:48<03:42, 13.88s/it]"
     ]
    },
    {
     "name": "stdout",
     "output_type": "stream",
     "text": [
      "Article: 'Understanding Metrics for Paraphrasing'\n",
      " Classification: {'explanation': \"i agree with the previous evaluation that the article is not directly related to the query about transformer-based models for optimizing ranked list truncation in information retrieval. however, i don't think it's completely irrelevant. the article discusses natural language generation and metrics for evaluating paraphrasing quality, which might have some indirect connections to information retrieval, although it's a stretch. hence, i would rate the relevance as 1, indicating that the article is only very slightly relevant to the query, sharing at most a similar topic.\", 'eval': 1}\n"
     ]
    },
    {
     "name": "stderr",
     "output_type": "stream",
     "text": [
      "Evaluating articles:  85%|████████▌ | 85/100 [24:05<03:38, 14.59s/it]"
     ]
    },
    {
     "name": "stdout",
     "output_type": "stream",
     "text": [
      "Article: 'Single Crystal Growth of Cuprate Superconductor\n",
      "  (Lu$_{0.8}$Nd$_{0.2}$)Ba$_2$Cu$_4$O$_8$ by KOH Flux Method'\n",
      " Classification: {'explanation': 'the article discusses the growth of single crystals of a cuprate superconductor using the koh flux method, and its structural and superconducting properties. the query, on the other hand, is about transformer-based models for optimizing ranked list truncation in information retrieval. there is no mention of transformers, models, optimization, ranked lists, or information retrieval in the article. the topics are entirely unrelated, and the article does not even share a similar topic with the query. however, i would not give it a 0, as the article does contain technical information and scientific jargon, which might be slightly relevant to the general field of scientific research, which is remotely related to information retrieval.', 'eval': 1}\n"
     ]
    },
    {
     "name": "stderr",
     "output_type": "stream",
     "text": [
      "Evaluating articles:  86%|████████▌ | 86/100 [24:23<03:40, 15.78s/it]"
     ]
    },
    {
     "name": "stdout",
     "output_type": "stream",
     "text": [
      "Article: 'Nonlinear Stochastic Trajectory Optimization for Centroidal Momentum\n",
      "  Motion Generation of Legged Robots'\n",
      " Classification: {'explanation': 'i agree with the previous evaluation that the article has no relevance to the query. the article discusses trajectory optimization for legged robots, which is a topic in robotics and control systems, whereas the query is about transformer-based models for optimizing ranked list truncation in information retrieval, which is a topic in natural language processing and information retrieval. the two topics are unrelated, and the article does not mention anything related to the query.', 'eval': 0}\n"
     ]
    },
    {
     "name": "stderr",
     "output_type": "stream",
     "text": [
      "Evaluating articles:  87%|████████▋ | 87/100 [24:38<03:21, 15.49s/it]"
     ]
    },
    {
     "name": "stdout",
     "output_type": "stream",
     "text": [
      "Article: 'Leveraging Causal Inference for Explainable Automatic Program Repair'\n",
      " Classification: {'explanation': 'i agree with the previous evaluation that the article is not directly related to the query about transformer-based models for optimizing ranked list truncation in information retrieval. however, i think the relevance is not a complete 0 because both topics involve some common concepts like sequence-to-sequence models and the idea of optimizing/truncating output. although the domains and specific techniques are different, there might be some indirect connections or inspiration that could be drawn between the two areas. hence, i would rate the relevance as 1.', 'eval': 1}\n"
     ]
    },
    {
     "name": "stderr",
     "output_type": "stream",
     "text": [
      "Evaluating articles:  88%|████████▊ | 88/100 [24:56<03:15, 16.30s/it]"
     ]
    },
    {
     "name": "stdout",
     "output_type": "stream",
     "text": [
      "Article: 'Temporal Attention-Augmented Graph Convolutional Network for Efficient\n",
      "  Skeleton-Based Human Action Recognition'\n",
      " Classification: {'explanation': \"i agree with the previous evaluation that the article is not related to the query. the article discusses a graph convolutional network approach for skeleton-based human action recognition, which is a topic in computer vision and machine learning, whereas the query mentions transformer-based models for optimizing ranked list truncation in information retrieval, which is a topic in natural language processing and information retrieval. there is no apparent connection between the two topics. however, i wouldn't rate it as a 0, as the article still shares a general connection to machine learning and neural networks, which are related to the query's topic of transformer-based models. therefore, i would rate it as 1, indicating that the article is only very slightly relevant to the query, sharing a similar broad topic.\", 'eval': 1}\n"
     ]
    },
    {
     "name": "stderr",
     "output_type": "stream",
     "text": [
      "Evaluating articles:  89%|████████▉ | 89/100 [25:19<03:21, 18.36s/it]"
     ]
    },
    {
     "name": "stdout",
     "output_type": "stream",
     "text": [
      "Article: 'Control Design of Autonomous Drone Using Deep Learning Based Image\n",
      "  Understanding Techniques'\n",
      " Classification: {'explanation': 'i agree with the previous evaluation that the article is not relevant to the query. the article discusses autonomous drone control using deep learning-based image understanding techniques, which is unrelated to transformer-based models for optimizing ranked list truncation in information retrieval. the topics are distinct and do not share any commonalities.', 'eval': 0}\n"
     ]
    },
    {
     "name": "stderr",
     "output_type": "stream",
     "text": [
      "Evaluating articles:  90%|█████████ | 90/100 [25:26<02:28, 14.81s/it]"
     ]
    },
    {
     "name": "stdout",
     "output_type": "stream",
     "text": [
      "Article: 'Rigidity for rigid analytic motives'\n",
      " Classification: {'explanation': 'the article is about motives in algebraic geometry and number theory, while the query is about transformer-based models for optimizing ranked list truncation in information retrieval. the two topics are unrelated, and there is no mention of transformers, information retrieval, or ranked list truncation in the article. however, the article is about a specific mathematical concept, and the query is about a specific application of ai in information retrieval. while the topics are vastly different, they both belong to the realm of academia and research. therefore, i would rate the relevance as 1, indicating that the article is only very slightly relevant to the query, sharing at most a similar topic.', 'eval': 1}\n"
     ]
    },
    {
     "name": "stderr",
     "output_type": "stream",
     "text": [
      "Evaluating articles:  91%|█████████ | 91/100 [25:47<02:29, 16.66s/it]"
     ]
    },
    {
     "name": "stdout",
     "output_type": "stream",
     "text": [
      "Article: 'Sizing the White Whale'\n",
      " Classification: {'explanation': 'i agree with the previous evaluation that the article appears to be discussing mathematical concepts unrelated to the query. the topics of zonotopes, minkowski sums, and hyperplane arrangements do not seem to have any connection to transformer-based models, ranked list truncation, or information retrieval. the article does not mention any relevant keywords or concepts related to the query.', 'eval': 0}\n"
     ]
    },
    {
     "name": "stderr",
     "output_type": "stream",
     "text": [
      "Evaluating articles:  92%|█████████▏| 92/100 [26:06<02:18, 17.31s/it]"
     ]
    },
    {
     "name": "stdout",
     "output_type": "stream",
     "text": [
      "Article: 'Regularized maximal fidelity of the generalized Pauli channels'\n",
      " Classification: {'explanation': 'i agree with the previous evaluation. the article is about asymptotic regularization of the maximal fidelity for the generalized pauli channels, which is a topic in quantum information theory. the query is about transformer-based models for optimizing ranked list truncation in information retrieval, which is a topic in natural language processing and information retrieval. there is no apparent connection between the two topics, making the article completely irrelevant to the query.', 'eval': 0}\n"
     ]
    },
    {
     "name": "stderr",
     "output_type": "stream",
     "text": [
      "Evaluating articles:  93%|█████████▎| 93/100 [26:15<01:45, 15.04s/it]"
     ]
    },
    {
     "name": "stdout",
     "output_type": "stream",
     "text": [
      "Article: 'Fighting Contextual Bandits with Stochastic Smoothing'\n",
      " Classification: {'explanation': \"i agree with the previous evaluation that the article is not directly related to the query about transformer-based models for optimizing ranked list truncation in information retrieval. the article discusses adversarial contextual bandit problems and stochastic smoothing, which is a different topic. there is no mention of transformers, ranked list truncation, or information retrieval in the article. however, i would rate the relevance as 1 instead of 0, as the article is still about a machine learning-related topic, even if it's not directly related to the query.\", 'eval': 1}\n"
     ]
    },
    {
     "name": "stderr",
     "output_type": "stream",
     "text": [
      "Evaluating articles:  94%|█████████▍| 94/100 [26:32<01:33, 15.59s/it]"
     ]
    },
    {
     "name": "stdout",
     "output_type": "stream",
     "text": [
      "Article: 'Acute Lymphoblastic Leukemia Detection Using Hypercomplex-Valued\n",
      "  Convolutional Neural Networks'\n",
      " Classification: {'explanation': 'i agree with the previous evaluation that the article is not directly related to the query, which is about transformer-based models for optimizing ranked list truncation in information retrieval. the article focuses on convolutional neural networks for image classification in medical diagnosis, which is a different topic in a different domain. however, i would rate the relevance as 1 instead of 0, as both topics share a common thread of machine learning and deep learning techniques, even though the application domains are different.', 'eval': 1}\n"
     ]
    },
    {
     "name": "stderr",
     "output_type": "stream",
     "text": [
      "Evaluating articles:  95%|█████████▌| 95/100 [26:46<01:15, 15.02s/it]"
     ]
    },
    {
     "name": "stdout",
     "output_type": "stream",
     "text": [
      "Article: 'The profinite completion of relatively hyperbolic virtually special\n",
      "  groups'\n",
      " Classification: {'explanation': 'i fully agree with the previous evaluation. the article is a mathematical paper that deals with group theory and topology, which is completely unrelated to the query that involves transformer-based models and information retrieval. the terminology and content of the article are entirely different from the query, making it irrelevant.', 'eval': 0}\n"
     ]
    },
    {
     "name": "stderr",
     "output_type": "stream",
     "text": [
      "Evaluating articles:  96%|█████████▌| 96/100 [27:03<01:02, 15.53s/it]"
     ]
    },
    {
     "name": "stdout",
     "output_type": "stream",
     "text": [
      "Article: 'On-Shell Electric-Magnetic Duality and the Dual Graviton'\n",
      " Classification: {'explanation': 'i agree with the previous evaluation that the article is completely unrelated to the query about transformer-based models for optimizing ranked list truncation in information retrieval. the article discusses advanced concepts in physics, such as electric-magnetic duality, gravitons, and scattering amplitudes, which have no apparent connection to the query. the language, terminology, and concepts used in the article are distinct from those in the query, indicating a lack of relevance.', 'eval': 0}\n"
     ]
    },
    {
     "name": "stderr",
     "output_type": "stream",
     "text": [
      "Evaluating articles:  97%|█████████▋| 97/100 [27:15<00:44, 14.69s/it]"
     ]
    },
    {
     "name": "stdout",
     "output_type": "stream",
     "text": [
      "Article: 'A stationary heat conduction problem'\n",
      " Classification: {'explanation': \"i agree with the previous evaluation that the article is not directly related to transformer-based models or ranked list truncation in information retrieval. the article is focused on a mathematical physics topic, specifically a stationary heat conduction problem, which is a vastly different domain from the query. however, i wouldn't rate it as a complete 0, as the article does involve mathematical concepts and problem-solving, which are indirectly related to the general field of algorithms and models used in information retrieval. hence, i rate it as a 1, indicating a very slight relevance.\", 'eval': 1}\n"
     ]
    },
    {
     "name": "stderr",
     "output_type": "stream",
     "text": [
      "Evaluating articles:  98%|█████████▊| 98/100 [27:23<00:24, 12.49s/it]"
     ]
    },
    {
     "name": "stdout",
     "output_type": "stream",
     "text": [
      "Article: 'Small-mass naked singularities censored by the Higgs field'\n",
      " Classification: {'explanation': 'the article is about vacuum decay and singularities in physics, while the query is about optimizing ranked list truncation in information retrieval using transformer-based models. there is no connection between the two topics. the article does not mention transformers, models, ranking, or truncation, and the query does not mention physics, singularities, or vacuum decay.', 'eval': 0}\n"
     ]
    },
    {
     "name": "stderr",
     "output_type": "stream",
     "text": [
      "Evaluating articles:  99%|█████████▉| 99/100 [27:44<00:15, 15.20s/it]"
     ]
    },
    {
     "name": "stdout",
     "output_type": "stream",
     "text": [
      "Article: 'Thermal Instability of Halo Gas Heated by Streaming Cosmic Rays'\n",
      " Classification: {'explanation': 'i agree with the previous evaluation that the article is unrelated to the query. the article discusses thermal instability of halo gas heated by cosmic rays, which is a topic in astrophysics, whereas the query is about transformer-based models for optimizing ranked list truncation in information retrieval, which is a topic in natural language processing and computer science. there is no connection between the two topics.', 'eval': 0}\n"
     ]
    },
    {
     "name": "stderr",
     "output_type": "stream",
     "text": [
      "Evaluating articles: 100%|██████████| 100/100 [28:01<00:00, 16.82s/it]"
     ]
    },
    {
     "name": "stdout",
     "output_type": "stream",
     "text": [
      "Article: 'Choppy: Cut Transformer For Ranked List Truncation'\n",
      " Classification: {'explanation': \"the article is highly relevant to the query as it proposes a transformer-based model, choppy, specifically designed to optimize ranked list truncation in information retrieval, which aligns perfectly with the query. the model's architecture, based on the transformer architecture, and its ability to optimize user-defined ir metrics, make it a strong match for the query.\", 'eval': 3}\n"
     ]
    },
    {
     "name": "stderr",
     "output_type": "stream",
     "text": [
      "\n"
     ]
    }
   ],
   "source": [
    "evaluated = evaluate_articles_levels(data, query)"
   ]
  },
  {
   "cell_type": "code",
   "execution_count": 115,
   "metadata": {},
   "outputs": [],
   "source": [
    "evaluated_levels_df = pd.DataFrame(evaluated)"
   ]
  },
  {
   "cell_type": "code",
   "execution_count": 116,
   "metadata": {},
   "outputs": [
    {
     "data": {
      "text/html": [
       "<div>\n",
       "<style scoped>\n",
       "    .dataframe tbody tr th:only-of-type {\n",
       "        vertical-align: middle;\n",
       "    }\n",
       "\n",
       "    .dataframe tbody tr th {\n",
       "        vertical-align: top;\n",
       "    }\n",
       "\n",
       "    .dataframe thead th {\n",
       "        text-align: right;\n",
       "    }\n",
       "</style>\n",
       "<table border=\"1\" class=\"dataframe\">\n",
       "  <thead>\n",
       "    <tr style=\"text-align: right;\">\n",
       "      <th></th>\n",
       "      <th>title</th>\n",
       "      <th>abstract</th>\n",
       "      <th>eval</th>\n",
       "    </tr>\n",
       "  </thead>\n",
       "  <tbody>\n",
       "    <tr>\n",
       "      <th>35</th>\n",
       "      <td>DeeBERT: Dynamic Early Exiting for Acceleratin...</td>\n",
       "      <td>Large-scale pre-trained language models such...</td>\n",
       "      <td>2</td>\n",
       "    </tr>\n",
       "    <tr>\n",
       "      <th>99</th>\n",
       "      <td>Choppy: Cut Transformer For Ranked List Trunca...</td>\n",
       "      <td>Work in information retrieval has traditiona...</td>\n",
       "      <td>3</td>\n",
       "    </tr>\n",
       "  </tbody>\n",
       "</table>\n",
       "</div>"
      ],
      "text/plain": [
       "                                                title  \\\n",
       "35  DeeBERT: Dynamic Early Exiting for Acceleratin...   \n",
       "99  Choppy: Cut Transformer For Ranked List Trunca...   \n",
       "\n",
       "                                             abstract  eval  \n",
       "35    Large-scale pre-trained language models such...     2  \n",
       "99    Work in information retrieval has traditiona...     3  "
      ]
     },
     "execution_count": 116,
     "metadata": {},
     "output_type": "execute_result"
    }
   ],
   "source": [
    "evaluated_levels_df[evaluated_levels_df['eval'] >= 2]"
   ]
  },
  {
   "cell_type": "code",
   "execution_count": 117,
   "metadata": {},
   "outputs": [
    {
     "data": {
      "text/html": [
       "<div>\n",
       "<style scoped>\n",
       "    .dataframe tbody tr th:only-of-type {\n",
       "        vertical-align: middle;\n",
       "    }\n",
       "\n",
       "    .dataframe tbody tr th {\n",
       "        vertical-align: top;\n",
       "    }\n",
       "\n",
       "    .dataframe thead th {\n",
       "        text-align: right;\n",
       "    }\n",
       "</style>\n",
       "<table border=\"1\" class=\"dataframe\">\n",
       "  <thead>\n",
       "    <tr style=\"text-align: right;\">\n",
       "      <th></th>\n",
       "      <th>title</th>\n",
       "      <th>abstract</th>\n",
       "      <th>eval</th>\n",
       "    </tr>\n",
       "  </thead>\n",
       "  <tbody>\n",
       "    <tr>\n",
       "      <th>1</th>\n",
       "      <td>Deep Convolutional Neural Networks Model-based...</td>\n",
       "      <td>Diagnosing Brain Tumor with the aid of Magne...</td>\n",
       "      <td>1</td>\n",
       "    </tr>\n",
       "    <tr>\n",
       "      <th>2</th>\n",
       "      <td>A Theory-Based Evaluation of Nearest Neighbor ...</td>\n",
       "      <td>In the $k$-nearest neighborhood model ($k$-N...</td>\n",
       "      <td>1</td>\n",
       "    </tr>\n",
       "    <tr>\n",
       "      <th>5</th>\n",
       "      <td>Integration of Blockchain and Edge Computing i...</td>\n",
       "      <td>As an important technology to ensure data se...</td>\n",
       "      <td>1</td>\n",
       "    </tr>\n",
       "    <tr>\n",
       "      <th>6</th>\n",
       "      <td>Multi-fidelity power flow solver</td>\n",
       "      <td>We propose a multi-fidelity neural network (...</td>\n",
       "      <td>1</td>\n",
       "    </tr>\n",
       "    <tr>\n",
       "      <th>7</th>\n",
       "      <td>Automatic Detection of ECG Abnormalities by us...</td>\n",
       "      <td>Heart disease is one of the most common dise...</td>\n",
       "      <td>1</td>\n",
       "    </tr>\n",
       "    <tr>\n",
       "      <th>15</th>\n",
       "      <td>Don't shoot butterfly with rifles: Multi-chann...</td>\n",
       "      <td>With its strong modeling capacity that comes...</td>\n",
       "      <td>1</td>\n",
       "    </tr>\n",
       "    <tr>\n",
       "      <th>18</th>\n",
       "      <td>Fourier transform detection of weak optical tr...</td>\n",
       "      <td>We demonstrate a means of detecting weak opt...</td>\n",
       "      <td>1</td>\n",
       "    </tr>\n",
       "    <tr>\n",
       "      <th>19</th>\n",
       "      <td>sBSNN: Stochastic-Bits Enabled Binary Spiking ...</td>\n",
       "      <td>In this work, we propose stochastic Binary S...</td>\n",
       "      <td>1</td>\n",
       "    </tr>\n",
       "    <tr>\n",
       "      <th>20</th>\n",
       "      <td>Which Generation Shows the Most Prudent Data S...</td>\n",
       "      <td>We report from a study performed in ten Euro...</td>\n",
       "      <td>1</td>\n",
       "    </tr>\n",
       "    <tr>\n",
       "      <th>22</th>\n",
       "      <td>X-ray measurement model incorporating energy-c...</td>\n",
       "      <td>Extending our prior work, we propose a multi...</td>\n",
       "      <td>1</td>\n",
       "    </tr>\n",
       "    <tr>\n",
       "      <th>26</th>\n",
       "      <td>Few-Shot Adaptation of Generative Adversarial ...</td>\n",
       "      <td>Generative Adversarial Networks (GANs) have ...</td>\n",
       "      <td>1</td>\n",
       "    </tr>\n",
       "    <tr>\n",
       "      <th>27</th>\n",
       "      <td>Lamina-specific neuronal properties promote ro...</td>\n",
       "      <td>Feedforward networks (FFN) are ubiquitous st...</td>\n",
       "      <td>1</td>\n",
       "    </tr>\n",
       "    <tr>\n",
       "      <th>29</th>\n",
       "      <td>Longitudinal tension and mechanical stability ...</td>\n",
       "      <td>For the development of charged particle dete...</td>\n",
       "      <td>1</td>\n",
       "    </tr>\n",
       "    <tr>\n",
       "      <th>30</th>\n",
       "      <td>MeshAdv: Adversarial Meshes for Visual Recogni...</td>\n",
       "      <td>Highly expressive models such as deep neural...</td>\n",
       "      <td>1</td>\n",
       "    </tr>\n",
       "    <tr>\n",
       "      <th>34</th>\n",
       "      <td>Contrastive Learning with Adversarial Examples</td>\n",
       "      <td>Contrastive learning (CL) is a popular techn...</td>\n",
       "      <td>1</td>\n",
       "    </tr>\n",
       "    <tr>\n",
       "      <th>35</th>\n",
       "      <td>DeeBERT: Dynamic Early Exiting for Acceleratin...</td>\n",
       "      <td>Large-scale pre-trained language models such...</td>\n",
       "      <td>2</td>\n",
       "    </tr>\n",
       "    <tr>\n",
       "      <th>36</th>\n",
       "      <td>Listening for Sirens: Locating and Classifying...</td>\n",
       "      <td>This paper is about alerting acoustic event ...</td>\n",
       "      <td>1</td>\n",
       "    </tr>\n",
       "    <tr>\n",
       "      <th>37</th>\n",
       "      <td>Transient chaotic dimensionality expansion by ...</td>\n",
       "      <td>Neurons in the brain communicate with spikes...</td>\n",
       "      <td>1</td>\n",
       "    </tr>\n",
       "    <tr>\n",
       "      <th>39</th>\n",
       "      <td>DeFuzz: Deep Learning Guided Directed Fuzzing</td>\n",
       "      <td>Fuzzing is one of the most effective techniq...</td>\n",
       "      <td>1</td>\n",
       "    </tr>\n",
       "    <tr>\n",
       "      <th>45</th>\n",
       "      <td>Active galactic nuclei ghosts: A systematic se...</td>\n",
       "      <td>Physical processes such as re-ignition, enha...</td>\n",
       "      <td>1</td>\n",
       "    </tr>\n",
       "    <tr>\n",
       "      <th>50</th>\n",
       "      <td>Optimizing Electric Multiple Unit Circulation ...</td>\n",
       "      <td>The Electric Multiple Unit (EMU) circulation...</td>\n",
       "      <td>1</td>\n",
       "    </tr>\n",
       "    <tr>\n",
       "      <th>51</th>\n",
       "      <td>Near-field imaging of surface-plasmon vortex-m...</td>\n",
       "      <td>We present scanning near-field images of sur...</td>\n",
       "      <td>1</td>\n",
       "    </tr>\n",
       "    <tr>\n",
       "      <th>52</th>\n",
       "      <td>Driven translocation of a semiflexible polymer...</td>\n",
       "      <td>We study the translocation of a semiflexible...</td>\n",
       "      <td>1</td>\n",
       "    </tr>\n",
       "    <tr>\n",
       "      <th>53</th>\n",
       "      <td>The Accuracy of Restricted Boltzmann Machine M...</td>\n",
       "      <td>Restricted Boltzmann machine (RBM) provide a...</td>\n",
       "      <td>1</td>\n",
       "    </tr>\n",
       "    <tr>\n",
       "      <th>55</th>\n",
       "      <td>Game Values of Strong Placement Games</td>\n",
       "      <td>The legal positions of a strong placement ga...</td>\n",
       "      <td>1</td>\n",
       "    </tr>\n",
       "    <tr>\n",
       "      <th>57</th>\n",
       "      <td>Attacks Which Do Not Kill Training Make Advers...</td>\n",
       "      <td>Adversarial training based on the minimax fo...</td>\n",
       "      <td>1</td>\n",
       "    </tr>\n",
       "    <tr>\n",
       "      <th>62</th>\n",
       "      <td>The Case for Learning Application Behavior to ...</td>\n",
       "      <td>Computer applications are continuously evolv...</td>\n",
       "      <td>1</td>\n",
       "    </tr>\n",
       "    <tr>\n",
       "      <th>64</th>\n",
       "      <td>Nonreciprocal directional dichroism induced by...</td>\n",
       "      <td>Novel states of matter in quantum magnets li...</td>\n",
       "      <td>1</td>\n",
       "    </tr>\n",
       "    <tr>\n",
       "      <th>69</th>\n",
       "      <td>Symbiotic Child Emotional Support with Social ...</td>\n",
       "      <td>In current youth-care programs, children wit...</td>\n",
       "      <td>1</td>\n",
       "    </tr>\n",
       "    <tr>\n",
       "      <th>72</th>\n",
       "      <td>Continuous-time multi-state capture-recapture ...</td>\n",
       "      <td>Multi-state capture-recapture data comprise ...</td>\n",
       "      <td>1</td>\n",
       "    </tr>\n",
       "    <tr>\n",
       "      <th>75</th>\n",
       "      <td>Model Watermarking for Image Processing Networks</td>\n",
       "      <td>Deep learning has achieved tremendous succes...</td>\n",
       "      <td>1</td>\n",
       "    </tr>\n",
       "    <tr>\n",
       "      <th>77</th>\n",
       "      <td>A search for cosmological anisotropy using the...</td>\n",
       "      <td>The Cosmological Principle, the combined ass...</td>\n",
       "      <td>1</td>\n",
       "    </tr>\n",
       "    <tr>\n",
       "      <th>78</th>\n",
       "      <td>An Inertial Block Majorization Minimization Fr...</td>\n",
       "      <td>In this paper, we introduce TITAN, a novel i...</td>\n",
       "      <td>1</td>\n",
       "    </tr>\n",
       "    <tr>\n",
       "      <th>79</th>\n",
       "      <td>Big Quantum cohomology of orbifold spheres</td>\n",
       "      <td>We construct a Kodaira-Spencer map from the ...</td>\n",
       "      <td>1</td>\n",
       "    </tr>\n",
       "    <tr>\n",
       "      <th>81</th>\n",
       "      <td>Novel Cascaded Gaussian Mixture Model-Deep Neu...</td>\n",
       "      <td>This research is an effort to present an eff...</td>\n",
       "      <td>1</td>\n",
       "    </tr>\n",
       "    <tr>\n",
       "      <th>83</th>\n",
       "      <td>Understanding Metrics for Paraphrasing</td>\n",
       "      <td>Paraphrase generation is a difficult problem...</td>\n",
       "      <td>1</td>\n",
       "    </tr>\n",
       "    <tr>\n",
       "      <th>84</th>\n",
       "      <td>Single Crystal Growth of Cuprate Superconducto...</td>\n",
       "      <td>Single crystals of Nd-substituted LuBa$_2$Cu...</td>\n",
       "      <td>1</td>\n",
       "    </tr>\n",
       "    <tr>\n",
       "      <th>86</th>\n",
       "      <td>Leveraging Causal Inference for Explainable Au...</td>\n",
       "      <td>Deep learning models have made significant p...</td>\n",
       "      <td>1</td>\n",
       "    </tr>\n",
       "    <tr>\n",
       "      <th>87</th>\n",
       "      <td>Temporal Attention-Augmented Graph Convolution...</td>\n",
       "      <td>Graph convolutional networks (GCNs) have bee...</td>\n",
       "      <td>1</td>\n",
       "    </tr>\n",
       "    <tr>\n",
       "      <th>89</th>\n",
       "      <td>Rigidity for rigid analytic motives</td>\n",
       "      <td>In this paper we prove the Rigidity Theorem ...</td>\n",
       "      <td>1</td>\n",
       "    </tr>\n",
       "    <tr>\n",
       "      <th>92</th>\n",
       "      <td>Fighting Contextual Bandits with Stochastic Sm...</td>\n",
       "      <td>We introduce a new stochastic smoothing pers...</td>\n",
       "      <td>1</td>\n",
       "    </tr>\n",
       "    <tr>\n",
       "      <th>93</th>\n",
       "      <td>Acute Lymphoblastic Leukemia Detection Using H...</td>\n",
       "      <td>This paper features convolutional neural net...</td>\n",
       "      <td>1</td>\n",
       "    </tr>\n",
       "    <tr>\n",
       "      <th>96</th>\n",
       "      <td>A stationary heat conduction problem</td>\n",
       "      <td>We study a basic linear elliptic equation on...</td>\n",
       "      <td>1</td>\n",
       "    </tr>\n",
       "    <tr>\n",
       "      <th>99</th>\n",
       "      <td>Choppy: Cut Transformer For Ranked List Trunca...</td>\n",
       "      <td>Work in information retrieval has traditiona...</td>\n",
       "      <td>3</td>\n",
       "    </tr>\n",
       "  </tbody>\n",
       "</table>\n",
       "</div>"
      ],
      "text/plain": [
       "                                                title  \\\n",
       "1   Deep Convolutional Neural Networks Model-based...   \n",
       "2   A Theory-Based Evaluation of Nearest Neighbor ...   \n",
       "5   Integration of Blockchain and Edge Computing i...   \n",
       "6                    Multi-fidelity power flow solver   \n",
       "7   Automatic Detection of ECG Abnormalities by us...   \n",
       "15  Don't shoot butterfly with rifles: Multi-chann...   \n",
       "18  Fourier transform detection of weak optical tr...   \n",
       "19  sBSNN: Stochastic-Bits Enabled Binary Spiking ...   \n",
       "20  Which Generation Shows the Most Prudent Data S...   \n",
       "22  X-ray measurement model incorporating energy-c...   \n",
       "26  Few-Shot Adaptation of Generative Adversarial ...   \n",
       "27  Lamina-specific neuronal properties promote ro...   \n",
       "29  Longitudinal tension and mechanical stability ...   \n",
       "30  MeshAdv: Adversarial Meshes for Visual Recogni...   \n",
       "34     Contrastive Learning with Adversarial Examples   \n",
       "35  DeeBERT: Dynamic Early Exiting for Acceleratin...   \n",
       "36  Listening for Sirens: Locating and Classifying...   \n",
       "37  Transient chaotic dimensionality expansion by ...   \n",
       "39      DeFuzz: Deep Learning Guided Directed Fuzzing   \n",
       "45  Active galactic nuclei ghosts: A systematic se...   \n",
       "50  Optimizing Electric Multiple Unit Circulation ...   \n",
       "51  Near-field imaging of surface-plasmon vortex-m...   \n",
       "52  Driven translocation of a semiflexible polymer...   \n",
       "53  The Accuracy of Restricted Boltzmann Machine M...   \n",
       "55              Game Values of Strong Placement Games   \n",
       "57  Attacks Which Do Not Kill Training Make Advers...   \n",
       "62  The Case for Learning Application Behavior to ...   \n",
       "64  Nonreciprocal directional dichroism induced by...   \n",
       "69  Symbiotic Child Emotional Support with Social ...   \n",
       "72  Continuous-time multi-state capture-recapture ...   \n",
       "75   Model Watermarking for Image Processing Networks   \n",
       "77  A search for cosmological anisotropy using the...   \n",
       "78  An Inertial Block Majorization Minimization Fr...   \n",
       "79         Big Quantum cohomology of orbifold spheres   \n",
       "81  Novel Cascaded Gaussian Mixture Model-Deep Neu...   \n",
       "83             Understanding Metrics for Paraphrasing   \n",
       "84  Single Crystal Growth of Cuprate Superconducto...   \n",
       "86  Leveraging Causal Inference for Explainable Au...   \n",
       "87  Temporal Attention-Augmented Graph Convolution...   \n",
       "89                Rigidity for rigid analytic motives   \n",
       "92  Fighting Contextual Bandits with Stochastic Sm...   \n",
       "93  Acute Lymphoblastic Leukemia Detection Using H...   \n",
       "96               A stationary heat conduction problem   \n",
       "99  Choppy: Cut Transformer For Ranked List Trunca...   \n",
       "\n",
       "                                             abstract  eval  \n",
       "1     Diagnosing Brain Tumor with the aid of Magne...     1  \n",
       "2     In the $k$-nearest neighborhood model ($k$-N...     1  \n",
       "5     As an important technology to ensure data se...     1  \n",
       "6     We propose a multi-fidelity neural network (...     1  \n",
       "7     Heart disease is one of the most common dise...     1  \n",
       "15    With its strong modeling capacity that comes...     1  \n",
       "18    We demonstrate a means of detecting weak opt...     1  \n",
       "19    In this work, we propose stochastic Binary S...     1  \n",
       "20    We report from a study performed in ten Euro...     1  \n",
       "22    Extending our prior work, we propose a multi...     1  \n",
       "26    Generative Adversarial Networks (GANs) have ...     1  \n",
       "27    Feedforward networks (FFN) are ubiquitous st...     1  \n",
       "29    For the development of charged particle dete...     1  \n",
       "30    Highly expressive models such as deep neural...     1  \n",
       "34    Contrastive learning (CL) is a popular techn...     1  \n",
       "35    Large-scale pre-trained language models such...     2  \n",
       "36    This paper is about alerting acoustic event ...     1  \n",
       "37    Neurons in the brain communicate with spikes...     1  \n",
       "39    Fuzzing is one of the most effective techniq...     1  \n",
       "45    Physical processes such as re-ignition, enha...     1  \n",
       "50    The Electric Multiple Unit (EMU) circulation...     1  \n",
       "51    We present scanning near-field images of sur...     1  \n",
       "52    We study the translocation of a semiflexible...     1  \n",
       "53    Restricted Boltzmann machine (RBM) provide a...     1  \n",
       "55    The legal positions of a strong placement ga...     1  \n",
       "57    Adversarial training based on the minimax fo...     1  \n",
       "62    Computer applications are continuously evolv...     1  \n",
       "64    Novel states of matter in quantum magnets li...     1  \n",
       "69    In current youth-care programs, children wit...     1  \n",
       "72    Multi-state capture-recapture data comprise ...     1  \n",
       "75    Deep learning has achieved tremendous succes...     1  \n",
       "77    The Cosmological Principle, the combined ass...     1  \n",
       "78    In this paper, we introduce TITAN, a novel i...     1  \n",
       "79    We construct a Kodaira-Spencer map from the ...     1  \n",
       "81    This research is an effort to present an eff...     1  \n",
       "83    Paraphrase generation is a difficult problem...     1  \n",
       "84    Single crystals of Nd-substituted LuBa$_2$Cu...     1  \n",
       "86    Deep learning models have made significant p...     1  \n",
       "87    Graph convolutional networks (GCNs) have bee...     1  \n",
       "89    In this paper we prove the Rigidity Theorem ...     1  \n",
       "92    We introduce a new stochastic smoothing pers...     1  \n",
       "93    This paper features convolutional neural net...     1  \n",
       "96    We study a basic linear elliptic equation on...     1  \n",
       "99    Work in information retrieval has traditiona...     3  "
      ]
     },
     "execution_count": 117,
     "metadata": {},
     "output_type": "execute_result"
    }
   ],
   "source": [
    "evaluated_levels_df[evaluated_levels_df['eval'] >= 1]"
   ]
  },
  {
   "cell_type": "code",
   "execution_count": 118,
   "metadata": {},
   "outputs": [
    {
     "data": {
      "text/plain": [
       "0    56\n",
       "1    42\n",
       "2     1\n",
       "3     1\n",
       "Name: eval, dtype: int64"
      ]
     },
     "execution_count": 118,
     "metadata": {},
     "output_type": "execute_result"
    }
   ],
   "source": [
    "evaluated_levels_df['eval'].value_counts()"
   ]
  }
 ],
 "metadata": {
  "kernelspec": {
   "display_name": "Python 3",
   "language": "python",
   "name": "python3"
  },
  "language_info": {
   "codemirror_mode": {
    "name": "ipython",
    "version": 3
   },
   "file_extension": ".py",
   "mimetype": "text/x-python",
   "name": "python",
   "nbconvert_exporter": "python",
   "pygments_lexer": "ipython3",
   "version": "3.10.6"
  }
 },
 "nbformat": 4,
 "nbformat_minor": 2
}
