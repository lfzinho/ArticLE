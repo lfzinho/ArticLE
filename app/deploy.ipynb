{
 "cells": [
  {
   "cell_type": "code",
   "execution_count": null,
   "metadata": {},
   "outputs": [],
   "source": [
    "!pip3 install pyvespa vespacli"
   ]
  },
  {
   "cell_type": "code",
   "execution_count": 1,
   "metadata": {},
   "outputs": [],
   "source": [
    "import os\n",
    "os.environ[\"TENANT_NAME\"] = \"article\"\n",
    "application = \"hybridsearch\"\n",
    "vespa_cli_command = (\n",
    "    f'vespa config set application {os.environ[\"TENANT_NAME\"]}.{application}'\n",
    ")"
   ]
  },
  {
   "cell_type": "code",
   "execution_count": 21,
   "metadata": {},
   "outputs": [
    {
     "name": "stdout",
     "output_type": "stream",
     "text": [
      "\u001b[32mSuccess:\u001b[0m Certificate written to \u001b[36m'/home/gabriel/.vespa/article.hybridsearch.default/data-plane-public-cert.pem'\u001b[0m\n",
      "\u001b[32mSuccess:\u001b[0m Private key written to \u001b[36m'/home/gabriel/.vespa/article.hybridsearch.default/data-plane-private-key.pem'\u001b[0m\n"
     ]
    }
   ],
   "source": [
    "# Only if not already deployed\n",
    "# !vespa config set target cloud\n",
    "# !{vespa_cli_command}\n",
    "# !vespa auth cert -N"
   ]
  },
  {
   "cell_type": "code",
   "execution_count": 2,
   "metadata": {},
   "outputs": [],
   "source": [
    "import os\n",
    "from os.path import exists\n",
    "from pathlib import Path\n",
    "\n",
    "cert_path = (\n",
    "    Path.home()\n",
    "    / \".vespa\"\n",
    "    / f\"{os.environ['TENANT_NAME']}.{application}.default/data-plane-public-cert.pem\"\n",
    ")\n",
    "key_path = (\n",
    "    Path.home()\n",
    "    / \".vespa\"\n",
    "    / f\"{os.environ['TENANT_NAME']}.{application}.default/data-plane-private-key.pem\"\n",
    ")\n",
    "\n",
    "if not exists(cert_path) or not exists(key_path):\n",
    "    print(\n",
    "        \"ERROR: set the correct paths to security credentials. Correct paths above and rerun until you do not see this error\"\n",
    "    )\n"
   ]
  },
  {
   "cell_type": "code",
   "execution_count": null,
   "metadata": {},
   "outputs": [],
   "source": [
    "# only if not already deployed\n",
    "# !vespa auth api-key -f"
   ]
  },
  {
   "cell_type": "code",
   "execution_count": 3,
   "metadata": {},
   "outputs": [],
   "source": [
    "from pathlib import Path\n",
    "\n",
    "api_key_path = Path.home() / \".vespa\" / f\"{os.environ['TENANT_NAME']}.api-key.pem\""
   ]
  },
  {
   "cell_type": "code",
   "execution_count": 6,
   "metadata": {},
   "outputs": [],
   "source": [
    "from vespa.package import ApplicationPackage, Field, Schema, Document, RankProfile, HNSW, RankProfile, Component, Parameter, FieldSet, GlobalPhaseRanking, Function\n",
    "from vespa.deployment import VespaDocker\n",
    "from datasets import load_dataset\n",
    "from vespa.io import VespaResponse, VespaQueryResponse\n",
    "\n",
    "\n",
    "package = ApplicationPackage(\n",
    "        name=\"hybridsearch\",\n",
    "        schema=[Schema(\n",
    "            name=\"doc\",\n",
    "            document=Document(\n",
    "                fields=[\n",
    "                    Field(name=\"id\", type=\"string\", indexing=[\"summary\"]),\n",
    "                    Field(name=\"title\", type=\"string\", indexing=[\"index\", \"summary\"], index=\"enable-bm25\"),\n",
    "                    Field(name=\"body\", type=\"string\", indexing=[\"index\", \"summary\"], index=\"enable-bm25\", bolding=True),\n",
    "                    Field(name=\"embedding\", type=\"tensor<float>(x[384])\",\n",
    "                        indexing=[\"input title . \\\" \\\" . input body\", \"embed\", \"index\", \"attribute\"],\n",
    "                        ann=HNSW(distance_metric=\"angular\"),\n",
    "                        is_document_field=False\n",
    "                    )\n",
    "                ]\n",
    "            ),\n",
    "            fieldsets=[\n",
    "                FieldSet(name = \"default\", fields = [\"title\", \"body\"])\n",
    "            ],\n",
    "            rank_profiles=[\n",
    "                RankProfile(\n",
    "                    name=\"bm25\",\n",
    "                    inputs=[(\"query(q)\", \"tensor<float>(x[384])\")],\n",
    "                    functions=[Function(\n",
    "                        name=\"bm25sum\", expression=\"bm25(title) + bm25(body)\"\n",
    "                    )],\n",
    "                    first_phase=\"bm25sum\"\n",
    "                ),\n",
    "                RankProfile(\n",
    "                    name=\"semantic\",\n",
    "                    inputs=[(\"query(q)\", \"tensor<float>(x[384])\")],\n",
    "                    first_phase=\"closeness(field, embedding)\"\n",
    "                ),\n",
    "                RankProfile(\n",
    "                    name=\"fusion\",\n",
    "                    inherits=\"bm25\",\n",
    "                    inputs=[(\"query(q)\", \"tensor<float>(x[384])\")],\n",
    "                    first_phase=\"closeness(embedding)\",\n",
    "                    global_phase=GlobalPhaseRanking(\n",
    "                        expression=\"bm25sum + closeness(embedding)\",\n",
    "                        rerank_count=1000\n",
    "                    )\n",
    "                )\n",
    "            ]\n",
    "        )\n",
    "        ],\n",
    "        components=[Component(id=\"e5\", type=\"hugging-face-embedder\",\n",
    "            parameters=[\n",
    "                Parameter(\"transformer-model\", {\"url\": \"https://github.com/vespa-engine/sample-apps/raw/master/simple-semantic-search/model/e5-small-v2-int8.onnx\"}),\n",
    "                Parameter(\"tokenizer-model\", {\"url\": \"https://raw.githubusercontent.com/vespa-engine/sample-apps/master/simple-semantic-search/model/tokenizer.json\"})\n",
    "            ]\n",
    "        )]\n",
    "    )"
   ]
  },
  {
   "cell_type": "code",
   "execution_count": 7,
   "metadata": {},
   "outputs": [],
   "source": [
    "from vespa.deployment import VespaCloud\n",
    "from datasets import load_dataset\n",
    "\n",
    "def read_secret():\n",
    "    \"\"\"Read the API key from the environment variable. This is\n",
    "    only used for CI/CD purposes.\"\"\"\n",
    "    t = os.getenv(\"VESPA_TEAM_API_KEY\")\n",
    "    if t:\n",
    "        return t.replace(r\"\\n\", \"\\n\")\n",
    "    else:\n",
    "        return t\n",
    "\n",
    "\n",
    "vespa_cloud = VespaCloud(\n",
    "    tenant=os.environ[\"TENANT_NAME\"],\n",
    "    application=application,\n",
    "    key_content=read_secret() if read_secret() else None,\n",
    "    key_location=api_key_path,\n",
    "    application_package=package,\n",
    ")"
   ]
  },
  {
   "cell_type": "code",
   "execution_count": 8,
   "metadata": {},
   "outputs": [
    {
     "name": "stdout",
     "output_type": "stream",
     "text": [
      "Deployment started in run 5 of dev-aws-us-east-1c for article.hybridsearch. This may take a few minutes the first time.\n",
      "INFO    [02:32:48]  Deploying platform version 8.349.46 and application dev build 4 for dev-aws-us-east-1c of default ...\n",
      "INFO    [02:32:48]  Using CA signed certificate version 1\n",
      "INFO    [02:32:48]  Using 1 nodes in container cluster 'hybridsearch_container'\n",
      "INFO    [02:32:50]  Validating Onnx models memory usage for container cluster 'hybridsearch_container', percentage of available memory too low (10 < 15) to avoid restart, consider a flavor with more memory to avoid this\n",
      "INFO    [02:32:52]  Session 28 for tenant 'article' prepared and activated.\n",
      "INFO    [02:32:52]  ######## Details for all nodes ########\n",
      "INFO    [02:32:52]  h93183a.dev.aws-us-east-1c.vespa-external.aws.oath.cloud: expected to be UP\n",
      "INFO    [02:32:52]  --- platform vespa/cloud-tenant-rhel8:8.349.46\n",
      "INFO    [02:32:52]  --- storagenode on port 19102 has config generation 27, wanted is 28\n",
      "INFO    [02:32:52]  --- searchnode on port 19107 has config generation 28, wanted is 28\n",
      "INFO    [02:32:52]  --- distributor on port 19111 has config generation 27, wanted is 28\n",
      "INFO    [02:32:52]  --- metricsproxy-container on port 19092 has config generation 28, wanted is 28\n",
      "INFO    [02:32:52]  h93284b.dev.aws-us-east-1c.vespa-external.aws.oath.cloud: expected to be UP\n",
      "INFO    [02:32:52]  --- platform vespa/cloud-tenant-rhel8:8.349.46\n",
      "INFO    [02:32:52]  --- logserver-container on port 4080 has config generation 28, wanted is 28\n",
      "INFO    [02:32:52]  --- metricsproxy-container on port 19092 has config generation 27, wanted is 28\n",
      "INFO    [02:32:52]  h93274b.dev.aws-us-east-1c.vespa-external.aws.oath.cloud: expected to be UP\n",
      "INFO    [02:32:52]  --- platform vespa/cloud-tenant-rhel8:8.349.46\n",
      "INFO    [02:32:52]  --- container-clustercontroller on port 19050 has config generation 28, wanted is 28\n",
      "INFO    [02:32:52]  --- metricsproxy-container on port 19092 has config generation 28, wanted is 28\n",
      "INFO    [02:32:52]  h93521a.dev.aws-us-east-1c.vespa-external.aws.oath.cloud: expected to be UP\n",
      "INFO    [02:32:52]  --- platform vespa/cloud-tenant-rhel8:8.349.46\n",
      "INFO    [02:32:52]  --- container on port 4080 has config generation 28, wanted is 28\n",
      "INFO    [02:32:52]  --- metricsproxy-container on port 19092 has config generation 28, wanted is 28\n",
      "INFO    [02:33:01]  Found endpoints:\n",
      "INFO    [02:33:01]  - dev.aws-us-east-1c\n",
      "INFO    [02:33:01]   |-- https://eb38f856.cc1e1530.z.vespa-app.cloud/ (cluster 'hybridsearch_container')\n",
      "INFO    [02:33:03]  Deployment of new application complete!\n",
      "Using mTLS (key,cert) Authentication against endpoint https://eb38f856.cc1e1530.z.vespa-app.cloud//ApplicationStatus\n",
      "Application is up!\n",
      "Finished deployment.\n"
     ]
    }
   ],
   "source": [
    "app = vespa_cloud.deploy()"
   ]
  },
  {
   "cell_type": "code",
   "execution_count": 9,
   "metadata": {},
   "outputs": [
    {
     "data": {
      "text/plain": [
       "'https://eb38f856.cc1e1530.z.vespa-app.cloud/'"
      ]
     },
     "execution_count": 9,
     "metadata": {},
     "output_type": "execute_result"
    }
   ],
   "source": [
    "endpoint = vespa_cloud.get_mtls_endpoint()\n",
    "endpoint"
   ]
  },
  {
   "cell_type": "code",
   "execution_count": 30,
   "metadata": {},
   "outputs": [
    {
     "name": "stderr",
     "output_type": "stream",
     "text": [
      "Map: 100%|██████████| 10000/10000 [00:02<00:00, 4658.67 examples/s]\n"
     ]
    }
   ],
   "source": [
    "# Feed documents, commented out to avoid re-feeding\n",
    "# DATA_DIR = \"./data/\"\n",
    "# DATA_FILES = [\"arxiv-metadata-oai-snapshot.json\"]\n",
    "# SPLIT_SIZE_LIMIT = 10000\n",
    "# dataset = load_dataset(\n",
    "#     \"json\",\n",
    "#     data_dir=DATA_DIR,\n",
    "#     data_files=DATA_FILES,\n",
    "#     split=f\"train[0:{SPLIT_SIZE_LIMIT}]\",\n",
    "# )\n",
    "# vespa_feed = dataset.map(lambda x: {\"id\": x[\"id\"], \"fields\": { \"title\": x[\"title\"], \"body\": x[\"abstract\"], \"id\": x[\"id\"]}})\n",
    "# app.feed_iterable(vespa_feed, schema=\"doc\", namespace=\"article\")"
   ]
  },
  {
   "cell_type": "code",
   "execution_count": 10,
   "metadata": {},
   "outputs": [
    {
     "data": {
      "text/plain": [
       "{'id': 'id:article:doc::0704.0619',\n",
       " 'relevance': 9.233171111430481,\n",
       " 'source': 'hybridsearch_content',\n",
       " 'fields': {'sddocname': 'doc',\n",
       "  'body': \"  The search for MSSM Higgs <hi>bosons</hi> will be an important goal at the LHC. We\\nanalyze the search reach of the CMS experiment for the heavy neutral MSSM Higgs\\n<hi>bosons</hi> with an integrated luminosity of 30 or 60 fb^-1. This is done by\\ncombining the latest results for the CMS experimental sensitivities based on\\nfull simulation studies with state-of-the-art theoretical predictions of MSSM\\nHiggs-<hi>boson</hi> properties. The results are interpreted in MSSM benchmark scenarios\\nin terms of the parameters tan_beta and the Higgs-<hi>boson</hi> mass scale, M_A. We\\nstudy the dependence of the 5 sigma discovery contours in the M_A-tan_beta\\nplane on variations of the other supersymmetric parameters. The largest effects\\narise from a change in the higgsino mass parameter mu, which enters both via\\nhigher-order radiative corrections and via the kinematics of Higgs decays into\\nsupersymmetric particles. While the variation of $\\\\mu$ can shift the\\nprospective discovery reach (and correspondingly the ``LHC wedge'' region) by\\nabout Delta tan_beta = 10, we find that the discovery reach is rather stable\\nwith respect <hi>to</hi> the impact of other supersymmetric parameters. Within the\\ndiscovery region we analyze the accuracy with which the masses of the heavy\\nneutral Higgs <hi>bosons</hi> can be determined. We find that an accuracy of 1-4% should\\nbe achievable, which could make it possible in favourable regions of the MSSM\\nparameter space <hi>to</hi> experimentally resolve the signals of the two heavy MSSM\\nHiggs <hi>bosons</hi> at the LHC.\\n\",\n",
       "  'documentid': 'id:article:doc::0704.0619',\n",
       "  'id': '0704.0619',\n",
       "  'title': 'Search for Heavy Neutral MSSM Higgs Bosons with CMS: Reach and\\n  Higgs-Mass Precision'}}"
      ]
     },
     "execution_count": 10,
     "metadata": {},
     "output_type": "execute_result"
    }
   ],
   "source": [
    "from vespa.application import Vespa\n",
    "\n",
    "the_app = Vespa(endpoint, cert=cert_path, key=key_path)\n",
    "\n",
    "res = the_app.query(\n",
    "                yql=f\"select * from sources * where userQuery() limit {5}\",\n",
    "                query=\"related to boson\",\n",
    "                ranking=\"fusion\",\n",
    "            )\n",
    "res.hits[0]\n"
   ]
  }
 ],
 "metadata": {
  "kernelspec": {
   "display_name": "proj",
   "language": "python",
   "name": "python3"
  },
  "language_info": {
   "codemirror_mode": {
    "name": "ipython",
    "version": 3
   },
   "file_extension": ".py",
   "mimetype": "text/x-python",
   "name": "python",
   "nbconvert_exporter": "python",
   "pygments_lexer": "ipython3",
   "version": "3.10.12"
  }
 },
 "nbformat": 4,
 "nbformat_minor": 2
}
