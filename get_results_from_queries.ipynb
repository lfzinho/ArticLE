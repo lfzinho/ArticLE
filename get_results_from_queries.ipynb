{
 "cells": [
  {
   "cell_type": "code",
   "execution_count": 13,
   "metadata": {},
   "outputs": [],
   "source": [
    "from search_engine_versions.bm25_abstract_and_title import SearchEngine as bm25_abstract_and_title_search_engine\n",
    "# ...\n",
    "\n",
    "from query_evaluator import evaluate_articles_boolean, evaluate_articles_levels\n",
    "from query_generator import generate_and_save_queries\n",
    "import numpy as np\n",
    "import pandas as pd\n",
    "import json\n",
    "\n",
    "\n",
    "# For queries gen\n",
    "# path = './app/data/example.json'\n",
    "# with open(path, 'r', encoding='utf-8') as f:\n",
    "#     data = f.readlines()\n",
    "#     data = [json.loads(line) for line in data]\n",
    "# generate_and_save_queries(data, num_queries=100, output_path='./app/data/queries.json')\n",
    "\n",
    "DATA_DIR = \"./data/\"\n",
    "DATA_FILES = [\"example.json\"]\n",
    "SPLIT_SIZE_LIMIT = 100\n",
    "\n",
    "search_engines = {}\n",
    "search_engines_dict = {\n",
    "    \"bm25_title_and_abstract\": bm25_abstract_and_title_search_engine,\n",
    "}"
   ]
  },
  {
   "cell_type": "code",
   "execution_count": 14,
   "metadata": {},
   "outputs": [],
   "source": [
    "def average_precision(relevances):\n",
    "    relevant = np.where(relevances == 1)[0] + 1  # get positions of relevant docs, +1 because index is zero-based\n",
    "    if len(relevant) == 0:\n",
    "        return 0\n",
    "    precision_at_k = np.cumsum(relevances) / (np.arange(len(relevances)) + 1)\n",
    "    return np.sum(precision_at_k[relevances == 1]) / len(relevant)\n",
    "\n",
    "def dcg(relevances):\n",
    "    k = len(relevances)\n",
    "    relevances = np.asfarray(relevances)[:k]\n",
    "    if relevances.size:\n",
    "        return relevances[0] + np.sum(relevances[1:] / np.log2(np.arange(2, relevances.size + 1)))\n",
    "    return 0\n",
    "\n",
    "def ndcg(relevances):\n",
    "    k = len(relevances)\n",
    "    dcg_val = dcg(relevances)\n",
    "    ideal_relevances = sorted(relevances, reverse=True)\n",
    "    idcg_val = dcg(ideal_relevances)\n",
    "    return dcg_val / idcg_val if idcg_val > 0 else 0\n",
    "\n",
    "with open(DATA_DIR + \"queries.json\") as f:\n",
    "    queries = f.readlines()\n",
    "    queries = [json.loads(line) for line in queries]\n",
    "\n",
    "\n",
    "def test_search_engine(SearchEngine, name):\n",
    "    search_engine = SearchEngine()\n",
    "    search_engine.feed_json(DATA_DIR, DATA_FILES, SPLIT_SIZE_LIMIT)\n",
    "    search_engines[name] = search_engine\n",
    "\n",
    "    aps = {}\n",
    "    ndcgs_levels = {}\n",
    "    ndcgs_boolean = {}\n",
    "\n",
    "    for query_obj in queries[:10]:\n",
    "        query = query_obj['query']\n",
    "        search_results = search_engine.search(query, 5)\n",
    "        search_results.rename(columns={'body': 'abstract'}, inplace=True)\n",
    "\n",
    "        evaluated_results_boolean = evaluate_articles_boolean(search_results.to_dict(orient=\"records\"), query, verbose=False)\n",
    "        evaluated_results_boolean = pd.DataFrame(evaluated_results_boolean)\n",
    "        evaluated_results_boolean['eval'] = pd.to_numeric(evaluated_results_boolean['eval'])\n",
    "        print(evaluated_results_boolean)\n",
    "\n",
    "        evaluated_results_levels = evaluate_articles_levels(search_results.to_dict(orient=\"records\"), query, verbose=False)\n",
    "        evaluated_results_levels = pd.DataFrame(evaluated_results_levels)\n",
    "        evaluated_results_levels['eval'] = pd.to_numeric(evaluated_results_levels['eval'])\n",
    "        print(evaluated_results_levels)\n",
    "\n",
    "        aps[query_obj['id']] = average_precision(evaluated_results_boolean['eval'])\n",
    "        ndcgs_levels[query_obj['id']] = ndcg(evaluated_results_levels['eval'])\n",
    "        ndcgs_boolean[query_obj['id']] = ndcg(evaluated_results_boolean['eval'])\n",
    "    \n",
    "    metrics = {\n",
    "        'aps': aps,\n",
    "        'ndcgs_levels': ndcgs_levels,\n",
    "        'ndcgs_boolean': ndcgs_boolean\n",
    "    }\n",
    "    return metrics\n"
   ]
  },
  {
   "cell_type": "code",
   "execution_count": 15,
   "metadata": {},
   "outputs": [
    {
     "name": "stdout",
     "output_type": "stream",
     "text": [
      "running for  bm25_title_and_abstract\n",
      "Waiting for configuration server, 0/300 seconds...\n",
      "Waiting for configuration server, 5/300 seconds...\n",
      "Using plain http against endpoint http://localhost:8080/ApplicationStatus\n",
      "Waiting for application status, 0/300 seconds...\n",
      "Using plain http against endpoint http://localhost:8080/ApplicationStatus\n",
      "Waiting for application status, 5/300 seconds...\n",
      "Using plain http against endpoint http://localhost:8080/ApplicationStatus\n",
      "Waiting for application status, 10/300 seconds...\n",
      "Using plain http against endpoint http://localhost:8080/ApplicationStatus\n",
      "Waiting for application status, 15/300 seconds...\n",
      "Using plain http against endpoint http://localhost:8080/ApplicationStatus\n",
      "Application is up!\n",
      "Finished deployment.\n"
     ]
    },
    {
     "name": "stderr",
     "output_type": "stream",
     "text": [
      "Evaluating articles:  20%|██        | 1/5 [00:03<00:12,  3.09s/it]"
     ]
    },
    {
     "name": "stdout",
     "output_type": "stream",
     "text": [
      "id: 0704.0001\n"
     ]
    },
    {
     "name": "stderr",
     "output_type": "stream",
     "text": [
      "Evaluating articles:  40%|████      | 2/5 [00:03<00:05,  1.77s/it]"
     ]
    },
    {
     "name": "stdout",
     "output_type": "stream",
     "text": [
      "id: 0704.0060\n"
     ]
    },
    {
     "name": "stderr",
     "output_type": "stream",
     "text": [
      "Evaluating articles:  60%|██████    | 3/5 [00:06<00:04,  2.23s/it]"
     ]
    },
    {
     "name": "stdout",
     "output_type": "stream",
     "text": [
      "id: 0704.0031\n"
     ]
    },
    {
     "name": "stderr",
     "output_type": "stream",
     "text": [
      "Evaluating articles:  80%|████████  | 4/5 [00:07<00:01,  1.51s/it]"
     ]
    },
    {
     "name": "stdout",
     "output_type": "stream",
     "text": [
      "id: 0704.0092\n"
     ]
    },
    {
     "name": "stderr",
     "output_type": "stream",
     "text": [
      "Evaluating articles: 100%|██████████| 5/5 [00:08<00:00,  1.69s/it]\n"
     ]
    },
    {
     "name": "stdout",
     "output_type": "stream",
     "text": [
      "id: 0704.0055\n",
      "          id                                              title  \\\n",
      "0  0704.0001  Calculation of prompt diphoton production cros...   \n",
      "1  0704.0060  Coulomb excitation of unstable nuclei at inter...   \n",
      "2  0704.0031  Crystal channeling of LHC forward protons with...   \n",
      "3  0704.0092  Energy density for chiral lattice fermions wit...   \n",
      "4  0704.0055  Potassium intercalation in graphite: A van der...   \n",
      "\n",
      "                                            abstract  eval  \n",
      "0    A fully differential calculation in perturba...     1  \n",
      "1    We investigate the Coulomb excitation of low...     0  \n",
      "2    We show that crystal can trap a broad (x, x'...     1  \n",
      "3    We study a recently proposed formulation of ...     0  \n",
      "4    Potassium intercalation in graphite is inves...     0  \n"
     ]
    },
    {
     "name": "stderr",
     "output_type": "stream",
     "text": [
      "Evaluating articles:  40%|████      | 2/5 [00:04<00:06,  2.04s/it]"
     ]
    },
    {
     "name": "stdout",
     "output_type": "stream",
     "text": [
      "Error when parsing feedback: Expecting value: line 1 column 1 (char 0)\n"
     ]
    },
    {
     "name": "stderr",
     "output_type": "stream",
     "text": [
      "Evaluating articles: 100%|██████████| 5/5 [00:09<00:00,  1.98s/it]\n"
     ]
    },
    {
     "name": "stdout",
     "output_type": "stream",
     "text": [
      "                                               title  \\\n",
      "0  Calculation of prompt diphoton production cros...   \n",
      "1  Coulomb excitation of unstable nuclei at inter...   \n",
      "2  Crystal channeling of LHC forward protons with...   \n",
      "3  Energy density for chiral lattice fermions wit...   \n",
      "4  Potassium intercalation in graphite: A van der...   \n",
      "\n",
      "                                            abstract  eval  \n",
      "0    A fully differential calculation in perturba...     3  \n",
      "1    We investigate the Coulomb excitation of low...     1  \n",
      "2    We show that crystal can trap a broad (x, x'...     1  \n",
      "3    We study a recently proposed formulation of ...     0  \n",
      "4    Potassium intercalation in graphite is inves...     0  \n"
     ]
    },
    {
     "name": "stderr",
     "output_type": "stream",
     "text": [
      "Evaluating articles:  20%|██        | 1/5 [00:00<00:02,  1.80it/s]"
     ]
    },
    {
     "name": "stdout",
     "output_type": "stream",
     "text": [
      "id: 0704.0002\n"
     ]
    },
    {
     "name": "stderr",
     "output_type": "stream",
     "text": [
      "Evaluating articles:  40%|████      | 2/5 [00:01<00:01,  1.61it/s]"
     ]
    },
    {
     "name": "stdout",
     "output_type": "stream",
     "text": [
      "id: 0704.0010\n"
     ]
    },
    {
     "name": "stderr",
     "output_type": "stream",
     "text": [
      "Evaluating articles:  60%|██████    | 3/5 [00:01<00:01,  1.72it/s]"
     ]
    },
    {
     "name": "stdout",
     "output_type": "stream",
     "text": [
      "id: 0704.0098\n"
     ]
    },
    {
     "name": "stderr",
     "output_type": "stream",
     "text": [
      "Evaluating articles:  80%|████████  | 4/5 [00:02<00:00,  1.94it/s]"
     ]
    },
    {
     "name": "stdout",
     "output_type": "stream",
     "text": [
      "id: 0704.0049\n"
     ]
    },
    {
     "name": "stderr",
     "output_type": "stream",
     "text": [
      "Evaluating articles: 100%|██████████| 5/5 [00:02<00:00,  1.79it/s]\n"
     ]
    },
    {
     "name": "stdout",
     "output_type": "stream",
     "text": [
      "id: 0704.0062\n",
      "          id                                              title  \\\n",
      "0  0704.0002           Sparsity-certifying Graph Decompositions   \n",
      "1  0704.0010  Partial cubes: structures, characterizations, ...   \n",
      "2  0704.0098  Sparsely-spread CDMA - a statistical mechanics...   \n",
      "3  0704.0049  An algorithm for the classification of smooth ...   \n",
      "4  0704.0062  On-line Viterbi Algorithm and Its Relationship...   \n",
      "\n",
      "                                            abstract  eval  \n",
      "0    We describe a new algorithm, the $(k,\\ell)$-...     1  \n",
      "1    Partial cubes are isometric subgraphs of hyp...     0  \n",
      "2    Sparse Code Division Multiple Access (CDMA),...     1  \n",
      "3    We present an algorithm that produces the cl...     0  \n",
      "4    In this paper, we introduce the on-line Vite...     0  \n"
     ]
    },
    {
     "name": "stderr",
     "output_type": "stream",
     "text": [
      "Evaluating articles:   0%|          | 0/5 [00:00<?, ?it/s]"
     ]
    },
    {
     "name": "stdout",
     "output_type": "stream",
     "text": [
      "Error when parsing feedback: Invalid \\escape: line 1 column 151 (char 150)\n",
      "Error when parsing feedback: Invalid \\escape: line 1 column 109 (char 108)\n"
     ]
    },
    {
     "name": "stderr",
     "output_type": "stream",
     "text": [
      "Evaluating articles:  60%|██████    | 3/5 [00:13<00:08,  4.11s/it]"
     ]
    },
    {
     "name": "stdout",
     "output_type": "stream",
     "text": [
      "Error when parsing feedback: Expecting value: line 1 column 1 (char 0)\n"
     ]
    },
    {
     "name": "stderr",
     "output_type": "stream",
     "text": [
      "Evaluating articles:  80%|████████  | 4/5 [00:19<00:04,  4.82s/it]"
     ]
    },
    {
     "name": "stdout",
     "output_type": "stream",
     "text": [
      "Error when parsing feedback: Expecting value: line 1 column 1 (char 0)\n"
     ]
    },
    {
     "name": "stderr",
     "output_type": "stream",
     "text": [
      "Evaluating articles: 100%|██████████| 5/5 [00:26<00:00,  5.32s/it]\n"
     ]
    },
    {
     "name": "stdout",
     "output_type": "stream",
     "text": [
      "                                               title  \\\n",
      "0           Sparsity-certifying Graph Decompositions   \n",
      "1  Partial cubes: structures, characterizations, ...   \n",
      "2  Sparsely-spread CDMA - a statistical mechanics...   \n",
      "3  An algorithm for the classification of smooth ...   \n",
      "4  On-line Viterbi Algorithm and Its Relationship...   \n",
      "\n",
      "                                            abstract  eval  \n",
      "0    We describe a new algorithm, the $(k,\\ell)$-...     2  \n",
      "1    Partial cubes are isometric subgraphs of hyp...     1  \n",
      "2    Sparse Code Division Multiple Access (CDMA),...     1  \n",
      "3    We present an algorithm that produces the cl...     1  \n",
      "4    In this paper, we introduce the on-line Vite...     1  \n"
     ]
    },
    {
     "name": "stderr",
     "output_type": "stream",
     "text": [
      "Evaluating articles:  20%|██        | 1/5 [00:00<00:01,  2.51it/s]"
     ]
    },
    {
     "name": "stdout",
     "output_type": "stream",
     "text": [
      "id: 0704.0003\n"
     ]
    },
    {
     "name": "stderr",
     "output_type": "stream",
     "text": [
      "Evaluating articles:  40%|████      | 2/5 [00:02<00:03,  1.25s/it]"
     ]
    },
    {
     "name": "stdout",
     "output_type": "stream",
     "text": [
      "id: 0704.0077\n"
     ]
    },
    {
     "name": "stderr",
     "output_type": "stream",
     "text": [
      "Evaluating articles:  60%|██████    | 3/5 [00:07<00:05,  2.87s/it]"
     ]
    },
    {
     "name": "stdout",
     "output_type": "stream",
     "text": [
      "id: 0704.0082\n"
     ]
    },
    {
     "name": "stderr",
     "output_type": "stream",
     "text": [
      "Evaluating articles:  80%|████████  | 4/5 [00:08<00:02,  2.15s/it]"
     ]
    },
    {
     "name": "stdout",
     "output_type": "stream",
     "text": [
      "id: 0704.0094\n"
     ]
    },
    {
     "name": "stderr",
     "output_type": "stream",
     "text": [
      "Evaluating articles: 100%|██████████| 5/5 [00:08<00:00,  1.69s/it]\n"
     ]
    },
    {
     "name": "stdout",
     "output_type": "stream",
     "text": [
      "id: 0704.0057\n",
      "          id                                              title  \\\n",
      "0  0704.0003  The evolution of the Earth-Moon system based o...   \n",
      "1  0704.0077       Universal Forces and the Dark Energy Problem   \n",
      "2  0704.0082  Matter-Wave Bright Solitons with a Finite Back...   \n",
      "3  0704.0094  Timing and Lensing of the Colliding Bullet Clu...   \n",
      "4  0704.0057  High-spin to low-spin and orbital polarization...   \n",
      "\n",
      "                                            abstract  eval  \n",
      "0    The evolution of Earth-Moon system is descri...     1  \n",
      "1    The Dark Energy problem is forcing us to re-...     1  \n",
      "2    We investigate dynamical properties of brigh...     0  \n",
      "3    We present semi-analytical constraint on the...     0  \n",
      "4    We study the interplay of crystal field spli...     0  \n"
     ]
    },
    {
     "name": "stderr",
     "output_type": "stream",
     "text": [
      "Evaluating articles: 100%|██████████| 5/5 [00:27<00:00,  5.52s/it]\n"
     ]
    },
    {
     "name": "stdout",
     "output_type": "stream",
     "text": [
      "                                               title  \\\n",
      "0  The evolution of the Earth-Moon system based o...   \n",
      "1       Universal Forces and the Dark Energy Problem   \n",
      "2  Matter-Wave Bright Solitons with a Finite Back...   \n",
      "3  Timing and Lensing of the Colliding Bullet Clu...   \n",
      "4  High-spin to low-spin and orbital polarization...   \n",
      "\n",
      "                                            abstract  eval  \n",
      "0    The evolution of Earth-Moon system is descri...     3  \n",
      "1    The Dark Energy problem is forcing us to re-...     1  \n",
      "2    We investigate dynamical properties of brigh...     1  \n",
      "3    We present semi-analytical constraint on the...     0  \n",
      "4    We study the interplay of crystal field spli...     0  \n"
     ]
    },
    {
     "name": "stderr",
     "output_type": "stream",
     "text": [
      "Evaluating articles:  20%|██        | 1/5 [00:01<00:07,  1.87s/it]"
     ]
    },
    {
     "name": "stdout",
     "output_type": "stream",
     "text": [
      "id: 0704.0004\n"
     ]
    },
    {
     "name": "stderr",
     "output_type": "stream",
     "text": [
      "Evaluating articles:  40%|████      | 2/5 [00:04<00:07,  2.40s/it]"
     ]
    },
    {
     "name": "stdout",
     "output_type": "stream",
     "text": [
      "id: 0704.0036\n"
     ]
    },
    {
     "name": "stderr",
     "output_type": "stream",
     "text": [
      "Evaluating articles:  60%|██████    | 3/5 [00:07<00:05,  2.63s/it]"
     ]
    },
    {
     "name": "stdout",
     "output_type": "stream",
     "text": [
      "id: 0704.0075\n"
     ]
    },
    {
     "name": "stderr",
     "output_type": "stream",
     "text": [
      "Evaluating articles:  80%|████████  | 4/5 [00:10<00:02,  2.71s/it]"
     ]
    },
    {
     "name": "stdout",
     "output_type": "stream",
     "text": [
      "id: 0704.0021\n"
     ]
    },
    {
     "name": "stderr",
     "output_type": "stream",
     "text": [
      "Evaluating articles: 100%|██████████| 5/5 [00:13<00:00,  2.62s/it]\n"
     ]
    },
    {
     "name": "stdout",
     "output_type": "stream",
     "text": [
      "id: 0704.0046\n",
      "          id                                              title  \\\n",
      "0  0704.0004  A determinant of Stirling cycle numbers counts...   \n",
      "1  0704.0036  A remark on the number of steady states in a m...   \n",
      "2  0704.0075                   Strong decays of charmed baryons   \n",
      "3  0704.0021  Molecular Synchronization Waves in Arrays of A...   \n",
      "4  0704.0046  A limit relation for entropy and channel capac...   \n",
      "\n",
      "                                            abstract  eval  \n",
      "0    We show that a determinant of Stirling cycle...     1  \n",
      "1    The multisite phosphorylation-dephosphorylat...     0  \n",
      "2    There has been important experimental progre...     0  \n",
      "3    Spatiotemporal pattern formation in a produc...     0  \n",
      "4    In a quantum mechanical model, Diosi, Feldma...     0  \n"
     ]
    },
    {
     "name": "stderr",
     "output_type": "stream",
     "text": [
      "Evaluating articles:   0%|          | 0/5 [00:00<?, ?it/s]"
     ]
    },
    {
     "name": "stdout",
     "output_type": "stream",
     "text": [
      "Error when parsing feedback: Expecting value: line 1 column 1 (char 0)\n"
     ]
    },
    {
     "name": "stderr",
     "output_type": "stream",
     "text": [
      "Evaluating articles: 100%|██████████| 5/5 [00:34<00:00,  6.87s/it]\n"
     ]
    },
    {
     "name": "stdout",
     "output_type": "stream",
     "text": [
      "                                               title  \\\n",
      "0  A determinant of Stirling cycle numbers counts...   \n",
      "1  A remark on the number of steady states in a m...   \n",
      "2                   Strong decays of charmed baryons   \n",
      "3  Molecular Synchronization Waves in Arrays of A...   \n",
      "4  A limit relation for entropy and channel capac...   \n",
      "\n",
      "                                            abstract  eval  \n",
      "0    We show that a determinant of Stirling cycle...     3  \n",
      "1    The multisite phosphorylation-dephosphorylat...     1  \n",
      "2    There has been important experimental progre...     0  \n",
      "3    Spatiotemporal pattern formation in a produc...     0  \n",
      "4    In a quantum mechanical model, Diosi, Feldma...     1  \n"
     ]
    },
    {
     "name": "stderr",
     "output_type": "stream",
     "text": [
      "Evaluating articles:  20%|██        | 1/5 [00:00<00:02,  1.73it/s]"
     ]
    },
    {
     "name": "stdout",
     "output_type": "stream",
     "text": [
      "id: 0704.0005\n"
     ]
    },
    {
     "name": "stderr",
     "output_type": "stream",
     "text": [
      "Evaluating articles:  40%|████      | 2/5 [00:01<00:01,  2.04it/s]"
     ]
    },
    {
     "name": "stdout",
     "output_type": "stream",
     "text": [
      "id: 0704.0011\n"
     ]
    },
    {
     "name": "stderr",
     "output_type": "stream",
     "text": [
      "Evaluating articles:  60%|██████    | 3/5 [00:01<00:00,  2.16it/s]"
     ]
    },
    {
     "name": "stdout",
     "output_type": "stream",
     "text": [
      "id: 0704.0074\n"
     ]
    },
    {
     "name": "stderr",
     "output_type": "stream",
     "text": [
      "Evaluating articles:  80%|████████  | 4/5 [00:01<00:00,  2.25it/s]"
     ]
    },
    {
     "name": "stdout",
     "output_type": "stream",
     "text": [
      "id: 0704.0018\n"
     ]
    },
    {
     "name": "stderr",
     "output_type": "stream",
     "text": [
      "Evaluating articles: 100%|██████████| 5/5 [00:02<00:00,  1.87it/s]\n"
     ]
    },
    {
     "name": "stdout",
     "output_type": "stream",
     "text": [
      "id: 0704.0028\n",
      "          id                                              title  \\\n",
      "0  0704.0005  From dyadic $\\Lambda_{\\alpha}$ to $\\Lambda_{\\a...   \n",
      "1  0704.0011  Computing genus 2 Hilbert-Siegel modular forms...   \n",
      "2  0704.0074              Injective Morita contexts (revisited)   \n",
      "3  0704.0018    In quest of a generalized Callias index theorem   \n",
      "4  0704.0028  Pfaffians, hafnians and products of real linea...   \n",
      "\n",
      "                                            abstract  eval  \n",
      "0    In this paper we show how to compute the $\\L...     1  \n",
      "1    In this paper we present an algorithm for co...     0  \n",
      "2    This paper is an exposition of the so-called...     0  \n",
      "3    We give a prescription for how to compute th...     0  \n",
      "4    We prove pfaffian and hafnian versions of Li...     0  \n"
     ]
    },
    {
     "name": "stderr",
     "output_type": "stream",
     "text": [
      "Evaluating articles: 100%|██████████| 5/5 [01:10<00:00, 14.13s/it]\n"
     ]
    },
    {
     "name": "stdout",
     "output_type": "stream",
     "text": [
      "                                               title  \\\n",
      "0  From dyadic $\\Lambda_{\\alpha}$ to $\\Lambda_{\\a...   \n",
      "1  Computing genus 2 Hilbert-Siegel modular forms...   \n",
      "2              Injective Morita contexts (revisited)   \n",
      "3    In quest of a generalized Callias index theorem   \n",
      "4  Pfaffians, hafnians and products of real linea...   \n",
      "\n",
      "                                            abstract  eval  \n",
      "0    In this paper we show how to compute the $\\L...     3  \n",
      "1    In this paper we present an algorithm for co...     1  \n",
      "2    This paper is an exposition of the so-called...     0  \n",
      "3    We give a prescription for how to compute th...     1  \n",
      "4    We prove pfaffian and hafnian versions of Li...     1  \n"
     ]
    },
    {
     "name": "stderr",
     "output_type": "stream",
     "text": [
      "Evaluating articles:  20%|██        | 1/5 [00:00<00:03,  1.19it/s]"
     ]
    },
    {
     "name": "stdout",
     "output_type": "stream",
     "text": [
      "id: 0704.0006\n"
     ]
    },
    {
     "name": "stderr",
     "output_type": "stream",
     "text": [
      "Evaluating articles:  40%|████      | 2/5 [00:01<00:02,  1.45it/s]"
     ]
    },
    {
     "name": "stdout",
     "output_type": "stream",
     "text": [
      "id: 0704.0085\n"
     ]
    },
    {
     "name": "stderr",
     "output_type": "stream",
     "text": [
      "Evaluating articles:  60%|██████    | 3/5 [00:02<00:01,  1.49it/s]"
     ]
    },
    {
     "name": "stdout",
     "output_type": "stream",
     "text": [
      "id: 0704.0086\n"
     ]
    },
    {
     "name": "stderr",
     "output_type": "stream",
     "text": [
      "Evaluating articles:  80%|████████  | 4/5 [00:02<00:00,  1.58it/s]"
     ]
    },
    {
     "name": "stdout",
     "output_type": "stream",
     "text": [
      "id: 0704.0024\n"
     ]
    },
    {
     "name": "stderr",
     "output_type": "stream",
     "text": [
      "Evaluating articles: 100%|██████████| 5/5 [00:03<00:00,  1.58it/s]\n"
     ]
    },
    {
     "name": "stdout",
     "output_type": "stream",
     "text": [
      "id: 0704.0027\n",
      "          id                                              title  \\\n",
      "0  0704.0006  Bosonic characters of atomic Cooper pairs acro...   \n",
      "1  0704.0085                         A Universality in PP-Waves   \n",
      "2  0704.0086  Clustering in a stochastic model of one-dimens...   \n",
      "3  0704.0024  Formation of quasi-solitons in transverse conf...   \n",
      "4  0704.0027  Filling-Factor-Dependent Magnetophonon Resonan...   \n",
      "\n",
      "                                            abstract  eval  \n",
      "0    We study the two-particle wave function of p...     1  \n",
      "1    We discuss a universality property of any co...     0  \n",
      "2    We give a quantitative analysis of clusterin...     0  \n",
      "3    The formation of quasi-2D spin-wave waveform...     0  \n",
      "4    We describe a peculiar fine structure acquir...     0  \n"
     ]
    },
    {
     "name": "stderr",
     "output_type": "stream",
     "text": [
      "Evaluating articles: 100%|██████████| 5/5 [00:08<00:00,  1.78s/it]\n"
     ]
    },
    {
     "name": "stdout",
     "output_type": "stream",
     "text": [
      "                                               title  \\\n",
      "0  Bosonic characters of atomic Cooper pairs acro...   \n",
      "1                         A Universality in PP-Waves   \n",
      "2  Clustering in a stochastic model of one-dimens...   \n",
      "3  Formation of quasi-solitons in transverse conf...   \n",
      "4  Filling-Factor-Dependent Magnetophonon Resonan...   \n",
      "\n",
      "                                            abstract  eval  \n",
      "0    We study the two-particle wave function of p...     3  \n",
      "1    We discuss a universality property of any co...     1  \n",
      "2    We give a quantitative analysis of clusterin...     1  \n",
      "3    The formation of quasi-2D spin-wave waveform...     1  \n",
      "4    We describe a peculiar fine structure acquir...     0  \n"
     ]
    },
    {
     "name": "stderr",
     "output_type": "stream",
     "text": [
      "Evaluating articles:  20%|██        | 1/5 [00:00<00:01,  2.23it/s]"
     ]
    },
    {
     "name": "stdout",
     "output_type": "stream",
     "text": [
      "id: 0704.0007\n"
     ]
    },
    {
     "name": "stderr",
     "output_type": "stream",
     "text": [
      "Evaluating articles:  40%|████      | 2/5 [00:00<00:01,  2.33it/s]"
     ]
    },
    {
     "name": "stdout",
     "output_type": "stream",
     "text": [
      "id: 0704.0098\n"
     ]
    },
    {
     "name": "stderr",
     "output_type": "stream",
     "text": [
      "Evaluating articles:  60%|██████    | 3/5 [00:01<00:01,  1.95it/s]"
     ]
    },
    {
     "name": "stdout",
     "output_type": "stream",
     "text": [
      "id: 0704.0044\n"
     ]
    },
    {
     "name": "stderr",
     "output_type": "stream",
     "text": [
      "Evaluating articles:  80%|████████  | 4/5 [00:02<00:00,  1.84it/s]"
     ]
    },
    {
     "name": "stdout",
     "output_type": "stream",
     "text": [
      "id: 0704.0051\n"
     ]
    },
    {
     "name": "stderr",
     "output_type": "stream",
     "text": [
      "Evaluating articles: 100%|██████████| 5/5 [00:02<00:00,  2.03it/s]\n"
     ]
    },
    {
     "name": "stdout",
     "output_type": "stream",
     "text": [
      "id: 0704.0096\n",
      "          id                                              title  \\\n",
      "0  0704.0007  Polymer Quantum Mechanics and its Continuum Limit   \n",
      "1  0704.0098  Sparsely-spread CDMA - a statistical mechanics...   \n",
      "2  0704.0044  Astrophysical gyrokinetics: kinetic and fluid ...   \n",
      "3  0704.0051                          Visualizing Teleportation   \n",
      "4  0704.0096                                 Much ado about 248   \n",
      "\n",
      "                                            abstract  eval  \n",
      "0    A rather non-standard quantum representation...     1  \n",
      "1    Sparse Code Division Multiple Access (CDMA),...     0  \n",
      "2    We present a theoretical framework for plasm...     0  \n",
      "3    A novel way of picturing the processing of q...     1  \n",
      "4    In this note we present three representation...     0  \n"
     ]
    },
    {
     "name": "stderr",
     "output_type": "stream",
     "text": [
      "Evaluating articles: 100%|██████████| 5/5 [00:24<00:00,  4.99s/it]\n"
     ]
    },
    {
     "name": "stdout",
     "output_type": "stream",
     "text": [
      "                                               title  \\\n",
      "0  Polymer Quantum Mechanics and its Continuum Limit   \n",
      "1  Sparsely-spread CDMA - a statistical mechanics...   \n",
      "2  Astrophysical gyrokinetics: kinetic and fluid ...   \n",
      "3                          Visualizing Teleportation   \n",
      "4                                 Much ado about 248   \n",
      "\n",
      "                                            abstract  eval  \n",
      "0    A rather non-standard quantum representation...     3  \n",
      "1    Sparse Code Division Multiple Access (CDMA),...     1  \n",
      "2    We present a theoretical framework for plasm...     1  \n",
      "3    A novel way of picturing the processing of q...     2  \n",
      "4    In this note we present three representation...     1  \n"
     ]
    },
    {
     "name": "stderr",
     "output_type": "stream",
     "text": [
      "Evaluating articles:  20%|██        | 1/5 [00:02<00:08,  2.10s/it]"
     ]
    },
    {
     "name": "stdout",
     "output_type": "stream",
     "text": [
      "id: 0704.0008\n"
     ]
    },
    {
     "name": "stderr",
     "output_type": "stream",
     "text": [
      "Evaluating articles:  40%|████      | 2/5 [00:05<00:08,  2.70s/it]"
     ]
    },
    {
     "name": "stdout",
     "output_type": "stream",
     "text": [
      "id: 0704.0043\n"
     ]
    },
    {
     "name": "stderr",
     "output_type": "stream",
     "text": [
      "Evaluating articles:  60%|██████    | 3/5 [00:08<00:05,  2.76s/it]"
     ]
    },
    {
     "name": "stdout",
     "output_type": "stream",
     "text": [
      "id: 0704.0084\n"
     ]
    },
    {
     "name": "stderr",
     "output_type": "stream",
     "text": [
      "Evaluating articles:  80%|████████  | 4/5 [00:11<00:02,  2.94s/it]"
     ]
    },
    {
     "name": "stdout",
     "output_type": "stream",
     "text": [
      "id: 0704.0069\n"
     ]
    },
    {
     "name": "stderr",
     "output_type": "stream",
     "text": [
      "Evaluating articles: 100%|██████████| 5/5 [00:13<00:00,  2.78s/it]\n"
     ]
    },
    {
     "name": "stdout",
     "output_type": "stream",
     "text": [
      "id: 0704.0024\n",
      "          id                                              title  \\\n",
      "0  0704.0008  Numerical solution of shock and ramp compressi...   \n",
      "1  0704.0043  Nonequilibrium entropy limiters in lattice Bol...   \n",
      "2  0704.0084  Formation of density singularities in ideal hy...   \n",
      "3  0704.0069  Dynamical Objects for Cohomologically Expandin...   \n",
      "4  0704.0024  Formation of quasi-solitons in transverse conf...   \n",
      "\n",
      "                                            abstract  eval  \n",
      "0    A general formulation was developed to repre...     1  \n",
      "1    We construct a system of nonequilibrium entr...     1  \n",
      "2    We employ granular hydrodynamics to investig...     1  \n",
      "3    The goal of this paper is to construct invar...     0  \n",
      "4    The formation of quasi-2D spin-wave waveform...     0  \n"
     ]
    },
    {
     "name": "stderr",
     "output_type": "stream",
     "text": [
      "Evaluating articles:   0%|          | 0/5 [00:00<?, ?it/s]"
     ]
    },
    {
     "name": "stdout",
     "output_type": "stream",
     "text": [
      "Error when parsing feedback: Expecting value: line 1 column 1 (char 0)\n"
     ]
    },
    {
     "name": "stderr",
     "output_type": "stream",
     "text": [
      "Evaluating articles: 100%|██████████| 5/5 [00:32<00:00,  6.44s/it]\n"
     ]
    },
    {
     "name": "stdout",
     "output_type": "stream",
     "text": [
      "                                               title  \\\n",
      "0  Numerical solution of shock and ramp compressi...   \n",
      "1  Nonequilibrium entropy limiters in lattice Bol...   \n",
      "2  Formation of density singularities in ideal hy...   \n",
      "3  Dynamical Objects for Cohomologically Expandin...   \n",
      "4  Formation of quasi-solitons in transverse conf...   \n",
      "\n",
      "                                            abstract  eval  \n",
      "0    A general formulation was developed to repre...     3  \n",
      "1    We construct a system of nonequilibrium entr...     3  \n",
      "2    We employ granular hydrodynamics to investig...     1  \n",
      "3    The goal of this paper is to construct invar...     1  \n",
      "4    The formation of quasi-2D spin-wave waveform...     1  \n"
     ]
    },
    {
     "name": "stderr",
     "output_type": "stream",
     "text": [
      "Evaluating articles:  20%|██        | 1/5 [00:02<00:11,  2.83s/it]"
     ]
    },
    {
     "name": "stdout",
     "output_type": "stream",
     "text": [
      "id: 0704.0009\n"
     ]
    },
    {
     "name": "stderr",
     "output_type": "stream",
     "text": [
      "Evaluating articles:  40%|████      | 2/5 [00:05<00:08,  2.83s/it]"
     ]
    },
    {
     "name": "stdout",
     "output_type": "stream",
     "text": [
      "id: 0704.0069\n"
     ]
    },
    {
     "name": "stderr",
     "output_type": "stream",
     "text": [
      "Evaluating articles:  60%|██████    | 3/5 [00:08<00:05,  2.89s/it]"
     ]
    },
    {
     "name": "stdout",
     "output_type": "stream",
     "text": [
      "id: 0704.0041\n"
     ]
    },
    {
     "name": "stderr",
     "output_type": "stream",
     "text": [
      "Evaluating articles:  80%|████████  | 4/5 [00:10<00:02,  2.62s/it]"
     ]
    },
    {
     "name": "stdout",
     "output_type": "stream",
     "text": [
      "id: 0704.0080\n"
     ]
    },
    {
     "name": "stderr",
     "output_type": "stream",
     "text": [
      "Evaluating articles: 100%|██████████| 5/5 [00:13<00:00,  2.76s/it]\n"
     ]
    },
    {
     "name": "stdout",
     "output_type": "stream",
     "text": [
      "id: 0704.0100\n",
      "          id                                              title  \\\n",
      "0  0704.0009  The Spitzer c2d Survey of Large, Nearby, Inste...   \n",
      "1  0704.0069  Dynamical Objects for Cohomologically Expandin...   \n",
      "2  0704.0041  Quantum Group of Isometries in Classical and N...   \n",
      "3  0704.0080  Shaping the Globular Cluster Mass Function by ...   \n",
      "4  0704.0100                     Topology Change of Black Holes   \n",
      "\n",
      "                                            abstract  eval  \n",
      "0    We discuss the results from the combined IRA...     1  \n",
      "1    The goal of this paper is to construct invar...     0  \n",
      "2    We formulate a quantum generalization of the...     0  \n",
      "3    We show that the globular cluster mass funct...     0  \n",
      "4    The topological structure of the event horiz...     0  \n"
     ]
    },
    {
     "name": "stderr",
     "output_type": "stream",
     "text": [
      "Evaluating articles: 100%|██████████| 5/5 [00:28<00:00,  5.78s/it]\n"
     ]
    },
    {
     "name": "stdout",
     "output_type": "stream",
     "text": [
      "                                               title  \\\n",
      "0  The Spitzer c2d Survey of Large, Nearby, Inste...   \n",
      "1  Dynamical Objects for Cohomologically Expandin...   \n",
      "2  Quantum Group of Isometries in Classical and N...   \n",
      "3  Shaping the Globular Cluster Mass Function by ...   \n",
      "4                     Topology Change of Black Holes   \n",
      "\n",
      "                                            abstract  eval  \n",
      "0    We discuss the results from the combined IRA...     3  \n",
      "1    The goal of this paper is to construct invar...     0  \n",
      "2    We formulate a quantum generalization of the...     0  \n",
      "3    We show that the globular cluster mass funct...     0  \n",
      "4    The topological structure of the event horiz...     0  \n"
     ]
    },
    {
     "name": "stderr",
     "output_type": "stream",
     "text": [
      "Evaluating articles:  20%|██        | 1/5 [00:01<00:07,  1.89s/it]"
     ]
    },
    {
     "name": "stdout",
     "output_type": "stream",
     "text": [
      "id: 0704.0010\n"
     ]
    },
    {
     "name": "stderr",
     "output_type": "stream",
     "text": [
      "Evaluating articles:  40%|████      | 2/5 [00:04<00:07,  2.40s/it]"
     ]
    },
    {
     "name": "stdout",
     "output_type": "stream",
     "text": [
      "id: 0704.0002\n"
     ]
    },
    {
     "name": "stderr",
     "output_type": "stream",
     "text": [
      "Evaluating articles:  60%|██████    | 3/5 [00:07<00:05,  2.74s/it]"
     ]
    },
    {
     "name": "stdout",
     "output_type": "stream",
     "text": [
      "id: 0704.0052\n"
     ]
    },
    {
     "name": "stderr",
     "output_type": "stream",
     "text": [
      "Evaluating articles:  80%|████████  | 4/5 [00:10<00:02,  2.83s/it]"
     ]
    },
    {
     "name": "stdout",
     "output_type": "stream",
     "text": [
      "id: 0704.0087\n"
     ]
    },
    {
     "name": "stderr",
     "output_type": "stream",
     "text": [
      "Evaluating articles: 100%|██████████| 5/5 [00:12<00:00,  2.59s/it]\n"
     ]
    },
    {
     "name": "stdout",
     "output_type": "stream",
     "text": [
      "id: 0704.0097\n",
      "          id                                              title  \\\n",
      "0  0704.0010  Partial cubes: structures, characterizations, ...   \n",
      "1  0704.0002           Sparsity-certifying Graph Decompositions   \n",
      "2  0704.0052  Quantum Field Theory on Curved Backgrounds. II...   \n",
      "3  0704.0087  Approximate solutions to the Dirichlet problem...   \n",
      "4  0704.0097       Conformal Field Theory and Operator Algebras   \n",
      "\n",
      "                                            abstract  eval  \n",
      "0    Partial cubes are isometric subgraphs of hyp...     1  \n",
      "1    We describe a new algorithm, the $(k,\\ell)$-...     1  \n",
      "2    We study space-time symmetries in scalar qua...     0  \n",
      "3    Our main result in this paper is the followi...     0  \n",
      "4    We review recent progress in operator algebr...     0  \n"
     ]
    },
    {
     "name": "stderr",
     "output_type": "stream",
     "text": [
      "Evaluating articles:   0%|          | 0/5 [00:00<?, ?it/s]"
     ]
    },
    {
     "name": "stdout",
     "output_type": "stream",
     "text": [
      "Error when parsing feedback: Invalid \\escape: line 1 column 266 (char 265)\n",
      "Error when parsing feedback: Expecting value: line 1 column 1 (char 0)\n"
     ]
    },
    {
     "name": "stderr",
     "output_type": "stream",
     "text": [
      "Evaluating articles: 100%|██████████| 5/5 [00:37<00:00,  7.49s/it]"
     ]
    },
    {
     "name": "stdout",
     "output_type": "stream",
     "text": [
      "                                               title  \\\n",
      "0  Partial cubes: structures, characterizations, ...   \n",
      "1           Sparsity-certifying Graph Decompositions   \n",
      "2  Quantum Field Theory on Curved Backgrounds. II...   \n",
      "3  Approximate solutions to the Dirichlet problem...   \n",
      "4       Conformal Field Theory and Operator Algebras   \n",
      "\n",
      "                                            abstract  eval  \n",
      "0    Partial cubes are isometric subgraphs of hyp...     3  \n",
      "1    We describe a new algorithm, the $(k,\\ell)$-...     1  \n",
      "2    We study space-time symmetries in scalar qua...     0  \n",
      "3    Our main result in this paper is the followi...     1  \n",
      "4    We review recent progress in operator algebr...     0  \n"
     ]
    },
    {
     "name": "stderr",
     "output_type": "stream",
     "text": [
      "\n"
     ]
    },
    {
     "name": "stdout",
     "output_type": "stream",
     "text": [
      "76f19d6a576c\n",
      "abdc641f54d4\n",
      "c870ed76a2df\n",
      "454c00247a31\n",
      "4b414421b8a8\n",
      "458574697be5\n",
      "421df1fdaee9\n",
      "a28a62472faf\n",
      "91cf3800e4ba\n",
      "cc19e3046262\n",
      "bce785b59fb3\n"
     ]
    }
   ],
   "source": [
    "metrics_dict = {}\n",
    "idx = 0\n",
    "for name, search_engine in search_engines_dict.items():\n",
    "    if idx > 3:\n",
    "        break\n",
    "    print('running for ', name)\n",
    "    metrics = test_search_engine(search_engine, name)\n",
    "    metrics_dict[name] = metrics\n",
    "    idx+=1\n",
    "    !docker stop $(docker ps -a -q) "
   ]
  },
  {
   "cell_type": "code",
   "execution_count": 16,
   "metadata": {},
   "outputs": [
    {
     "data": {
      "text/plain": [
       "{'bm25_title_and_abstract': {'aps': {'0704.0001': 0.8333333333333333,\n",
       "   '0704.0002': 0.8333333333333333,\n",
       "   '0704.0003': 1.0,\n",
       "   '0704.0004': 1.0,\n",
       "   '0704.0005': 1.0,\n",
       "   '0704.0006': 1.0,\n",
       "   '0704.0007': 0.75,\n",
       "   '0704.0008': 1.0,\n",
       "   '0704.0009': 1.0,\n",
       "   '0704.0010': 1.0},\n",
       "  'ndcgs_levels': {'0704.0001': 1.0,\n",
       "   '0704.0002': 1.0,\n",
       "   '0704.0003': 1.0,\n",
       "   '0704.0004': 0.9567574534371579,\n",
       "   '0704.0005': 0.9609713628687518,\n",
       "   '0704.0006': 1.0,\n",
       "   '0704.0007': 0.9237991466948189,\n",
       "   '0704.0008': 1.0,\n",
       "   '0704.0009': 1.0,\n",
       "   '0704.0010': 0.9717271130121371},\n",
       "  'ndcgs_boolean': {'0704.0001': 0.8154648767857288,\n",
       "   '0704.0002': 0.8154648767857288,\n",
       "   '0704.0003': 1.0,\n",
       "   '0704.0004': 1.0,\n",
       "   '0704.0005': 1.0,\n",
       "   '0704.0006': 1.0,\n",
       "   '0704.0007': 0.75,\n",
       "   '0704.0008': 1.0,\n",
       "   '0704.0009': 1.0,\n",
       "   '0704.0010': 1.0}}}"
      ]
     },
     "execution_count": 16,
     "metadata": {},
     "output_type": "execute_result"
    }
   ],
   "source": [
    "metrics_dict"
   ]
  },
  {
   "cell_type": "code",
   "execution_count": null,
   "metadata": {},
   "outputs": [],
   "source": [
    "from sheets_connection import SaveMetrics\n",
    "\n",
    "save_metrics = SaveMetrics()\n",
    "\n",
    "save_metrics.append_metrics('ndcg_binary_map', df.T)"
   ]
  }
 ],
 "metadata": {
  "kernelspec": {
   "display_name": "proj",
   "language": "python",
   "name": "python3"
  },
  "language_info": {
   "codemirror_mode": {
    "name": "ipython",
    "version": 3
   },
   "file_extension": ".py",
   "mimetype": "text/x-python",
   "name": "python",
   "nbconvert_exporter": "python",
   "pygments_lexer": "ipython3",
   "version": "3.10.12"
  }
 },
 "nbformat": 4,
 "nbformat_minor": 2
}
