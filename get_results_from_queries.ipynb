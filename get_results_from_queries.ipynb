{
 "cells": [
  {
   "cell_type": "code",
   "execution_count": 1,
   "metadata": {},
   "outputs": [
    {
     "name": "stderr",
     "output_type": "stream",
     "text": [
      "/home/gabriel/.virtualenvs/proj/lib/python3.10/site-packages/tqdm/auto.py:21: TqdmWarning: IProgress not found. Please update jupyter and ipywidgets. See https://ipywidgets.readthedocs.io/en/stable/user_install.html\n",
      "  from .autonotebook import tqdm as notebook_tqdm\n",
      "Generating queries for articles:   0%|          | 0/100 [00:00<?, ?it/s]"
     ]
    },
    {
     "name": "stdout",
     "output_type": "stream",
     "text": [
      "Article: Calculation of prompt diphoton production cross sections at Tevatron and\n",
      "  LHC energies\n",
      "Query: \"differential calculation of diphoton production cross sections at hadron colliders with nlo qcd corrections\"\n"
     ]
    },
    {
     "name": "stderr",
     "output_type": "stream",
     "text": [
      "Generating queries for articles:   1%|          | 1/100 [00:03<05:05,  3.08s/it]"
     ]
    },
    {
     "name": "stdout",
     "output_type": "stream",
     "text": [
      "Article: Sparsity-certifying Graph Decompositions\n",
      "Query: (graph decomposition or tree decomposition) and (sparse graphs or sparsity certification) and (algorithm or pebble game)\n"
     ]
    },
    {
     "name": "stderr",
     "output_type": "stream",
     "text": [
      "Generating queries for articles:   2%|▏         | 2/100 [00:05<04:28,  2.73s/it]"
     ]
    },
    {
     "name": "stdout",
     "output_type": "stream",
     "text": [
      "Article: The evolution of the Earth-Moon system based on the dark matter field\n",
      "  fluid model\n",
      "Query: \"dark matter influence on earth moon orbit evolution\"\n"
     ]
    },
    {
     "name": "stderr",
     "output_type": "stream",
     "text": [
      "Generating queries for articles:   3%|▎         | 3/100 [00:08<04:32,  2.80s/it]"
     ]
    },
    {
     "name": "stdout",
     "output_type": "stream",
     "text": [
      "Article: A determinant of Stirling cycle numbers counts unlabeled acyclic\n",
      "  single-source automata\n",
      "Query: \"counting unlabeled single-source automata with stirling cycle numbers\"\n"
     ]
    },
    {
     "name": "stderr",
     "output_type": "stream",
     "text": [
      "Generating queries for articles:   4%|▍         | 4/100 [00:10<04:12,  2.63s/it]"
     ]
    },
    {
     "name": "stdout",
     "output_type": "stream",
     "text": [
      "Article: From dyadic $\\Lambda_{\\alpha}$ to $\\Lambda_{\\alpha}$\n",
      "Query: \"computing lambda alpha norm using dyadic grid\"\n"
     ]
    },
    {
     "name": "stderr",
     "output_type": "stream",
     "text": [
      "Generating queries for articles:   5%|▌         | 5/100 [00:13<04:13,  2.67s/it]"
     ]
    },
    {
     "name": "stdout",
     "output_type": "stream",
     "text": [
      "Article: Bosonic characters of atomic Cooper pairs across resonance\n",
      "Query: \"feshbach resonance effects on cooper pair wave function in fermi gas\"\n"
     ]
    },
    {
     "name": "stderr",
     "output_type": "stream",
     "text": [
      "Generating queries for articles:   6%|▌         | 6/100 [00:16<04:04,  2.60s/it]"
     ]
    },
    {
     "name": "stdout",
     "output_type": "stream",
     "text": [
      "Article: Polymer Quantum Mechanics and its Continuum Limit\n",
      "Query: \"quantum mechanics alternatives in loop quantum cosmology\"\n"
     ]
    },
    {
     "name": "stderr",
     "output_type": "stream",
     "text": [
      "Generating queries for articles:   7%|▋         | 7/100 [00:18<03:58,  2.56s/it]"
     ]
    },
    {
     "name": "stdout",
     "output_type": "stream",
     "text": [
      "Article: Numerical solution of shock and ramp compression for general material\n",
      "  properties\n",
      "Query: \"numerical methods for shock compression simulation in materials science\"\n"
     ]
    },
    {
     "name": "stderr",
     "output_type": "stream",
     "text": [
      "Generating queries for articles:   8%|▊         | 8/100 [00:21<04:01,  2.63s/it]"
     ]
    },
    {
     "name": "stdout",
     "output_type": "stream",
     "text": [
      "Article: The Spitzer c2d Survey of Large, Nearby, Insterstellar Clouds. IX. The\n",
      "  Serpens YSO Population As Observed With IRAC and MIPS\n",
      "Query: \"spitzer survey of young stellar objects in the serpens star-forming region\"\n"
     ]
    },
    {
     "name": "stderr",
     "output_type": "stream",
     "text": [
      "Generating queries for articles:   9%|▉         | 9/100 [00:23<03:55,  2.59s/it]"
     ]
    },
    {
     "name": "stdout",
     "output_type": "stream",
     "text": [
      "Article: Partial cubes: structures, characterizations, and constructions\n",
      "Query: \"characterizing and constructing partial cubes using graph theory and hypercubes\"\n"
     ]
    },
    {
     "name": "stderr",
     "output_type": "stream",
     "text": [
      "Generating queries for articles:  10%|█         | 10/100 [00:26<03:51,  2.57s/it]"
     ]
    },
    {
     "name": "stdout",
     "output_type": "stream",
     "text": [
      "Article: Computing genus 2 Hilbert-Siegel modular forms over $\\Q(\\sqrt{5})$ via\n",
      "  the Jacquet-Langlands correspondence\n",
      "Query: computing hilbert siegel modular forms over real quadratic fields\n"
     ]
    },
    {
     "name": "stderr",
     "output_type": "stream",
     "text": [
      "Generating queries for articles:  11%|█         | 11/100 [00:28<03:43,  2.51s/it]"
     ]
    },
    {
     "name": "stdout",
     "output_type": "stream",
     "text": [
      "Article: Distribution of integral Fourier Coefficients of a Modular Form of Half\n",
      "  Integral Weight Modulo Primes\n",
      "Query: \"modular forms half integral weight distribution fourier coefficients modulo primes\"\n"
     ]
    },
    {
     "name": "stderr",
     "output_type": "stream",
     "text": [
      "Generating queries for articles:  12%|█▏        | 12/100 [00:31<03:43,  2.54s/it]"
     ]
    },
    {
     "name": "stdout",
     "output_type": "stream",
     "text": [
      "Article: $p$-adic Limit of Weakly Holomorphic Modular Forms of Half Integral\n",
      "  Weight\n",
      "Query: \"p-adic limit of modular forms of half integral weight on gamma_0(4n)\"\n"
     ]
    },
    {
     "name": "stderr",
     "output_type": "stream",
     "text": [
      "Generating queries for articles:  13%|█▎        | 13/100 [00:33<03:38,  2.51s/it]"
     ]
    },
    {
     "name": "stdout",
     "output_type": "stream",
     "text": [
      "Article: Iterated integral and the loop product\n",
      "Query: \"chen's iterated integrals and string topology\"\n"
     ]
    },
    {
     "name": "stderr",
     "output_type": "stream",
     "text": [
      "Generating queries for articles:  14%|█▍        | 14/100 [00:36<03:39,  2.56s/it]"
     ]
    },
    {
     "name": "stdout",
     "output_type": "stream",
     "text": [
      "Article: Fermionic superstring loop amplitudes in the pure spinor formalism\n",
      "Query: \"supersymmetric loop amplitudes calculation in pure spinor formalism\"\n"
     ]
    },
    {
     "name": "stderr",
     "output_type": "stream",
     "text": [
      "Generating queries for articles:  15%|█▌        | 15/100 [00:39<03:42,  2.62s/it]"
     ]
    },
    {
     "name": "stdout",
     "output_type": "stream",
     "text": [
      "Article: Lifetime of doubly charmed baryons\n",
      "Query: \"doubly charmed baryons lifetime prediction\"\n"
     ]
    },
    {
     "name": "stderr",
     "output_type": "stream",
     "text": [
      "Generating queries for articles:  16%|█▌        | 16/100 [00:41<03:34,  2.56s/it]"
     ]
    },
    {
     "name": "stdout",
     "output_type": "stream",
     "text": [
      "Article: Spectroscopic Observations of the Intermediate Polar EX Hydrae in\n",
      "  Quiescence\n",
      "Query: \"spin modulated radial velocities in intermediate polar ex hya\"\n"
     ]
    },
    {
     "name": "stderr",
     "output_type": "stream",
     "text": [
      "Generating queries for articles:  17%|█▋        | 17/100 [00:44<03:30,  2.54s/it]"
     ]
    },
    {
     "name": "stdout",
     "output_type": "stream",
     "text": [
      "Article: In quest of a generalized Callias index theorem\n",
      "Query: \"computing callias index with exponential regulator in even-dimensional space\"\n"
     ]
    },
    {
     "name": "stderr",
     "output_type": "stream",
     "text": [
      "Generating queries for articles:  18%|█▊        | 18/100 [00:46<03:26,  2.51s/it]"
     ]
    },
    {
     "name": "stdout",
     "output_type": "stream",
     "text": [
      "Article: Approximation for extinction probability of the contact process based on\n",
      "  the Gr\\\"obner basis\n",
      "Query: \"contact process extinction probability estimation methods\"\n"
     ]
    },
    {
     "name": "stderr",
     "output_type": "stream",
     "text": [
      "Generating queries for articles:  19%|█▉        | 19/100 [00:49<03:22,  2.50s/it]"
     ]
    },
    {
     "name": "stdout",
     "output_type": "stream",
     "text": [
      "Article: Measurement of the Hadronic Form Factor in D0 --> K- e+ nue Decays\n",
      "Query: \"d0 decay to ke nu branching ratio measurement\"\n"
     ]
    },
    {
     "name": "stderr",
     "output_type": "stream",
     "text": [
      "Generating queries for articles:  20%|██        | 20/100 [00:51<03:26,  2.58s/it]"
     ]
    },
    {
     "name": "stdout",
     "output_type": "stream",
     "text": [
      "Article: Molecular Synchronization Waves in Arrays of Allosterically Regulated\n",
      "  Enzymes\n",
      "Query: \"pattern formation in enzymatic reactions at high concentrations\"\n"
     ]
    },
    {
     "name": "stderr",
     "output_type": "stream",
     "text": [
      "Generating queries for articles:  21%|██        | 21/100 [00:54<03:19,  2.53s/it]"
     ]
    },
    {
     "name": "stdout",
     "output_type": "stream",
     "text": [
      "Article: Stochastic Lie group integrators\n",
      "Query: \"numerical methods for solving stochastic differential equations on manifolds using lie group integrators\"\n"
     ]
    },
    {
     "name": "stderr",
     "output_type": "stream",
     "text": [
      "Generating queries for articles:  22%|██▏       | 22/100 [00:56<03:18,  2.55s/it]"
     ]
    },
    {
     "name": "stdout",
     "output_type": "stream",
     "text": [
      "Article: ALMA as the ideal probe of the solar chromosphere\n",
      "Query: \"chromosphere dynamics millimeter wavelength observations\"\n"
     ]
    },
    {
     "name": "stderr",
     "output_type": "stream",
     "text": [
      "Generating queries for articles:  23%|██▎       | 23/100 [00:59<03:24,  2.66s/it]"
     ]
    },
    {
     "name": "stdout",
     "output_type": "stream",
     "text": [
      "Article: Formation of quasi-solitons in transverse confined ferromagnetic film\n",
      "  media\n",
      "Query: \"spin wave dynamics in confined ferromagnetic films\"\n"
     ]
    },
    {
     "name": "stderr",
     "output_type": "stream",
     "text": [
      "Generating queries for articles:  24%|██▍       | 24/100 [01:02<03:16,  2.59s/it]"
     ]
    },
    {
     "name": "stdout",
     "output_type": "stream",
     "text": [
      "Article: Spectroscopic Properties of Polarons in Strongly Correlated Systems by\n",
      "  Exact Diagrammatic Monte Carlo Method\n",
      "Query: \"electron-phonon systems spectroscopic properties using diagrammatic monte carlo method\"\n"
     ]
    },
    {
     "name": "stderr",
     "output_type": "stream",
     "text": [
      "Generating queries for articles:  25%|██▌       | 25/100 [01:04<03:15,  2.61s/it]"
     ]
    },
    {
     "name": "stdout",
     "output_type": "stream",
     "text": [
      "Article: Placeholder Substructures II: Meta-Fractals, Made of Box-Kites, Fill\n",
      "  Infinite-Dimensional Skies\n",
      "Query: \"cayley-dickson process fractals dimensional infinite networks\"\n"
     ]
    },
    {
     "name": "stderr",
     "output_type": "stream",
     "text": [
      "Generating queries for articles:  26%|██▌       | 26/100 [01:07<03:09,  2.56s/it]"
     ]
    },
    {
     "name": "stdout",
     "output_type": "stream",
     "text": [
      "Article: Filling-Factor-Dependent Magnetophonon Resonance in Graphene\n",
      "Query: \"electron phonon coupling in graphene under high magnetic fields\"\n"
     ]
    },
    {
     "name": "stderr",
     "output_type": "stream",
     "text": [
      "Generating queries for articles:  27%|██▋       | 27/100 [01:09<03:07,  2.57s/it]"
     ]
    },
    {
     "name": "stdout",
     "output_type": "stream",
     "text": [
      "Article: Pfaffians, hafnians and products of real linear functionals\n",
      "Query: \"pfaffian and hafnian inequalities for positive semi-definite matrices\"\n"
     ]
    },
    {
     "name": "stderr",
     "output_type": "stream",
     "text": [
      "Generating queries for articles:  28%|██▊       | 28/100 [01:12<03:07,  2.60s/it]"
     ]
    },
    {
     "name": "stdout",
     "output_type": "stream",
     "text": [
      "Article: Understanding the Flavor Symmetry Breaking and Nucleon Flavor-Spin\n",
      "  Structure within Chiral Quark Model\n",
      "Query: \"goldstone boson emission and flavor symmetry breaking in nucleon structure within chiral quark models\"\n"
     ]
    },
    {
     "name": "stderr",
     "output_type": "stream",
     "text": [
      "Generating queries for articles:  29%|██▉       | 29/100 [01:14<03:01,  2.55s/it]"
     ]
    },
    {
     "name": "stdout",
     "output_type": "stream",
     "text": [
      "Article: Tuning correlation effects with electron-phonon interactions\n",
      "Query: \"electron-phonon interactions and correlation effects in dmft models\"\n"
     ]
    },
    {
     "name": "stderr",
     "output_type": "stream",
     "text": [
      "Generating queries for articles:  30%|███       | 30/100 [01:17<02:58,  2.55s/it]"
     ]
    },
    {
     "name": "stdout",
     "output_type": "stream",
     "text": [
      "Article: Crystal channeling of LHC forward protons with preserved distribution in\n",
      "  phase space\n",
      "Query: \"crystal channeling for efficient detection of forward protons in high-energy particle collisions\"\n"
     ]
    },
    {
     "name": "stderr",
     "output_type": "stream",
     "text": [
      "Generating queries for articles:  31%|███       | 31/100 [01:19<02:53,  2.52s/it]"
     ]
    },
    {
     "name": "stdout",
     "output_type": "stream",
     "text": [
      "Article: Probing non-standard neutrino interactions with supernova neutrinos\n",
      "Query: \"supernova neutrinos non-standard interactions detection methods\"\n"
     ]
    },
    {
     "name": "stderr",
     "output_type": "stream",
     "text": [
      "Generating queries for articles:  32%|███▏      | 32/100 [01:22<02:51,  2.52s/it]"
     ]
    },
    {
     "name": "stdout",
     "output_type": "stream",
     "text": [
      "Article: Convergence of the discrete dipole approximation. I. Theoretical\n",
      "  analysis\n",
      "Query: \"convergence of discrete dipole approximation for scatterers of different shapes\"\n"
     ]
    },
    {
     "name": "stderr",
     "output_type": "stream",
     "text": [
      "Generating queries for articles:  33%|███▎      | 33/100 [01:24<02:47,  2.51s/it]"
     ]
    },
    {
     "name": "stdout",
     "output_type": "stream",
     "text": [
      "Article: Origin of adaptive mutants: a quantum measurement?\n",
      "Query: \"1990 nature correspondence on adaptive mutants and quantum measurement\"\n"
     ]
    },
    {
     "name": "stderr",
     "output_type": "stream",
     "text": [
      "Generating queries for articles:  34%|███▍      | 34/100 [01:27<02:49,  2.56s/it]"
     ]
    },
    {
     "name": "stdout",
     "output_type": "stream",
     "text": [
      "Article: Convergence of the discrete dipole approximation. II. An extrapolation\n",
      "  technique to increase the accuracy\n",
      "Query: \"improving accuracy of discrete dipole approximation with extrapolation techniques\"\n"
     ]
    },
    {
     "name": "stderr",
     "output_type": "stream",
     "text": [
      "Generating queries for articles:  35%|███▌      | 35/100 [01:30<02:46,  2.55s/it]"
     ]
    },
    {
     "name": "stdout",
     "output_type": "stream",
     "text": [
      "Article: A remark on the number of steady states in a multiple futile cycle\n",
      "Query: \"phosphorylation-dephosphorylation cycle steady states in cell signaling\"\n"
     ]
    },
    {
     "name": "stderr",
     "output_type": "stream",
     "text": [
      "Generating queries for articles:  36%|███▌      | 36/100 [01:32<02:46,  2.60s/it]"
     ]
    },
    {
     "name": "stdout",
     "output_type": "stream",
     "text": [
      "Article: The discrete dipole approximation for simulation of light scattering by\n",
      "  particles much larger than the wavelength\n",
      "Query: \"light scattering simulation by large particles using discrete dipole approximation\"\n"
     ]
    },
    {
     "name": "stderr",
     "output_type": "stream",
     "text": [
      "Generating queries for articles:  37%|███▋      | 37/100 [01:35<02:49,  2.69s/it]"
     ]
    },
    {
     "name": "stdout",
     "output_type": "stream",
     "text": [
      "Article: The discrete dipole approximation: an overview and recent developments\n",
      "Query: \"light scattering simulation methods for arbitrarily shaped particles\"\n"
     ]
    },
    {
     "name": "stderr",
     "output_type": "stream",
     "text": [
      "Generating queries for articles:  38%|███▊      | 38/100 [01:38<02:40,  2.60s/it]"
     ]
    },
    {
     "name": "stdout",
     "output_type": "stream",
     "text": [
      "Article: Scalar radius of the pion and zeros in the form factor\n",
      "Query: \"pion scalar radius calculation methods and form factor zeros\"\n"
     ]
    },
    {
     "name": "stderr",
     "output_type": "stream",
     "text": [
      "Generating queries for articles:  39%|███▉      | 39/100 [01:40<02:41,  2.65s/it]"
     ]
    },
    {
     "name": "stdout",
     "output_type": "stream",
     "text": [
      "Article: Multilinear function series in conditionally free probability with\n",
      "  amalgamation\n",
      "Query: \"conditional freeness in probability theory with amalgamation\"\n"
     ]
    },
    {
     "name": "stderr",
     "output_type": "stream",
     "text": [
      "Generating queries for articles:  40%|████      | 40/100 [01:43<02:44,  2.74s/it]"
     ]
    },
    {
     "name": "stdout",
     "output_type": "stream",
     "text": [
      "Article: Quantum Group of Isometries in Classical and Noncommutative Geometry\n",
      "Query: \"compact quantum groups acting on riemannian manifolds\"\n"
     ]
    },
    {
     "name": "stderr",
     "output_type": "stream",
     "text": [
      "Generating queries for articles:  41%|████      | 41/100 [01:46<02:40,  2.73s/it]"
     ]
    },
    {
     "name": "stdout",
     "output_type": "stream",
     "text": [
      "Article: General System theory, Like-Quantum Semantics and Fuzzy Sets\n",
      "Query: \"extending quantum formalism using fuzzy sets for general systems theory applications\"\n"
     ]
    },
    {
     "name": "stderr",
     "output_type": "stream",
     "text": [
      "Generating queries for articles:  42%|████▏     | 42/100 [01:49<02:35,  2.68s/it]"
     ]
    },
    {
     "name": "stdout",
     "output_type": "stream",
     "text": [
      "Article: Nonequilibrium entropy limiters in lattice Boltzmann methods\n",
      "Query: \"lattice boltzmann methods nonequilibrium entropy limiters oscillation removal\"\n"
     ]
    },
    {
     "name": "stderr",
     "output_type": "stream",
     "text": [
      "Generating queries for articles:  43%|████▎     | 43/100 [01:51<02:28,  2.61s/it]"
     ]
    },
    {
     "name": "stdout",
     "output_type": "stream",
     "text": [
      "Article: Astrophysical gyrokinetics: kinetic and fluid turbulent cascades in\n",
      "  magnetized weakly collisional plasmas\n",
      "Query: \"turbulence in magnetized plasmas in astrophysical contexts\"\n"
     ]
    },
    {
     "name": "stderr",
     "output_type": "stream",
     "text": [
      "Generating queries for articles:  44%|████▍     | 44/100 [01:54<02:29,  2.68s/it]"
     ]
    },
    {
     "name": "stdout",
     "output_type": "stream",
     "text": [
      "Article: Evolution of solitary waves and undular bores in shallow-water flows\n",
      "  over a gradual slope with bottom friction\n",
      "Query: \"shallow water wave propagation over gradual slopes with frictional effects\"\n"
     ]
    },
    {
     "name": "stderr",
     "output_type": "stream",
     "text": [
      "Generating queries for articles:  45%|████▌     | 45/100 [01:57<02:28,  2.70s/it]"
     ]
    },
    {
     "name": "stdout",
     "output_type": "stream",
     "text": [
      "Article: A limit relation for entropy and channel capacity per unit cost\n",
      "Query: \"quantum entropy limit and channel capacity per unit cost\"\n"
     ]
    },
    {
     "name": "stderr",
     "output_type": "stream",
     "text": [
      "Generating queries for articles:  46%|████▌     | 46/100 [01:59<02:22,  2.63s/it]"
     ]
    },
    {
     "name": "stdout",
     "output_type": "stream",
     "text": [
      "Article: Intelligent location of simultaneously active acoustic emission sources:\n",
      "  Part I\n",
      "Query: \"acoustic emission source location methods for non-destructive testing of aircraft structures\"\n"
     ]
    },
    {
     "name": "stderr",
     "output_type": "stream",
     "text": [
      "Generating queries for articles:  47%|████▋     | 47/100 [02:02<02:16,  2.57s/it]"
     ]
    },
    {
     "name": "stdout",
     "output_type": "stream",
     "text": [
      "Article: Inference on white dwarf binary systems using the first round Mock LISA\n",
      "  Data Challenges data sets\n",
      "Query: \"lisa data challenges white dwarf binary signal detection and parameter estimation\"\n"
     ]
    },
    {
     "name": "stderr",
     "output_type": "stream",
     "text": [
      "Generating queries for articles:  48%|████▊     | 48/100 [02:04<02:11,  2.53s/it]"
     ]
    },
    {
     "name": "stdout",
     "output_type": "stream",
     "text": [
      "Article: An algorithm for the classification of smooth Fano polytopes\n",
      "Query: \"algorithm for classifying fano polytopes by dimension\"\n"
     ]
    },
    {
     "name": "stderr",
     "output_type": "stream",
     "text": [
      "Generating queries for articles:  49%|████▉     | 49/100 [02:06<02:07,  2.51s/it]"
     ]
    },
    {
     "name": "stdout",
     "output_type": "stream",
     "text": [
      "Article: Intelligent location of simultaneously active acoustic emission sources:\n",
      "  Part II\n",
      "Query: \"locating multiple acoustic emission sources using blind source separation\"\n"
     ]
    },
    {
     "name": "stderr",
     "output_type": "stream",
     "text": [
      "Generating queries for articles:  50%|█████     | 50/100 [02:09<02:03,  2.48s/it]"
     ]
    },
    {
     "name": "stdout",
     "output_type": "stream",
     "text": [
      "Article: Visualizing Teleportation\n",
      "Query: \"simple explanations of quantum teleportation for non-scientists\"\n"
     ]
    },
    {
     "name": "stderr",
     "output_type": "stream",
     "text": [
      "Generating queries for articles:  51%|█████     | 51/100 [02:11<02:01,  2.48s/it]"
     ]
    },
    {
     "name": "stdout",
     "output_type": "stream",
     "text": [
      "Article: Quantum Field Theory on Curved Backgrounds. II. Spacetime Symmetries\n",
      "Query: quantum field theory on curved spacetime manifolds with symmetries\n"
     ]
    },
    {
     "name": "stderr",
     "output_type": "stream",
     "text": [
      "Generating queries for articles:  52%|█████▏    | 52/100 [02:14<02:02,  2.55s/it]"
     ]
    },
    {
     "name": "stdout",
     "output_type": "stream",
     "text": [
      "Article: A Global Approach to the Theory of Special Finsler Manifolds\n",
      "Query: \"global theory of special finsler manifolds classification and properties\"\n"
     ]
    },
    {
     "name": "stderr",
     "output_type": "stream",
     "text": [
      "Generating queries for articles:  53%|█████▎    | 53/100 [02:17<01:59,  2.54s/it]"
     ]
    },
    {
     "name": "stdout",
     "output_type": "stream",
     "text": [
      "Article: The Hardy-Lorentz Spaces $H^{p,q}(R^n)$\n",
      "Query: \"hardy-lorentz spaces properties and operators on r^n\"\n"
     ]
    },
    {
     "name": "stderr",
     "output_type": "stream",
     "text": [
      "Generating queries for articles:  54%|█████▍    | 54/100 [02:19<01:54,  2.49s/it]"
     ]
    },
    {
     "name": "stdout",
     "output_type": "stream",
     "text": [
      "Article: Potassium intercalation in graphite: A van der Waals density-functional\n",
      "  study\n",
      "Query: \"van der waals density functional theory potassium intercalation graphite\"\n"
     ]
    },
    {
     "name": "stderr",
     "output_type": "stream",
     "text": [
      "Generating queries for articles:  55%|█████▌    | 55/100 [02:22<01:54,  2.55s/it]"
     ]
    },
    {
     "name": "stdout",
     "output_type": "stream",
     "text": [
      "Article: Phase diagram of Gaussian-core nematics\n",
      "Query: \"nematic liquid crystal phase diagram gaussian potential\"\n"
     ]
    },
    {
     "name": "stderr",
     "output_type": "stream",
     "text": [
      "Generating queries for articles:  56%|█████▌    | 56/100 [02:24<01:54,  2.59s/it]"
     ]
    },
    {
     "name": "stdout",
     "output_type": "stream",
     "text": [
      "Article: High-spin to low-spin and orbital polarization transitions in\n",
      "  multiorbital Mott systems\n",
      "Query: \"mott insulator phase transitions in multiorbital systems with crystal field splitting and hund coupling\"\n"
     ]
    },
    {
     "name": "stderr",
     "output_type": "stream",
     "text": [
      "Generating queries for articles:  57%|█████▋    | 57/100 [02:27<01:49,  2.56s/it]"
     ]
    },
    {
     "name": "stdout",
     "output_type": "stream",
     "text": [
      "Article: Intelligent Life in Cosmology\n",
      "Query: \"arguments for the rarity of intelligent life in the universe\"\n"
     ]
    },
    {
     "name": "stderr",
     "output_type": "stream",
     "text": [
      "Generating queries for articles:  58%|█████▊    | 58/100 [02:29<01:48,  2.59s/it]"
     ]
    },
    {
     "name": "stdout",
     "output_type": "stream",
     "text": [
      "Article: The Mass and Radius of the Unseen M-Dwarf Companion in the Single-Lined\n",
      "  Eclipsing Binary HAT-TR-205-013\n",
      "Query: \"mass and radius of m-dwarf companion in eclipsing binary system\"\n"
     ]
    },
    {
     "name": "stderr",
     "output_type": "stream",
     "text": [
      "Generating queries for articles:  59%|█████▉    | 59/100 [02:32<01:51,  2.71s/it]"
     ]
    },
    {
     "name": "stdout",
     "output_type": "stream",
     "text": [
      "Article: Coulomb excitation of unstable nuclei at intermediate energies\n",
      "Query: \"coulomb excitation of unstable nuclei at low to intermediate beam energies\"\n"
     ]
    },
    {
     "name": "stderr",
     "output_type": "stream",
     "text": [
      "Generating queries for articles:  60%|██████    | 60/100 [02:35<01:44,  2.62s/it]"
     ]
    },
    {
     "name": "stdout",
     "output_type": "stream",
     "text": [
      "Article: Intersection Bodies and Generalized Cosine Transforms\n",
      "Query: \"geometric applications of generalized cosine transforms and radon transforms\"\n"
     ]
    },
    {
     "name": "stderr",
     "output_type": "stream",
     "text": [
      "Generating queries for articles:  61%|██████    | 61/100 [02:38<01:46,  2.72s/it]"
     ]
    },
    {
     "name": "stdout",
     "output_type": "stream",
     "text": [
      "Article: On-line Viterbi Algorithm and Its Relationship to Random Walks\n",
      "Query: \"efficient decoding algorithms for hidden markov models in limited memory\"\n"
     ]
    },
    {
     "name": "stderr",
     "output_type": "stream",
     "text": [
      "Generating queries for articles:  62%|██████▏   | 62/100 [02:40<01:42,  2.70s/it]"
     ]
    },
    {
     "name": "stdout",
     "output_type": "stream",
     "text": [
      "Article: Experimental efforts in search of 76Ge Neutrinoless Double Beta Decay\n",
      "Query: \"experiments searching for neutrinoless double beta decay in germanium 76\"\n"
     ]
    },
    {
     "name": "stderr",
     "output_type": "stream",
     "text": [
      "Generating queries for articles:  63%|██████▎   | 63/100 [02:43<01:36,  2.62s/it]"
     ]
    },
    {
     "name": "stdout",
     "output_type": "stream",
     "text": [
      "Article: Nilpotent symmetry invariance in the superfield formulation: the\n",
      "  (non-)Abelian 1-form gauge theories\n",
      "Query: \"brst symmetry invariance in superfield formulation of 4d non-abelian 1-form gauge theories\"\n"
     ]
    },
    {
     "name": "stderr",
     "output_type": "stream",
     "text": [
      "Generating queries for articles:  64%|██████▍   | 64/100 [02:45<01:33,  2.60s/it]"
     ]
    },
    {
     "name": "stdout",
     "output_type": "stream",
     "text": [
      "Article: Littlewood-Richardson polynomials\n",
      "Query: \"symmetric function rings and combinatorial calculation of littlewood-richardson polynomials in algebraic geometry\"\n"
     ]
    },
    {
     "name": "stderr",
     "output_type": "stream",
     "text": [
      "Generating queries for articles:  65%|██████▌   | 65/100 [02:48<01:30,  2.58s/it]"
     ]
    },
    {
     "name": "stdout",
     "output_type": "stream",
     "text": [
      "Article: Lagrangian quantum field theory in momentum picture. IV. Commutation\n",
      "  relations for free fields\n",
      "Query: \"commutation relations in lagrangian quantum field theory for free fields\"\n"
     ]
    },
    {
     "name": "stderr",
     "output_type": "stream",
     "text": [
      "Generating queries for articles:  66%|██████▌   | 66/100 [02:50<01:26,  2.56s/it]"
     ]
    },
    {
     "name": "stdout",
     "output_type": "stream",
     "text": [
      "Article: Order of Epitaxial Self-Assembled Quantum Dots: Linear Analysis\n",
      "Query: \"quantum dot spatial order and correlation lengths in epitaxial self-assembly\"\n"
     ]
    },
    {
     "name": "stderr",
     "output_type": "stream",
     "text": [
      "Generating queries for articles:  67%|██████▋   | 67/100 [02:53<01:23,  2.52s/it]"
     ]
    },
    {
     "name": "stdout",
     "output_type": "stream",
     "text": [
      "Article: A Note About the {Ki(z)} Functions\n",
      "Query: \"alternate proofs of kurepa's left factorial function properties\"\n"
     ]
    },
    {
     "name": "stderr",
     "output_type": "stream",
     "text": [
      "Generating queries for articles:  68%|██████▊   | 68/100 [02:55<01:19,  2.49s/it]"
     ]
    },
    {
     "name": "stdout",
     "output_type": "stream",
     "text": [
      "Article: Dynamical Objects for Cohomologically Expanding Maps\n",
      "Query: \"constructing invariant dynamical objects for smooth self-maps of compact manifolds using cohomological sequences\"\n"
     ]
    },
    {
     "name": "stderr",
     "output_type": "stream",
     "text": [
      "Generating queries for articles:  69%|██████▉   | 69/100 [02:58<01:22,  2.66s/it]"
     ]
    },
    {
     "name": "stdout",
     "output_type": "stream",
     "text": [
      "Article: Coincidence of the oscillations in the dipole transition and in the\n",
      "  persistent current of narrow quantum rings with two electrons\n",
      "Query: \"quantum rings with two electrons aharonov-bohm oscillation and dipole transition\"\n"
     ]
    },
    {
     "name": "stderr",
     "output_type": "stream",
     "text": [
      "Generating queries for articles:  70%|███████   | 70/100 [03:01<01:21,  2.71s/it]"
     ]
    },
    {
     "name": "stdout",
     "output_type": "stream",
     "text": [
      "Article: Pairwise comparisons of typological profiles (of languages)\n",
      "Query: \"comparing language structures across languages\"\n"
     ]
    },
    {
     "name": "stderr",
     "output_type": "stream",
     "text": [
      "Generating queries for articles:  71%|███████   | 71/100 [03:04<01:18,  2.70s/it]"
     ]
    },
    {
     "name": "stdout",
     "output_type": "stream",
     "text": [
      "Article: The decomposition method and Maple procedure for finding first integrals\n",
      "  of nonlinear PDEs of any order with any number of independent variables\n",
      "Query: \"methods for solving nonlinear partial differential equations of arbitrary order with multiple independent variables\"\n"
     ]
    },
    {
     "name": "stderr",
     "output_type": "stream",
     "text": [
      "Generating queries for articles:  72%|███████▏  | 72/100 [03:07<01:19,  2.85s/it]"
     ]
    },
    {
     "name": "stdout",
     "output_type": "stream",
     "text": [
      "Article: A transcendental approach to Koll\\'ar's injectivity theorem\n",
      "Query: \"differential geometric approach to kollár's injectivity theorem on kähler manifolds\"\n"
     ]
    },
    {
     "name": "stderr",
     "output_type": "stream",
     "text": [
      "Generating queries for articles:  73%|███████▎  | 73/100 [03:10<01:15,  2.81s/it]"
     ]
    },
    {
     "name": "stdout",
     "output_type": "stream",
     "text": [
      "Article: Injective Morita contexts (revisited)\n",
      "Query: \"morita contexts and injective bimodule morphisms in ring theory\"\n"
     ]
    },
    {
     "name": "stderr",
     "output_type": "stream",
     "text": [
      "Generating queries for articles:  74%|███████▍  | 74/100 [03:13<01:14,  2.88s/it]"
     ]
    },
    {
     "name": "stdout",
     "output_type": "stream",
     "text": [
      "Article: Strong decays of charmed baryons\n",
      "Query: \"charmed baryon decays experimental results and theoretical models\"\n"
     ]
    },
    {
     "name": "stderr",
     "output_type": "stream",
     "text": [
      "Generating queries for articles:  75%|███████▌  | 75/100 [03:15<01:08,  2.76s/it]"
     ]
    },
    {
     "name": "stdout",
     "output_type": "stream",
     "text": [
      "Article: CP violation in beauty decays\n",
      "Query: \"alternative sources of cp violation in particle physics\"\n"
     ]
    },
    {
     "name": "stderr",
     "output_type": "stream",
     "text": [
      "Generating queries for articles:  76%|███████▌  | 76/100 [03:18<01:05,  2.73s/it]"
     ]
    },
    {
     "name": "stdout",
     "output_type": "stream",
     "text": [
      "Article: Universal Forces and the Dark Energy Problem\n",
      "Query: \"novel approaches to resolving the dark energy problem through revisions to general relativity\"\n"
     ]
    },
    {
     "name": "stderr",
     "output_type": "stream",
     "text": [
      "Generating queries for articles:  77%|███████▋  | 77/100 [03:20<01:00,  2.64s/it]"
     ]
    },
    {
     "name": "stdout",
     "output_type": "stream",
     "text": [
      "Article: Linear perturbations of matched spacetimes: the gauge problem and\n",
      "  background symmetries\n",
      "Query: \"gauge invariance in linear perturbations of matched spacetimes with background symmetries\"\n"
     ]
    },
    {
     "name": "stderr",
     "output_type": "stream",
     "text": [
      "Generating queries for articles:  78%|███████▊  | 78/100 [03:23<00:57,  2.62s/it]"
     ]
    },
    {
     "name": "stdout",
     "output_type": "stream",
     "text": [
      "Article: Operator algebras associated with unitary commutation relations\n",
      "Query: \"unitary commutation relations and non-self-adjoint operator algebras\"\n"
     ]
    },
    {
     "name": "stderr",
     "output_type": "stream",
     "text": [
      "Generating queries for articles:  79%|███████▉  | 79/100 [03:25<00:54,  2.58s/it]"
     ]
    },
    {
     "name": "stdout",
     "output_type": "stream",
     "text": [
      "Article: Shaping the Globular Cluster Mass Function by Stellar-Dynamical\n",
      "  Evaporation\n",
      "Query: what determines the shape of the globular cluster mass function in the milky way?\n"
     ]
    },
    {
     "name": "stderr",
     "output_type": "stream",
     "text": [
      "Generating queries for articles:  80%|████████  | 80/100 [03:28<00:50,  2.55s/it]"
     ]
    },
    {
     "name": "stdout",
     "output_type": "stream",
     "text": [
      "Article: Quantum Deformations of Relativistic Symmetries\n",
      "Query: \"quantum deformations of lorentz and poincare algebras\"\n"
     ]
    },
    {
     "name": "stderr",
     "output_type": "stream",
     "text": [
      "Generating queries for articles:  81%|████████  | 81/100 [03:30<00:47,  2.52s/it]"
     ]
    },
    {
     "name": "stdout",
     "output_type": "stream",
     "text": [
      "Article: Matter-Wave Bright Solitons with a Finite Background in Spinor\n",
      "  Bose-Einstein Condensates\n",
      "Query: here is a search query based on the content of the article:\n",
      "\n",
      "\"bright solitons in spin-1 bose-einstein condensates with nonvanishing boundary conditions\"\n"
     ]
    },
    {
     "name": "stderr",
     "output_type": "stream",
     "text": [
      "Generating queries for articles:  82%|████████▏ | 82/100 [03:33<00:46,  2.59s/it]"
     ]
    },
    {
     "name": "stdout",
     "output_type": "stream",
     "text": [
      "Article: Why there is something rather than nothing (out of everything)?\n",
      "Query: \"quantum cosmology uniform distribution complex saddle-points cosmological instantons\"\n"
     ]
    },
    {
     "name": "stderr",
     "output_type": "stream",
     "text": [
      "Generating queries for articles:  83%|████████▎ | 83/100 [03:36<00:43,  2.54s/it]"
     ]
    },
    {
     "name": "stdout",
     "output_type": "stream",
     "text": [
      "Article: Formation of density singularities in ideal hydrodynamics of freely\n",
      "  cooling inelastic gases: a family of exact solutions\n",
      "Query: here is a search query based on the content of the article:\n",
      "\n",
      "\"exact solutions for density singularities in ideal granular gas dynamics\"\n"
     ]
    },
    {
     "name": "stderr",
     "output_type": "stream",
     "text": [
      "Generating queries for articles:  84%|████████▍ | 84/100 [03:38<00:41,  2.59s/it]"
     ]
    },
    {
     "name": "stdout",
     "output_type": "stream",
     "text": [
      "Article: A Universality in PP-Waves\n",
      "Query: \"universality property of field theories in pp-wave backgrounds\"\n"
     ]
    },
    {
     "name": "stderr",
     "output_type": "stream",
     "text": [
      "Generating queries for articles:  85%|████████▌ | 85/100 [03:41<00:38,  2.58s/it]"
     ]
    },
    {
     "name": "stdout",
     "output_type": "stream",
     "text": [
      "Article: Clustering in a stochastic model of one-dimensional gas\n",
      "Query: \"stochastic model of particle clustering in 1d systems\"\n"
     ]
    },
    {
     "name": "stderr",
     "output_type": "stream",
     "text": [
      "Generating queries for articles:  86%|████████▌ | 86/100 [03:43<00:35,  2.55s/it]"
     ]
    },
    {
     "name": "stdout",
     "output_type": "stream",
     "text": [
      "Article: Approximate solutions to the Dirichlet problem for harmonic maps between\n",
      "  hyperbolic spaces\n",
      "Query: harmonic maps between hyperbolic spaces with boundary values\n"
     ]
    },
    {
     "name": "stderr",
     "output_type": "stream",
     "text": [
      "Generating queries for articles:  87%|████████▋ | 87/100 [03:46<00:33,  2.57s/it]"
     ]
    },
    {
     "name": "stdout",
     "output_type": "stream",
     "text": [
      "Article: Some new experimental photonic flame effect features\n",
      "Query: \"laser-induced luminescence in artificial opals at low temperatures\"\n"
     ]
    },
    {
     "name": "stderr",
     "output_type": "stream",
     "text": [
      "Generating queries for articles:  88%|████████▊ | 88/100 [03:48<00:30,  2.53s/it]"
     ]
    },
    {
     "name": "stdout",
     "output_type": "stream",
     "text": [
      "Article: A general approach to statistical modeling of physical laws:\n",
      "  nonparametric regression\n",
      "Query: nonparametric regression methods for modeling physical laws from experimental data\n"
     ]
    },
    {
     "name": "stderr",
     "output_type": "stream",
     "text": [
      "Generating queries for articles:  89%|████████▉ | 89/100 [03:51<00:27,  2.49s/it]"
     ]
    },
    {
     "name": "stdout",
     "output_type": "stream",
     "text": [
      "Article: Real Options for Project Schedules (ROPS)\n",
      "Query: \"optimal project scheduling techniques using simulated annealing and probability distributions\"\n"
     ]
    },
    {
     "name": "stderr",
     "output_type": "stream",
     "text": [
      "Generating queries for articles:  90%|█████████ | 90/100 [03:54<00:27,  2.80s/it]"
     ]
    },
    {
     "name": "stdout",
     "output_type": "stream",
     "text": [
      "Article: Groups with finitely many conjugacy classes and their automorphisms\n",
      "Query: \"finitely generated groups with finitely many conjugacy classes and outer automorphisms\"\n"
     ]
    },
    {
     "name": "stderr",
     "output_type": "stream",
     "text": [
      "Generating queries for articles:  91%|█████████ | 91/100 [03:57<00:24,  2.74s/it]"
     ]
    },
    {
     "name": "stdout",
     "output_type": "stream",
     "text": [
      "Article: Energy density for chiral lattice fermions with chemical potential\n",
      "Query: \"computing energy density of overlap fermions at finite density and temperature\"\n"
     ]
    },
    {
     "name": "stderr",
     "output_type": "stream",
     "text": [
      "Generating queries for articles:  92%|█████████▏| 92/100 [04:00<00:21,  2.74s/it]"
     ]
    },
    {
     "name": "stdout",
     "output_type": "stream",
     "text": [
      "Article: Aspects of Electron-Phonon Self-Energy Revealed from Angle-Resolved\n",
      "  Photoemission Spectroscopy\n",
      "Query: electron phonon self energy in correlated oxides angle resolved photoemission\n"
     ]
    },
    {
     "name": "stderr",
     "output_type": "stream",
     "text": [
      "Generating queries for articles:  93%|█████████▎| 93/100 [04:02<00:18,  2.69s/it]"
     ]
    },
    {
     "name": "stdout",
     "output_type": "stream",
     "text": [
      "Article: Timing and Lensing of the Colliding Bullet Clusters: barely enough time\n",
      "  and gravity to accelerate the bullet\n",
      "Query: \"dark matter constraints in galaxy cluster collisions using lensing and timing arguments\"\n"
     ]
    },
    {
     "name": "stderr",
     "output_type": "stream",
     "text": [
      "Generating queries for articles:  94%|█████████▍| 94/100 [04:05<00:15,  2.64s/it]"
     ]
    },
    {
     "name": "stdout",
     "output_type": "stream",
     "text": [
      "Article: Geometry of Locally Compact Groups of Polynomial Growth and Shape of\n",
      "  Large Balls\n",
      "Query: \"asymptotics of volume of large balls in locally compact groups with polynomial growth\"\n"
     ]
    },
    {
     "name": "stderr",
     "output_type": "stream",
     "text": [
      "Generating queries for articles:  95%|█████████▌| 95/100 [04:07<00:12,  2.60s/it]"
     ]
    },
    {
     "name": "stdout",
     "output_type": "stream",
     "text": [
      "Article: Much ado about 248\n",
      "Query: \"lie algebra representations in ordinary differential equations\"\n"
     ]
    },
    {
     "name": "stderr",
     "output_type": "stream",
     "text": [
      "Generating queries for articles:  96%|█████████▌| 96/100 [04:10<00:10,  2.68s/it]"
     ]
    },
    {
     "name": "stdout",
     "output_type": "stream",
     "text": [
      "Article: Conformal Field Theory and Operator Algebras\n",
      "Query: conformal quantum field theory operator algebra approach\n"
     ]
    },
    {
     "name": "stderr",
     "output_type": "stream",
     "text": [
      "Generating queries for articles:  97%|█████████▋| 97/100 [04:13<00:07,  2.60s/it]"
     ]
    },
    {
     "name": "stdout",
     "output_type": "stream",
     "text": [
      "Article: Sparsely-spread CDMA - a statistical mechanics based analysis\n",
      "Query: \"statistical physics analysis of sparse cdma systems\"\n"
     ]
    },
    {
     "name": "stderr",
     "output_type": "stream",
     "text": [
      "Generating queries for articles:  98%|█████████▊| 98/100 [04:15<00:05,  2.60s/it]"
     ]
    },
    {
     "name": "stdout",
     "output_type": "stream",
     "text": [
      "Article: On Ando's inequalities for convex and concave functions\n",
      "Query: here is a search query based on the article's content:\n",
      "\n",
      "\"inequalities for convex and concave functions on positive semidefinite matrices\"\n"
     ]
    },
    {
     "name": "stderr",
     "output_type": "stream",
     "text": [
      "Generating queries for articles:  99%|█████████▉| 99/100 [04:18<00:02,  2.63s/it]"
     ]
    },
    {
     "name": "stdout",
     "output_type": "stream",
     "text": [
      "Article: Topology Change of Black Holes\n",
      "Query: black hole topology evolution handle attachment\n"
     ]
    },
    {
     "name": "stderr",
     "output_type": "stream",
     "text": [
      "Generating queries for articles: 100%|██████████| 100/100 [04:20<00:00,  2.61s/it]\n"
     ]
    },
    {
     "name": "stdout",
     "output_type": "stream",
     "text": [
      "\n",
      "\n",
      "\n",
      "Waiting for configuration server, 0/300 seconds...\n",
      "Waiting for configuration server, 5/300 seconds...\n",
      "Using plain http against endpoint http://localhost:8080/ApplicationStatus\n",
      "Waiting for application status, 0/300 seconds...\n",
      "Using plain http against endpoint http://localhost:8080/ApplicationStatus\n",
      "Waiting for application status, 5/300 seconds...\n",
      "Using plain http against endpoint http://localhost:8080/ApplicationStatus\n",
      "Waiting for application status, 10/300 seconds...\n",
      "Using plain http against endpoint http://localhost:8080/ApplicationStatus\n",
      "Application is up!\n",
      "Finished deployment.\n"
     ]
    },
    {
     "name": "stderr",
     "output_type": "stream",
     "text": [
      "Generating train split: 100 examples [00:00, 10580.99 examples/s]\n",
      "Map: 100%|██████████| 100/100 [00:00<00:00, 1668.11 examples/s]\n"
     ]
    }
   ],
   "source": [
    "from search_engine_versions.search_engine import SearchEngine\n",
    "from query_evaluator import evaluate_articles_boolean, evaluate_articles_levels\n",
    "from query_generator import generate_and_save_queries\n",
    "import numpy as np\n",
    "import pandas as pd\n",
    "import json\n",
    "\n",
    "\n",
    "# For queries gen\n",
    "# path = './app/data/example.json'\n",
    "# with open(path, 'r', encoding='utf-8') as f:\n",
    "#     data = f.readlines()\n",
    "#     data = [json.loads(line) for line in data]\n",
    "# generate_and_save_queries(data, num_queries=100, output_path='./app/data/queries.json')\n",
    "\n",
    "DATA_DIR = \"./app/data/\"\n",
    "DATA_FILES = [\"queries.json\"]\n",
    "SPLIT_SIZE_LIMIT = 100\n",
    "\n",
    "# local vespa\n",
    "search_engine = SearchEngine()\n",
    "search_engine.feed_json(DATA_DIR, DATA_FILES, SPLIT_SIZE_LIMIT)\n",
    "\n"
   ]
  },
  {
   "cell_type": "code",
   "execution_count": 2,
   "metadata": {},
   "outputs": [
    {
     "name": "stdout",
     "output_type": "stream",
     "text": [
      "Query: differential calculation of diphoton production cross sections at hadron colliders with nlo qcd corrections\n"
     ]
    },
    {
     "name": "stderr",
     "output_type": "stream",
     "text": [
      "Evaluating articles:  20%|██        | 1/5 [00:01<00:05,  1.29s/it]"
     ]
    },
    {
     "name": "stdout",
     "output_type": "stream",
     "text": [
      "id: 0704.0001\n",
      "Article 'Calculation of prompt diphoton production cross sections at Tevatron and\n",
      "  LHC energies' 0704.0001 evaluated as 1\n"
     ]
    },
    {
     "name": "stderr",
     "output_type": "stream",
     "text": [
      "Evaluating articles:  40%|████      | 2/5 [00:02<00:03,  1.14s/it]"
     ]
    },
    {
     "name": "stdout",
     "output_type": "stream",
     "text": [
      "id: 0704.0060\n",
      "Article 'Coulomb excitation of unstable nuclei at intermediate energies' 0704.0060 evaluated as 0\n"
     ]
    },
    {
     "name": "stderr",
     "output_type": "stream",
     "text": [
      "Evaluating articles:  60%|██████    | 3/5 [00:03<00:02,  1.07s/it]"
     ]
    },
    {
     "name": "stdout",
     "output_type": "stream",
     "text": [
      "id: 0704.0031\n",
      "Article 'Crystal channeling of LHC forward protons with preserved distribution in\n",
      "  phase space' 0704.0031 evaluated as 1\n"
     ]
    },
    {
     "name": "stderr",
     "output_type": "stream",
     "text": [
      "Evaluating articles:  80%|████████  | 4/5 [00:03<00:00,  1.11it/s]"
     ]
    },
    {
     "name": "stdout",
     "output_type": "stream",
     "text": [
      "id: 0704.0020\n",
      "Article 'Measurement of the Hadronic Form Factor in D0 --> K- e+ nue Decays' 0704.0020 evaluated as 0\n"
     ]
    },
    {
     "name": "stderr",
     "output_type": "stream",
     "text": [
      "Evaluating articles: 100%|██████████| 5/5 [00:04<00:00,  1.12it/s]\n"
     ]
    },
    {
     "name": "stdout",
     "output_type": "stream",
     "text": [
      "id: 0704.0006\n",
      "Article 'Bosonic characters of atomic Cooper pairs across resonance' 0704.0006 evaluated as 0\n",
      "          id                                              title  \\\n",
      "0  0704.0001  Calculation of prompt diphoton production cros...   \n",
      "1  0704.0060  Coulomb excitation of unstable nuclei at inter...   \n",
      "2  0704.0031  Crystal channeling of LHC forward protons with...   \n",
      "3  0704.0020  Measurement of the Hadronic Form Factor in D0 ...   \n",
      "4  0704.0006  Bosonic characters of atomic Cooper pairs acro...   \n",
      "\n",
      "                                            abstract  eval  \n",
      "0    A fully <hi>differential</hi> <hi>calculatio...     1  \n",
      "1    We investigate the Coulomb excitation <hi>of...     0  \n",
      "2    We show that crystal can trap a broad (x, x'...     1  \n",
      "3    The shape <hi>of</hi> the <hi>hadronic</hi> ...     0  \n",
      "4    We study the two-particle wave function <hi>...     0  \n",
      "Query: differential calculation of diphoton production cross sections at hadron colliders with nlo qcd corrections\n"
     ]
    },
    {
     "name": "stderr",
     "output_type": "stream",
     "text": [
      "Evaluating articles:  20%|██        | 1/5 [00:01<00:07,  1.95s/it]"
     ]
    },
    {
     "name": "stdout",
     "output_type": "stream",
     "text": [
      "Article: 'Calculation of prompt diphoton production cross sections at Tevatron and\n",
      "  LHC energies'\n",
      " Classification: {'explanation': \"i agree with the previous evaluation. the article's title and content precisely match the query, as it presents a differential calculation of diphoton production cross sections at hadron colliders, including nlo qcd corrections. the article's focus on perturbative quantum chromodynamics, gluon radiation, and predictions for tevatron and lhc energies also align perfectly with the query. the level of detail and specificity in the article ensure that it is completely relevant to the query.\", 'eval': 3}\n"
     ]
    },
    {
     "name": "stderr",
     "output_type": "stream",
     "text": [
      "Evaluating articles:  40%|████      | 2/5 [00:03<00:05,  1.87s/it]"
     ]
    },
    {
     "name": "stdout",
     "output_type": "stream",
     "text": [
      "Article: 'Coulomb excitation of unstable nuclei at intermediate energies'\n",
      " Classification: {'explanation': 'i agree with the previous evaluation that the article is not directly related to the query about differential calculation of diphoton production cross sections at hadron colliders with nlo qcd corrections. however, i would rate the relevance as 1 instead of 0, as both topics seem to be related to particle physics and nuclear reactions, even though the specific topics and methods discussed are different.', 'eval': 1}\n"
     ]
    },
    {
     "name": "stderr",
     "output_type": "stream",
     "text": [
      "Evaluating articles:  60%|██████    | 3/5 [00:05<00:03,  1.78s/it]"
     ]
    },
    {
     "name": "stdout",
     "output_type": "stream",
     "text": [
      "Article: 'Crystal channeling of LHC forward protons with preserved distribution in\n",
      "  phase space'\n",
      " Classification: {'explanation': \"i agree with the previous evaluation that the article is not directly related to the query about differential calculation of diphoton production cross sections at hadron colliders with nlo qcd corrections. however, it's worth noting that both the article and the query are related to particle physics and hadron colliders, which establishes a slight connection. therefore, i would rate the relevance slightly higher than 0, as the article is not entirely unrelated to the query.\", 'eval': 1}\n",
      "Error when parsing feedback: Expecting value: line 1 column 1 (char 0)\n"
     ]
    },
    {
     "name": "stderr",
     "output_type": "stream",
     "text": [
      "Evaluating articles:  80%|████████  | 4/5 [00:08<00:02,  2.09s/it]"
     ]
    },
    {
     "name": "stdout",
     "output_type": "stream",
     "text": [
      "Article: 'Measurement of the Hadronic Form Factor in D0 --> K- e+ nue Decays'\n",
      " Classification: {'explanation': \"i agree with the previous evaluation that the article and query are unrelated in terms of topics, methods, and domains. the article focuses on measuring hadronic form factors in d0 decays, whereas the query is about calculating diphoton production cross sections at hadron colliders with nlo qcd corrections. there is no obvious connection between the two. however, i would rate the relevance as 1 instead of 0, as both topics are related to high-energy physics and share some common terminology, such as 'hadronic'. this faint connection justifies a slight relevance, but not enough to make the article relevant to the query.\", 'eval': 1}\n"
     ]
    },
    {
     "name": "stderr",
     "output_type": "stream",
     "text": [
      "Evaluating articles: 100%|██████████| 5/5 [00:09<00:00,  1.91s/it]\n"
     ]
    },
    {
     "name": "stdout",
     "output_type": "stream",
     "text": [
      "Article: 'Bosonic characters of atomic Cooper pairs across resonance'\n",
      " Classification: {'explanation': 'i agree with the previous evaluation that the article is unrelated to the query. the article discusses cooper pairs and wave functions in the context of atomic physics, whereas the query is related to particle physics. there is no apparent connection between the two, and the article does not address the query in any way. however, i would rate the relevance as 1 instead of 0, as both topics are related to physics, albeit different subfields.', 'eval': 1}\n",
      "                                               title  \\\n",
      "0  Calculation of prompt diphoton production cros...   \n",
      "1  Coulomb excitation of unstable nuclei at inter...   \n",
      "2  Crystal channeling of LHC forward protons with...   \n",
      "3  Measurement of the Hadronic Form Factor in D0 ...   \n",
      "4  Bosonic characters of atomic Cooper pairs acro...   \n",
      "\n",
      "                                            abstract  eval  \n",
      "0    A fully <hi>differential</hi> <hi>calculatio...     3  \n",
      "1    We investigate the Coulomb excitation <hi>of...     1  \n",
      "2    We show that crystal can trap a broad (x, x'...     1  \n",
      "3    The shape <hi>of</hi> the <hi>hadronic</hi> ...     1  \n",
      "4    We study the two-particle wave function <hi>...     1  \n",
      "Query: (graph decomposition or tree decomposition) and (sparse graphs or sparsity certification) and (algorithm or pebble game)\n"
     ]
    },
    {
     "name": "stderr",
     "output_type": "stream",
     "text": [
      "Evaluating articles:  20%|██        | 1/5 [00:00<00:02,  1.74it/s]"
     ]
    },
    {
     "name": "stdout",
     "output_type": "stream",
     "text": [
      "id: 0704.0002\n",
      "Article 'Sparsity-certifying Graph Decompositions' 0704.0002 evaluated as 1\n"
     ]
    },
    {
     "name": "stderr",
     "output_type": "stream",
     "text": [
      "Evaluating articles:  40%|████      | 2/5 [00:01<00:01,  1.95it/s]"
     ]
    },
    {
     "name": "stdout",
     "output_type": "stream",
     "text": [
      "id: 0704.0098\n",
      "Article 'Sparsely-spread CDMA - a statistical mechanics based analysis' 0704.0098 evaluated as 1\n"
     ]
    },
    {
     "name": "stderr",
     "output_type": "stream",
     "text": [
      "Evaluating articles:  60%|██████    | 3/5 [00:01<00:01,  1.60it/s]"
     ]
    },
    {
     "name": "stdout",
     "output_type": "stream",
     "text": [
      "id: 0704.0072\n",
      "Article 'The decomposition method and Maple procedure for finding first integrals\n",
      "  of nonlinear PDEs of any order with any number of independent variables' 0704.0072 evaluated as 1\n"
     ]
    },
    {
     "name": "stderr",
     "output_type": "stream",
     "text": [
      "Evaluating articles:  80%|████████  | 4/5 [00:02<00:00,  1.49it/s]"
     ]
    },
    {
     "name": "stdout",
     "output_type": "stream",
     "text": [
      "id: 0704.0010\n",
      "Article 'Partial cubes: structures, characterizations, and constructions' 0704.0010 evaluated as 1\n"
     ]
    },
    {
     "name": "stderr",
     "output_type": "stream",
     "text": [
      "Evaluating articles: 100%|██████████| 5/5 [00:03<00:00,  1.65it/s]\n"
     ]
    },
    {
     "name": "stdout",
     "output_type": "stream",
     "text": [
      "id: 0704.0026\n",
      "Article 'Placeholder Substructures II: Meta-Fractals, Made of Box-Kites, Fill\n",
      "  Infinite-Dimensional Skies' 0704.0026 evaluated as 0\n",
      "          id                                              title  \\\n",
      "0  0704.0002           Sparsity-certifying Graph Decompositions   \n",
      "1  0704.0098  Sparsely-spread CDMA - a statistical mechanics...   \n",
      "2  0704.0072  The decomposition method and Maple procedure f...   \n",
      "3  0704.0010  Partial cubes: structures, characterizations, ...   \n",
      "4  0704.0026  Placeholder Substructures II: Meta-Fractals, M...   \n",
      "\n",
      "                                            abstract  eval  \n",
      "0    We describe a new <hi>algorithm</hi>, the $(...     1  \n",
      "1    <hi>Sparse</hi> Code Division Multiple Acces...     1  \n",
      "2    In present paper we propose seemingly new me...     1  \n",
      "3    Partial cubes are isometric subgraphs of hyp...     1  \n",
      "4    Zero-divisors (ZDs) derived by Cayley-Dickso...     0  \n",
      "Query: (graph decomposition or tree decomposition) and (sparse graphs or sparsity certification) and (algorithm or pebble game)\n"
     ]
    },
    {
     "name": "stderr",
     "output_type": "stream",
     "text": [
      "Evaluating articles:  20%|██        | 1/5 [00:01<00:05,  1.41s/it]"
     ]
    },
    {
     "name": "stdout",
     "output_type": "stream",
     "text": [
      "Article: 'Sparsity-certifying Graph Decompositions'\n",
      " Classification: {'explanation': 'the article is highly relevant to the query as it discusses graph decomposition, sparse graphs, and sparsity certification, which are all part of the query. the article also mentions the pebble game, which is another key term in the query. the content of the article is a perfect match for the query, providing a detailed explanation of the (k,ℓ)-pebble game with colors and its application to sparse graph decomposition. therefore, i agree with the previous evaluation.', 'eval': 3}\n"
     ]
    },
    {
     "name": "stderr",
     "output_type": "stream",
     "text": [
      "Evaluating articles:  40%|████      | 2/5 [00:02<00:04,  1.38s/it]"
     ]
    },
    {
     "name": "stdout",
     "output_type": "stream",
     "text": [
      "Article: 'Sparsely-spread CDMA - a statistical mechanics based analysis'\n",
      " Classification: {'explanation': \"while the article does contain the word 'sparse', it refers to sparse spreading codes in cdma, which is unrelated to sparse graphs or sparsity certification in graph decomposition, as mentioned in the query. the topics are distinct and there is no apparent connection between them. however, the presence of the word 'sparse' and the analytical nature of the article might suggest a faint connection.\", 'eval': 1}\n"
     ]
    },
    {
     "name": "stderr",
     "output_type": "stream",
     "text": [
      "Evaluating articles:  60%|██████    | 3/5 [00:04<00:03,  1.58s/it]"
     ]
    },
    {
     "name": "stdout",
     "output_type": "stream",
     "text": [
      "Article: 'The decomposition method and Maple procedure for finding first integrals\n",
      "  of nonlinear PDEs of any order with any number of independent variables'\n",
      " Classification: {'explanation': 'i agree with the previous evaluation that the article is not related to graph decomposition, sparse graphs, or sparsity certification, which are the main keywords in the query. the article focuses on solving nonlinear pdes and its implementation in maple, which is a completely different topic. there is no mention of graphs, trees, sparsity, or pebble games in the article. however, i would rate this article a 1 instead of 0 because both topics share a similar theme of algorithmic solutions to mathematical problems, although the specific topics are unrelated.', 'eval': 1}\n"
     ]
    },
    {
     "name": "stderr",
     "output_type": "stream",
     "text": [
      "Evaluating articles:  80%|████████  | 4/5 [00:09<00:03,  3.09s/it]"
     ]
    },
    {
     "name": "stdout",
     "output_type": "stream",
     "text": [
      "Article: 'Partial cubes: structures, characterizations, and constructions'\n",
      " Classification: {'explanation': 'i agree with the previous evaluation that the article is not directly related to the concepts mentioned in the query, such as graph decomposition, tree decomposition, sparse graphs, sparsity certification, algorithms, and pebble games. however, as the article is focused on graph theory and constructions, i believe it shares a similar topic with the query, albeit a very distant one. therefore, i would rate the relevance as 1, indicating a very slight relevance.', 'eval': 1}\n"
     ]
    },
    {
     "name": "stderr",
     "output_type": "stream",
     "text": [
      "Evaluating articles: 100%|██████████| 5/5 [00:16<00:00,  3.20s/it]\n"
     ]
    },
    {
     "name": "stdout",
     "output_type": "stream",
     "text": [
      "Article: 'Placeholder Substructures II: Meta-Fractals, Made of Box-Kites, Fill\n",
      "  Infinite-Dimensional Skies'\n",
      " Classification: {'explanation': \"i agree with the previous evaluation that the article does not seem to be directly related to the query terms, such as graph decomposition, tree decomposition, sparse graphs, sparsity certification, algorithms, or pebble games. the article discusses fractals, hypercomplex numbers, and meta-fractals, which appear to be unrelated to the query. however, i would rate the relevance as 1 instead of 0, as the article shares a similar topic in the broader sense of mathematical concepts, even though it does not specifically address the query terms. the difference is subtle, but i believe a score of 1 better reflects the slight connection between the article's topic and the query.\", 'eval': 1}\n",
      "                                               title  \\\n",
      "0           Sparsity-certifying Graph Decompositions   \n",
      "1  Sparsely-spread CDMA - a statistical mechanics...   \n",
      "2  The decomposition method and Maple procedure f...   \n",
      "3  Partial cubes: structures, characterizations, ...   \n",
      "4  Placeholder Substructures II: Meta-Fractals, M...   \n",
      "\n",
      "                                            abstract  eval  \n",
      "0    We describe a new <hi>algorithm</hi>, the $(...     3  \n",
      "1    <hi>Sparse</hi> Code Division Multiple Acces...     1  \n",
      "2    In present paper we propose seemingly new me...     1  \n",
      "3    Partial cubes are isometric subgraphs of hyp...     1  \n",
      "4    Zero-divisors (ZDs) derived by Cayley-Dickso...     1  \n",
      "Query: dark matter influence on earth moon orbit evolution\n"
     ]
    },
    {
     "name": "stderr",
     "output_type": "stream",
     "text": [
      "Evaluating articles:  20%|██        | 1/5 [00:00<00:02,  1.43it/s]"
     ]
    },
    {
     "name": "stdout",
     "output_type": "stream",
     "text": [
      "id: 0704.0003\n",
      "Article 'The evolution of the Earth-Moon system based on the dark matter field\n",
      "  fluid model' 0704.0003 evaluated as 1\n"
     ]
    },
    {
     "name": "stderr",
     "output_type": "stream",
     "text": [
      "Evaluating articles:  40%|████      | 2/5 [00:01<00:01,  1.78it/s]"
     ]
    },
    {
     "name": "stdout",
     "output_type": "stream",
     "text": [
      "id: 0704.0094\n",
      "Article 'Timing and Lensing of the Colliding Bullet Clusters: barely enough time\n",
      "  and gravity to accelerate the bullet' 0704.0094 evaluated as 0\n"
     ]
    },
    {
     "name": "stderr",
     "output_type": "stream",
     "text": [
      "Evaluating articles:  60%|██████    | 3/5 [00:04<00:03,  1.67s/it]"
     ]
    },
    {
     "name": "stdout",
     "output_type": "stream",
     "text": [
      "id: 0704.0057\n",
      "Article 'High-spin to low-spin and orbital polarization transitions in\n",
      "  multiorbital Mott systems' 0704.0057 evaluated as 0\n"
     ]
    },
    {
     "name": "stderr",
     "output_type": "stream",
     "text": [
      "Evaluating articles:  80%|████████  | 4/5 [00:06<00:02,  2.07s/it]"
     ]
    },
    {
     "name": "stdout",
     "output_type": "stream",
     "text": [
      "id: 0704.0082\n",
      "Article 'Matter-Wave Bright Solitons with a Finite Background in Spinor\n",
      "  Bose-Einstein Condensates' 0704.0082 evaluated as 0\n"
     ]
    },
    {
     "name": "stderr",
     "output_type": "stream",
     "text": [
      "Evaluating articles: 100%|██████████| 5/5 [00:09<00:00,  1.93s/it]\n"
     ]
    },
    {
     "name": "stdout",
     "output_type": "stream",
     "text": [
      "id: 0704.0077\n",
      "Article 'Universal Forces and the Dark Energy Problem' 0704.0077 evaluated as 1\n",
      "          id                                              title  \\\n",
      "0  0704.0003  The evolution of the Earth-Moon system based o...   \n",
      "1  0704.0094  Timing and Lensing of the Colliding Bullet Clu...   \n",
      "2  0704.0057  High-spin to low-spin and orbital polarization...   \n",
      "3  0704.0082  Matter-Wave Bright Solitons with a Finite Back...   \n",
      "4  0704.0077       Universal Forces and the Dark Energy Problem   \n",
      "\n",
      "                                            abstract  eval  \n",
      "0    The <hi>evolution</hi> of <hi>Earth</hi>-<hi...     1  \n",
      "1    We present semi-analytical constraint <hi>on...     0  \n",
      "2    We study the interplay of crystal field spli...     0  \n",
      "3    We investigate dynamical properties of brigh...     0  \n",
      "4    The <hi>Dark</hi> Energy problem is forcing ...     1  \n",
      "Query: dark matter influence on earth moon orbit evolution\n"
     ]
    },
    {
     "name": "stderr",
     "output_type": "stream",
     "text": [
      "Evaluating articles:  20%|██        | 1/5 [00:05<00:23,  5.90s/it]"
     ]
    },
    {
     "name": "stdout",
     "output_type": "stream",
     "text": [
      "Article: 'The evolution of the Earth-Moon system based on the dark matter field\n",
      "  fluid model'\n",
      " Classification: {'explanation': \"the article discusses the evolution of the earth-moon system based on a dark matter field fluid model, which directly addresses the query. the model predicts the evolution of the moon's orbit and even provides a specific value for the dark matter field fluid constant derived from earth-moon system data. this shows a clear connection between dark matter and the evolution of the earth-moon orbit. therefore, i agree with the previous evaluation that the article is completely relevant to the query.\", 'eval': 3}\n"
     ]
    },
    {
     "name": "stderr",
     "output_type": "stream",
     "text": [
      "Evaluating articles:  40%|████      | 2/5 [00:12<00:18,  6.16s/it]"
     ]
    },
    {
     "name": "stdout",
     "output_type": "stream",
     "text": [
      "Article: 'Timing and Lensing of the Colliding Bullet Clusters: barely enough time\n",
      "  and gravity to accelerate the bullet'\n",
      " Classification: {'explanation': \"i agree with the previous evaluation that the article has no direct relevance to the query 'dark matter influence on earth moon orbit evolution'. the article discusses dark matter in the context of galaxy clusters and its effects on galaxy evolution, which is significantly different from the query's focus on the earth-moon orbit. however, i wouldn't rate it as a 0, as the article does discuss dark matter, which is a keyword in the query. hence, i would rate it as a 1, indicating that the article is only very slightly relevant to the query.\", 'eval': 1}\n"
     ]
    },
    {
     "name": "stderr",
     "output_type": "stream",
     "text": [
      "Evaluating articles:  60%|██████    | 3/5 [00:18<00:12,  6.19s/it]"
     ]
    },
    {
     "name": "stdout",
     "output_type": "stream",
     "text": [
      "Article: 'High-spin to low-spin and orbital polarization transitions in\n",
      "  multiorbital Mott systems'\n",
      " Classification: {'explanation': \"i agree with the previous evaluation that the article is completely unrelated to the query about dark matter's influence on the earth-moon orbit evolution. the article discusses topics in condensed matter physics, such as crystal field splitting, hund coupling, and mott insulating phases, which are not related to dark matter or celestial mechanics. there is no mention of dark matter, earth, moon, or orbit evolution in the article.\", 'eval': 0}\n"
     ]
    },
    {
     "name": "stderr",
     "output_type": "stream",
     "text": [
      "Evaluating articles:  80%|████████  | 4/5 [00:27<00:07,  7.22s/it]"
     ]
    },
    {
     "name": "stdout",
     "output_type": "stream",
     "text": [
      "Article: 'Matter-Wave Bright Solitons with a Finite Background in Spinor\n",
      "  Bose-Einstein Condensates'\n",
      " Classification: {'explanation': \"i agree with the previous evaluation that the article has no relevance to the query 'dark matter influence on earth moon orbit evolution'. the article is focused on quantum physics, specifically matter-wave bright solitons in spinor bose-einstein condensates, while the query is related to astrophysics and cosmology. there is no connection between the two topics. the term 'dark' in the article refers to 'dark solitons', which is a concept in quantum physics, and not related to dark matter, which is a concept in astrophysics.\", 'eval': 0}\n"
     ]
    },
    {
     "name": "stderr",
     "output_type": "stream",
     "text": [
      "Evaluating articles: 100%|██████████| 5/5 [00:30<00:00,  6.08s/it]\n"
     ]
    },
    {
     "name": "stdout",
     "output_type": "stream",
     "text": [
      "Article: 'Universal Forces and the Dark Energy Problem'\n",
      " Classification: {'explanation': \"i agree with the previous evaluation that the article is only very slightly relevant to the query. the article discusses dark energy, which is related to dark matter, but it does not mention dark matter or its influence on the earth-moon orbit evolution. the article's focus on resolving the dark energy problem through a novel idea of fundamental forces does not address the specific query, making it only slightly relevant.\", 'eval': 1}\n",
      "                                               title  \\\n",
      "0  The evolution of the Earth-Moon system based o...   \n",
      "1  Timing and Lensing of the Colliding Bullet Clu...   \n",
      "2  High-spin to low-spin and orbital polarization...   \n",
      "3  Matter-Wave Bright Solitons with a Finite Back...   \n",
      "4       Universal Forces and the Dark Energy Problem   \n",
      "\n",
      "                                            abstract  eval  \n",
      "0    The <hi>evolution</hi> of <hi>Earth</hi>-<hi...     3  \n",
      "1    We present semi-analytical constraint <hi>on...     1  \n",
      "2    We study the interplay of crystal field spli...     0  \n",
      "3    We investigate dynamical properties of brigh...     0  \n",
      "4    The <hi>Dark</hi> Energy problem is forcing ...     1  \n",
      "Query: counting unlabeled single-source automata with stirling cycle numbers\n"
     ]
    },
    {
     "name": "stderr",
     "output_type": "stream",
     "text": [
      "Evaluating articles:  20%|██        | 1/5 [00:02<00:11,  2.82s/it]"
     ]
    },
    {
     "name": "stdout",
     "output_type": "stream",
     "text": [
      "id: 0704.0004\n",
      "Article 'A determinant of Stirling cycle numbers counts unlabeled acyclic\n",
      "  single-source automata' 0704.0004 evaluated as 1\n"
     ]
    },
    {
     "name": "stderr",
     "output_type": "stream",
     "text": [
      "Evaluating articles:  40%|████      | 2/5 [00:05<00:08,  2.94s/it]"
     ]
    },
    {
     "name": "stdout",
     "output_type": "stream",
     "text": [
      "id: 0704.0036\n",
      "Article 'A remark on the number of steady states in a multiple futile cycle' 0704.0036 evaluated as 0\n"
     ]
    },
    {
     "name": "stderr",
     "output_type": "stream",
     "text": [
      "Evaluating articles:  60%|██████    | 3/5 [00:08<00:05,  2.92s/it]"
     ]
    },
    {
     "name": "stdout",
     "output_type": "stream",
     "text": [
      "id: 0704.0048\n",
      "Article 'Inference on white dwarf binary systems using the first round Mock LISA\n",
      "  Data Challenges data sets' 0704.0048 evaluated as 0\n"
     ]
    },
    {
     "name": "stderr",
     "output_type": "stream",
     "text": [
      "Evaluating articles:  80%|████████  | 4/5 [00:12<00:03,  3.09s/it]"
     ]
    },
    {
     "name": "stdout",
     "output_type": "stream",
     "text": [
      "id: 0704.0075\n",
      "Article 'Strong decays of charmed baryons' 0704.0075 evaluated as 0\n"
     ]
    },
    {
     "name": "stderr",
     "output_type": "stream",
     "text": [
      "Evaluating articles: 100%|██████████| 5/5 [00:14<00:00,  2.88s/it]\n"
     ]
    },
    {
     "name": "stdout",
     "output_type": "stream",
     "text": [
      "id: 0704.0021\n",
      "Article 'Molecular Synchronization Waves in Arrays of Allosterically Regulated\n",
      "  Enzymes' 0704.0021 evaluated as 0\n",
      "          id                                              title  \\\n",
      "0  0704.0004  A determinant of Stirling cycle numbers counts...   \n",
      "1  0704.0036  A remark on the number of steady states in a m...   \n",
      "2  0704.0048  Inference on white dwarf binary systems using ...   \n",
      "3  0704.0075                   Strong decays of charmed baryons   \n",
      "4  0704.0021  Molecular Synchronization Waves in Arrays of A...   \n",
      "\n",
      "                                            abstract  eval  \n",
      "0    We show that a determinant of <hi>Stirling</...     1  \n",
      "1    The multisite phosphorylation-dephosphorylat...     0  \n",
      "2    We report on the analysis of selected <hi>si...     0  \n",
      "3    There has been important experimental progre...     0  \n",
      "4    Spatiotemporal pattern formation in a produc...     0  \n",
      "Query: counting unlabeled single-source automata with stirling cycle numbers\n"
     ]
    },
    {
     "name": "stderr",
     "output_type": "stream",
     "text": [
      "Evaluating articles:  20%|██        | 1/5 [00:06<00:24,  6.08s/it]"
     ]
    },
    {
     "name": "stdout",
     "output_type": "stream",
     "text": [
      "Article: 'A determinant of Stirling cycle numbers counts unlabeled acyclic\n",
      "  single-source automata'\n",
      " Classification: {'explanation': \"the article title and content perfectly match the query, using the exact keywords 'unlabeled single-source automata' and 'stirling cycle numbers'. the article's main contribution is to show a connection between these two concepts, which aligns perfectly with the query. this strong alignment and direct relevance earn a high relevance score.\", 'eval': 3}\n",
      "Error when parsing feedback: Expecting value: line 1 column 1 (char 0)\n"
     ]
    },
    {
     "name": "stderr",
     "output_type": "stream",
     "text": [
      "Evaluating articles:  40%|████      | 2/5 [00:16<00:25,  8.46s/it]"
     ]
    },
    {
     "name": "stdout",
     "output_type": "stream",
     "text": [
      "Article: 'A remark on the number of steady states in a multiple futile cycle'\n",
      " Classification: {'explanation': 'the previous evaluation is correct in that the topics of the article and the query seem unrelated at first glance. however, upon closer inspection, there is a faint connection between the concepts of cycling (in the context of cell signaling) and cycles in automata theory. while the article does not directly discuss counting unlabeled single-source automata, the mention of cycles and the use of mathematical analysis to study their behavior could be seen as tangentially related to the query. this is a stretch, but i would argue that the article has some slight relevance to the query, hence my evaluation of 1.', 'eval': 1}\n"
     ]
    },
    {
     "name": "stderr",
     "output_type": "stream",
     "text": [
      "Evaluating articles:  60%|██████    | 3/5 [00:22<00:14,  7.38s/it]"
     ]
    },
    {
     "name": "stdout",
     "output_type": "stream",
     "text": [
      "Article: 'Inference on white dwarf binary systems using the first round Mock LISA\n",
      "  Data Challenges data sets'\n",
      " Classification: {'explanation': 'i agree with the previous evaluation that the article has no relevance to the query. the article focuses on the analysis of white dwarf binary systems using the mock lisa data challenges, which is unrelated to counting unlabeled single-source automata with stirling cycle numbers. the concepts and techniques discussed in the article, such as markov chain monte carlo and signal detection, are not applicable to the query. there is no mention or connection to single-source automata or stirling cycle numbers in the article.', 'eval': 0}\n"
     ]
    },
    {
     "name": "stderr",
     "output_type": "stream",
     "text": [
      "Evaluating articles:  80%|████████  | 4/5 [00:28<00:06,  6.73s/it]"
     ]
    },
    {
     "name": "stdout",
     "output_type": "stream",
     "text": [
      "Article: 'Strong decays of charmed baryons'\n",
      " Classification: {'explanation': 'the article discusses strong decays of charmed baryons, which is a topic in particle physics that has no apparent relation to counting unlabeled single-source automata with stirling cycle numbers, which seems to be a topic in combinatorics or computer science. the two topics are unrelated, but the article does not have absolutely no relevance, as both topics are related to mathematical and scientific concepts. therefore, i would rate the relevance as 1, indicating that the article is only very slightly relevant to the query.', 'eval': 1}\n"
     ]
    },
    {
     "name": "stderr",
     "output_type": "stream",
     "text": [
      "Evaluating articles: 100%|██████████| 5/5 [00:34<00:00,  6.91s/it]\n"
     ]
    },
    {
     "name": "stdout",
     "output_type": "stream",
     "text": [
      "Article: 'Molecular Synchronization Waves in Arrays of Allosterically Regulated\n",
      "  Enzymes'\n",
      " Classification: {'explanation': \"the article discusses molecular synchronization waves in arrays of allosterically regulated enzymes, while the query is about counting unlabeled single-source automata with stirling cycle numbers. although the topics seem unrelated at first glance, both involve complex pattern formation and cycles. however, the connection is quite indirect and the article's focus on enzymic reactions and molecular synchronization is far removed from automata theory and stirling cycle numbers. therefore, i conclude that the article is only very slightly relevant to the query.\", 'eval': 1}\n",
      "                                               title  \\\n",
      "0  A determinant of Stirling cycle numbers counts...   \n",
      "1  A remark on the number of steady states in a m...   \n",
      "2  Inference on white dwarf binary systems using ...   \n",
      "3                   Strong decays of charmed baryons   \n",
      "4  Molecular Synchronization Waves in Arrays of A...   \n",
      "\n",
      "                                            abstract  eval  \n",
      "0    We show that a determinant of <hi>Stirling</...     3  \n",
      "1    The multisite phosphorylation-dephosphorylat...     1  \n",
      "2    We report on the analysis of selected <hi>si...     0  \n",
      "3    There has been important experimental progre...     1  \n",
      "4    Spatiotemporal pattern formation in a produc...     1  \n",
      "Query: computing lambda alpha norm using dyadic grid\n"
     ]
    },
    {
     "name": "stderr",
     "output_type": "stream",
     "text": [
      "Evaluating articles:  20%|██        | 1/5 [00:02<00:08,  2.18s/it]"
     ]
    },
    {
     "name": "stdout",
     "output_type": "stream",
     "text": [
      "id: 0704.0005\n",
      "Article 'From dyadic $\\Lambda_{\\alpha}$ to $\\Lambda_{\\alpha}$' 0704.0005 evaluated as 1\n"
     ]
    },
    {
     "name": "stderr",
     "output_type": "stream",
     "text": [
      "Evaluating articles:  40%|████      | 2/5 [00:04<00:06,  2.09s/it]"
     ]
    },
    {
     "name": "stdout",
     "output_type": "stream",
     "text": [
      "id: 0704.0011\n",
      "Article 'Computing genus 2 Hilbert-Siegel modular forms over $\\Q(\\sqrt{5})$ via\n",
      "  the Jacquet-Langlands correspondence' 0704.0011 evaluated as 0\n"
     ]
    },
    {
     "name": "stderr",
     "output_type": "stream",
     "text": [
      "Evaluating articles:  60%|██████    | 3/5 [00:07<00:05,  2.56s/it]"
     ]
    },
    {
     "name": "stdout",
     "output_type": "stream",
     "text": [
      "id: 0704.0074\n",
      "Article 'Injective Morita contexts (revisited)' 0704.0074 evaluated as 0\n"
     ]
    },
    {
     "name": "stderr",
     "output_type": "stream",
     "text": [
      "Evaluating articles:  80%|████████  | 4/5 [00:09<00:02,  2.36s/it]"
     ]
    },
    {
     "name": "stdout",
     "output_type": "stream",
     "text": [
      "id: 0704.0028\n",
      "Article 'Pfaffians, hafnians and products of real linear functionals' 0704.0028 evaluated as 1\n"
     ]
    },
    {
     "name": "stderr",
     "output_type": "stream",
     "text": [
      "Evaluating articles: 100%|██████████| 5/5 [00:12<00:00,  2.49s/it]\n"
     ]
    },
    {
     "name": "stdout",
     "output_type": "stream",
     "text": [
      "id: 0704.0018\n",
      "Article 'In quest of a generalized Callias index theorem' 0704.0018 evaluated as 1\n",
      "          id                                              title  \\\n",
      "0  0704.0005  From dyadic $\\Lambda_{\\alpha}$ to $\\Lambda_{\\a...   \n",
      "1  0704.0011  Computing genus 2 Hilbert-Siegel modular forms...   \n",
      "2  0704.0074              Injective Morita contexts (revisited)   \n",
      "3  0704.0028  Pfaffians, hafnians and products of real linea...   \n",
      "4  0704.0018    In quest of a generalized Callias index theorem   \n",
      "\n",
      "                                            abstract  eval  \n",
      "0    In this paper we show how to <hi>compute</hi...     1  \n",
      "1    In this paper we present an algorithm for <h...     0  \n",
      "2    This paper is an exposition of the so-called...     0  \n",
      "3    We prove pfaffian and hafnian versions of Li...     1  \n",
      "4    We give a prescription for how to <hi>comput...     1  \n",
      "Query: computing lambda alpha norm using dyadic grid\n"
     ]
    },
    {
     "name": "stderr",
     "output_type": "stream",
     "text": [
      "Evaluating articles:  20%|██        | 1/5 [00:05<00:23,  5.88s/it]"
     ]
    },
    {
     "name": "stdout",
     "output_type": "stream",
     "text": [
      "Article: 'From dyadic $\\Lambda_{\\alpha}$ to $\\Lambda_{\\alpha}$'\n",
      " Classification: {'explanation': \"the article's title and content directly mention computing the lambda_alpha norm using a dyadic grid, which exactly matches the query. the article's focus on this specific topic and the use of the same keywords make it a perfect match for the query. therefore, i agree with the previous evaluation.\", 'eval': 3}\n"
     ]
    },
    {
     "name": "stderr",
     "output_type": "stream",
     "text": [
      "Evaluating articles:  40%|████      | 2/5 [00:12<00:18,  6.14s/it]"
     ]
    },
    {
     "name": "stdout",
     "output_type": "stream",
     "text": [
      "Article: 'Computing genus 2 Hilbert-Siegel modular forms over $\\Q(\\sqrt{5})$ via\n",
      "  the Jacquet-Langlands correspondence'\n",
      " Classification: {'explanation': \"i agree with the previous evaluation that the article is not relevant to the query 'computing lambda alpha norm using dyadic grid'. the article is about computing hilbert-siegel modular forms over a quadratic field, which appears to be a completely different topic from computing lambda alpha norm using a dyadic grid. there is no apparent connection between the two, and the keywords in the query do not appear in the article. however, i would rate the relevance as 1 instead of 0, as the article is still related to computing and mathematics, which shares a similar topic with the query.\", 'eval': 1}\n"
     ]
    },
    {
     "name": "stderr",
     "output_type": "stream",
     "text": [
      "Evaluating articles:  60%|██████    | 3/5 [00:19<00:13,  6.75s/it]"
     ]
    },
    {
     "name": "stdout",
     "output_type": "stream",
     "text": [
      "Article: 'Injective Morita contexts (revisited)'\n",
      " Classification: {'explanation': 'the article appears to be a mathematical paper discussing morita contexts and their applications, which is unrelated to computing lambda alpha norm using dyadic grid. the query seems to be related to a specific mathematical concept or technique in computing, whereas the article is focused on abstract algebra and module theory. while both topics might involve mathematical concepts, they are distinct and unrelated, making the article only slightly relevant to the query.', 'eval': 1}\n"
     ]
    },
    {
     "name": "stderr",
     "output_type": "stream",
     "text": [
      "Evaluating articles:  80%|████████  | 4/5 [00:24<00:06,  6.12s/it]"
     ]
    },
    {
     "name": "stdout",
     "output_type": "stream",
     "text": [
      "Article: 'Pfaffians, hafnians and products of real linear functionals'\n",
      " Classification: {'explanation': \"the article discusses pfaffians, hafnians, and linear functionals, which seem unrelated to computing lambda alpha norm using dyadic grids. although both topics involve mathematical concepts, the specific keywords in the query are not mentioned in the article. however, it's possible that the mathematical techniques or concepts discussed in the article could be relevant to the broader field of computing norms, even if not directly related to the specific query. hence, a slight relevance is possible.\", 'eval': 1}\n",
      "Error when parsing feedback: Expecting value: line 1 column 1 (char 0)\n"
     ]
    },
    {
     "name": "stderr",
     "output_type": "stream",
     "text": [
      "Evaluating articles: 100%|██████████| 5/5 [00:34<00:00,  6.97s/it]\n"
     ]
    },
    {
     "name": "stdout",
     "output_type": "stream",
     "text": [
      "Article: 'In quest of a generalized Callias index theorem'\n",
      " Classification: {'explanation': \"i agree with the previous evaluation that the article is not directly related to the query 'computing lambda alpha norm using dyadic grid'. however, the article does mention 'computing' the callias index, which shares a similar topic with the query. therefore, i rate this article a 1, indicating that it is only very slightly relevant to the query.\", 'eval': 1}\n",
      "                                               title  \\\n",
      "0  From dyadic $\\Lambda_{\\alpha}$ to $\\Lambda_{\\a...   \n",
      "1  Computing genus 2 Hilbert-Siegel modular forms...   \n",
      "2              Injective Morita contexts (revisited)   \n",
      "3  Pfaffians, hafnians and products of real linea...   \n",
      "4    In quest of a generalized Callias index theorem   \n",
      "\n",
      "                                            abstract  eval  \n",
      "0    In this paper we show how to <hi>compute</hi...     3  \n",
      "1    In this paper we present an algorithm for <h...     1  \n",
      "2    This paper is an exposition of the so-called...     1  \n",
      "3    We prove pfaffian and hafnian versions of Li...     1  \n",
      "4    We give a prescription for how to <hi>comput...     1  \n",
      "Query: feshbach resonance effects on cooper pair wave function in fermi gas\n"
     ]
    },
    {
     "name": "stderr",
     "output_type": "stream",
     "text": [
      "Evaluating articles:  20%|██        | 1/5 [00:01<00:07,  1.94s/it]"
     ]
    },
    {
     "name": "stdout",
     "output_type": "stream",
     "text": [
      "id: 0704.0006\n",
      "Article 'Bosonic characters of atomic Cooper pairs across resonance' 0704.0006 evaluated as 1\n"
     ]
    },
    {
     "name": "stderr",
     "output_type": "stream",
     "text": [
      "Evaluating articles:  40%|████      | 2/5 [00:05<00:07,  2.61s/it]"
     ]
    },
    {
     "name": "stdout",
     "output_type": "stream",
     "text": [
      "id: 0704.0030\n",
      "Article 'Tuning correlation effects with electron-phonon interactions' 0704.0030 evaluated as 1\n"
     ]
    },
    {
     "name": "stderr",
     "output_type": "stream",
     "text": [
      "Evaluating articles:  60%|██████    | 3/5 [00:07<00:05,  2.71s/it]"
     ]
    },
    {
     "name": "stdout",
     "output_type": "stream",
     "text": [
      "id: 0704.0027\n",
      "Article 'Filling-Factor-Dependent Magnetophonon Resonance in Graphene' 0704.0027 evaluated as 0\n"
     ]
    },
    {
     "name": "stderr",
     "output_type": "stream",
     "text": [
      "Evaluating articles:  80%|████████  | 4/5 [00:11<00:02,  2.96s/it]"
     ]
    },
    {
     "name": "stdout",
     "output_type": "stream",
     "text": [
      "id: 0704.0045\n",
      "Article 'Evolution of solitary waves and undular bores in shallow-water flows\n",
      "  over a gradual slope with bottom friction' 0704.0045 evaluated as 0\n"
     ]
    },
    {
     "name": "stderr",
     "output_type": "stream",
     "text": [
      "Evaluating articles: 100%|██████████| 5/5 [00:15<00:00,  3.04s/it]\n"
     ]
    },
    {
     "name": "stdout",
     "output_type": "stream",
     "text": [
      "id: 0704.0085\n",
      "Article 'A Universality in PP-Waves' 0704.0085 evaluated as 0\n",
      "          id                                              title  \\\n",
      "0  0704.0006  Bosonic characters of atomic Cooper pairs acro...   \n",
      "1  0704.0030  Tuning correlation effects with electron-phono...   \n",
      "2  0704.0027  Filling-Factor-Dependent Magnetophonon Resonan...   \n",
      "3  0704.0045  Evolution of solitary waves and undular bores ...   \n",
      "4  0704.0085                         A Universality in PP-Waves   \n",
      "\n",
      "                                            abstract  eval  \n",
      "0    We study the two-particle <hi>wave</hi> <hi>...     1  \n",
      "1    We investigate the effect of tuning the phon...     1  \n",
      "2    We describe a peculiar fine structure acquir...     0  \n",
      "3    This paper considers the propagation of shal...     0  \n",
      "4    We discuss a universality property of any co...     0  \n",
      "Query: feshbach resonance effects on cooper pair wave function in fermi gas\n"
     ]
    },
    {
     "name": "stderr",
     "output_type": "stream",
     "text": [
      "Evaluating articles:  20%|██        | 1/5 [00:04<00:19,  4.83s/it]"
     ]
    },
    {
     "name": "stdout",
     "output_type": "stream",
     "text": [
      "Article: 'Bosonic characters of atomic Cooper pairs across resonance'\n",
      " Classification: {'explanation': 'i agree with the previous evaluation. the article is completely relevant to the query as it explores the effects of feshbach resonance on cooper pair wave function in a fermi gas. the query terms are explicitly mentioned in the article, and the content is focused on studying the bosonic characters of atomic cooper pairs across resonance, which aligns perfectly with the query.', 'eval': 3}\n"
     ]
    },
    {
     "name": "stderr",
     "output_type": "stream",
     "text": [
      "Evaluating articles:  40%|████      | 2/5 [00:11<00:18,  6.12s/it]"
     ]
    },
    {
     "name": "stdout",
     "output_type": "stream",
     "text": [
      "Article: 'Tuning correlation effects with electron-phonon interactions'\n",
      " Classification: {'explanation': \"i agree with the previous evaluation that the article is not directly related to the query, as it doesn't mention feshbach resonance, cooper pairs, or wave functions in fermi gas. however, both the article and the query deal with topics in condensed matter physics, specifically many-body systems, which might share some underlying concepts or mathematical formalisms. therefore, i would rate the relevance as 1, indicating a slight relevance due to the shared general topic.\", 'eval': 1}\n"
     ]
    },
    {
     "name": "stderr",
     "output_type": "stream",
     "text": [
      "Evaluating articles:  60%|██████    | 3/5 [00:17<00:11,  5.93s/it]"
     ]
    },
    {
     "name": "stdout",
     "output_type": "stream",
     "text": [
      "Article: 'Filling-Factor-Dependent Magnetophonon Resonance in Graphene'\n",
      " Classification: {'explanation': \"i agree with the previous evaluation that the article is not directly related to the query topic of feshbach resonance effects on cooper pair wave functions in fermi gas, which is a topic in superfluidity and superconductivity. however, i would rate the relevance as 1 instead of 0, because both topics deal with quantum systems and resonances, although in different areas of physics. the article discusses magnetophonon resonance in graphene, which shares a similar concept of resonance with the query topic, but it's still a very distant connection.\", 'eval': 1}\n"
     ]
    },
    {
     "name": "stderr",
     "output_type": "stream",
     "text": [
      "Evaluating articles:  80%|████████  | 4/5 [00:23<00:05,  5.91s/it]"
     ]
    },
    {
     "name": "stdout",
     "output_type": "stream",
     "text": [
      "Article: 'Evolution of solitary waves and undular bores in shallow-water flows\n",
      "  over a gradual slope with bottom friction'\n",
      " Classification: {'explanation': 'the article discusses solitary waves and undular bores in shallow-water flows, which is unrelated to the query about feshbach resonance effects on cooper pair wave function in fermi gas. the topics are from different fields, and there is no mention of feshbach resonance, cooper pairs, or fermi gas in the article. however, both topics share a connection to wave functions, which suggests a slight relevance.', 'eval': 1}\n"
     ]
    },
    {
     "name": "stderr",
     "output_type": "stream",
     "text": [
      "Evaluating articles: 100%|██████████| 5/5 [00:38<00:00,  7.77s/it]\n"
     ]
    },
    {
     "name": "stdout",
     "output_type": "stream",
     "text": [
      "Article: 'A Universality in PP-Waves'\n",
      " Classification: {'explanation': 'i agree with the previous evaluation. the article discusses topics such as pp-waves, bosonic string theory, and conformal field theory, which are unrelated to feshbach resonance effects and cooper pair wave functions in fermi gases. the query terms are not mentioned in the article, and the topics appear to be from different fields of physics. while the article is a physics-related article, the specific topics discussed are not relevant to the query.', 'eval': 0}\n",
      "                                               title  \\\n",
      "0  Bosonic characters of atomic Cooper pairs acro...   \n",
      "1  Tuning correlation effects with electron-phono...   \n",
      "2  Filling-Factor-Dependent Magnetophonon Resonan...   \n",
      "3  Evolution of solitary waves and undular bores ...   \n",
      "4                         A Universality in PP-Waves   \n",
      "\n",
      "                                            abstract  eval  \n",
      "0    We study the two-particle <hi>wave</hi> <hi>...     3  \n",
      "1    We investigate the effect of tuning the phon...     1  \n",
      "2    We describe a peculiar fine structure acquir...     1  \n",
      "3    This paper considers the propagation of shal...     1  \n",
      "4    We discuss a universality property of any co...     0  \n",
      "Query: quantum mechanics alternatives in loop quantum cosmology\n"
     ]
    },
    {
     "name": "stderr",
     "output_type": "stream",
     "text": [
      "Evaluating articles:  20%|██        | 1/5 [00:04<00:16,  4.21s/it]"
     ]
    },
    {
     "name": "stdout",
     "output_type": "stream",
     "text": [
      "id: 0704.0007\n",
      "Article 'Polymer Quantum Mechanics and its Continuum Limit' 0704.0007 evaluated as 1\n"
     ]
    },
    {
     "name": "stderr",
     "output_type": "stream",
     "text": [
      "Evaluating articles:  40%|████      | 2/5 [00:04<00:06,  2.09s/it]"
     ]
    },
    {
     "name": "stdout",
     "output_type": "stream",
     "text": [
      "id: 0704.0041\n",
      "Article 'Quantum Group of Isometries in Classical and Noncommutative Geometry' 0704.0041 evaluated as 1\n"
     ]
    },
    {
     "name": "stderr",
     "output_type": "stream",
     "text": [
      "Evaluating articles:  60%|██████    | 3/5 [00:09<00:06,  3.08s/it]"
     ]
    },
    {
     "name": "stdout",
     "output_type": "stream",
     "text": [
      "id: 0704.0015\n",
      "Article 'Fermionic superstring loop amplitudes in the pure spinor formalism' 0704.0015 evaluated as 1\n"
     ]
    },
    {
     "name": "stderr",
     "output_type": "stream",
     "text": [
      "Evaluating articles:  80%|████████  | 4/5 [00:13<00:03,  3.55s/it]"
     ]
    },
    {
     "name": "stdout",
     "output_type": "stream",
     "text": [
      "id: 0704.0042\n",
      "Article 'General System theory, Like-Quantum Semantics and Fuzzy Sets' 0704.0042 evaluated as 1\n"
     ]
    },
    {
     "name": "stderr",
     "output_type": "stream",
     "text": [
      "Evaluating articles: 100%|██████████| 5/5 [00:14<00:00,  2.83s/it]\n"
     ]
    },
    {
     "name": "stdout",
     "output_type": "stream",
     "text": [
      "id: 0704.0083\n",
      "Article 'Why there is something rather than nothing (out of everything)?' 0704.0083 evaluated as 1\n",
      "          id                                              title  \\\n",
      "0  0704.0007  Polymer Quantum Mechanics and its Continuum Limit   \n",
      "1  0704.0041  Quantum Group of Isometries in Classical and N...   \n",
      "2  0704.0015  Fermionic superstring loop amplitudes in the p...   \n",
      "3  0704.0042  General System theory, Like-Quantum Semantics ...   \n",
      "4  0704.0083  Why there is something rather than nothing (ou...   \n",
      "\n",
      "                                            abstract  eval  \n",
      "0    A rather non-standard <hi>quantum</hi> repre...     1  \n",
      "1    We formulate a <hi>quantum</hi> generalizati...     1  \n",
      "2    The pure spinor formulation of the ten-dimen...     1  \n",
      "3    It is outlined the possibility to extend the...     1  \n",
      "4    The path integral over Euclidean geometries ...     1  \n",
      "Query: quantum mechanics alternatives in loop quantum cosmology\n"
     ]
    },
    {
     "name": "stderr",
     "output_type": "stream",
     "text": [
      "Evaluating articles:   0%|          | 0/5 [00:00<?, ?it/s]"
     ]
    },
    {
     "name": "stdout",
     "output_type": "stream",
     "text": [
      "Error when parsing feedback: Expecting value: line 1 column 1 (char 0)\n"
     ]
    },
    {
     "name": "stderr",
     "output_type": "stream",
     "text": [
      "Evaluating articles:  20%|██        | 1/5 [00:11<00:46, 11.73s/it]"
     ]
    },
    {
     "name": "stdout",
     "output_type": "stream",
     "text": [
      "Article: 'Polymer Quantum Mechanics and its Continuum Limit'\n",
      " Classification: {'explanation': \"i agree with the previous evaluation that the article is highly relevant to the query 'quantum mechanics alternatives in loop quantum cosmology'. the article explicitly discusses the polymer representation, an alternative to traditional quantum mechanics, and its relation to loop quantum cosmology. the article provides a detailed exploration of the connection between the ordinary schrödinger theory and the polymer description, and provides examples of interest in the context of loop quantum cosmology. however, i would rate the relevance slightly lower than 3, as the article's focus is not exclusively on loop quantum cosmology, but also explores the general relation between the polymer representation and traditional quantum mechanics.\", 'eval': 2}\n"
     ]
    },
    {
     "name": "stderr",
     "output_type": "stream",
     "text": [
      "Evaluating articles:  40%|████      | 2/5 [00:13<00:17,  5.83s/it]"
     ]
    },
    {
     "name": "stdout",
     "output_type": "stream",
     "text": [
      "Article: 'Quantum Group of Isometries in Classical and Noncommutative Geometry'\n",
      " Classification: {'explanation': 'i agree with the previous evaluation that the article is only slightly relevant to the query. the article deals with quantum groups and isometries in noncommutative geometry, which is a related field to quantum mechanics, but it does not specifically address alternatives to quantum mechanics in loop quantum cosmology. the focus is on a different area of research, making it only slightly relevant to the query.', 'eval': 1}\n"
     ]
    },
    {
     "name": "stderr",
     "output_type": "stream",
     "text": [
      "Evaluating articles:  60%|██████    | 3/5 [00:15<00:08,  4.20s/it]"
     ]
    },
    {
     "name": "stdout",
     "output_type": "stream",
     "text": [
      "Article: 'Fermionic superstring loop amplitudes in the pure spinor formalism'\n",
      " Classification: {'explanation': \"i agree with the previous evaluation that the article is primarily focused on superstring theory and loop amplitudes, which seem unrelated to loop quantum cosmology or quantum mechanics alternatives. however, the presence of 'loop' in the query and the article title could indicate a slight connection, making it not entirely irrelevant. therefore, i would rate the article a 1, as it shares a similar topic but is not directly relevant to the query.\", 'eval': 1}\n"
     ]
    },
    {
     "name": "stderr",
     "output_type": "stream",
     "text": [
      "Evaluating articles:  80%|████████  | 4/5 [00:19<00:04,  4.17s/it]"
     ]
    },
    {
     "name": "stdout",
     "output_type": "stream",
     "text": [
      "Article: 'General System theory, Like-Quantum Semantics and Fuzzy Sets'\n",
      " Classification: {'explanation': 'i agree with the previous evaluation that the article is only slightly relevant to the query. while the article mentions quantum formalism and quantum semantics, it does not specifically discuss loop quantum cosmology or alternative theories to quantum mechanics. the focus is on applying quantum principles to general systems theory and fuzzy sets, which is a related but distinct topic. however, i think the article shares a bit more than just a similar topic, as it explores the application of quantum principles to a broader context, which could be of interest to researchers exploring alternative approaches to quantum mechanics. therefore, i would rate the relevance slightly higher than 1.', 'eval': 2}\n"
     ]
    },
    {
     "name": "stderr",
     "output_type": "stream",
     "text": [
      "Evaluating articles: 100%|██████████| 5/5 [00:27<00:00,  5.58s/it]\n"
     ]
    },
    {
     "name": "stdout",
     "output_type": "stream",
     "text": [
      "Article: 'Why there is something rather than nothing (out of everything)?'\n",
      " Classification: {'explanation': 'i disagree with the previous evaluation. while the article discusses quantum cosmology, which is related to quantum mechanics, and mentions cosmological instantons, which are relevant to loop quantum cosmology, it does not mention alternatives to quantum mechanics. the focus of the article is on the path integral over euclidean geometries and its relation to cosmology, which is not a direct discussion of alternatives to quantum mechanics. therefore, i would rate its relevance to the query as 1, as it shares a similar topic but does not directly address the key part of the query.', 'eval': 1}\n",
      "                                               title  \\\n",
      "0  Polymer Quantum Mechanics and its Continuum Limit   \n",
      "1  Quantum Group of Isometries in Classical and N...   \n",
      "2  Fermionic superstring loop amplitudes in the p...   \n",
      "3  General System theory, Like-Quantum Semantics ...   \n",
      "4  Why there is something rather than nothing (ou...   \n",
      "\n",
      "                                            abstract  eval  \n",
      "0    A rather non-standard <hi>quantum</hi> repre...     2  \n",
      "1    We formulate a <hi>quantum</hi> generalizati...     1  \n",
      "2    The pure spinor formulation of the ten-dimen...     1  \n",
      "3    It is outlined the possibility to extend the...     2  \n",
      "4    The path integral over Euclidean geometries ...     1  \n",
      "Query: numerical methods for shock compression simulation in materials science\n"
     ]
    },
    {
     "name": "stderr",
     "output_type": "stream",
     "text": [
      "Evaluating articles:  20%|██        | 1/5 [00:01<00:05,  1.34s/it]"
     ]
    },
    {
     "name": "stdout",
     "output_type": "stream",
     "text": [
      "id: 0704.0008\n",
      "Article 'Numerical solution of shock and ramp compression for general material\n",
      "  properties' 0704.0008 evaluated as 1\n"
     ]
    },
    {
     "name": "stderr",
     "output_type": "stream",
     "text": [
      "Evaluating articles:  40%|████      | 2/5 [00:02<00:02,  1.00it/s]"
     ]
    },
    {
     "name": "stdout",
     "output_type": "stream",
     "text": [
      "id: 0704.0043\n",
      "Article 'Nonequilibrium entropy limiters in lattice Boltzmann methods' 0704.0043 evaluated as 1\n"
     ]
    },
    {
     "name": "stderr",
     "output_type": "stream",
     "text": [
      "Evaluating articles:  60%|██████    | 3/5 [00:02<00:01,  1.34it/s]"
     ]
    },
    {
     "name": "stdout",
     "output_type": "stream",
     "text": [
      "id: 0704.0038\n",
      "Article 'The discrete dipole approximation: an overview and recent developments' 0704.0038 evaluated as 0\n"
     ]
    },
    {
     "name": "stderr",
     "output_type": "stream",
     "text": [
      "Evaluating articles:  80%|████████  | 4/5 [00:06<00:02,  2.12s/it]"
     ]
    },
    {
     "name": "stdout",
     "output_type": "stream",
     "text": [
      "id: 0704.0037\n",
      "Article 'The discrete dipole approximation for simulation of light scattering by\n",
      "  particles much larger than the wavelength' 0704.0037 evaluated as 0\n"
     ]
    },
    {
     "name": "stderr",
     "output_type": "stream",
     "text": [
      "Evaluating articles: 100%|██████████| 5/5 [00:07<00:00,  1.46s/it]\n"
     ]
    },
    {
     "name": "stdout",
     "output_type": "stream",
     "text": [
      "id: 0704.0084\n",
      "Article 'Formation of density singularities in ideal hydrodynamics of freely\n",
      "  cooling inelastic gases: a family of exact solutions' 0704.0084 evaluated as 1\n",
      "          id                                              title  \\\n",
      "0  0704.0008  Numerical solution of shock and ramp compressi...   \n",
      "1  0704.0043  Nonequilibrium entropy limiters in lattice Bol...   \n",
      "2  0704.0038  The discrete dipole approximation: an overview...   \n",
      "3  0704.0037  The discrete dipole approximation for simulati...   \n",
      "4  0704.0084  Formation of density singularities in ideal hy...   \n",
      "\n",
      "                                            abstract  eval  \n",
      "0    A general formulation was developed to repre...     1  \n",
      "1    We construct a system of nonequilibrium entr...     1  \n",
      "2    We present a review of the discrete dipole a...     0  \n",
      "3    <hi>In</hi> this manuscript we investigate t...     0  \n",
      "4    We employ granular hydrodynamics to investig...     1  \n",
      "Query: numerical methods for shock compression simulation in materials science\n"
     ]
    },
    {
     "name": "stderr",
     "output_type": "stream",
     "text": [
      "Evaluating articles:   0%|          | 0/5 [00:00<?, ?it/s]"
     ]
    },
    {
     "name": "stdout",
     "output_type": "stream",
     "text": [
      "Error when parsing feedback: Expecting value: line 1 column 1 (char 0)\n"
     ]
    },
    {
     "name": "stderr",
     "output_type": "stream",
     "text": [
      "Evaluating articles:  20%|██        | 1/5 [00:13<00:53, 13.32s/it]"
     ]
    },
    {
     "name": "stdout",
     "output_type": "stream",
     "text": [
      "Article: 'Numerical solution of shock and ramp compression for general material\n",
      "  properties'\n",
      " Classification: {'explanation': \"the article is highly relevant to the query as it discusses numerical methods for shock compression simulation in materials science. the article's title and content directly match the query, and the methods developed in the article are specifically designed for simulating shock compression in materials. the article provides a general formulation for material models and numerical methods for calculating response to shock and ramp compression, which is exactly what the query is asking for. therefore, i agree with the previous evaluation.\", 'eval': 3}\n"
     ]
    },
    {
     "name": "stderr",
     "output_type": "stream",
     "text": [
      "Evaluating articles:  40%|████      | 2/5 [00:22<00:32, 10.87s/it]"
     ]
    },
    {
     "name": "stdout",
     "output_type": "stream",
     "text": [
      "Article: 'Nonequilibrium entropy limiters in lattice Boltzmann methods'\n",
      " Classification: {'explanation': \"i agree with the previous evaluation. the article discusses numerical methods, specifically lattice boltzmann methods, and their application to shock simulations, which aligns with the query. although it doesn't explicitly mention materials science, the methods and techniques described could be applicable to that field. the focus on lattice boltzmann methods and entropy limiters makes it relevant but not entirely specific to the query, hence a score of 2.\", 'eval': 2}\n"
     ]
    },
    {
     "name": "stderr",
     "output_type": "stream",
     "text": [
      "Evaluating articles:  60%|██████    | 3/5 [00:32<00:21, 10.69s/it]"
     ]
    },
    {
     "name": "stdout",
     "output_type": "stream",
     "text": [
      "Article: 'The discrete dipole approximation: an overview and recent developments'\n",
      " Classification: {'explanation': \"while the article primarily focuses on the discrete dipole approximation for simulating light scattering, it does mention numerical methods, which is a relevant aspect of the query. however, the context and application of numerical methods in the article are significantly different from those in shock compression simulation in materials science. therefore, i believe the article has some indirect connection to the query, but it's not directly relevant.\", 'eval': 1}\n",
      "Error when parsing feedback: Expecting value: line 1 column 1 (char 0)\n"
     ]
    },
    {
     "name": "stderr",
     "output_type": "stream",
     "text": [
      "Evaluating articles:  80%|████████  | 4/5 [00:56<00:15, 15.73s/it]"
     ]
    },
    {
     "name": "stdout",
     "output_type": "stream",
     "text": [
      "Article: 'The discrete dipole approximation for simulation of light scattering by\n",
      "  particles much larger than the wavelength'\n",
      " Classification: {'explanation': \"i agree with the previous evaluation that the article is not relevant to the query 'numerical methods for shock compression simulation in materials science'. the article focuses on the discrete dipole approximation (dda) for simulating light scattering by particles, which is unrelated to shock compression simulation in materials science. the content of the article does not mention shock compression or materials science at all. however, i wouldn't rate it as 0, as both articles discuss numerical simulations, although in different contexts. therefore, i rate it as 1, indicating a slight relevance due to the shared topic of numerical simulations.\", 'eval': 1}\n"
     ]
    },
    {
     "name": "stderr",
     "output_type": "stream",
     "text": [
      "Evaluating articles: 100%|██████████| 5/5 [01:05<00:00, 13.06s/it]\n"
     ]
    },
    {
     "name": "stdout",
     "output_type": "stream",
     "text": [
      "Article: 'Formation of density singularities in ideal hydrodynamics of freely\n",
      "  cooling inelastic gases: a family of exact solutions'\n",
      " Classification: {'explanation': \"i partially agree with the previous evaluation, but i think the relevance is slightly higher. the article does mention 'shock' and 'numerical solutions', which are related to the query. although the main topic is focused on ideal hydrodynamics of freely cooling inelastic gases, the mention of numerical methods and shock discontinuity makes the article more relevant to the query than just a slight connection. the article's focus is not on materials science or shock compression simulation, but the overlap is more significant than a score of 1 would suggest.\", 'eval': 2}\n",
      "                                               title  \\\n",
      "0  Numerical solution of shock and ramp compressi...   \n",
      "1  Nonequilibrium entropy limiters in lattice Bol...   \n",
      "2  The discrete dipole approximation: an overview...   \n",
      "3  The discrete dipole approximation for simulati...   \n",
      "4  Formation of density singularities in ideal hy...   \n",
      "\n",
      "                                            abstract  eval  \n",
      "0    A general formulation was developed to repre...     3  \n",
      "1    We construct a system of nonequilibrium entr...     2  \n",
      "2    We present a review of the discrete dipole a...     1  \n",
      "3    <hi>In</hi> this manuscript we investigate t...     1  \n",
      "4    We employ granular hydrodynamics to investig...     2  \n",
      "Query: spitzer survey of young stellar objects in the serpens star-forming region\n"
     ]
    },
    {
     "name": "stderr",
     "output_type": "stream",
     "text": [
      "Evaluating articles:  20%|██        | 1/5 [00:08<00:34,  8.70s/it]"
     ]
    },
    {
     "name": "stdout",
     "output_type": "stream",
     "text": [
      "id: 0704.0009\n",
      "Article 'The Spitzer c2d Survey of Large, Nearby, Insterstellar Clouds. IX. The\n",
      "  Serpens YSO Population As Observed With IRAC and MIPS' 0704.0009 evaluated as 1\n"
     ]
    },
    {
     "name": "stderr",
     "output_type": "stream",
     "text": [
      "Evaluating articles:  40%|████      | 2/5 [00:09<00:12,  4.18s/it]"
     ]
    },
    {
     "name": "stdout",
     "output_type": "stream",
     "text": [
      "id: 0704.0069\n",
      "Article 'Dynamical Objects for Cohomologically Expanding Maps' 0704.0069 evaluated as 0\n"
     ]
    },
    {
     "name": "stderr",
     "output_type": "stream",
     "text": [
      "Evaluating articles:  60%|██████    | 3/5 [00:10<00:05,  2.51s/it]"
     ]
    },
    {
     "name": "stdout",
     "output_type": "stream",
     "text": [
      "id: 0704.0041\n",
      "Article 'Quantum Group of Isometries in Classical and Noncommutative Geometry' 0704.0041 evaluated as 0\n"
     ]
    },
    {
     "name": "stderr",
     "output_type": "stream",
     "text": [
      "Evaluating articles:  80%|████████  | 4/5 [00:11<00:01,  1.92s/it]"
     ]
    },
    {
     "name": "stdout",
     "output_type": "stream",
     "text": [
      "id: 0704.0080\n",
      "Article 'Shaping the Globular Cluster Mass Function by Stellar-Dynamical\n",
      "  Evaporation' 0704.0080 evaluated as 0\n"
     ]
    },
    {
     "name": "stderr",
     "output_type": "stream",
     "text": [
      "Evaluating articles: 100%|██████████| 5/5 [00:13<00:00,  2.62s/it]\n"
     ]
    },
    {
     "name": "stdout",
     "output_type": "stream",
     "text": [
      "id: 0704.0100\n",
      "Article 'Topology Change of Black Holes' 0704.0100 evaluated as 0\n",
      "          id                                              title  \\\n",
      "0  0704.0009  The Spitzer c2d Survey of Large, Nearby, Inste...   \n",
      "1  0704.0069  Dynamical Objects for Cohomologically Expandin...   \n",
      "2  0704.0041  Quantum Group of Isometries in Classical and N...   \n",
      "3  0704.0080  Shaping the Globular Cluster Mass Function by ...   \n",
      "4  0704.0100                     Topology Change of Black Holes   \n",
      "\n",
      "                                            abstract  eval  \n",
      "0    We discuss <hi>the</hi> results from <hi>the...     1  \n",
      "1    <hi>The</hi> goal <hi>of</hi> this paper is ...     0  \n",
      "2    We formulate a quantum generalization <hi>of...     0  \n",
      "3    We show that <hi>the</hi> globular cluster m...     0  \n",
      "4    <hi>The</hi> topological structure <hi>of</h...     0  \n",
      "Query: spitzer survey of young stellar objects in the serpens star-forming region\n"
     ]
    },
    {
     "name": "stderr",
     "output_type": "stream",
     "text": [
      "Evaluating articles:  20%|██        | 1/5 [00:04<00:19,  4.79s/it]"
     ]
    },
    {
     "name": "stdout",
     "output_type": "stream",
     "text": [
      "Article: 'The Spitzer c2d Survey of Large, Nearby, Insterstellar Clouds. IX. The\n",
      "  Serpens YSO Population As Observed With IRAC and MIPS'\n",
      " Classification: {'explanation': \"the article is a perfect match for the query. it discusses the spitzer survey of young stellar objects (ysos) in the serpens star-forming region, which is exactly what the query is asking for. the article presents results from the spitzer survey, including the identification of ysos, their properties, and comparative analysis with theoretical models. the query is directly addressed in the article's title and content.\", 'eval': 3}\n"
     ]
    },
    {
     "name": "stderr",
     "output_type": "stream",
     "text": [
      "Evaluating articles:  40%|████      | 2/5 [00:16<00:26,  8.80s/it]"
     ]
    },
    {
     "name": "stdout",
     "output_type": "stream",
     "text": [
      "Article: 'Dynamical Objects for Cohomologically Expanding Maps'\n",
      " Classification: {'explanation': 'the article appears to be a highly technical and mathematical paper discussing dynamical systems, cohomology, and sheaf theory, with no mention of astronomy, stellar objects, or the serpens star-forming region. the query, on the other hand, is specific to a survey of young stellar objects in a particular region of space. there is no obvious connection between the two, and the article does not seem to be related to the query at all.', 'eval': 0}\n"
     ]
    },
    {
     "name": "stderr",
     "output_type": "stream",
     "text": [
      "Evaluating articles:  60%|██████    | 3/5 [00:17<00:10,  5.49s/it]"
     ]
    },
    {
     "name": "stdout",
     "output_type": "stream",
     "text": [
      "Article: 'Quantum Group of Isometries in Classical and Noncommutative Geometry'\n",
      " Classification: {'explanation': 'i agree with the previous evaluation that the article is unrelated to the query about the spitzer survey of young stellar objects in the serpens star-forming region. the article is focused on quantum isometry groups and noncommutative geometry, which is a completely different field from astronomy and astrophysics. there is no apparent connection between the two topics. the article does not mention anything about astronomy, astrophysics, or the spitzer survey, making it irrelevant to the query.', 'eval': 0}\n"
     ]
    },
    {
     "name": "stderr",
     "output_type": "stream",
     "text": [
      "Evaluating articles:  80%|████████  | 4/5 [00:26<00:06,  6.72s/it]"
     ]
    },
    {
     "name": "stdout",
     "output_type": "stream",
     "text": [
      "Article: 'Shaping the Globular Cluster Mass Function by Stellar-Dynamical\n",
      "  Evaporation'\n",
      " Classification: {'explanation': 'i agree with the previous evaluation. the article is focused on the globular cluster mass function and its relation to cluster half-mass density, while the query is about a spitzer survey of young stellar objects in the serpens star-forming region. there is no apparent connection between the two topics, and the article does not mention the spitzer survey, young stellar objects, or the serpens star-forming region. the topics are unrelated, and the article does not provide any relevant information to the query.', 'eval': 0}\n"
     ]
    },
    {
     "name": "stderr",
     "output_type": "stream",
     "text": [
      "Evaluating articles: 100%|██████████| 5/5 [00:29<00:00,  5.97s/it]\n"
     ]
    },
    {
     "name": "stdout",
     "output_type": "stream",
     "text": [
      "Article: 'Topology Change of Black Holes'\n",
      " Classification: {'explanation': 'i agree with the previous evaluation. the article discusses the topological structure of black holes, which is a completely different topic from the query about a spitzer survey of young stellar objects in the serpens star-forming region. there is no mention of stellar objects, star-forming regions, or the spitzer survey in the article.', 'eval': 0}\n",
      "                                               title  \\\n",
      "0  The Spitzer c2d Survey of Large, Nearby, Inste...   \n",
      "1  Dynamical Objects for Cohomologically Expandin...   \n",
      "2  Quantum Group of Isometries in Classical and N...   \n",
      "3  Shaping the Globular Cluster Mass Function by ...   \n",
      "4                     Topology Change of Black Holes   \n",
      "\n",
      "                                            abstract  eval  \n",
      "0    We discuss <hi>the</hi> results from <hi>the...     3  \n",
      "1    <hi>The</hi> goal <hi>of</hi> this paper is ...     0  \n",
      "2    We formulate a quantum generalization <hi>of...     0  \n",
      "3    We show that <hi>the</hi> globular cluster m...     0  \n",
      "4    <hi>The</hi> topological structure <hi>of</h...     0  \n",
      "Query: characterizing and constructing partial cubes using graph theory and hypercubes\n"
     ]
    },
    {
     "name": "stderr",
     "output_type": "stream",
     "text": [
      "Evaluating articles:  20%|██        | 1/5 [00:05<00:23,  5.79s/it]"
     ]
    },
    {
     "name": "stdout",
     "output_type": "stream",
     "text": [
      "id: 0704.0010\n",
      "Article 'Partial cubes: structures, characterizations, and constructions' 0704.0010 evaluated as 1\n"
     ]
    },
    {
     "name": "stderr",
     "output_type": "stream",
     "text": [
      "Evaluating articles:  40%|████      | 2/5 [00:10<00:15,  5.19s/it]"
     ]
    },
    {
     "name": "stdout",
     "output_type": "stream",
     "text": [
      "id: 0704.0002\n",
      "Article 'Sparsity-certifying Graph Decompositions' 0704.0002 evaluated as 1\n"
     ]
    },
    {
     "name": "stderr",
     "output_type": "stream",
     "text": [
      "Evaluating articles:  60%|██████    | 3/5 [00:10<00:06,  3.00s/it]"
     ]
    },
    {
     "name": "stdout",
     "output_type": "stream",
     "text": [
      "id: 0704.0052\n",
      "Article 'Quantum Field Theory on Curved Backgrounds. II. Spacetime Symmetries' 0704.0052 evaluated as 0\n"
     ]
    },
    {
     "name": "stderr",
     "output_type": "stream",
     "text": [
      "Evaluating articles:  80%|████████  | 4/5 [00:11<00:02,  2.08s/it]"
     ]
    },
    {
     "name": "stdout",
     "output_type": "stream",
     "text": [
      "id: 0704.0087\n",
      "Article 'Approximate solutions to the Dirichlet problem for harmonic maps between\n",
      "  hyperbolic spaces' 0704.0087 evaluated as 0\n"
     ]
    },
    {
     "name": "stderr",
     "output_type": "stream",
     "text": [
      "Evaluating articles: 100%|██████████| 5/5 [00:13<00:00,  2.72s/it]\n"
     ]
    },
    {
     "name": "stdout",
     "output_type": "stream",
     "text": [
      "id: 0704.0097\n",
      "Article 'Conformal Field Theory and Operator Algebras' 0704.0097 evaluated as 0\n",
      "          id                                              title  \\\n",
      "0  0704.0010  Partial cubes: structures, characterizations, ...   \n",
      "1  0704.0002           Sparsity-certifying Graph Decompositions   \n",
      "2  0704.0052  Quantum Field Theory on Curved Backgrounds. II...   \n",
      "3  0704.0087  Approximate solutions to the Dirichlet problem...   \n",
      "4  0704.0097       Conformal Field Theory and Operator Algebras   \n",
      "\n",
      "                                            abstract  eval  \n",
      "0    <hi>Partial</hi> <hi>cubes</hi> are isometri...     1  \n",
      "1    We describe a new algorithm, the $(k,\\ell)$-...     1  \n",
      "2    We study space-time symmetries in scalar qua...     0  \n",
      "3    Our main result in this paper is the followi...     0  \n",
      "4    We review recent progress in operator algebr...     0  \n",
      "Query: characterizing and constructing partial cubes using graph theory and hypercubes\n"
     ]
    },
    {
     "name": "stderr",
     "output_type": "stream",
     "text": [
      "Evaluating articles:  20%|██        | 1/5 [00:08<00:32,  8.04s/it]"
     ]
    },
    {
     "name": "stdout",
     "output_type": "stream",
     "text": [
      "Article: 'Partial cubes: structures, characterizations, and constructions'\n",
      " Classification: {'explanation': \"i agree with the previous evaluation because the article's title 'partial cubes: structures, characterizations, and constructions' directly addresses the query 'characterizing and constructing partial cubes using graph theory and hypercubes'. the article's content also explicitly mentions characterizing and constructing partial cubes using graph theory and hypercubes, which aligns with the query. the query's key concepts, such as 'partial cubes', 'characterizing', 'constructing', 'graph theory', and 'hypercubes', are all addressed in the article, making it a perfect match.\", 'eval': 3}\n"
     ]
    },
    {
     "name": "stderr",
     "output_type": "stream",
     "text": [
      "Evaluating articles:  40%|████      | 2/5 [00:15<00:23,  7.83s/it]"
     ]
    },
    {
     "name": "stdout",
     "output_type": "stream",
     "text": [
      "Article: 'Sparsity-certifying Graph Decompositions'\n",
      " Classification: {'explanation': 'i agree with the previous evaluation that the article is only slightly relevant to the query. while the article discusses graph theory, which is related to the query, it focuses on sparse graphs and pebble games, which is not directly related to characterizing and constructing partial cubes using graph theory and hypercubes. the connection is too indirect to be considered highly relevant.', 'eval': 1}\n"
     ]
    },
    {
     "name": "stderr",
     "output_type": "stream",
     "text": [
      "Evaluating articles:  60%|██████    | 3/5 [00:23<00:15,  7.71s/it]"
     ]
    },
    {
     "name": "stdout",
     "output_type": "stream",
     "text": [
      "Article: 'Quantum Field Theory on Curved Backgrounds. II. Spacetime Symmetries'\n",
      " Classification: {'explanation': \"the article is about quantum field theory on curved backgrounds, specifically discussing spacetime symmetries, whereas the query is about characterizing and constructing partial cubes using graph theory and hypercubes. there is no connection between the two topics, as quantum field theory is a concept in physics, while graph theory and hypercubes are concepts in mathematics and computer science. however, since both topics involve abstract mathematical concepts, i wouldn't say they have absolutely no relevance. hence, a score of 1 is reasonable, indicating a very slight relevance due to sharing a similar mathematical context.\", 'eval': 1}\n"
     ]
    },
    {
     "name": "stderr",
     "output_type": "stream",
     "text": [
      "Evaluating articles:  80%|████████  | 4/5 [00:27<00:06,  6.51s/it]"
     ]
    },
    {
     "name": "stdout",
     "output_type": "stream",
     "text": [
      "Article: 'Approximate solutions to the Dirichlet problem for harmonic maps between\n",
      "  hyperbolic spaces'\n",
      " Classification: {'explanation': 'the article discusses harmonic maps between hyperbolic spaces, which seems to be unrelated to characterizing and constructing partial cubes using graph theory and hypercubes. there is no mention of graph theory, hypercubes, or partial cubes in the article. although the article mentions hyperbolic spaces, it is not clear how it is related to hypercubes. therefore, i agree with the previous evaluation that the article is not very relevant to the query.', 'eval': 1}\n"
     ]
    },
    {
     "name": "stderr",
     "output_type": "stream",
     "text": [
      "Evaluating articles: 100%|██████████| 5/5 [00:34<00:00,  6.90s/it]"
     ]
    },
    {
     "name": "stdout",
     "output_type": "stream",
     "text": [
      "Article: 'Conformal Field Theory and Operator Algebras'\n",
      " Classification: {'explanation': 'i agree with the previous evaluation that the article is not relevant to the query. the article focuses on conformal field theory and operator algebras, with an emphasis on representation theory, which is a completely different topic from graph theory and hypercubes. there is no apparent connection between the two topics, making the article not relevant to the query.', 'eval': 0}\n",
      "                                               title  \\\n",
      "0  Partial cubes: structures, characterizations, ...   \n",
      "1           Sparsity-certifying Graph Decompositions   \n",
      "2  Quantum Field Theory on Curved Backgrounds. II...   \n",
      "3  Approximate solutions to the Dirichlet problem...   \n",
      "4       Conformal Field Theory and Operator Algebras   \n",
      "\n",
      "                                            abstract  eval  \n",
      "0    <hi>Partial</hi> <hi>cubes</hi> are isometri...     3  \n",
      "1    We describe a new algorithm, the $(k,\\ell)$-...     1  \n",
      "2    We study space-time symmetries in scalar qua...     1  \n",
      "3    Our main result in this paper is the followi...     1  \n",
      "4    We review recent progress in operator algebr...     0  \n"
     ]
    },
    {
     "name": "stderr",
     "output_type": "stream",
     "text": [
      "\n"
     ]
    }
   ],
   "source": [
    "def average_precision(relevances):\n",
    "    relevant = np.where(relevances == 1)[0] + 1  # get positions of relevant docs, +1 because index is zero-based\n",
    "    if len(relevant) == 0:\n",
    "        return 0\n",
    "    precision_at_k = np.cumsum(relevances) / (np.arange(len(relevances)) + 1)\n",
    "    return np.sum(precision_at_k[relevances == 1]) / len(relevant)\n",
    "\n",
    "def dcg(relevances):\n",
    "    k = len(relevances)\n",
    "    relevances = np.asfarray(relevances)[:k]\n",
    "    if relevances.size:\n",
    "        return relevances[0] + np.sum(relevances[1:] / np.log2(np.arange(2, relevances.size + 1)))\n",
    "    return 0\n",
    "\n",
    "def ndcg(relevances):\n",
    "    k = len(relevances)\n",
    "    dcg_val = dcg(relevances)\n",
    "    ideal_relevances = sorted(relevances, reverse=True)\n",
    "    idcg_val = dcg(ideal_relevances)\n",
    "    return dcg_val / idcg_val if idcg_val > 0 else 0\n",
    "\n",
    "with open(DATA_DIR + \"queries.json\") as f:\n",
    "    queries = f.readlines()\n",
    "    queries = [json.loads(line) for line in queries]\n",
    "\n",
    "aps = {}\n",
    "ndcgs_levels = {}\n",
    "ndcgs_boolean = {}\n",
    "\n",
    "for query_obj in queries[:10]:\n",
    "    query = query_obj['query']\n",
    "    search_results = search_engine.search(query, 5)\n",
    "    search_results.rename(columns={'body': 'abstract'}, inplace=True)\n",
    "\n",
    "    evaluated_results_boolean = evaluate_articles_boolean(search_results.to_dict(orient=\"records\"), query)\n",
    "    evaluated_results_boolean = pd.DataFrame(evaluated_results_boolean)\n",
    "    evaluated_results_boolean['eval'] = pd.to_numeric(evaluated_results_boolean['eval'])\n",
    "    print(evaluated_results_boolean)\n",
    "\n",
    "    evaluated_results_levels = evaluate_articles_levels(search_results.to_dict(orient=\"records\"), query)\n",
    "    evaluated_results_levels = pd.DataFrame(evaluated_results_levels)\n",
    "    evaluated_results_levels['eval'] = pd.to_numeric(evaluated_results_levels['eval'])\n",
    "    print(evaluated_results_levels)\n",
    "\n",
    "    aps[query_obj['id']] = average_precision(evaluated_results_boolean['eval'])\n",
    "    ndcgs_levels[query_obj['id']] = ndcg(evaluated_results_levels['eval'])\n",
    "    ndcgs_boolean[query_obj['id']] = ndcg(evaluated_results_boolean['eval'])\n"
   ]
  },
  {
   "cell_type": "code",
   "execution_count": 3,
   "metadata": {},
   "outputs": [
    {
     "data": {
      "text/plain": [
       "{'0704.0001': 0.8154648767857288,\n",
       " '0704.0002': 1.0,\n",
       " '0704.0003': 0.7153382790366966,\n",
       " '0704.0004': 1.0,\n",
       " '0704.0005': 0.7338381252682711,\n",
       " '0704.0006': 1.0,\n",
       " '0704.0007': 1.0,\n",
       " '0704.0008': 0.9238850086262381,\n",
       " '0704.0009': 1.0,\n",
       " '0704.0010': 1.0}"
      ]
     },
     "execution_count": 3,
     "metadata": {},
     "output_type": "execute_result"
    }
   ],
   "source": [
    "ndcgs_boolean"
   ]
  },
  {
   "cell_type": "code",
   "execution_count": 4,
   "metadata": {},
   "outputs": [
    {
     "data": {
      "text/plain": [
       "{'0704.0001': 1.0,\n",
       " '0704.0002': 1.0,\n",
       " '0704.0003': 0.9567574534371579,\n",
       " '0704.0004': 0.9609713628687518,\n",
       " '0704.0005': 1.0,\n",
       " '0704.0006': 1.0,\n",
       " '0704.0007': 0.9100979156052266,\n",
       " '0704.0008': 0.9721581937605421,\n",
       " '0704.0009': 1.0,\n",
       " '0704.0010': 1.0}"
      ]
     },
     "execution_count": 4,
     "metadata": {},
     "output_type": "execute_result"
    }
   ],
   "source": [
    "ndcgs_levels"
   ]
  },
  {
   "cell_type": "code",
   "execution_count": 5,
   "metadata": {},
   "outputs": [
    {
     "data": {
      "text/plain": [
       "{'0704.0001': 0.8333333333333333,\n",
       " '0704.0002': 1.0,\n",
       " '0704.0003': 0.7,\n",
       " '0704.0004': 1.0,\n",
       " '0704.0005': 0.7000000000000001,\n",
       " '0704.0006': 1.0,\n",
       " '0704.0007': 1.0,\n",
       " '0704.0008': 0.8666666666666667,\n",
       " '0704.0009': 1.0,\n",
       " '0704.0010': 1.0}"
      ]
     },
     "execution_count": 5,
     "metadata": {},
     "output_type": "execute_result"
    }
   ],
   "source": [
    "aps"
   ]
  },
  {
   "cell_type": "code",
   "execution_count": 6,
   "metadata": {},
   "outputs": [],
   "source": [
    "# transform aps, ndcgs_levels, ndcgs_boolean to a dataframe\n",
    "\n",
    "df = pd.DataFrame([aps, ndcgs_levels, ndcgs_boolean]).T\n",
    "df.columns = ['AP', 'NDCG_levels', 'NDCG_boolean']"
   ]
  },
  {
   "cell_type": "code",
   "execution_count": 7,
   "metadata": {},
   "outputs": [
    {
     "data": {
      "text/html": [
       "<div>\n",
       "<style scoped>\n",
       "    .dataframe tbody tr th:only-of-type {\n",
       "        vertical-align: middle;\n",
       "    }\n",
       "\n",
       "    .dataframe tbody tr th {\n",
       "        vertical-align: top;\n",
       "    }\n",
       "\n",
       "    .dataframe thead th {\n",
       "        text-align: right;\n",
       "    }\n",
       "</style>\n",
       "<table border=\"1\" class=\"dataframe\">\n",
       "  <thead>\n",
       "    <tr style=\"text-align: right;\">\n",
       "      <th></th>\n",
       "      <th>0704.0001</th>\n",
       "      <th>0704.0002</th>\n",
       "      <th>0704.0003</th>\n",
       "      <th>0704.0004</th>\n",
       "      <th>0704.0005</th>\n",
       "      <th>0704.0006</th>\n",
       "      <th>0704.0007</th>\n",
       "      <th>0704.0008</th>\n",
       "      <th>0704.0009</th>\n",
       "      <th>0704.0010</th>\n",
       "    </tr>\n",
       "  </thead>\n",
       "  <tbody>\n",
       "    <tr>\n",
       "      <th>AP</th>\n",
       "      <td>0.833333</td>\n",
       "      <td>1.0</td>\n",
       "      <td>0.700000</td>\n",
       "      <td>1.000000</td>\n",
       "      <td>0.700000</td>\n",
       "      <td>1.0</td>\n",
       "      <td>1.000000</td>\n",
       "      <td>0.866667</td>\n",
       "      <td>1.0</td>\n",
       "      <td>1.0</td>\n",
       "    </tr>\n",
       "    <tr>\n",
       "      <th>NDCG_levels</th>\n",
       "      <td>1.000000</td>\n",
       "      <td>1.0</td>\n",
       "      <td>0.956757</td>\n",
       "      <td>0.960971</td>\n",
       "      <td>1.000000</td>\n",
       "      <td>1.0</td>\n",
       "      <td>0.910098</td>\n",
       "      <td>0.972158</td>\n",
       "      <td>1.0</td>\n",
       "      <td>1.0</td>\n",
       "    </tr>\n",
       "    <tr>\n",
       "      <th>NDCG_boolean</th>\n",
       "      <td>0.815465</td>\n",
       "      <td>1.0</td>\n",
       "      <td>0.715338</td>\n",
       "      <td>1.000000</td>\n",
       "      <td>0.733838</td>\n",
       "      <td>1.0</td>\n",
       "      <td>1.000000</td>\n",
       "      <td>0.923885</td>\n",
       "      <td>1.0</td>\n",
       "      <td>1.0</td>\n",
       "    </tr>\n",
       "  </tbody>\n",
       "</table>\n",
       "</div>"
      ],
      "text/plain": [
       "              0704.0001  0704.0002  0704.0003  0704.0004  0704.0005  \\\n",
       "AP             0.833333        1.0   0.700000   1.000000   0.700000   \n",
       "NDCG_levels    1.000000        1.0   0.956757   0.960971   1.000000   \n",
       "NDCG_boolean   0.815465        1.0   0.715338   1.000000   0.733838   \n",
       "\n",
       "              0704.0006  0704.0007  0704.0008  0704.0009  0704.0010  \n",
       "AP                  1.0   1.000000   0.866667        1.0        1.0  \n",
       "NDCG_levels         1.0   0.910098   0.972158        1.0        1.0  \n",
       "NDCG_boolean        1.0   1.000000   0.923885        1.0        1.0  "
      ]
     },
     "execution_count": 7,
     "metadata": {},
     "output_type": "execute_result"
    }
   ],
   "source": [
    "df.T"
   ]
  },
  {
   "cell_type": "code",
   "execution_count": 10,
   "metadata": {},
   "outputs": [],
   "source": [
    "from sheets_connection import SaveMetrics\n",
    "\n",
    "save_metrics = SaveMetrics()\n",
    "\n",
    "save_metrics.append_metrics('ndcg_binary_map', df.T)"
   ]
  }
 ],
 "metadata": {
  "kernelspec": {
   "display_name": "proj",
   "language": "python",
   "name": "python3"
  },
  "language_info": {
   "codemirror_mode": {
    "name": "ipython",
    "version": 3
   },
   "file_extension": ".py",
   "mimetype": "text/x-python",
   "name": "python",
   "nbconvert_exporter": "python",
   "pygments_lexer": "ipython3",
   "version": "3.10.12"
  }
 },
 "nbformat": 4,
 "nbformat_minor": 2
}
