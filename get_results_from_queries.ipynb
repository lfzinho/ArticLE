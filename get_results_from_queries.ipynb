{
 "cells": [
  {
   "cell_type": "code",
   "execution_count": 13,
   "metadata": {},
   "outputs": [],
   "source": [
    "from search_engine_versions.bm25_body_title import SearchEngine as SearchEngineBM25BT\n",
    "from search_engine_versions.bm25_body import SearchEngine as SearchEngineBM25B\n",
    "from search_engine_versions.bm25_title import SearchEngine as SearchEngineBM25T\n",
    "from search_engine_versions.hybrid import SearchEngine as SearchEngineHybrid\n",
    "from search_engine_versions.max_sim_complete_backup import SearchEngine as SearchEngineMaxSim\n",
    "from search_engine_versions.max_sim_global_chunks import SearchEngine as SearchEngineMaxSimGlobalChunks\n",
    "from search_engine_versions.max_sim_global_sentences import SearchEngine as SearchEngineMaxSimGlobalSentences\n",
    "from search_engine_versions.max_sim_local_chunks import SearchEngine as SearchEngineMaxSimLocalChunks\n",
    "from search_engine_versions.max_sim_local_sentences import SearchEngine as SearchEngineMaxSimLocalSentences\n",
    "from query_evaluator import evaluate_articles_boolean, evaluate_articles_levels\n",
    "from query_generator import generate_and_save_queries\n",
    "import numpy as np\n",
    "import pandas as pd\n",
    "import json\n",
    "\n",
    "\n",
    "# For queries gen\n",
    "# path = './app/data/example.json'\n",
    "# with open(path, 'r', encoding='utf-8') as f:\n",
    "#     data = f.readlines()\n",
    "#     data = [json.loads(line) for line in data]\n",
    "# generate_and_save_queries(data, num_queries=100, output_path='./app/data/queries.json')\n",
    "\n",
    "DATA_DIR = \"./app/data/\"\n",
    "DATA_FILES = [\"example.json\"]\n",
    "SPLIT_SIZE_LIMIT = 100\n",
    "\n",
    "search_engines = {}\n",
    "search_engines_dict = {\n",
    "    \"bm25bt\": SearchEngineBM25BT, \n",
    "    \"bm25b\": SearchEngineBM25B,\n",
    "    \"bm25t\": SearchEngineBM25T,\n",
    "    \"hybrid\": SearchEngineHybrid,\n",
    "    \"maxsim\": SearchEngineMaxSim,\n",
    "    \"maxsimglobalchunks\": SearchEngineMaxSimGlobalChunks,\n",
    "    \"maxsimglobalsentences\": SearchEngineMaxSimGlobalSentences,\n",
    "    \"maxsimlocalchunks\": SearchEngineMaxSimLocalChunks,\n",
    "    \"maxsimlocalsentences\": SearchEngineMaxSimLocalSentences,\n",
    "}\n",
    "\n",
    "# for search_engine in search_engines_list:\n",
    "#     search_engine.feed_json(DATA_DIR, DATA_FILES, SPLIT_SIZE_LIMIT)\n",
    "#     search_engines[search_engine.name] = search_engine\n"
   ]
  },
  {
   "cell_type": "code",
   "execution_count": 14,
   "metadata": {},
   "outputs": [],
   "source": [
    "def average_precision(relevances):\n",
    "    relevant = np.where(relevances == 1)[0] + 1  # get positions of relevant docs, +1 because index is zero-based\n",
    "    if len(relevant) == 0:\n",
    "        return 0\n",
    "    precision_at_k = np.cumsum(relevances) / (np.arange(len(relevances)) + 1)\n",
    "    return np.sum(precision_at_k[relevances == 1]) / len(relevant)\n",
    "\n",
    "def dcg(relevances):\n",
    "    k = len(relevances)\n",
    "    relevances = np.asfarray(relevances)[:k]\n",
    "    if relevances.size:\n",
    "        return relevances[0] + np.sum(relevances[1:] / np.log2(np.arange(2, relevances.size + 1)))\n",
    "    return 0\n",
    "\n",
    "def ndcg(relevances):\n",
    "    k = len(relevances)\n",
    "    dcg_val = dcg(relevances)\n",
    "    ideal_relevances = sorted(relevances, reverse=True)\n",
    "    idcg_val = dcg(ideal_relevances)\n",
    "    return dcg_val / idcg_val if idcg_val > 0 else 0\n",
    "\n",
    "with open(DATA_DIR + \"queries.json\") as f:\n",
    "    queries = f.readlines()\n",
    "    queries = [json.loads(line) for line in queries]\n",
    "\n",
    "\n",
    "def test_search_engine(SearchEngine, name):\n",
    "    search_engine = SearchEngine()\n",
    "    search_engine.feed_json(DATA_DIR, DATA_FILES, SPLIT_SIZE_LIMIT)\n",
    "    search_engines[name] = search_engine\n",
    "\n",
    "    aps = {}\n",
    "    ndcgs_levels = {}\n",
    "    ndcgs_boolean = {}\n",
    "\n",
    "    for query_obj in queries[:10]:\n",
    "        query = query_obj['query']\n",
    "        search_results = search_engine.search(query, 5)\n",
    "        search_results.rename(columns={'body': 'abstract'}, inplace=True)\n",
    "\n",
    "        evaluated_results_boolean = evaluate_articles_boolean(search_results.to_dict(orient=\"records\"), query, verbose=False)\n",
    "        evaluated_results_boolean = pd.DataFrame(evaluated_results_boolean)\n",
    "        evaluated_results_boolean['eval'] = pd.to_numeric(evaluated_results_boolean['eval'])\n",
    "        print(evaluated_results_boolean)\n",
    "\n",
    "        evaluated_results_levels = evaluate_articles_levels(search_results.to_dict(orient=\"records\"), query, verbose=False)\n",
    "        evaluated_results_levels = pd.DataFrame(evaluated_results_levels)\n",
    "        evaluated_results_levels['eval'] = pd.to_numeric(evaluated_results_levels['eval'])\n",
    "        print(evaluated_results_levels)\n",
    "\n",
    "        aps[query_obj['id']] = average_precision(evaluated_results_boolean['eval'])\n",
    "        ndcgs_levels[query_obj['id']] = ndcg(evaluated_results_levels['eval'])\n",
    "        ndcgs_boolean[query_obj['id']] = ndcg(evaluated_results_boolean['eval'])\n",
    "    \n",
    "    metrics = {\n",
    "        'aps': aps,\n",
    "        'ndcgs_levels': ndcgs_levels,\n",
    "        'ndcgs_boolean': ndcgs_boolean\n",
    "    }\n",
    "    return metrics\n"
   ]
  },
  {
   "cell_type": "code",
   "execution_count": 16,
   "metadata": {},
   "outputs": [
    {
     "name": "stdout",
     "output_type": "stream",
     "text": [
      "running for  bm25bt\n",
      "Waiting for configuration server, 0/300 seconds...\n",
      "Waiting for configuration server, 5/300 seconds...\n",
      "Using plain http against endpoint http://localhost:8080/ApplicationStatus\n",
      "Waiting for application status, 0/300 seconds...\n",
      "Using plain http against endpoint http://localhost:8080/ApplicationStatus\n",
      "Waiting for application status, 5/300 seconds...\n",
      "Using plain http against endpoint http://localhost:8080/ApplicationStatus\n",
      "Waiting for application status, 10/300 seconds...\n",
      "Using plain http against endpoint http://localhost:8080/ApplicationStatus\n",
      "Waiting for application status, 15/300 seconds...\n",
      "Using plain http against endpoint http://localhost:8080/ApplicationStatus\n",
      "Application is up!\n",
      "Finished deployment.\n"
     ]
    },
    {
     "name": "stderr",
     "output_type": "stream",
     "text": [
      "Evaluating articles:  20%|██        | 1/5 [00:01<00:07,  1.99s/it]"
     ]
    },
    {
     "name": "stdout",
     "output_type": "stream",
     "text": [
      "id: 0704.0001\n"
     ]
    },
    {
     "name": "stderr",
     "output_type": "stream",
     "text": [
      "Evaluating articles:  40%|████      | 2/5 [00:02<00:03,  1.12s/it]"
     ]
    },
    {
     "name": "stdout",
     "output_type": "stream",
     "text": [
      "id: 0704.0060\n"
     ]
    },
    {
     "name": "stderr",
     "output_type": "stream",
     "text": [
      "Evaluating articles:  60%|██████    | 3/5 [00:03<00:02,  1.04s/it]"
     ]
    },
    {
     "name": "stdout",
     "output_type": "stream",
     "text": [
      "id: 0704.0031\n"
     ]
    },
    {
     "name": "stderr",
     "output_type": "stream",
     "text": [
      "Evaluating articles:  80%|████████  | 4/5 [00:04<00:01,  1.03s/it]"
     ]
    },
    {
     "name": "stdout",
     "output_type": "stream",
     "text": [
      "id: 0704.0020\n"
     ]
    },
    {
     "name": "stderr",
     "output_type": "stream",
     "text": [
      "Evaluating articles: 100%|██████████| 5/5 [00:05<00:00,  1.10s/it]\n"
     ]
    },
    {
     "name": "stdout",
     "output_type": "stream",
     "text": [
      "id: 0704.0006\n",
      "          id                                              title  \\\n",
      "0  0704.0001  Calculation of prompt diphoton production cros...   \n",
      "1  0704.0060  Coulomb excitation of unstable nuclei at inter...   \n",
      "2  0704.0031  Crystal channeling of LHC forward protons with...   \n",
      "3  0704.0020  Measurement of the Hadronic Form Factor in D0 ...   \n",
      "4  0704.0006  Bosonic characters of atomic Cooper pairs acro...   \n",
      "\n",
      "                                            abstract  eval  \n",
      "0    A fully differential calculation in perturba...     1  \n",
      "1    We investigate the Coulomb excitation of low...     0  \n",
      "2    We show that crystal can trap a broad (x, x'...     1  \n",
      "3    The shape of the hadronic form factor f+(q2)...     0  \n",
      "4    We study the two-particle wave function of p...     0  \n"
     ]
    },
    {
     "name": "stderr",
     "output_type": "stream",
     "text": [
      "Evaluating articles: 100%|██████████| 5/5 [00:09<00:00,  1.89s/it]\n"
     ]
    },
    {
     "name": "stdout",
     "output_type": "stream",
     "text": [
      "                                               title  \\\n",
      "0  Calculation of prompt diphoton production cros...   \n",
      "1  Coulomb excitation of unstable nuclei at inter...   \n",
      "2  Crystal channeling of LHC forward protons with...   \n",
      "3  Measurement of the Hadronic Form Factor in D0 ...   \n",
      "4  Bosonic characters of atomic Cooper pairs acro...   \n",
      "\n",
      "                                            abstract  eval  \n",
      "0    A fully differential calculation in perturba...     3  \n",
      "1    We investigate the Coulomb excitation of low...     1  \n",
      "2    We show that crystal can trap a broad (x, x'...     1  \n",
      "3    The shape of the hadronic form factor f+(q2)...     1  \n",
      "4    We study the two-particle wave function of p...     0  \n"
     ]
    },
    {
     "name": "stderr",
     "output_type": "stream",
     "text": [
      "Evaluating articles:  20%|██        | 1/5 [00:00<00:03,  1.19it/s]"
     ]
    },
    {
     "name": "stdout",
     "output_type": "stream",
     "text": [
      "id: 0704.0002\n"
     ]
    },
    {
     "name": "stderr",
     "output_type": "stream",
     "text": [
      "Evaluating articles:  40%|████      | 2/5 [00:01<00:02,  1.31it/s]"
     ]
    },
    {
     "name": "stdout",
     "output_type": "stream",
     "text": [
      "id: 0704.0098\n"
     ]
    },
    {
     "name": "stderr",
     "output_type": "stream",
     "text": [
      "Evaluating articles:  60%|██████    | 3/5 [00:03<00:02,  1.15s/it]"
     ]
    },
    {
     "name": "stdout",
     "output_type": "stream",
     "text": [
      "id: 0704.0072\n"
     ]
    },
    {
     "name": "stderr",
     "output_type": "stream",
     "text": [
      "Evaluating articles:  80%|████████  | 4/5 [00:03<00:00,  1.08it/s]"
     ]
    },
    {
     "name": "stdout",
     "output_type": "stream",
     "text": [
      "id: 0704.0010\n"
     ]
    },
    {
     "name": "stderr",
     "output_type": "stream",
     "text": [
      "Evaluating articles: 100%|██████████| 5/5 [00:04<00:00,  1.13it/s]\n"
     ]
    },
    {
     "name": "stdout",
     "output_type": "stream",
     "text": [
      "id: 0704.0026\n",
      "          id                                              title  \\\n",
      "0  0704.0002           Sparsity-certifying Graph Decompositions   \n",
      "1  0704.0098  Sparsely-spread CDMA - a statistical mechanics...   \n",
      "2  0704.0072  The decomposition method and Maple procedure f...   \n",
      "3  0704.0010  Partial cubes: structures, characterizations, ...   \n",
      "4  0704.0026  Placeholder Substructures II: Meta-Fractals, M...   \n",
      "\n",
      "                                            abstract  eval  \n",
      "0    We describe a new algorithm, the $(k,\\ell)$-...     1  \n",
      "1    Sparse Code Division Multiple Access (CDMA),...     1  \n",
      "2    In present paper we propose seemingly new me...     0  \n",
      "3    Partial cubes are isometric subgraphs of hyp...     0  \n",
      "4    Zero-divisors (ZDs) derived by Cayley-Dickso...     0  \n"
     ]
    },
    {
     "name": "stderr",
     "output_type": "stream",
     "text": [
      "Evaluating articles:  20%|██        | 1/5 [00:01<00:06,  1.51s/it]"
     ]
    },
    {
     "name": "stdout",
     "output_type": "stream",
     "text": [
      "Error when parsing feedback: Expecting value: line 1 column 1 (char 0)\n"
     ]
    },
    {
     "name": "stderr",
     "output_type": "stream",
     "text": [
      "Evaluating articles: 100%|██████████| 5/5 [00:11<00:00,  2.37s/it]\n"
     ]
    },
    {
     "name": "stdout",
     "output_type": "stream",
     "text": [
      "                                               title  \\\n",
      "0           Sparsity-certifying Graph Decompositions   \n",
      "1  Sparsely-spread CDMA - a statistical mechanics...   \n",
      "2  The decomposition method and Maple procedure f...   \n",
      "3  Partial cubes: structures, characterizations, ...   \n",
      "4  Placeholder Substructures II: Meta-Fractals, M...   \n",
      "\n",
      "                                            abstract  eval  \n",
      "0    We describe a new algorithm, the $(k,\\ell)$-...     3  \n",
      "1    Sparse Code Division Multiple Access (CDMA),...     1  \n",
      "2    In present paper we propose seemingly new me...     0  \n",
      "3    Partial cubes are isometric subgraphs of hyp...     1  \n",
      "4    Zero-divisors (ZDs) derived by Cayley-Dickso...     1  \n"
     ]
    },
    {
     "name": "stderr",
     "output_type": "stream",
     "text": [
      "Evaluating articles:  20%|██        | 1/5 [00:01<00:07,  1.93s/it]"
     ]
    },
    {
     "name": "stdout",
     "output_type": "stream",
     "text": [
      "id: 0704.0003\n"
     ]
    },
    {
     "name": "stderr",
     "output_type": "stream",
     "text": [
      "Evaluating articles:  40%|████      | 2/5 [00:04<00:07,  2.44s/it]"
     ]
    },
    {
     "name": "stdout",
     "output_type": "stream",
     "text": [
      "id: 0704.0094\n"
     ]
    },
    {
     "name": "stderr",
     "output_type": "stream",
     "text": [
      "Evaluating articles:  60%|██████    | 3/5 [00:07<00:05,  2.60s/it]"
     ]
    },
    {
     "name": "stdout",
     "output_type": "stream",
     "text": [
      "id: 0704.0057\n"
     ]
    },
    {
     "name": "stderr",
     "output_type": "stream",
     "text": [
      "Evaluating articles:  80%|████████  | 4/5 [00:10<00:02,  2.65s/it]"
     ]
    },
    {
     "name": "stdout",
     "output_type": "stream",
     "text": [
      "id: 0704.0082\n"
     ]
    },
    {
     "name": "stderr",
     "output_type": "stream",
     "text": [
      "Evaluating articles: 100%|██████████| 5/5 [00:13<00:00,  2.67s/it]\n"
     ]
    },
    {
     "name": "stdout",
     "output_type": "stream",
     "text": [
      "id: 0704.0077\n",
      "          id                                              title  \\\n",
      "0  0704.0003  The evolution of the Earth-Moon system based o...   \n",
      "1  0704.0094  Timing and Lensing of the Colliding Bullet Clu...   \n",
      "2  0704.0057  High-spin to low-spin and orbital polarization...   \n",
      "3  0704.0082  Matter-Wave Bright Solitons with a Finite Back...   \n",
      "4  0704.0077       Universal Forces and the Dark Energy Problem   \n",
      "\n",
      "                                            abstract  eval  \n",
      "0    The evolution of Earth-Moon system is descri...     1  \n",
      "1    We present semi-analytical constraint on the...     0  \n",
      "2    We study the interplay of crystal field spli...     0  \n",
      "3    We investigate dynamical properties of brigh...     0  \n",
      "4    The Dark Energy problem is forcing us to re-...     1  \n"
     ]
    },
    {
     "name": "stderr",
     "output_type": "stream",
     "text": [
      "Evaluating articles:  40%|████      | 2/5 [00:12<00:18,  6.10s/it]"
     ]
    },
    {
     "name": "stdout",
     "output_type": "stream",
     "text": [
      "Error when parsing feedback: Expecting value: line 1 column 1 (char 0)\n",
      "Error when parsing feedback: Expecting value: line 1 column 1 (char 0)\n"
     ]
    },
    {
     "name": "stderr",
     "output_type": "stream",
     "text": [
      "Evaluating articles: 100%|██████████| 5/5 [00:35<00:00,  7.12s/it]\n"
     ]
    },
    {
     "name": "stdout",
     "output_type": "stream",
     "text": [
      "                                               title  \\\n",
      "0  The evolution of the Earth-Moon system based o...   \n",
      "1  Timing and Lensing of the Colliding Bullet Clu...   \n",
      "2  High-spin to low-spin and orbital polarization...   \n",
      "3  Matter-Wave Bright Solitons with a Finite Back...   \n",
      "4       Universal Forces and the Dark Energy Problem   \n",
      "\n",
      "                                            abstract  eval  \n",
      "0    The evolution of Earth-Moon system is descri...     3  \n",
      "1    We present semi-analytical constraint on the...     0  \n",
      "2    We study the interplay of crystal field spli...     0  \n",
      "3    We investigate dynamical properties of brigh...     1  \n",
      "4    The Dark Energy problem is forcing us to re-...     1  \n"
     ]
    },
    {
     "name": "stderr",
     "output_type": "stream",
     "text": [
      "Evaluating articles:  20%|██        | 1/5 [00:02<00:08,  2.10s/it]"
     ]
    },
    {
     "name": "stdout",
     "output_type": "stream",
     "text": [
      "id: 0704.0004\n"
     ]
    },
    {
     "name": "stderr",
     "output_type": "stream",
     "text": [
      "Evaluating articles:  40%|████      | 2/5 [00:09<00:16,  5.38s/it]"
     ]
    },
    {
     "name": "stdout",
     "output_type": "stream",
     "text": [
      "id: 0704.0036\n"
     ]
    },
    {
     "name": "stderr",
     "output_type": "stream",
     "text": [
      "Evaluating articles:  60%|██████    | 3/5 [00:12<00:08,  4.30s/it]"
     ]
    },
    {
     "name": "stdout",
     "output_type": "stream",
     "text": [
      "id: 0704.0048\n"
     ]
    },
    {
     "name": "stderr",
     "output_type": "stream",
     "text": [
      "Evaluating articles:  80%|████████  | 4/5 [00:13<00:02,  2.85s/it]"
     ]
    },
    {
     "name": "stdout",
     "output_type": "stream",
     "text": [
      "id: 0704.0075\n"
     ]
    },
    {
     "name": "stderr",
     "output_type": "stream",
     "text": [
      "Evaluating articles: 100%|██████████| 5/5 [00:14<00:00,  2.92s/it]\n"
     ]
    },
    {
     "name": "stdout",
     "output_type": "stream",
     "text": [
      "id: 0704.0021\n",
      "          id                                              title  \\\n",
      "0  0704.0004  A determinant of Stirling cycle numbers counts...   \n",
      "1  0704.0036  A remark on the number of steady states in a m...   \n",
      "2  0704.0048  Inference on white dwarf binary systems using ...   \n",
      "3  0704.0075                   Strong decays of charmed baryons   \n",
      "4  0704.0021  Molecular Synchronization Waves in Arrays of A...   \n",
      "\n",
      "                                            abstract  eval  \n",
      "0    We show that a determinant of Stirling cycle...     1  \n",
      "1    The multisite phosphorylation-dephosphorylat...     0  \n",
      "2    We report on the analysis of selected single...     0  \n",
      "3    There has been important experimental progre...     0  \n",
      "4    Spatiotemporal pattern formation in a produc...     0  \n"
     ]
    },
    {
     "name": "stderr",
     "output_type": "stream",
     "text": [
      "Evaluating articles:  40%|████      | 2/5 [00:13<00:19,  6.50s/it]"
     ]
    },
    {
     "name": "stdout",
     "output_type": "stream",
     "text": [
      "Error when parsing feedback: Expecting value: line 1 column 1 (char 0)\n"
     ]
    },
    {
     "name": "stderr",
     "output_type": "stream",
     "text": [
      "Evaluating articles: 100%|██████████| 5/5 [00:35<00:00,  7.02s/it]\n"
     ]
    },
    {
     "name": "stdout",
     "output_type": "stream",
     "text": [
      "                                               title  \\\n",
      "0  A determinant of Stirling cycle numbers counts...   \n",
      "1  A remark on the number of steady states in a m...   \n",
      "2  Inference on white dwarf binary systems using ...   \n",
      "3                   Strong decays of charmed baryons   \n",
      "4  Molecular Synchronization Waves in Arrays of A...   \n",
      "\n",
      "                                            abstract  eval  \n",
      "0    We show that a determinant of Stirling cycle...     3  \n",
      "1    The multisite phosphorylation-dephosphorylat...     0  \n",
      "2    We report on the analysis of selected single...     1  \n",
      "3    There has been important experimental progre...     1  \n",
      "4    Spatiotemporal pattern formation in a produc...     1  \n"
     ]
    },
    {
     "name": "stderr",
     "output_type": "stream",
     "text": [
      "Evaluating articles:  20%|██        | 1/5 [00:00<00:03,  1.21it/s]"
     ]
    },
    {
     "name": "stdout",
     "output_type": "stream",
     "text": [
      "id: 0704.0005\n"
     ]
    },
    {
     "name": "stderr",
     "output_type": "stream",
     "text": [
      "Evaluating articles:  40%|████      | 2/5 [00:04<00:06,  2.29s/it]"
     ]
    },
    {
     "name": "stdout",
     "output_type": "stream",
     "text": [
      "id: 0704.0011\n"
     ]
    },
    {
     "name": "stderr",
     "output_type": "stream",
     "text": [
      "Evaluating articles:  60%|██████    | 3/5 [00:08<00:06,  3.12s/it]"
     ]
    },
    {
     "name": "stdout",
     "output_type": "stream",
     "text": [
      "id: 0704.0074\n"
     ]
    },
    {
     "name": "stderr",
     "output_type": "stream",
     "text": [
      "Evaluating articles:  80%|████████  | 4/5 [00:10<00:02,  2.85s/it]"
     ]
    },
    {
     "name": "stdout",
     "output_type": "stream",
     "text": [
      "id: 0704.0018\n"
     ]
    },
    {
     "name": "stderr",
     "output_type": "stream",
     "text": [
      "Evaluating articles: 100%|██████████| 5/5 [00:13<00:00,  2.78s/it]\n"
     ]
    },
    {
     "name": "stdout",
     "output_type": "stream",
     "text": [
      "id: 0704.0028\n",
      "          id                                              title  \\\n",
      "0  0704.0005  From dyadic $\\Lambda_{\\alpha}$ to $\\Lambda_{\\a...   \n",
      "1  0704.0011  Computing genus 2 Hilbert-Siegel modular forms...   \n",
      "2  0704.0074              Injective Morita contexts (revisited)   \n",
      "3  0704.0018    In quest of a generalized Callias index theorem   \n",
      "4  0704.0028  Pfaffians, hafnians and products of real linea...   \n",
      "\n",
      "                                            abstract  eval  \n",
      "0    In this paper we show how to compute the $\\L...     1  \n",
      "1    In this paper we present an algorithm for co...     0  \n",
      "2    This paper is an exposition of the so-called...     0  \n",
      "3    We give a prescription for how to compute th...     0  \n",
      "4    We prove pfaffian and hafnian versions of Li...     0  \n"
     ]
    },
    {
     "name": "stderr",
     "output_type": "stream",
     "text": [
      "Evaluating articles: 100%|██████████| 5/5 [00:29<00:00,  5.82s/it]\n"
     ]
    },
    {
     "name": "stdout",
     "output_type": "stream",
     "text": [
      "                                               title  \\\n",
      "0  From dyadic $\\Lambda_{\\alpha}$ to $\\Lambda_{\\a...   \n",
      "1  Computing genus 2 Hilbert-Siegel modular forms...   \n",
      "2              Injective Morita contexts (revisited)   \n",
      "3    In quest of a generalized Callias index theorem   \n",
      "4  Pfaffians, hafnians and products of real linea...   \n",
      "\n",
      "                                            abstract  eval  \n",
      "0    In this paper we show how to compute the $\\L...     3  \n",
      "1    In this paper we present an algorithm for co...     1  \n",
      "2    This paper is an exposition of the so-called...     1  \n",
      "3    We give a prescription for how to compute th...     1  \n",
      "4    We prove pfaffian and hafnian versions of Li...     1  \n"
     ]
    },
    {
     "name": "stderr",
     "output_type": "stream",
     "text": [
      "Evaluating articles:  20%|██        | 1/5 [00:03<00:13,  3.32s/it]"
     ]
    },
    {
     "name": "stdout",
     "output_type": "stream",
     "text": [
      "id: 0704.0006\n"
     ]
    },
    {
     "name": "stderr",
     "output_type": "stream",
     "text": [
      "Evaluating articles:  40%|████      | 2/5 [00:06<00:09,  3.07s/it]"
     ]
    },
    {
     "name": "stdout",
     "output_type": "stream",
     "text": [
      "id: 0704.0030\n"
     ]
    },
    {
     "name": "stderr",
     "output_type": "stream",
     "text": [
      "Evaluating articles:  60%|██████    | 3/5 [00:14<00:10,  5.23s/it]"
     ]
    },
    {
     "name": "stdout",
     "output_type": "stream",
     "text": [
      "id: 0704.0027\n"
     ]
    },
    {
     "name": "stderr",
     "output_type": "stream",
     "text": [
      "Evaluating articles:  80%|████████  | 4/5 [00:14<00:03,  3.36s/it]"
     ]
    },
    {
     "name": "stdout",
     "output_type": "stream",
     "text": [
      "id: 0704.0045\n"
     ]
    },
    {
     "name": "stderr",
     "output_type": "stream",
     "text": [
      "Evaluating articles: 100%|██████████| 5/5 [00:15<00:00,  3.01s/it]\n"
     ]
    },
    {
     "name": "stdout",
     "output_type": "stream",
     "text": [
      "id: 0704.0085\n",
      "          id                                              title  \\\n",
      "0  0704.0006  Bosonic characters of atomic Cooper pairs acro...   \n",
      "1  0704.0030  Tuning correlation effects with electron-phono...   \n",
      "2  0704.0027  Filling-Factor-Dependent Magnetophonon Resonan...   \n",
      "3  0704.0045  Evolution of solitary waves and undular bores ...   \n",
      "4  0704.0085                         A Universality in PP-Waves   \n",
      "\n",
      "                                            abstract  eval  \n",
      "0    We study the two-particle wave function of p...     1  \n",
      "1    We investigate the effect of tuning the phon...     1  \n",
      "2    We describe a peculiar fine structure acquir...     0  \n",
      "3    This paper considers the propagation of shal...     0  \n",
      "4    We discuss a universality property of any co...     0  \n"
     ]
    },
    {
     "name": "stderr",
     "output_type": "stream",
     "text": [
      "Evaluating articles:  20%|██        | 1/5 [00:06<00:27,  6.86s/it]"
     ]
    },
    {
     "name": "stdout",
     "output_type": "stream",
     "text": [
      "Error when parsing feedback: Expecting value: line 1 column 1 (char 0)\n",
      "Error when parsing feedback: Expecting value: line 1 column 1 (char 0)\n"
     ]
    },
    {
     "name": "stderr",
     "output_type": "stream",
     "text": [
      "Evaluating articles: 100%|██████████| 5/5 [00:37<00:00,  7.51s/it]\n"
     ]
    },
    {
     "name": "stdout",
     "output_type": "stream",
     "text": [
      "                                               title  \\\n",
      "0  Bosonic characters of atomic Cooper pairs acro...   \n",
      "1  Tuning correlation effects with electron-phono...   \n",
      "2  Filling-Factor-Dependent Magnetophonon Resonan...   \n",
      "3  Evolution of solitary waves and undular bores ...   \n",
      "4                         A Universality in PP-Waves   \n",
      "\n",
      "                                            abstract  eval  \n",
      "0    We study the two-particle wave function of p...     3  \n",
      "1    We investigate the effect of tuning the phon...     1  \n",
      "2    We describe a peculiar fine structure acquir...     1  \n",
      "3    This paper considers the propagation of shal...     0  \n",
      "4    We discuss a universality property of any co...     0  \n"
     ]
    },
    {
     "name": "stderr",
     "output_type": "stream",
     "text": [
      "Evaluating articles:  20%|██        | 1/5 [00:02<00:10,  2.74s/it]"
     ]
    },
    {
     "name": "stdout",
     "output_type": "stream",
     "text": [
      "id: 0704.0007\n"
     ]
    },
    {
     "name": "stderr",
     "output_type": "stream",
     "text": [
      "Evaluating articles:  40%|████      | 2/5 [00:05<00:08,  2.76s/it]"
     ]
    },
    {
     "name": "stdout",
     "output_type": "stream",
     "text": [
      "id: 0704.0015\n"
     ]
    },
    {
     "name": "stderr",
     "output_type": "stream",
     "text": [
      "Evaluating articles:  60%|██████    | 3/5 [00:08<00:05,  2.77s/it]"
     ]
    },
    {
     "name": "stdout",
     "output_type": "stream",
     "text": [
      "id: 0704.0041\n"
     ]
    },
    {
     "name": "stderr",
     "output_type": "stream",
     "text": [
      "Evaluating articles:  80%|████████  | 4/5 [00:11<00:02,  2.82s/it]"
     ]
    },
    {
     "name": "stdout",
     "output_type": "stream",
     "text": [
      "id: 0704.0083\n"
     ]
    },
    {
     "name": "stderr",
     "output_type": "stream",
     "text": [
      "Evaluating articles: 100%|██████████| 5/5 [00:13<00:00,  2.80s/it]\n"
     ]
    },
    {
     "name": "stdout",
     "output_type": "stream",
     "text": [
      "id: 0704.0042\n",
      "          id                                              title  \\\n",
      "0  0704.0007  Polymer Quantum Mechanics and its Continuum Limit   \n",
      "1  0704.0015  Fermionic superstring loop amplitudes in the p...   \n",
      "2  0704.0041  Quantum Group of Isometries in Classical and N...   \n",
      "3  0704.0083  Why there is something rather than nothing (ou...   \n",
      "4  0704.0042  General System theory, Like-Quantum Semantics ...   \n",
      "\n",
      "                                            abstract  eval  \n",
      "0    A rather non-standard quantum representation...     1  \n",
      "1    The pure spinor formulation of the ten-dimen...     1  \n",
      "2    We formulate a quantum generalization of the...     0  \n",
      "3    The path integral over Euclidean geometries ...     1  \n",
      "4    It is outlined the possibility to extend the...     1  \n"
     ]
    },
    {
     "name": "stderr",
     "output_type": "stream",
     "text": [
      "Evaluating articles:  20%|██        | 1/5 [00:07<00:31,  7.83s/it]"
     ]
    },
    {
     "name": "stdout",
     "output_type": "stream",
     "text": [
      "Error when parsing feedback: Expecting value: line 1 column 1 (char 0)\n"
     ]
    },
    {
     "name": "stderr",
     "output_type": "stream",
     "text": [
      "Evaluating articles: 100%|██████████| 5/5 [00:31<00:00,  6.24s/it]\n"
     ]
    },
    {
     "name": "stdout",
     "output_type": "stream",
     "text": [
      "                                               title  \\\n",
      "0  Polymer Quantum Mechanics and its Continuum Limit   \n",
      "1  Fermionic superstring loop amplitudes in the p...   \n",
      "2  Quantum Group of Isometries in Classical and N...   \n",
      "3  Why there is something rather than nothing (ou...   \n",
      "4  General System theory, Like-Quantum Semantics ...   \n",
      "\n",
      "                                            abstract  eval  \n",
      "0    A rather non-standard quantum representation...     3  \n",
      "1    The pure spinor formulation of the ten-dimen...     1  \n",
      "2    We formulate a quantum generalization of the...     2  \n",
      "3    The path integral over Euclidean geometries ...     2  \n",
      "4    It is outlined the possibility to extend the...     2  \n"
     ]
    },
    {
     "name": "stderr",
     "output_type": "stream",
     "text": [
      "Evaluating articles:  20%|██        | 1/5 [00:03<00:14,  3.68s/it]"
     ]
    },
    {
     "name": "stdout",
     "output_type": "stream",
     "text": [
      "id: 0704.0008\n"
     ]
    },
    {
     "name": "stderr",
     "output_type": "stream",
     "text": [
      "Evaluating articles:  40%|████      | 2/5 [00:06<00:09,  3.12s/it]"
     ]
    },
    {
     "name": "stdout",
     "output_type": "stream",
     "text": [
      "id: 0704.0043\n"
     ]
    },
    {
     "name": "stderr",
     "output_type": "stream",
     "text": [
      "Evaluating articles:  60%|██████    | 3/5 [00:10<00:07,  3.76s/it]"
     ]
    },
    {
     "name": "stdout",
     "output_type": "stream",
     "text": [
      "id: 0704.0038\n"
     ]
    },
    {
     "name": "stderr",
     "output_type": "stream",
     "text": [
      "Evaluating articles:  80%|████████  | 4/5 [00:11<00:02,  2.52s/it]"
     ]
    },
    {
     "name": "stdout",
     "output_type": "stream",
     "text": [
      "id: 0704.0037\n"
     ]
    },
    {
     "name": "stderr",
     "output_type": "stream",
     "text": [
      "Evaluating articles: 100%|██████████| 5/5 [00:14<00:00,  2.86s/it]\n"
     ]
    },
    {
     "name": "stdout",
     "output_type": "stream",
     "text": [
      "id: 0704.0093\n",
      "          id                                              title  \\\n",
      "0  0704.0008  Numerical solution of shock and ramp compressi...   \n",
      "1  0704.0043  Nonequilibrium entropy limiters in lattice Bol...   \n",
      "2  0704.0038  The discrete dipole approximation: an overview...   \n",
      "3  0704.0037  The discrete dipole approximation for simulati...   \n",
      "4  0704.0093  Aspects of Electron-Phonon Self-Energy Reveale...   \n",
      "\n",
      "                                            abstract  eval  \n",
      "0    A general formulation was developed to repre...     1  \n",
      "1    We construct a system of nonequilibrium entr...     1  \n",
      "2    We present a review of the discrete dipole a...     0  \n",
      "3    In this manuscript we investigate the capabi...     0  \n",
      "4    Lattice contribution to the electronic self-...     0  \n"
     ]
    },
    {
     "name": "stderr",
     "output_type": "stream",
     "text": [
      "Evaluating articles:  80%|████████  | 4/5 [00:24<00:06,  6.05s/it]"
     ]
    },
    {
     "name": "stdout",
     "output_type": "stream",
     "text": [
      "Error when parsing feedback: Extra data: line 3 column 1 (char 467)\n",
      "Error when parsing feedback: Expecting value: line 1 column 1 (char 0)\n"
     ]
    },
    {
     "name": "stderr",
     "output_type": "stream",
     "text": [
      "Evaluating articles: 100%|██████████| 5/5 [00:36<00:00,  7.29s/it]\n"
     ]
    },
    {
     "name": "stdout",
     "output_type": "stream",
     "text": [
      "                                               title  \\\n",
      "0  Numerical solution of shock and ramp compressi...   \n",
      "1  Nonequilibrium entropy limiters in lattice Bol...   \n",
      "2  The discrete dipole approximation: an overview...   \n",
      "3  The discrete dipole approximation for simulati...   \n",
      "4  Aspects of Electron-Phonon Self-Energy Reveale...   \n",
      "\n",
      "                                            abstract  eval  \n",
      "0    A general formulation was developed to repre...     3  \n",
      "1    We construct a system of nonequilibrium entr...     2  \n",
      "2    We present a review of the discrete dipole a...     1  \n",
      "3    In this manuscript we investigate the capabi...     1  \n",
      "4    Lattice contribution to the electronic self-...     1  \n"
     ]
    },
    {
     "name": "stderr",
     "output_type": "stream",
     "text": [
      "Evaluating articles:  20%|██        | 1/5 [00:01<00:07,  1.87s/it]"
     ]
    },
    {
     "name": "stdout",
     "output_type": "stream",
     "text": [
      "id: 0704.0009\n"
     ]
    },
    {
     "name": "stderr",
     "output_type": "stream",
     "text": [
      "Evaluating articles:  40%|████      | 2/5 [00:04<00:07,  2.46s/it]"
     ]
    },
    {
     "name": "stdout",
     "output_type": "stream",
     "text": [
      "id: 0704.0069\n"
     ]
    },
    {
     "name": "stderr",
     "output_type": "stream",
     "text": [
      "Evaluating articles:  60%|██████    | 3/5 [00:07<00:05,  2.58s/it]"
     ]
    },
    {
     "name": "stdout",
     "output_type": "stream",
     "text": [
      "id: 0704.0041\n"
     ]
    },
    {
     "name": "stderr",
     "output_type": "stream",
     "text": [
      "Evaluating articles:  80%|████████  | 4/5 [00:10<00:02,  2.66s/it]"
     ]
    },
    {
     "name": "stdout",
     "output_type": "stream",
     "text": [
      "id: 0704.0080\n"
     ]
    },
    {
     "name": "stderr",
     "output_type": "stream",
     "text": [
      "Evaluating articles: 100%|██████████| 5/5 [00:12<00:00,  2.57s/it]\n"
     ]
    },
    {
     "name": "stdout",
     "output_type": "stream",
     "text": [
      "id: 0704.0100\n",
      "          id                                              title  \\\n",
      "0  0704.0009  The Spitzer c2d Survey of Large, Nearby, Inste...   \n",
      "1  0704.0069  Dynamical Objects for Cohomologically Expandin...   \n",
      "2  0704.0041  Quantum Group of Isometries in Classical and N...   \n",
      "3  0704.0080  Shaping the Globular Cluster Mass Function by ...   \n",
      "4  0704.0100                     Topology Change of Black Holes   \n",
      "\n",
      "                                            abstract  eval  \n",
      "0    We discuss the results from the combined IRA...     1  \n",
      "1    The goal of this paper is to construct invar...     0  \n",
      "2    We formulate a quantum generalization of the...     0  \n",
      "3    We show that the globular cluster mass funct...     0  \n",
      "4    The topological structure of the event horiz...     0  \n"
     ]
    },
    {
     "name": "stderr",
     "output_type": "stream",
     "text": [
      "Evaluating articles: 100%|██████████| 5/5 [00:29<00:00,  5.90s/it]\n"
     ]
    },
    {
     "name": "stdout",
     "output_type": "stream",
     "text": [
      "                                               title  \\\n",
      "0  The Spitzer c2d Survey of Large, Nearby, Inste...   \n",
      "1  Dynamical Objects for Cohomologically Expandin...   \n",
      "2  Quantum Group of Isometries in Classical and N...   \n",
      "3  Shaping the Globular Cluster Mass Function by ...   \n",
      "4                     Topology Change of Black Holes   \n",
      "\n",
      "                                            abstract  eval  \n",
      "0    We discuss the results from the combined IRA...     3  \n",
      "1    The goal of this paper is to construct invar...     0  \n",
      "2    We formulate a quantum generalization of the...     0  \n",
      "3    We show that the globular cluster mass funct...     0  \n",
      "4    The topological structure of the event horiz...     1  \n"
     ]
    },
    {
     "name": "stderr",
     "output_type": "stream",
     "text": [
      "Evaluating articles:  20%|██        | 1/5 [00:02<00:10,  2.62s/it]"
     ]
    },
    {
     "name": "stdout",
     "output_type": "stream",
     "text": [
      "id: 0704.0010\n"
     ]
    },
    {
     "name": "stderr",
     "output_type": "stream",
     "text": [
      "Evaluating articles:  40%|████      | 2/5 [00:05<00:07,  2.63s/it]"
     ]
    },
    {
     "name": "stdout",
     "output_type": "stream",
     "text": [
      "id: 0704.0002\n"
     ]
    },
    {
     "name": "stderr",
     "output_type": "stream",
     "text": [
      "Evaluating articles:  60%|██████    | 3/5 [00:08<00:05,  2.70s/it]"
     ]
    },
    {
     "name": "stdout",
     "output_type": "stream",
     "text": [
      "id: 0704.0052\n"
     ]
    },
    {
     "name": "stderr",
     "output_type": "stream",
     "text": [
      "Evaluating articles:  80%|████████  | 4/5 [00:10<00:02,  2.76s/it]"
     ]
    },
    {
     "name": "stdout",
     "output_type": "stream",
     "text": [
      "id: 0704.0087\n"
     ]
    },
    {
     "name": "stderr",
     "output_type": "stream",
     "text": [
      "Evaluating articles: 100%|██████████| 5/5 [00:13<00:00,  2.74s/it]\n"
     ]
    },
    {
     "name": "stdout",
     "output_type": "stream",
     "text": [
      "id: 0704.0097\n",
      "          id                                              title  \\\n",
      "0  0704.0010  Partial cubes: structures, characterizations, ...   \n",
      "1  0704.0002           Sparsity-certifying Graph Decompositions   \n",
      "2  0704.0052  Quantum Field Theory on Curved Backgrounds. II...   \n",
      "3  0704.0087  Approximate solutions to the Dirichlet problem...   \n",
      "4  0704.0097       Conformal Field Theory and Operator Algebras   \n",
      "\n",
      "                                            abstract  eval  \n",
      "0    Partial cubes are isometric subgraphs of hyp...     1  \n",
      "1    We describe a new algorithm, the $(k,\\ell)$-...     1  \n",
      "2    We study space-time symmetries in scalar qua...     0  \n",
      "3    Our main result in this paper is the followi...     0  \n",
      "4    We review recent progress in operator algebr...     0  \n"
     ]
    },
    {
     "name": "stderr",
     "output_type": "stream",
     "text": [
      "Evaluating articles: 100%|██████████| 5/5 [00:29<00:00,  5.99s/it]"
     ]
    },
    {
     "name": "stdout",
     "output_type": "stream",
     "text": [
      "                                               title  \\\n",
      "0  Partial cubes: structures, characterizations, ...   \n",
      "1           Sparsity-certifying Graph Decompositions   \n",
      "2  Quantum Field Theory on Curved Backgrounds. II...   \n",
      "3  Approximate solutions to the Dirichlet problem...   \n",
      "4       Conformal Field Theory and Operator Algebras   \n",
      "\n",
      "                                            abstract  eval  \n",
      "0    Partial cubes are isometric subgraphs of hyp...     2  \n",
      "1    We describe a new algorithm, the $(k,\\ell)$-...     1  \n",
      "2    We study space-time symmetries in scalar qua...     1  \n",
      "3    Our main result in this paper is the followi...     0  \n",
      "4    We review recent progress in operator algebr...     0  \n"
     ]
    },
    {
     "name": "stderr",
     "output_type": "stream",
     "text": [
      "\n"
     ]
    },
    {
     "name": "stdout",
     "output_type": "stream",
     "text": [
      "abdc641f54d4\n",
      "c870ed76a2df\n",
      "454c00247a31\n",
      "4b414421b8a8\n",
      "458574697be5\n",
      "421df1fdaee9\n",
      "a28a62472faf\n",
      "91cf3800e4ba\n",
      "cc19e3046262\n",
      "bce785b59fb3\n",
      "running for  bm25b\n",
      "Waiting for configuration server, 0/300 seconds...\n",
      "Waiting for configuration server, 5/300 seconds...\n",
      "Using plain http against endpoint http://localhost:8080/ApplicationStatus\n",
      "Waiting for application status, 0/300 seconds...\n",
      "Using plain http against endpoint http://localhost:8080/ApplicationStatus\n",
      "Waiting for application status, 5/300 seconds...\n",
      "Using plain http against endpoint http://localhost:8080/ApplicationStatus\n",
      "Waiting for application status, 10/300 seconds...\n",
      "Using plain http against endpoint http://localhost:8080/ApplicationStatus\n",
      "Waiting for application status, 15/300 seconds...\n",
      "Using plain http against endpoint http://localhost:8080/ApplicationStatus\n",
      "Waiting for application status, 20/300 seconds...\n",
      "Using plain http against endpoint http://localhost:8080/ApplicationStatus\n",
      "Waiting for application status, 25/300 seconds...\n",
      "Using plain http against endpoint http://localhost:8080/ApplicationStatus\n",
      "Application is up!\n",
      "Finished deployment.\n"
     ]
    },
    {
     "name": "stderr",
     "output_type": "stream",
     "text": [
      "Evaluating articles:   0%|          | 0/5 [00:00<?, ?it/s]"
     ]
    },
    {
     "name": "stdout",
     "output_type": "stream",
     "text": [
      "id: 0704.0001\n",
      "Rate limit achieved: 'title'\n",
      "id: 0704.0001\n",
      "Rate limit achieved: 'title'\n",
      "id: 0704.0001\n",
      "Rate limit achieved: 'title'\n",
      "id: 0704.0001\n",
      "Rate limit achieved: 'title'\n",
      "id: 0704.0001\n",
      "Rate limit achieved: 'title'\n",
      "id: 0704.0001\n",
      "Rate limit achieved: 'title'\n",
      "id: 0704.0001\n",
      "Rate limit achieved: 'title'\n",
      "id: 0704.0001\n",
      "Rate limit achieved: 'title'\n",
      "id: 0704.0001\n",
      "Rate limit achieved: 'title'\n",
      "id: 0704.0001\n",
      "Rate limit achieved: 'title'\n",
      "id: 0704.0001\n",
      "Rate limit achieved: 'title'\n",
      "id: 0704.0001\n",
      "Rate limit achieved: 'title'\n",
      "id: 0704.0001\n",
      "Rate limit achieved: 'title'\n",
      "id: 0704.0001\n",
      "Rate limit achieved: 'title'\n",
      "id: 0704.0001\n",
      "Rate limit achieved: 'title'\n",
      "id: 0704.0001\n",
      "Rate limit achieved: 'title'\n",
      "id: 0704.0001\n",
      "Rate limit achieved: 'title'\n",
      "id: 0704.0001\n",
      "Rate limit achieved: 'title'\n",
      "id: 0704.0001\n",
      "Rate limit achieved: 'title'\n",
      "id: 0704.0001\n",
      "Rate limit achieved: 'title'\n",
      "id: 0704.0001\n",
      "Rate limit achieved: 'title'\n",
      "id: 0704.0001\n",
      "Rate limit achieved: 'title'\n",
      "id: 0704.0001\n",
      "Rate limit achieved: 'title'\n",
      "id: 0704.0001\n",
      "Rate limit achieved: 'title'\n",
      "id: 0704.0001\n",
      "Rate limit achieved: 'title'\n",
      "id: 0704.0001\n",
      "Rate limit achieved: 'title'\n",
      "id: 0704.0001\n",
      "Rate limit achieved: 'title'\n",
      "id: 0704.0001\n",
      "Rate limit achieved: 'title'\n",
      "id: 0704.0001\n",
      "Rate limit achieved: 'title'\n",
      "id: 0704.0001\n",
      "Rate limit achieved: 'title'\n",
      "id: 0704.0001\n",
      "Rate limit achieved: 'title'\n",
      "id: 0704.0001\n",
      "Rate limit achieved: 'title'\n",
      "id: 0704.0001\n",
      "Rate limit achieved: 'title'\n",
      "id: 0704.0001\n",
      "Rate limit achieved: 'title'\n",
      "id: 0704.0001\n",
      "Rate limit achieved: 'title'\n",
      "id: 0704.0001\n",
      "Rate limit achieved: 'title'\n",
      "id: 0704.0001\n",
      "Rate limit achieved: 'title'\n",
      "id: 0704.0001\n",
      "Rate limit achieved: 'title'\n",
      "id: 0704.0001\n",
      "Rate limit achieved: 'title'\n",
      "id: 0704.0001\n",
      "Rate limit achieved: 'title'\n",
      "id: 0704.0001\n",
      "Rate limit achieved: 'title'\n",
      "id: 0704.0001\n",
      "Rate limit achieved: 'title'\n",
      "id: 0704.0001\n",
      "Rate limit achieved: 'title'\n",
      "id: 0704.0001\n",
      "Rate limit achieved: 'title'\n",
      "id: 0704.0001\n",
      "Rate limit achieved: 'title'\n",
      "id: 0704.0001\n",
      "Rate limit achieved: 'title'\n"
     ]
    },
    {
     "name": "stderr",
     "output_type": "stream",
     "text": [
      "Evaluating articles:   0%|          | 0/5 [23:34<?, ?it/s]\n"
     ]
    },
    {
     "ename": "KeyboardInterrupt",
     "evalue": "",
     "output_type": "error",
     "traceback": [
      "\u001b[0;31m---------------------------------------------------------------------------\u001b[0m",
      "\u001b[0;31mKeyError\u001b[0m                                  Traceback (most recent call last)",
      "File \u001b[0;32m~/fgv/sem7/projetos/ArticLE/query_evaluator.py:59\u001b[0m, in \u001b[0;36mevaluate_articles_boolean\u001b[0;34m(artigos, query, model, max_tokens, verbose)\u001b[0m\n\u001b[1;32m     58\u001b[0m \u001b[38;5;28mprint\u001b[39m(\u001b[38;5;124m'\u001b[39m\u001b[38;5;124mid:\u001b[39m\u001b[38;5;124m'\u001b[39m, artigo[\u001b[38;5;124m'\u001b[39m\u001b[38;5;124mid\u001b[39m\u001b[38;5;124m'\u001b[39m])\n\u001b[0;32m---> 59\u001b[0m evaluated\u001b[38;5;241m.\u001b[39mappend({\u001b[38;5;124m'\u001b[39m\u001b[38;5;124mid\u001b[39m\u001b[38;5;124m'\u001b[39m: artigo[\u001b[38;5;124m'\u001b[39m\u001b[38;5;124mid\u001b[39m\u001b[38;5;124m'\u001b[39m], \u001b[38;5;124m'\u001b[39m\u001b[38;5;124mtitle\u001b[39m\u001b[38;5;124m'\u001b[39m: \u001b[43martigo\u001b[49m\u001b[43m[\u001b[49m\u001b[38;5;124;43m'\u001b[39;49m\u001b[38;5;124;43mtitle\u001b[39;49m\u001b[38;5;124;43m'\u001b[39;49m\u001b[43m]\u001b[49m, \u001b[38;5;124m'\u001b[39m\u001b[38;5;124mabstract\u001b[39m\u001b[38;5;124m'\u001b[39m: artigo[\u001b[38;5;124m'\u001b[39m\u001b[38;5;124mabstract\u001b[39m\u001b[38;5;124m'\u001b[39m], \u001b[38;5;124m'\u001b[39m\u001b[38;5;124meval\u001b[39m\u001b[38;5;124m'\u001b[39m: response\u001b[38;5;241m.\u001b[39mchoices[\u001b[38;5;241m0\u001b[39m]\u001b[38;5;241m.\u001b[39mmessage\u001b[38;5;241m.\u001b[39mcontent\u001b[38;5;241m.\u001b[39mlower()})\n\u001b[1;32m     60\u001b[0m \u001b[38;5;28;01mif\u001b[39;00m verbose: \u001b[38;5;28mprint\u001b[39m(\u001b[38;5;124mf\u001b[39m\u001b[38;5;124m\"\u001b[39m\u001b[38;5;124mArticle \u001b[39m\u001b[38;5;124m'\u001b[39m\u001b[38;5;132;01m{\u001b[39;00martigo[\u001b[38;5;124m'\u001b[39m\u001b[38;5;124mtitle\u001b[39m\u001b[38;5;124m'\u001b[39m]\u001b[38;5;132;01m}\u001b[39;00m\u001b[38;5;124m'\u001b[39m\u001b[38;5;124m \u001b[39m\u001b[38;5;132;01m{\u001b[39;00martigo[\u001b[38;5;124m'\u001b[39m\u001b[38;5;124mid\u001b[39m\u001b[38;5;124m'\u001b[39m]\u001b[38;5;132;01m}\u001b[39;00m\u001b[38;5;124m evaluated as \u001b[39m\u001b[38;5;132;01m{\u001b[39;00mresponse\u001b[38;5;241m.\u001b[39mchoices[\u001b[38;5;241m0\u001b[39m]\u001b[38;5;241m.\u001b[39mmessage\u001b[38;5;241m.\u001b[39mcontent\u001b[38;5;241m.\u001b[39mlower()\u001b[38;5;132;01m}\u001b[39;00m\u001b[38;5;124m\"\u001b[39m)\n",
      "\u001b[0;31mKeyError\u001b[0m: 'title'",
      "\nDuring handling of the above exception, another exception occurred:\n",
      "\u001b[0;31mKeyboardInterrupt\u001b[0m                         Traceback (most recent call last)",
      "Cell \u001b[0;32mIn[16], line 7\u001b[0m\n\u001b[1;32m      5\u001b[0m     \u001b[38;5;28;01mbreak\u001b[39;00m\n\u001b[1;32m      6\u001b[0m \u001b[38;5;28mprint\u001b[39m(\u001b[38;5;124m'\u001b[39m\u001b[38;5;124mrunning for \u001b[39m\u001b[38;5;124m'\u001b[39m, name)\n\u001b[0;32m----> 7\u001b[0m metrics \u001b[38;5;241m=\u001b[39m \u001b[43mtest_search_engine\u001b[49m\u001b[43m(\u001b[49m\u001b[43msearch_engine\u001b[49m\u001b[43m,\u001b[49m\u001b[43m \u001b[49m\u001b[43mname\u001b[49m\u001b[43m)\u001b[49m\n\u001b[1;32m      8\u001b[0m metrics_dict[name] \u001b[38;5;241m=\u001b[39m metrics\n\u001b[1;32m      9\u001b[0m idx\u001b[38;5;241m+\u001b[39m\u001b[38;5;241m=\u001b[39m\u001b[38;5;241m1\u001b[39m\n",
      "Cell \u001b[0;32mIn[14], line 41\u001b[0m, in \u001b[0;36mtest_search_engine\u001b[0;34m(SearchEngine, name)\u001b[0m\n\u001b[1;32m     38\u001b[0m search_results \u001b[38;5;241m=\u001b[39m search_engine\u001b[38;5;241m.\u001b[39msearch(query, \u001b[38;5;241m5\u001b[39m)\n\u001b[1;32m     39\u001b[0m search_results\u001b[38;5;241m.\u001b[39mrename(columns\u001b[38;5;241m=\u001b[39m{\u001b[38;5;124m'\u001b[39m\u001b[38;5;124mbody\u001b[39m\u001b[38;5;124m'\u001b[39m: \u001b[38;5;124m'\u001b[39m\u001b[38;5;124mabstract\u001b[39m\u001b[38;5;124m'\u001b[39m}, inplace\u001b[38;5;241m=\u001b[39m\u001b[38;5;28;01mTrue\u001b[39;00m)\n\u001b[0;32m---> 41\u001b[0m evaluated_results_boolean \u001b[38;5;241m=\u001b[39m \u001b[43mevaluate_articles_boolean\u001b[49m\u001b[43m(\u001b[49m\u001b[43msearch_results\u001b[49m\u001b[38;5;241;43m.\u001b[39;49m\u001b[43mto_dict\u001b[49m\u001b[43m(\u001b[49m\u001b[43morient\u001b[49m\u001b[38;5;241;43m=\u001b[39;49m\u001b[38;5;124;43m\"\u001b[39;49m\u001b[38;5;124;43mrecords\u001b[39;49m\u001b[38;5;124;43m\"\u001b[39;49m\u001b[43m)\u001b[49m\u001b[43m,\u001b[49m\u001b[43m \u001b[49m\u001b[43mquery\u001b[49m\u001b[43m,\u001b[49m\u001b[43m \u001b[49m\u001b[43mverbose\u001b[49m\u001b[38;5;241;43m=\u001b[39;49m\u001b[38;5;28;43;01mFalse\u001b[39;49;00m\u001b[43m)\u001b[49m\n\u001b[1;32m     42\u001b[0m evaluated_results_boolean \u001b[38;5;241m=\u001b[39m pd\u001b[38;5;241m.\u001b[39mDataFrame(evaluated_results_boolean)\n\u001b[1;32m     43\u001b[0m evaluated_results_boolean[\u001b[38;5;124m'\u001b[39m\u001b[38;5;124meval\u001b[39m\u001b[38;5;124m'\u001b[39m] \u001b[38;5;241m=\u001b[39m pd\u001b[38;5;241m.\u001b[39mto_numeric(evaluated_results_boolean[\u001b[38;5;124m'\u001b[39m\u001b[38;5;124meval\u001b[39m\u001b[38;5;124m'\u001b[39m])\n",
      "File \u001b[0;32m~/fgv/sem7/projetos/ArticLE/query_evaluator.py:66\u001b[0m, in \u001b[0;36mevaluate_articles_boolean\u001b[0;34m(artigos, query, model, max_tokens, verbose)\u001b[0m\n\u001b[1;32m     64\u001b[0m         \u001b[38;5;28;01mexcept\u001b[39;00m \u001b[38;5;167;01mException\u001b[39;00m \u001b[38;5;28;01mas\u001b[39;00m e:\n\u001b[1;32m     65\u001b[0m             \u001b[38;5;28mprint\u001b[39m(\u001b[38;5;124m\"\u001b[39m\u001b[38;5;124mRate limit achieved:\u001b[39m\u001b[38;5;124m\"\u001b[39m, e)\n\u001b[0;32m---> 66\u001b[0m             \u001b[43msleep\u001b[49m\u001b[43m(\u001b[49m\u001b[38;5;241;43m30\u001b[39;49m\u001b[43m)\u001b[49m\n\u001b[1;32m     67\u001b[0m             \u001b[38;5;28;01mcontinue\u001b[39;00m\n\u001b[1;32m     68\u001b[0m \u001b[38;5;28;01mreturn\u001b[39;00m evaluated\n",
      "\u001b[0;31mKeyboardInterrupt\u001b[0m: "
     ]
    }
   ],
   "source": [
    "metrics_dict = {}\n",
    "idx = 0\n",
    "for name, search_engine in search_engines_dict.items():\n",
    "    if idx > 3:\n",
    "        break\n",
    "    print('running for ', name)\n",
    "    metrics = test_search_engine(search_engine, name)\n",
    "    metrics_dict[name] = metrics\n",
    "    idx+=1\n",
    "    !docker stop $(docker ps -a -q) "
   ]
  },
  {
   "cell_type": "code",
   "execution_count": null,
   "metadata": {},
   "outputs": [],
   "source": [
    "from sheets_connection import SaveMetrics\n",
    "\n",
    "save_metrics = SaveMetrics()\n",
    "\n",
    "save_metrics.append_metrics('ndcg_binary_map', df.T)"
   ]
  }
 ],
 "metadata": {
  "kernelspec": {
   "display_name": "proj",
   "language": "python",
   "name": "python3"
  },
  "language_info": {
   "codemirror_mode": {
    "name": "ipython",
    "version": 3
   },
   "file_extension": ".py",
   "mimetype": "text/x-python",
   "name": "python",
   "nbconvert_exporter": "python",
   "pygments_lexer": "ipython3",
   "version": "3.10.12"
  }
 },
 "nbformat": 4,
 "nbformat_minor": 2
}
