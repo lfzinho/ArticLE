{
 "cells": [
  {
   "cell_type": "code",
   "execution_count": 4,
   "metadata": {},
   "outputs": [
    {
     "name": "stdout",
     "output_type": "stream",
     "text": [
      "Collecting nbformat\n",
      "  Downloading nbformat-5.10.4-py3-none-any.whl (78 kB)\n",
      "\u001b[2K     \u001b[90m━━━━━━━━━━━━━━━━━━━━━━━━━━━━━━━━━━━━━━━━\u001b[0m \u001b[32m78.5/78.5 kB\u001b[0m \u001b[31m2.2 MB/s\u001b[0m eta \u001b[36m0:00:00\u001b[0m\n",
      "\u001b[?25hCollecting fastjsonschema>=2.15 (from nbformat)\n",
      "  Downloading fastjsonschema-2.19.1-py3-none-any.whl (23 kB)\n",
      "Requirement already satisfied: jsonschema>=2.6 in /usr/lib/python3/dist-packages (from nbformat) (3.2.0)\n",
      "Requirement already satisfied: jupyter-core!=5.0.*,>=4.12 in /root/.local/lib/python3.10/site-packages (from nbformat) (5.5.0)\n",
      "Requirement already satisfied: traitlets>=5.1 in /root/.local/lib/python3.10/site-packages (from nbformat) (5.14.0)\n",
      "Requirement already satisfied: platformdirs>=2.5 in /root/.local/lib/python3.10/site-packages (from jupyter-core!=5.0.*,>=4.12->nbformat) (4.1.0)\n",
      "Installing collected packages: fastjsonschema, nbformat\n",
      "Successfully installed fastjsonschema-2.19.1 nbformat-5.10.4\n",
      "\u001b[33mWARNING: Running pip as the 'root' user can result in broken permissions and conflicting behaviour with the system package manager. It is recommended to use a virtual environment instead: https://pip.pypa.io/warnings/venv\u001b[0m\u001b[33m\n",
      "\u001b[0m\n",
      "\u001b[1m[\u001b[0m\u001b[34;49mnotice\u001b[0m\u001b[1;39;49m]\u001b[0m\u001b[39;49m A new release of pip is available: \u001b[0m\u001b[31;49m23.1.2\u001b[0m\u001b[39;49m -> \u001b[0m\u001b[32;49m24.0\u001b[0m\n",
      "\u001b[1m[\u001b[0m\u001b[34;49mnotice\u001b[0m\u001b[1;39;49m]\u001b[0m\u001b[39;49m To update, run: \u001b[0m\u001b[32;49mpip install --upgrade pip\u001b[0m\n"
     ]
    }
   ],
   "source": [
    "!pip install nbformat"
   ]
  },
  {
   "cell_type": "code",
   "execution_count": 5,
   "metadata": {},
   "outputs": [
    {
     "data": {
      "application/vnd.plotly.v1+json": {
       "config": {
        "plotlyServerURL": "https://plot.ly"
       },
       "data": [
        {
         "alignmentgroup": "True",
         "hovertemplate": "variable=%{x}<br>value=%{y}<extra></extra>",
         "legendgroup": "",
         "marker": {
          "color": "#636efa"
         },
         "name": "",
         "notched": false,
         "offsetgroup": "",
         "orientation": "v",
         "showlegend": false,
         "type": "box",
         "x": [
          "total_bill",
          "total_bill",
          "total_bill",
          "total_bill",
          "total_bill",
          "total_bill",
          "total_bill",
          "total_bill",
          "total_bill",
          "total_bill",
          "total_bill",
          "total_bill",
          "total_bill",
          "total_bill",
          "total_bill",
          "total_bill",
          "total_bill",
          "total_bill",
          "total_bill",
          "total_bill",
          "total_bill",
          "total_bill",
          "total_bill",
          "total_bill",
          "total_bill",
          "total_bill",
          "total_bill",
          "total_bill",
          "total_bill",
          "total_bill",
          "total_bill",
          "total_bill",
          "total_bill",
          "total_bill",
          "total_bill",
          "total_bill",
          "total_bill",
          "total_bill",
          "total_bill",
          "total_bill",
          "total_bill",
          "total_bill",
          "total_bill",
          "total_bill",
          "total_bill",
          "total_bill",
          "total_bill",
          "total_bill",
          "total_bill",
          "total_bill",
          "total_bill",
          "total_bill",
          "total_bill",
          "total_bill",
          "total_bill",
          "total_bill",
          "total_bill",
          "total_bill",
          "total_bill",
          "total_bill",
          "total_bill",
          "total_bill",
          "total_bill",
          "total_bill",
          "total_bill",
          "total_bill",
          "total_bill",
          "total_bill",
          "total_bill",
          "total_bill",
          "total_bill",
          "total_bill",
          "total_bill",
          "total_bill",
          "total_bill",
          "total_bill",
          "total_bill",
          "total_bill",
          "total_bill",
          "total_bill",
          "total_bill",
          "total_bill",
          "total_bill",
          "total_bill",
          "total_bill",
          "total_bill",
          "total_bill",
          "total_bill",
          "total_bill",
          "total_bill",
          "total_bill",
          "total_bill",
          "total_bill",
          "total_bill",
          "total_bill",
          "total_bill",
          "total_bill",
          "total_bill",
          "total_bill",
          "total_bill",
          "total_bill",
          "total_bill",
          "total_bill",
          "total_bill",
          "total_bill",
          "total_bill",
          "total_bill",
          "total_bill",
          "total_bill",
          "total_bill",
          "total_bill",
          "total_bill",
          "total_bill",
          "total_bill",
          "total_bill",
          "total_bill",
          "total_bill",
          "total_bill",
          "total_bill",
          "total_bill",
          "total_bill",
          "total_bill",
          "total_bill",
          "total_bill",
          "total_bill",
          "total_bill",
          "total_bill",
          "total_bill",
          "total_bill",
          "total_bill",
          "total_bill",
          "total_bill",
          "total_bill",
          "total_bill",
          "total_bill",
          "total_bill",
          "total_bill",
          "total_bill",
          "total_bill",
          "total_bill",
          "total_bill",
          "total_bill",
          "total_bill",
          "total_bill",
          "total_bill",
          "total_bill",
          "total_bill",
          "total_bill",
          "total_bill",
          "total_bill",
          "total_bill",
          "total_bill",
          "total_bill",
          "total_bill",
          "total_bill",
          "total_bill",
          "total_bill",
          "total_bill",
          "total_bill",
          "total_bill",
          "total_bill",
          "total_bill",
          "total_bill",
          "total_bill",
          "total_bill",
          "total_bill",
          "total_bill",
          "total_bill",
          "total_bill",
          "total_bill",
          "total_bill",
          "total_bill",
          "total_bill",
          "total_bill",
          "total_bill",
          "total_bill",
          "total_bill",
          "total_bill",
          "total_bill",
          "total_bill",
          "total_bill",
          "total_bill",
          "total_bill",
          "total_bill",
          "total_bill",
          "total_bill",
          "total_bill",
          "total_bill",
          "total_bill",
          "total_bill",
          "total_bill",
          "total_bill",
          "total_bill",
          "total_bill",
          "total_bill",
          "total_bill",
          "total_bill",
          "total_bill",
          "total_bill",
          "total_bill",
          "total_bill",
          "total_bill",
          "total_bill",
          "total_bill",
          "total_bill",
          "total_bill",
          "total_bill",
          "total_bill",
          "total_bill",
          "total_bill",
          "total_bill",
          "total_bill",
          "total_bill",
          "total_bill",
          "total_bill",
          "total_bill",
          "total_bill",
          "total_bill",
          "total_bill",
          "total_bill",
          "total_bill",
          "total_bill",
          "total_bill",
          "total_bill",
          "total_bill",
          "total_bill",
          "total_bill",
          "total_bill",
          "total_bill",
          "total_bill",
          "total_bill",
          "total_bill",
          "total_bill",
          "total_bill",
          "total_bill",
          "total_bill",
          "total_bill",
          "total_bill",
          "total_bill",
          "total_bill",
          "total_bill",
          "total_bill",
          "total_bill",
          "total_bill",
          "tip",
          "tip",
          "tip",
          "tip",
          "tip",
          "tip",
          "tip",
          "tip",
          "tip",
          "tip",
          "tip",
          "tip",
          "tip",
          "tip",
          "tip",
          "tip",
          "tip",
          "tip",
          "tip",
          "tip",
          "tip",
          "tip",
          "tip",
          "tip",
          "tip",
          "tip",
          "tip",
          "tip",
          "tip",
          "tip",
          "tip",
          "tip",
          "tip",
          "tip",
          "tip",
          "tip",
          "tip",
          "tip",
          "tip",
          "tip",
          "tip",
          "tip",
          "tip",
          "tip",
          "tip",
          "tip",
          "tip",
          "tip",
          "tip",
          "tip",
          "tip",
          "tip",
          "tip",
          "tip",
          "tip",
          "tip",
          "tip",
          "tip",
          "tip",
          "tip",
          "tip",
          "tip",
          "tip",
          "tip",
          "tip",
          "tip",
          "tip",
          "tip",
          "tip",
          "tip",
          "tip",
          "tip",
          "tip",
          "tip",
          "tip",
          "tip",
          "tip",
          "tip",
          "tip",
          "tip",
          "tip",
          "tip",
          "tip",
          "tip",
          "tip",
          "tip",
          "tip",
          "tip",
          "tip",
          "tip",
          "tip",
          "tip",
          "tip",
          "tip",
          "tip",
          "tip",
          "tip",
          "tip",
          "tip",
          "tip",
          "tip",
          "tip",
          "tip",
          "tip",
          "tip",
          "tip",
          "tip",
          "tip",
          "tip",
          "tip",
          "tip",
          "tip",
          "tip",
          "tip",
          "tip",
          "tip",
          "tip",
          "tip",
          "tip",
          "tip",
          "tip",
          "tip",
          "tip",
          "tip",
          "tip",
          "tip",
          "tip",
          "tip",
          "tip",
          "tip",
          "tip",
          "tip",
          "tip",
          "tip",
          "tip",
          "tip",
          "tip",
          "tip",
          "tip",
          "tip",
          "tip",
          "tip",
          "tip",
          "tip",
          "tip",
          "tip",
          "tip",
          "tip",
          "tip",
          "tip",
          "tip",
          "tip",
          "tip",
          "tip",
          "tip",
          "tip",
          "tip",
          "tip",
          "tip",
          "tip",
          "tip",
          "tip",
          "tip",
          "tip",
          "tip",
          "tip",
          "tip",
          "tip",
          "tip",
          "tip",
          "tip",
          "tip",
          "tip",
          "tip",
          "tip",
          "tip",
          "tip",
          "tip",
          "tip",
          "tip",
          "tip",
          "tip",
          "tip",
          "tip",
          "tip",
          "tip",
          "tip",
          "tip",
          "tip",
          "tip",
          "tip",
          "tip",
          "tip",
          "tip",
          "tip",
          "tip",
          "tip",
          "tip",
          "tip",
          "tip",
          "tip",
          "tip",
          "tip",
          "tip",
          "tip",
          "tip",
          "tip",
          "tip",
          "tip",
          "tip",
          "tip",
          "tip",
          "tip",
          "tip",
          "tip",
          "tip",
          "tip",
          "tip",
          "tip",
          "tip",
          "tip",
          "tip",
          "tip",
          "tip",
          "tip",
          "tip",
          "tip",
          "tip",
          "tip",
          "tip",
          "tip",
          "tip",
          "tip",
          "tip",
          "tip",
          "tip",
          "tip",
          "tip",
          "tip",
          "tip",
          "tip",
          "tip",
          "tip",
          "tip"
         ],
         "x0": " ",
         "xaxis": "x",
         "y": [
          16.99,
          10.34,
          21.01,
          23.68,
          24.59,
          25.29,
          8.77,
          26.88,
          15.04,
          14.78,
          10.27,
          35.26,
          15.42,
          18.43,
          14.83,
          21.58,
          10.33,
          16.29,
          16.97,
          20.65,
          17.92,
          20.29,
          15.77,
          39.42,
          19.82,
          17.81,
          13.37,
          12.69,
          21.7,
          19.65,
          9.55,
          18.35,
          15.06,
          20.69,
          17.78,
          24.06,
          16.31,
          16.93,
          18.69,
          31.27,
          16.04,
          17.46,
          13.94,
          9.68,
          30.4,
          18.29,
          22.23,
          32.4,
          28.55,
          18.04,
          12.54,
          10.29,
          34.81,
          9.94,
          25.56,
          19.49,
          38.01,
          26.41,
          11.24,
          48.27,
          20.29,
          13.81,
          11.02,
          18.29,
          17.59,
          20.08,
          16.45,
          3.07,
          20.23,
          15.01,
          12.02,
          17.07,
          26.86,
          25.28,
          14.73,
          10.51,
          17.92,
          27.2,
          22.76,
          17.29,
          19.44,
          16.66,
          10.07,
          32.68,
          15.98,
          34.83,
          13.03,
          18.28,
          24.71,
          21.16,
          28.97,
          22.49,
          5.75,
          16.32,
          22.75,
          40.17,
          27.28,
          12.03,
          21.01,
          12.46,
          11.35,
          15.38,
          44.3,
          22.42,
          20.92,
          15.36,
          20.49,
          25.21,
          18.24,
          14.31,
          14,
          7.25,
          38.07,
          23.95,
          25.71,
          17.31,
          29.93,
          10.65,
          12.43,
          24.08,
          11.69,
          13.42,
          14.26,
          15.95,
          12.48,
          29.8,
          8.52,
          14.52,
          11.38,
          22.82,
          19.08,
          20.27,
          11.17,
          12.26,
          18.26,
          8.51,
          10.33,
          14.15,
          16,
          13.16,
          17.47,
          34.3,
          41.19,
          27.05,
          16.43,
          8.35,
          18.64,
          11.87,
          9.78,
          7.51,
          14.07,
          13.13,
          17.26,
          24.55,
          19.77,
          29.85,
          48.17,
          25,
          13.39,
          16.49,
          21.5,
          12.66,
          16.21,
          13.81,
          17.51,
          24.52,
          20.76,
          31.71,
          10.59,
          10.63,
          50.81,
          15.81,
          7.25,
          31.85,
          16.82,
          32.9,
          17.89,
          14.48,
          9.6,
          34.63,
          34.65,
          23.33,
          45.35,
          23.17,
          40.55,
          20.69,
          20.9,
          30.46,
          18.15,
          23.1,
          15.69,
          19.81,
          28.44,
          15.48,
          16.58,
          7.56,
          10.34,
          43.11,
          13,
          13.51,
          18.71,
          12.74,
          13,
          16.4,
          20.53,
          16.47,
          26.59,
          38.73,
          24.27,
          12.76,
          30.06,
          25.89,
          48.33,
          13.27,
          28.17,
          12.9,
          28.15,
          11.59,
          7.74,
          30.14,
          12.16,
          13.42,
          8.58,
          15.98,
          13.42,
          16.27,
          10.09,
          20.45,
          13.28,
          22.12,
          24.01,
          15.69,
          11.61,
          10.77,
          15.53,
          10.07,
          12.6,
          32.83,
          35.83,
          29.03,
          27.18,
          22.67,
          17.82,
          18.78,
          1.01,
          1.66,
          3.5,
          3.31,
          3.61,
          4.71,
          2,
          3.12,
          1.96,
          3.23,
          1.71,
          5,
          1.57,
          3,
          3.02,
          3.92,
          1.67,
          3.71,
          3.5,
          3.35,
          4.08,
          2.75,
          2.23,
          7.58,
          3.18,
          2.34,
          2,
          2,
          4.3,
          3,
          1.45,
          2.5,
          3,
          2.45,
          3.27,
          3.6,
          2,
          3.07,
          2.31,
          5,
          2.24,
          2.54,
          3.06,
          1.32,
          5.6,
          3,
          5,
          6,
          2.05,
          3,
          2.5,
          2.6,
          5.2,
          1.56,
          4.34,
          3.51,
          3,
          1.5,
          1.76,
          6.73,
          3.21,
          2,
          1.98,
          3.76,
          2.64,
          3.15,
          2.47,
          1,
          2.01,
          2.09,
          1.97,
          3,
          3.14,
          5,
          2.2,
          1.25,
          3.08,
          4,
          3,
          2.71,
          3,
          3.4,
          1.83,
          5,
          2.03,
          5.17,
          2,
          4,
          5.85,
          3,
          3,
          3.5,
          1,
          4.3,
          3.25,
          4.73,
          4,
          1.5,
          3,
          1.5,
          2.5,
          3,
          2.5,
          3.48,
          4.08,
          1.64,
          4.06,
          4.29,
          3.76,
          4,
          3,
          1,
          4,
          2.55,
          4,
          3.5,
          5.07,
          1.5,
          1.8,
          2.92,
          2.31,
          1.68,
          2.5,
          2,
          2.52,
          4.2,
          1.48,
          2,
          2,
          2.18,
          1.5,
          2.83,
          1.5,
          2,
          3.25,
          1.25,
          2,
          2,
          2,
          2.75,
          3.5,
          6.7,
          5,
          5,
          2.3,
          1.5,
          1.36,
          1.63,
          1.73,
          2,
          2.5,
          2,
          2.74,
          2,
          2,
          5.14,
          5,
          3.75,
          2.61,
          2,
          3.5,
          2.5,
          2,
          2,
          3,
          3.48,
          2.24,
          4.5,
          1.61,
          2,
          10,
          3.16,
          5.15,
          3.18,
          4,
          3.11,
          2,
          2,
          4,
          3.55,
          3.68,
          5.65,
          3.5,
          6.5,
          3,
          5,
          3.5,
          2,
          3.5,
          4,
          1.5,
          4.19,
          2.56,
          2.02,
          4,
          1.44,
          2,
          5,
          2,
          2,
          4,
          2.01,
          2,
          2.5,
          4,
          3.23,
          3.41,
          3,
          2.03,
          2.23,
          2,
          5.16,
          9,
          2.5,
          6.5,
          1.1,
          3,
          1.5,
          1.44,
          3.09,
          2.2,
          3.48,
          1.92,
          3,
          1.58,
          2.5,
          2,
          3,
          2.72,
          2.88,
          2,
          3,
          3.39,
          1.47,
          3,
          1.25,
          1,
          1.17,
          4.67,
          5.92,
          2,
          2,
          1.75,
          3
         ],
         "y0": " ",
         "yaxis": "y"
        }
       ],
       "layout": {
        "boxmode": "group",
        "legend": {
         "tracegroupgap": 0
        },
        "margin": {
         "t": 60
        },
        "template": {
         "data": {
          "bar": [
           {
            "error_x": {
             "color": "#2a3f5f"
            },
            "error_y": {
             "color": "#2a3f5f"
            },
            "marker": {
             "line": {
              "color": "#E5ECF6",
              "width": 0.5
             },
             "pattern": {
              "fillmode": "overlay",
              "size": 10,
              "solidity": 0.2
             }
            },
            "type": "bar"
           }
          ],
          "barpolar": [
           {
            "marker": {
             "line": {
              "color": "#E5ECF6",
              "width": 0.5
             },
             "pattern": {
              "fillmode": "overlay",
              "size": 10,
              "solidity": 0.2
             }
            },
            "type": "barpolar"
           }
          ],
          "carpet": [
           {
            "aaxis": {
             "endlinecolor": "#2a3f5f",
             "gridcolor": "white",
             "linecolor": "white",
             "minorgridcolor": "white",
             "startlinecolor": "#2a3f5f"
            },
            "baxis": {
             "endlinecolor": "#2a3f5f",
             "gridcolor": "white",
             "linecolor": "white",
             "minorgridcolor": "white",
             "startlinecolor": "#2a3f5f"
            },
            "type": "carpet"
           }
          ],
          "choropleth": [
           {
            "colorbar": {
             "outlinewidth": 0,
             "ticks": ""
            },
            "type": "choropleth"
           }
          ],
          "contour": [
           {
            "colorbar": {
             "outlinewidth": 0,
             "ticks": ""
            },
            "colorscale": [
             [
              0,
              "#0d0887"
             ],
             [
              0.1111111111111111,
              "#46039f"
             ],
             [
              0.2222222222222222,
              "#7201a8"
             ],
             [
              0.3333333333333333,
              "#9c179e"
             ],
             [
              0.4444444444444444,
              "#bd3786"
             ],
             [
              0.5555555555555556,
              "#d8576b"
             ],
             [
              0.6666666666666666,
              "#ed7953"
             ],
             [
              0.7777777777777778,
              "#fb9f3a"
             ],
             [
              0.8888888888888888,
              "#fdca26"
             ],
             [
              1,
              "#f0f921"
             ]
            ],
            "type": "contour"
           }
          ],
          "contourcarpet": [
           {
            "colorbar": {
             "outlinewidth": 0,
             "ticks": ""
            },
            "type": "contourcarpet"
           }
          ],
          "heatmap": [
           {
            "colorbar": {
             "outlinewidth": 0,
             "ticks": ""
            },
            "colorscale": [
             [
              0,
              "#0d0887"
             ],
             [
              0.1111111111111111,
              "#46039f"
             ],
             [
              0.2222222222222222,
              "#7201a8"
             ],
             [
              0.3333333333333333,
              "#9c179e"
             ],
             [
              0.4444444444444444,
              "#bd3786"
             ],
             [
              0.5555555555555556,
              "#d8576b"
             ],
             [
              0.6666666666666666,
              "#ed7953"
             ],
             [
              0.7777777777777778,
              "#fb9f3a"
             ],
             [
              0.8888888888888888,
              "#fdca26"
             ],
             [
              1,
              "#f0f921"
             ]
            ],
            "type": "heatmap"
           }
          ],
          "heatmapgl": [
           {
            "colorbar": {
             "outlinewidth": 0,
             "ticks": ""
            },
            "colorscale": [
             [
              0,
              "#0d0887"
             ],
             [
              0.1111111111111111,
              "#46039f"
             ],
             [
              0.2222222222222222,
              "#7201a8"
             ],
             [
              0.3333333333333333,
              "#9c179e"
             ],
             [
              0.4444444444444444,
              "#bd3786"
             ],
             [
              0.5555555555555556,
              "#d8576b"
             ],
             [
              0.6666666666666666,
              "#ed7953"
             ],
             [
              0.7777777777777778,
              "#fb9f3a"
             ],
             [
              0.8888888888888888,
              "#fdca26"
             ],
             [
              1,
              "#f0f921"
             ]
            ],
            "type": "heatmapgl"
           }
          ],
          "histogram": [
           {
            "marker": {
             "pattern": {
              "fillmode": "overlay",
              "size": 10,
              "solidity": 0.2
             }
            },
            "type": "histogram"
           }
          ],
          "histogram2d": [
           {
            "colorbar": {
             "outlinewidth": 0,
             "ticks": ""
            },
            "colorscale": [
             [
              0,
              "#0d0887"
             ],
             [
              0.1111111111111111,
              "#46039f"
             ],
             [
              0.2222222222222222,
              "#7201a8"
             ],
             [
              0.3333333333333333,
              "#9c179e"
             ],
             [
              0.4444444444444444,
              "#bd3786"
             ],
             [
              0.5555555555555556,
              "#d8576b"
             ],
             [
              0.6666666666666666,
              "#ed7953"
             ],
             [
              0.7777777777777778,
              "#fb9f3a"
             ],
             [
              0.8888888888888888,
              "#fdca26"
             ],
             [
              1,
              "#f0f921"
             ]
            ],
            "type": "histogram2d"
           }
          ],
          "histogram2dcontour": [
           {
            "colorbar": {
             "outlinewidth": 0,
             "ticks": ""
            },
            "colorscale": [
             [
              0,
              "#0d0887"
             ],
             [
              0.1111111111111111,
              "#46039f"
             ],
             [
              0.2222222222222222,
              "#7201a8"
             ],
             [
              0.3333333333333333,
              "#9c179e"
             ],
             [
              0.4444444444444444,
              "#bd3786"
             ],
             [
              0.5555555555555556,
              "#d8576b"
             ],
             [
              0.6666666666666666,
              "#ed7953"
             ],
             [
              0.7777777777777778,
              "#fb9f3a"
             ],
             [
              0.8888888888888888,
              "#fdca26"
             ],
             [
              1,
              "#f0f921"
             ]
            ],
            "type": "histogram2dcontour"
           }
          ],
          "mesh3d": [
           {
            "colorbar": {
             "outlinewidth": 0,
             "ticks": ""
            },
            "type": "mesh3d"
           }
          ],
          "parcoords": [
           {
            "line": {
             "colorbar": {
              "outlinewidth": 0,
              "ticks": ""
             }
            },
            "type": "parcoords"
           }
          ],
          "pie": [
           {
            "automargin": true,
            "type": "pie"
           }
          ],
          "scatter": [
           {
            "fillpattern": {
             "fillmode": "overlay",
             "size": 10,
             "solidity": 0.2
            },
            "type": "scatter"
           }
          ],
          "scatter3d": [
           {
            "line": {
             "colorbar": {
              "outlinewidth": 0,
              "ticks": ""
             }
            },
            "marker": {
             "colorbar": {
              "outlinewidth": 0,
              "ticks": ""
             }
            },
            "type": "scatter3d"
           }
          ],
          "scattercarpet": [
           {
            "marker": {
             "colorbar": {
              "outlinewidth": 0,
              "ticks": ""
             }
            },
            "type": "scattercarpet"
           }
          ],
          "scattergeo": [
           {
            "marker": {
             "colorbar": {
              "outlinewidth": 0,
              "ticks": ""
             }
            },
            "type": "scattergeo"
           }
          ],
          "scattergl": [
           {
            "marker": {
             "colorbar": {
              "outlinewidth": 0,
              "ticks": ""
             }
            },
            "type": "scattergl"
           }
          ],
          "scattermapbox": [
           {
            "marker": {
             "colorbar": {
              "outlinewidth": 0,
              "ticks": ""
             }
            },
            "type": "scattermapbox"
           }
          ],
          "scatterpolar": [
           {
            "marker": {
             "colorbar": {
              "outlinewidth": 0,
              "ticks": ""
             }
            },
            "type": "scatterpolar"
           }
          ],
          "scatterpolargl": [
           {
            "marker": {
             "colorbar": {
              "outlinewidth": 0,
              "ticks": ""
             }
            },
            "type": "scatterpolargl"
           }
          ],
          "scatterternary": [
           {
            "marker": {
             "colorbar": {
              "outlinewidth": 0,
              "ticks": ""
             }
            },
            "type": "scatterternary"
           }
          ],
          "surface": [
           {
            "colorbar": {
             "outlinewidth": 0,
             "ticks": ""
            },
            "colorscale": [
             [
              0,
              "#0d0887"
             ],
             [
              0.1111111111111111,
              "#46039f"
             ],
             [
              0.2222222222222222,
              "#7201a8"
             ],
             [
              0.3333333333333333,
              "#9c179e"
             ],
             [
              0.4444444444444444,
              "#bd3786"
             ],
             [
              0.5555555555555556,
              "#d8576b"
             ],
             [
              0.6666666666666666,
              "#ed7953"
             ],
             [
              0.7777777777777778,
              "#fb9f3a"
             ],
             [
              0.8888888888888888,
              "#fdca26"
             ],
             [
              1,
              "#f0f921"
             ]
            ],
            "type": "surface"
           }
          ],
          "table": [
           {
            "cells": {
             "fill": {
              "color": "#EBF0F8"
             },
             "line": {
              "color": "white"
             }
            },
            "header": {
             "fill": {
              "color": "#C8D4E3"
             },
             "line": {
              "color": "white"
             }
            },
            "type": "table"
           }
          ]
         },
         "layout": {
          "annotationdefaults": {
           "arrowcolor": "#2a3f5f",
           "arrowhead": 0,
           "arrowwidth": 1
          },
          "autotypenumbers": "strict",
          "coloraxis": {
           "colorbar": {
            "outlinewidth": 0,
            "ticks": ""
           }
          },
          "colorscale": {
           "diverging": [
            [
             0,
             "#8e0152"
            ],
            [
             0.1,
             "#c51b7d"
            ],
            [
             0.2,
             "#de77ae"
            ],
            [
             0.3,
             "#f1b6da"
            ],
            [
             0.4,
             "#fde0ef"
            ],
            [
             0.5,
             "#f7f7f7"
            ],
            [
             0.6,
             "#e6f5d0"
            ],
            [
             0.7,
             "#b8e186"
            ],
            [
             0.8,
             "#7fbc41"
            ],
            [
             0.9,
             "#4d9221"
            ],
            [
             1,
             "#276419"
            ]
           ],
           "sequential": [
            [
             0,
             "#0d0887"
            ],
            [
             0.1111111111111111,
             "#46039f"
            ],
            [
             0.2222222222222222,
             "#7201a8"
            ],
            [
             0.3333333333333333,
             "#9c179e"
            ],
            [
             0.4444444444444444,
             "#bd3786"
            ],
            [
             0.5555555555555556,
             "#d8576b"
            ],
            [
             0.6666666666666666,
             "#ed7953"
            ],
            [
             0.7777777777777778,
             "#fb9f3a"
            ],
            [
             0.8888888888888888,
             "#fdca26"
            ],
            [
             1,
             "#f0f921"
            ]
           ],
           "sequentialminus": [
            [
             0,
             "#0d0887"
            ],
            [
             0.1111111111111111,
             "#46039f"
            ],
            [
             0.2222222222222222,
             "#7201a8"
            ],
            [
             0.3333333333333333,
             "#9c179e"
            ],
            [
             0.4444444444444444,
             "#bd3786"
            ],
            [
             0.5555555555555556,
             "#d8576b"
            ],
            [
             0.6666666666666666,
             "#ed7953"
            ],
            [
             0.7777777777777778,
             "#fb9f3a"
            ],
            [
             0.8888888888888888,
             "#fdca26"
            ],
            [
             1,
             "#f0f921"
            ]
           ]
          },
          "colorway": [
           "#636efa",
           "#EF553B",
           "#00cc96",
           "#ab63fa",
           "#FFA15A",
           "#19d3f3",
           "#FF6692",
           "#B6E880",
           "#FF97FF",
           "#FECB52"
          ],
          "font": {
           "color": "#2a3f5f"
          },
          "geo": {
           "bgcolor": "white",
           "lakecolor": "white",
           "landcolor": "#E5ECF6",
           "showlakes": true,
           "showland": true,
           "subunitcolor": "white"
          },
          "hoverlabel": {
           "align": "left"
          },
          "hovermode": "closest",
          "mapbox": {
           "style": "light"
          },
          "paper_bgcolor": "white",
          "plot_bgcolor": "#E5ECF6",
          "polar": {
           "angularaxis": {
            "gridcolor": "white",
            "linecolor": "white",
            "ticks": ""
           },
           "bgcolor": "#E5ECF6",
           "radialaxis": {
            "gridcolor": "white",
            "linecolor": "white",
            "ticks": ""
           }
          },
          "scene": {
           "xaxis": {
            "backgroundcolor": "#E5ECF6",
            "gridcolor": "white",
            "gridwidth": 2,
            "linecolor": "white",
            "showbackground": true,
            "ticks": "",
            "zerolinecolor": "white"
           },
           "yaxis": {
            "backgroundcolor": "#E5ECF6",
            "gridcolor": "white",
            "gridwidth": 2,
            "linecolor": "white",
            "showbackground": true,
            "ticks": "",
            "zerolinecolor": "white"
           },
           "zaxis": {
            "backgroundcolor": "#E5ECF6",
            "gridcolor": "white",
            "gridwidth": 2,
            "linecolor": "white",
            "showbackground": true,
            "ticks": "",
            "zerolinecolor": "white"
           }
          },
          "shapedefaults": {
           "line": {
            "color": "#2a3f5f"
           }
          },
          "ternary": {
           "aaxis": {
            "gridcolor": "white",
            "linecolor": "white",
            "ticks": ""
           },
           "baxis": {
            "gridcolor": "white",
            "linecolor": "white",
            "ticks": ""
           },
           "bgcolor": "#E5ECF6",
           "caxis": {
            "gridcolor": "white",
            "linecolor": "white",
            "ticks": ""
           }
          },
          "title": {
           "x": 0.05
          },
          "xaxis": {
           "automargin": true,
           "gridcolor": "white",
           "linecolor": "white",
           "ticks": "",
           "title": {
            "standoff": 15
           },
           "zerolinecolor": "white",
           "zerolinewidth": 2
          },
          "yaxis": {
           "automargin": true,
           "gridcolor": "white",
           "linecolor": "white",
           "ticks": "",
           "title": {
            "standoff": 15
           },
           "zerolinecolor": "white",
           "zerolinewidth": 2
          }
         }
        },
        "xaxis": {
         "anchor": "y",
         "domain": [
          0,
          1
         ],
         "title": {
          "text": "variable"
         }
        },
        "yaxis": {
         "anchor": "x",
         "domain": [
          0,
          1
         ],
         "title": {
          "text": "value"
         }
        }
       }
      },
      "text/html": [
       "<div>                            <div id=\"7269b9df-e014-4ae5-ae85-8e59d99df58e\" class=\"plotly-graph-div\" style=\"height:525px; width:100%;\"></div>            <script type=\"text/javascript\">                require([\"plotly\"], function(Plotly) {                    window.PLOTLYENV=window.PLOTLYENV || {};                                    if (document.getElementById(\"7269b9df-e014-4ae5-ae85-8e59d99df58e\")) {                    Plotly.newPlot(                        \"7269b9df-e014-4ae5-ae85-8e59d99df58e\",                        [{\"alignmentgroup\":\"True\",\"hovertemplate\":\"variable=%{x}<br>value=%{y}<extra></extra>\",\"legendgroup\":\"\",\"marker\":{\"color\":\"#636efa\"},\"name\":\"\",\"notched\":false,\"offsetgroup\":\"\",\"orientation\":\"v\",\"showlegend\":false,\"x\":[\"total_bill\",\"total_bill\",\"total_bill\",\"total_bill\",\"total_bill\",\"total_bill\",\"total_bill\",\"total_bill\",\"total_bill\",\"total_bill\",\"total_bill\",\"total_bill\",\"total_bill\",\"total_bill\",\"total_bill\",\"total_bill\",\"total_bill\",\"total_bill\",\"total_bill\",\"total_bill\",\"total_bill\",\"total_bill\",\"total_bill\",\"total_bill\",\"total_bill\",\"total_bill\",\"total_bill\",\"total_bill\",\"total_bill\",\"total_bill\",\"total_bill\",\"total_bill\",\"total_bill\",\"total_bill\",\"total_bill\",\"total_bill\",\"total_bill\",\"total_bill\",\"total_bill\",\"total_bill\",\"total_bill\",\"total_bill\",\"total_bill\",\"total_bill\",\"total_bill\",\"total_bill\",\"total_bill\",\"total_bill\",\"total_bill\",\"total_bill\",\"total_bill\",\"total_bill\",\"total_bill\",\"total_bill\",\"total_bill\",\"total_bill\",\"total_bill\",\"total_bill\",\"total_bill\",\"total_bill\",\"total_bill\",\"total_bill\",\"total_bill\",\"total_bill\",\"total_bill\",\"total_bill\",\"total_bill\",\"total_bill\",\"total_bill\",\"total_bill\",\"total_bill\",\"total_bill\",\"total_bill\",\"total_bill\",\"total_bill\",\"total_bill\",\"total_bill\",\"total_bill\",\"total_bill\",\"total_bill\",\"total_bill\",\"total_bill\",\"total_bill\",\"total_bill\",\"total_bill\",\"total_bill\",\"total_bill\",\"total_bill\",\"total_bill\",\"total_bill\",\"total_bill\",\"total_bill\",\"total_bill\",\"total_bill\",\"total_bill\",\"total_bill\",\"total_bill\",\"total_bill\",\"total_bill\",\"total_bill\",\"total_bill\",\"total_bill\",\"total_bill\",\"total_bill\",\"total_bill\",\"total_bill\",\"total_bill\",\"total_bill\",\"total_bill\",\"total_bill\",\"total_bill\",\"total_bill\",\"total_bill\",\"total_bill\",\"total_bill\",\"total_bill\",\"total_bill\",\"total_bill\",\"total_bill\",\"total_bill\",\"total_bill\",\"total_bill\",\"total_bill\",\"total_bill\",\"total_bill\",\"total_bill\",\"total_bill\",\"total_bill\",\"total_bill\",\"total_bill\",\"total_bill\",\"total_bill\",\"total_bill\",\"total_bill\",\"total_bill\",\"total_bill\",\"total_bill\",\"total_bill\",\"total_bill\",\"total_bill\",\"total_bill\",\"total_bill\",\"total_bill\",\"total_bill\",\"total_bill\",\"total_bill\",\"total_bill\",\"total_bill\",\"total_bill\",\"total_bill\",\"total_bill\",\"total_bill\",\"total_bill\",\"total_bill\",\"total_bill\",\"total_bill\",\"total_bill\",\"total_bill\",\"total_bill\",\"total_bill\",\"total_bill\",\"total_bill\",\"total_bill\",\"total_bill\",\"total_bill\",\"total_bill\",\"total_bill\",\"total_bill\",\"total_bill\",\"total_bill\",\"total_bill\",\"total_bill\",\"total_bill\",\"total_bill\",\"total_bill\",\"total_bill\",\"total_bill\",\"total_bill\",\"total_bill\",\"total_bill\",\"total_bill\",\"total_bill\",\"total_bill\",\"total_bill\",\"total_bill\",\"total_bill\",\"total_bill\",\"total_bill\",\"total_bill\",\"total_bill\",\"total_bill\",\"total_bill\",\"total_bill\",\"total_bill\",\"total_bill\",\"total_bill\",\"total_bill\",\"total_bill\",\"total_bill\",\"total_bill\",\"total_bill\",\"total_bill\",\"total_bill\",\"total_bill\",\"total_bill\",\"total_bill\",\"total_bill\",\"total_bill\",\"total_bill\",\"total_bill\",\"total_bill\",\"total_bill\",\"total_bill\",\"total_bill\",\"total_bill\",\"total_bill\",\"total_bill\",\"total_bill\",\"total_bill\",\"total_bill\",\"total_bill\",\"total_bill\",\"total_bill\",\"total_bill\",\"total_bill\",\"total_bill\",\"total_bill\",\"total_bill\",\"total_bill\",\"total_bill\",\"total_bill\",\"total_bill\",\"total_bill\",\"total_bill\",\"total_bill\",\"total_bill\",\"total_bill\",\"total_bill\",\"total_bill\",\"total_bill\",\"total_bill\",\"total_bill\",\"total_bill\",\"total_bill\",\"tip\",\"tip\",\"tip\",\"tip\",\"tip\",\"tip\",\"tip\",\"tip\",\"tip\",\"tip\",\"tip\",\"tip\",\"tip\",\"tip\",\"tip\",\"tip\",\"tip\",\"tip\",\"tip\",\"tip\",\"tip\",\"tip\",\"tip\",\"tip\",\"tip\",\"tip\",\"tip\",\"tip\",\"tip\",\"tip\",\"tip\",\"tip\",\"tip\",\"tip\",\"tip\",\"tip\",\"tip\",\"tip\",\"tip\",\"tip\",\"tip\",\"tip\",\"tip\",\"tip\",\"tip\",\"tip\",\"tip\",\"tip\",\"tip\",\"tip\",\"tip\",\"tip\",\"tip\",\"tip\",\"tip\",\"tip\",\"tip\",\"tip\",\"tip\",\"tip\",\"tip\",\"tip\",\"tip\",\"tip\",\"tip\",\"tip\",\"tip\",\"tip\",\"tip\",\"tip\",\"tip\",\"tip\",\"tip\",\"tip\",\"tip\",\"tip\",\"tip\",\"tip\",\"tip\",\"tip\",\"tip\",\"tip\",\"tip\",\"tip\",\"tip\",\"tip\",\"tip\",\"tip\",\"tip\",\"tip\",\"tip\",\"tip\",\"tip\",\"tip\",\"tip\",\"tip\",\"tip\",\"tip\",\"tip\",\"tip\",\"tip\",\"tip\",\"tip\",\"tip\",\"tip\",\"tip\",\"tip\",\"tip\",\"tip\",\"tip\",\"tip\",\"tip\",\"tip\",\"tip\",\"tip\",\"tip\",\"tip\",\"tip\",\"tip\",\"tip\",\"tip\",\"tip\",\"tip\",\"tip\",\"tip\",\"tip\",\"tip\",\"tip\",\"tip\",\"tip\",\"tip\",\"tip\",\"tip\",\"tip\",\"tip\",\"tip\",\"tip\",\"tip\",\"tip\",\"tip\",\"tip\",\"tip\",\"tip\",\"tip\",\"tip\",\"tip\",\"tip\",\"tip\",\"tip\",\"tip\",\"tip\",\"tip\",\"tip\",\"tip\",\"tip\",\"tip\",\"tip\",\"tip\",\"tip\",\"tip\",\"tip\",\"tip\",\"tip\",\"tip\",\"tip\",\"tip\",\"tip\",\"tip\",\"tip\",\"tip\",\"tip\",\"tip\",\"tip\",\"tip\",\"tip\",\"tip\",\"tip\",\"tip\",\"tip\",\"tip\",\"tip\",\"tip\",\"tip\",\"tip\",\"tip\",\"tip\",\"tip\",\"tip\",\"tip\",\"tip\",\"tip\",\"tip\",\"tip\",\"tip\",\"tip\",\"tip\",\"tip\",\"tip\",\"tip\",\"tip\",\"tip\",\"tip\",\"tip\",\"tip\",\"tip\",\"tip\",\"tip\",\"tip\",\"tip\",\"tip\",\"tip\",\"tip\",\"tip\",\"tip\",\"tip\",\"tip\",\"tip\",\"tip\",\"tip\",\"tip\",\"tip\",\"tip\",\"tip\",\"tip\",\"tip\",\"tip\",\"tip\",\"tip\",\"tip\",\"tip\",\"tip\",\"tip\",\"tip\",\"tip\",\"tip\",\"tip\",\"tip\",\"tip\",\"tip\",\"tip\",\"tip\",\"tip\",\"tip\",\"tip\"],\"x0\":\" \",\"xaxis\":\"x\",\"y\":[16.99,10.34,21.01,23.68,24.59,25.29,8.77,26.88,15.04,14.78,10.27,35.26,15.42,18.43,14.83,21.58,10.33,16.29,16.97,20.65,17.92,20.29,15.77,39.42,19.82,17.81,13.37,12.69,21.7,19.65,9.55,18.35,15.06,20.69,17.78,24.06,16.31,16.93,18.69,31.27,16.04,17.46,13.94,9.68,30.4,18.29,22.23,32.4,28.55,18.04,12.54,10.29,34.81,9.94,25.56,19.49,38.01,26.41,11.24,48.27,20.29,13.81,11.02,18.29,17.59,20.08,16.45,3.07,20.23,15.01,12.02,17.07,26.86,25.28,14.73,10.51,17.92,27.2,22.76,17.29,19.44,16.66,10.07,32.68,15.98,34.83,13.03,18.28,24.71,21.16,28.97,22.49,5.75,16.32,22.75,40.17,27.28,12.03,21.01,12.46,11.35,15.38,44.3,22.42,20.92,15.36,20.49,25.21,18.24,14.31,14.0,7.25,38.07,23.95,25.71,17.31,29.93,10.65,12.43,24.08,11.69,13.42,14.26,15.95,12.48,29.8,8.52,14.52,11.38,22.82,19.08,20.27,11.17,12.26,18.26,8.51,10.33,14.15,16.0,13.16,17.47,34.3,41.19,27.05,16.43,8.35,18.64,11.87,9.78,7.51,14.07,13.13,17.26,24.55,19.77,29.85,48.17,25.0,13.39,16.49,21.5,12.66,16.21,13.81,17.51,24.52,20.76,31.71,10.59,10.63,50.81,15.81,7.25,31.85,16.82,32.9,17.89,14.48,9.6,34.63,34.65,23.33,45.35,23.17,40.55,20.69,20.9,30.46,18.15,23.1,15.69,19.81,28.44,15.48,16.58,7.56,10.34,43.11,13.0,13.51,18.71,12.74,13.0,16.4,20.53,16.47,26.59,38.73,24.27,12.76,30.06,25.89,48.33,13.27,28.17,12.9,28.15,11.59,7.74,30.14,12.16,13.42,8.58,15.98,13.42,16.27,10.09,20.45,13.28,22.12,24.01,15.69,11.61,10.77,15.53,10.07,12.6,32.83,35.83,29.03,27.18,22.67,17.82,18.78,1.01,1.66,3.5,3.31,3.61,4.71,2.0,3.12,1.96,3.23,1.71,5.0,1.57,3.0,3.02,3.92,1.67,3.71,3.5,3.35,4.08,2.75,2.23,7.58,3.18,2.34,2.0,2.0,4.3,3.0,1.45,2.5,3.0,2.45,3.27,3.6,2.0,3.07,2.31,5.0,2.24,2.54,3.06,1.32,5.6,3.0,5.0,6.0,2.05,3.0,2.5,2.6,5.2,1.56,4.34,3.51,3.0,1.5,1.76,6.73,3.21,2.0,1.98,3.76,2.64,3.15,2.47,1.0,2.01,2.09,1.97,3.0,3.14,5.0,2.2,1.25,3.08,4.0,3.0,2.71,3.0,3.4,1.83,5.0,2.03,5.17,2.0,4.0,5.85,3.0,3.0,3.5,1.0,4.3,3.25,4.73,4.0,1.5,3.0,1.5,2.5,3.0,2.5,3.48,4.08,1.64,4.06,4.29,3.76,4.0,3.0,1.0,4.0,2.55,4.0,3.5,5.07,1.5,1.8,2.92,2.31,1.68,2.5,2.0,2.52,4.2,1.48,2.0,2.0,2.18,1.5,2.83,1.5,2.0,3.25,1.25,2.0,2.0,2.0,2.75,3.5,6.7,5.0,5.0,2.3,1.5,1.36,1.63,1.73,2.0,2.5,2.0,2.74,2.0,2.0,5.14,5.0,3.75,2.61,2.0,3.5,2.5,2.0,2.0,3.0,3.48,2.24,4.5,1.61,2.0,10.0,3.16,5.15,3.18,4.0,3.11,2.0,2.0,4.0,3.55,3.68,5.65,3.5,6.5,3.0,5.0,3.5,2.0,3.5,4.0,1.5,4.19,2.56,2.02,4.0,1.44,2.0,5.0,2.0,2.0,4.0,2.01,2.0,2.5,4.0,3.23,3.41,3.0,2.03,2.23,2.0,5.16,9.0,2.5,6.5,1.1,3.0,1.5,1.44,3.09,2.2,3.48,1.92,3.0,1.58,2.5,2.0,3.0,2.72,2.88,2.0,3.0,3.39,1.47,3.0,1.25,1.0,1.17,4.67,5.92,2.0,2.0,1.75,3.0],\"y0\":\" \",\"yaxis\":\"y\",\"type\":\"box\"}],                        {\"template\":{\"data\":{\"histogram2dcontour\":[{\"type\":\"histogram2dcontour\",\"colorbar\":{\"outlinewidth\":0,\"ticks\":\"\"},\"colorscale\":[[0.0,\"#0d0887\"],[0.1111111111111111,\"#46039f\"],[0.2222222222222222,\"#7201a8\"],[0.3333333333333333,\"#9c179e\"],[0.4444444444444444,\"#bd3786\"],[0.5555555555555556,\"#d8576b\"],[0.6666666666666666,\"#ed7953\"],[0.7777777777777778,\"#fb9f3a\"],[0.8888888888888888,\"#fdca26\"],[1.0,\"#f0f921\"]]}],\"choropleth\":[{\"type\":\"choropleth\",\"colorbar\":{\"outlinewidth\":0,\"ticks\":\"\"}}],\"histogram2d\":[{\"type\":\"histogram2d\",\"colorbar\":{\"outlinewidth\":0,\"ticks\":\"\"},\"colorscale\":[[0.0,\"#0d0887\"],[0.1111111111111111,\"#46039f\"],[0.2222222222222222,\"#7201a8\"],[0.3333333333333333,\"#9c179e\"],[0.4444444444444444,\"#bd3786\"],[0.5555555555555556,\"#d8576b\"],[0.6666666666666666,\"#ed7953\"],[0.7777777777777778,\"#fb9f3a\"],[0.8888888888888888,\"#fdca26\"],[1.0,\"#f0f921\"]]}],\"heatmap\":[{\"type\":\"heatmap\",\"colorbar\":{\"outlinewidth\":0,\"ticks\":\"\"},\"colorscale\":[[0.0,\"#0d0887\"],[0.1111111111111111,\"#46039f\"],[0.2222222222222222,\"#7201a8\"],[0.3333333333333333,\"#9c179e\"],[0.4444444444444444,\"#bd3786\"],[0.5555555555555556,\"#d8576b\"],[0.6666666666666666,\"#ed7953\"],[0.7777777777777778,\"#fb9f3a\"],[0.8888888888888888,\"#fdca26\"],[1.0,\"#f0f921\"]]}],\"heatmapgl\":[{\"type\":\"heatmapgl\",\"colorbar\":{\"outlinewidth\":0,\"ticks\":\"\"},\"colorscale\":[[0.0,\"#0d0887\"],[0.1111111111111111,\"#46039f\"],[0.2222222222222222,\"#7201a8\"],[0.3333333333333333,\"#9c179e\"],[0.4444444444444444,\"#bd3786\"],[0.5555555555555556,\"#d8576b\"],[0.6666666666666666,\"#ed7953\"],[0.7777777777777778,\"#fb9f3a\"],[0.8888888888888888,\"#fdca26\"],[1.0,\"#f0f921\"]]}],\"contourcarpet\":[{\"type\":\"contourcarpet\",\"colorbar\":{\"outlinewidth\":0,\"ticks\":\"\"}}],\"contour\":[{\"type\":\"contour\",\"colorbar\":{\"outlinewidth\":0,\"ticks\":\"\"},\"colorscale\":[[0.0,\"#0d0887\"],[0.1111111111111111,\"#46039f\"],[0.2222222222222222,\"#7201a8\"],[0.3333333333333333,\"#9c179e\"],[0.4444444444444444,\"#bd3786\"],[0.5555555555555556,\"#d8576b\"],[0.6666666666666666,\"#ed7953\"],[0.7777777777777778,\"#fb9f3a\"],[0.8888888888888888,\"#fdca26\"],[1.0,\"#f0f921\"]]}],\"surface\":[{\"type\":\"surface\",\"colorbar\":{\"outlinewidth\":0,\"ticks\":\"\"},\"colorscale\":[[0.0,\"#0d0887\"],[0.1111111111111111,\"#46039f\"],[0.2222222222222222,\"#7201a8\"],[0.3333333333333333,\"#9c179e\"],[0.4444444444444444,\"#bd3786\"],[0.5555555555555556,\"#d8576b\"],[0.6666666666666666,\"#ed7953\"],[0.7777777777777778,\"#fb9f3a\"],[0.8888888888888888,\"#fdca26\"],[1.0,\"#f0f921\"]]}],\"mesh3d\":[{\"type\":\"mesh3d\",\"colorbar\":{\"outlinewidth\":0,\"ticks\":\"\"}}],\"scatter\":[{\"fillpattern\":{\"fillmode\":\"overlay\",\"size\":10,\"solidity\":0.2},\"type\":\"scatter\"}],\"parcoords\":[{\"type\":\"parcoords\",\"line\":{\"colorbar\":{\"outlinewidth\":0,\"ticks\":\"\"}}}],\"scatterpolargl\":[{\"type\":\"scatterpolargl\",\"marker\":{\"colorbar\":{\"outlinewidth\":0,\"ticks\":\"\"}}}],\"bar\":[{\"error_x\":{\"color\":\"#2a3f5f\"},\"error_y\":{\"color\":\"#2a3f5f\"},\"marker\":{\"line\":{\"color\":\"#E5ECF6\",\"width\":0.5},\"pattern\":{\"fillmode\":\"overlay\",\"size\":10,\"solidity\":0.2}},\"type\":\"bar\"}],\"scattergeo\":[{\"type\":\"scattergeo\",\"marker\":{\"colorbar\":{\"outlinewidth\":0,\"ticks\":\"\"}}}],\"scatterpolar\":[{\"type\":\"scatterpolar\",\"marker\":{\"colorbar\":{\"outlinewidth\":0,\"ticks\":\"\"}}}],\"histogram\":[{\"marker\":{\"pattern\":{\"fillmode\":\"overlay\",\"size\":10,\"solidity\":0.2}},\"type\":\"histogram\"}],\"scattergl\":[{\"type\":\"scattergl\",\"marker\":{\"colorbar\":{\"outlinewidth\":0,\"ticks\":\"\"}}}],\"scatter3d\":[{\"type\":\"scatter3d\",\"line\":{\"colorbar\":{\"outlinewidth\":0,\"ticks\":\"\"}},\"marker\":{\"colorbar\":{\"outlinewidth\":0,\"ticks\":\"\"}}}],\"scattermapbox\":[{\"type\":\"scattermapbox\",\"marker\":{\"colorbar\":{\"outlinewidth\":0,\"ticks\":\"\"}}}],\"scatterternary\":[{\"type\":\"scatterternary\",\"marker\":{\"colorbar\":{\"outlinewidth\":0,\"ticks\":\"\"}}}],\"scattercarpet\":[{\"type\":\"scattercarpet\",\"marker\":{\"colorbar\":{\"outlinewidth\":0,\"ticks\":\"\"}}}],\"carpet\":[{\"aaxis\":{\"endlinecolor\":\"#2a3f5f\",\"gridcolor\":\"white\",\"linecolor\":\"white\",\"minorgridcolor\":\"white\",\"startlinecolor\":\"#2a3f5f\"},\"baxis\":{\"endlinecolor\":\"#2a3f5f\",\"gridcolor\":\"white\",\"linecolor\":\"white\",\"minorgridcolor\":\"white\",\"startlinecolor\":\"#2a3f5f\"},\"type\":\"carpet\"}],\"table\":[{\"cells\":{\"fill\":{\"color\":\"#EBF0F8\"},\"line\":{\"color\":\"white\"}},\"header\":{\"fill\":{\"color\":\"#C8D4E3\"},\"line\":{\"color\":\"white\"}},\"type\":\"table\"}],\"barpolar\":[{\"marker\":{\"line\":{\"color\":\"#E5ECF6\",\"width\":0.5},\"pattern\":{\"fillmode\":\"overlay\",\"size\":10,\"solidity\":0.2}},\"type\":\"barpolar\"}],\"pie\":[{\"automargin\":true,\"type\":\"pie\"}]},\"layout\":{\"autotypenumbers\":\"strict\",\"colorway\":[\"#636efa\",\"#EF553B\",\"#00cc96\",\"#ab63fa\",\"#FFA15A\",\"#19d3f3\",\"#FF6692\",\"#B6E880\",\"#FF97FF\",\"#FECB52\"],\"font\":{\"color\":\"#2a3f5f\"},\"hovermode\":\"closest\",\"hoverlabel\":{\"align\":\"left\"},\"paper_bgcolor\":\"white\",\"plot_bgcolor\":\"#E5ECF6\",\"polar\":{\"bgcolor\":\"#E5ECF6\",\"angularaxis\":{\"gridcolor\":\"white\",\"linecolor\":\"white\",\"ticks\":\"\"},\"radialaxis\":{\"gridcolor\":\"white\",\"linecolor\":\"white\",\"ticks\":\"\"}},\"ternary\":{\"bgcolor\":\"#E5ECF6\",\"aaxis\":{\"gridcolor\":\"white\",\"linecolor\":\"white\",\"ticks\":\"\"},\"baxis\":{\"gridcolor\":\"white\",\"linecolor\":\"white\",\"ticks\":\"\"},\"caxis\":{\"gridcolor\":\"white\",\"linecolor\":\"white\",\"ticks\":\"\"}},\"coloraxis\":{\"colorbar\":{\"outlinewidth\":0,\"ticks\":\"\"}},\"colorscale\":{\"sequential\":[[0.0,\"#0d0887\"],[0.1111111111111111,\"#46039f\"],[0.2222222222222222,\"#7201a8\"],[0.3333333333333333,\"#9c179e\"],[0.4444444444444444,\"#bd3786\"],[0.5555555555555556,\"#d8576b\"],[0.6666666666666666,\"#ed7953\"],[0.7777777777777778,\"#fb9f3a\"],[0.8888888888888888,\"#fdca26\"],[1.0,\"#f0f921\"]],\"sequentialminus\":[[0.0,\"#0d0887\"],[0.1111111111111111,\"#46039f\"],[0.2222222222222222,\"#7201a8\"],[0.3333333333333333,\"#9c179e\"],[0.4444444444444444,\"#bd3786\"],[0.5555555555555556,\"#d8576b\"],[0.6666666666666666,\"#ed7953\"],[0.7777777777777778,\"#fb9f3a\"],[0.8888888888888888,\"#fdca26\"],[1.0,\"#f0f921\"]],\"diverging\":[[0,\"#8e0152\"],[0.1,\"#c51b7d\"],[0.2,\"#de77ae\"],[0.3,\"#f1b6da\"],[0.4,\"#fde0ef\"],[0.5,\"#f7f7f7\"],[0.6,\"#e6f5d0\"],[0.7,\"#b8e186\"],[0.8,\"#7fbc41\"],[0.9,\"#4d9221\"],[1,\"#276419\"]]},\"xaxis\":{\"gridcolor\":\"white\",\"linecolor\":\"white\",\"ticks\":\"\",\"title\":{\"standoff\":15},\"zerolinecolor\":\"white\",\"automargin\":true,\"zerolinewidth\":2},\"yaxis\":{\"gridcolor\":\"white\",\"linecolor\":\"white\",\"ticks\":\"\",\"title\":{\"standoff\":15},\"zerolinecolor\":\"white\",\"automargin\":true,\"zerolinewidth\":2},\"scene\":{\"xaxis\":{\"backgroundcolor\":\"#E5ECF6\",\"gridcolor\":\"white\",\"linecolor\":\"white\",\"showbackground\":true,\"ticks\":\"\",\"zerolinecolor\":\"white\",\"gridwidth\":2},\"yaxis\":{\"backgroundcolor\":\"#E5ECF6\",\"gridcolor\":\"white\",\"linecolor\":\"white\",\"showbackground\":true,\"ticks\":\"\",\"zerolinecolor\":\"white\",\"gridwidth\":2},\"zaxis\":{\"backgroundcolor\":\"#E5ECF6\",\"gridcolor\":\"white\",\"linecolor\":\"white\",\"showbackground\":true,\"ticks\":\"\",\"zerolinecolor\":\"white\",\"gridwidth\":2}},\"shapedefaults\":{\"line\":{\"color\":\"#2a3f5f\"}},\"annotationdefaults\":{\"arrowcolor\":\"#2a3f5f\",\"arrowhead\":0,\"arrowwidth\":1},\"geo\":{\"bgcolor\":\"white\",\"landcolor\":\"#E5ECF6\",\"subunitcolor\":\"white\",\"showland\":true,\"showlakes\":true,\"lakecolor\":\"white\"},\"title\":{\"x\":0.05},\"mapbox\":{\"style\":\"light\"}}},\"xaxis\":{\"anchor\":\"y\",\"domain\":[0.0,1.0],\"title\":{\"text\":\"variable\"}},\"yaxis\":{\"anchor\":\"x\",\"domain\":[0.0,1.0],\"title\":{\"text\":\"value\"}},\"legend\":{\"tracegroupgap\":0},\"margin\":{\"t\":60},\"boxmode\":\"group\"},                        {\"responsive\": true}                    ).then(function(){\n",
       "                            \n",
       "var gd = document.getElementById('7269b9df-e014-4ae5-ae85-8e59d99df58e');\n",
       "var x = new MutationObserver(function (mutations, observer) {{\n",
       "        var display = window.getComputedStyle(gd).display;\n",
       "        if (!display || display === 'none') {{\n",
       "            console.log([gd, 'removed!']);\n",
       "            Plotly.purge(gd);\n",
       "            observer.disconnect();\n",
       "        }}\n",
       "}});\n",
       "\n",
       "// Listen for the removal of the full notebook cells\n",
       "var notebookContainer = gd.closest('#notebook-container');\n",
       "if (notebookContainer) {{\n",
       "    x.observe(notebookContainer, {childList: true});\n",
       "}}\n",
       "\n",
       "// Listen for the clearing of the current output cell\n",
       "var outputEl = gd.closest('.output');\n",
       "if (outputEl) {{\n",
       "    x.observe(outputEl, {childList: true});\n",
       "}}\n",
       "\n",
       "                        })                };                });            </script>        </div>"
      ]
     },
     "metadata": {},
     "output_type": "display_data"
    }
   ],
   "source": [
    "import plotly.express as px\n",
    "df = px.data.tips()\n",
    "fig = px.box(df, y=[\"total_bill\", \"tip\"])\n",
    "fig.show()"
   ]
  },
  {
   "cell_type": "code",
   "execution_count": 4,
   "metadata": {},
   "outputs": [
    {
     "ename": "KeyError",
     "evalue": "('total_bill', 'tip')",
     "output_type": "error",
     "traceback": [
      "\u001b[0;31m---------------------------------------------------------------------------\u001b[0m",
      "\u001b[0;31mKeyError\u001b[0m                                  Traceback (most recent call last)",
      "\u001b[0;32m/usr/local/lib/python3.10/dist-packages/pandas/core/indexes/base.py\u001b[0m in \u001b[0;36mget_loc\u001b[0;34m(self, key, method, tolerance)\u001b[0m\n\u001b[1;32m   3801\u001b[0m             \u001b[0;32mtry\u001b[0m\u001b[0;34m:\u001b[0m\u001b[0;34m\u001b[0m\u001b[0;34m\u001b[0m\u001b[0m\n\u001b[0;32m-> 3802\u001b[0;31m                 \u001b[0;32mreturn\u001b[0m \u001b[0mself\u001b[0m\u001b[0;34m.\u001b[0m\u001b[0m_engine\u001b[0m\u001b[0;34m.\u001b[0m\u001b[0mget_loc\u001b[0m\u001b[0;34m(\u001b[0m\u001b[0mcasted_key\u001b[0m\u001b[0;34m)\u001b[0m\u001b[0;34m\u001b[0m\u001b[0;34m\u001b[0m\u001b[0m\n\u001b[0m\u001b[1;32m   3803\u001b[0m             \u001b[0;32mexcept\u001b[0m \u001b[0mKeyError\u001b[0m \u001b[0;32mas\u001b[0m \u001b[0merr\u001b[0m\u001b[0;34m:\u001b[0m\u001b[0;34m\u001b[0m\u001b[0;34m\u001b[0m\u001b[0m\n",
      "\u001b[0;32m/usr/local/lib/python3.10/dist-packages/pandas/_libs/index.pyx\u001b[0m in \u001b[0;36mpandas._libs.index.IndexEngine.get_loc\u001b[0;34m()\u001b[0m\n",
      "\u001b[0;32m/usr/local/lib/python3.10/dist-packages/pandas/_libs/index.pyx\u001b[0m in \u001b[0;36mpandas._libs.index.IndexEngine.get_loc\u001b[0;34m()\u001b[0m\n",
      "\u001b[0;32mpandas/_libs/hashtable_class_helper.pxi\u001b[0m in \u001b[0;36mpandas._libs.hashtable.PyObjectHashTable.get_item\u001b[0;34m()\u001b[0m\n",
      "\u001b[0;32mpandas/_libs/hashtable_class_helper.pxi\u001b[0m in \u001b[0;36mpandas._libs.hashtable.PyObjectHashTable.get_item\u001b[0;34m()\u001b[0m\n",
      "\u001b[0;31mKeyError\u001b[0m: ('total_bill', 'tip')",
      "\nThe above exception was the direct cause of the following exception:\n",
      "\u001b[0;31mKeyError\u001b[0m                                  Traceback (most recent call last)",
      "\u001b[0;32m/tmp/ipykernel_718/2964233204.py\u001b[0m in \u001b[0;36m<module>\u001b[0;34m\u001b[0m\n\u001b[0;32m----> 1\u001b[0;31m \u001b[0mdf\u001b[0m \u001b[0;34m=\u001b[0m \u001b[0mdf\u001b[0m\u001b[0;34m[\u001b[0m\u001b[0;34m\"total_bill\"\u001b[0m\u001b[0;34m,\u001b[0m \u001b[0;34m\"tip\"\u001b[0m\u001b[0;34m]\u001b[0m\u001b[0;34m\u001b[0m\u001b[0;34m\u001b[0m\u001b[0m\n\u001b[0m",
      "\u001b[0;32m/usr/local/lib/python3.10/dist-packages/pandas/core/frame.py\u001b[0m in \u001b[0;36m__getitem__\u001b[0;34m(self, key)\u001b[0m\n\u001b[1;32m   3805\u001b[0m             \u001b[0;32mif\u001b[0m \u001b[0mself\u001b[0m\u001b[0;34m.\u001b[0m\u001b[0mcolumns\u001b[0m\u001b[0;34m.\u001b[0m\u001b[0mnlevels\u001b[0m \u001b[0;34m>\u001b[0m \u001b[0;36m1\u001b[0m\u001b[0;34m:\u001b[0m\u001b[0;34m\u001b[0m\u001b[0;34m\u001b[0m\u001b[0m\n\u001b[1;32m   3806\u001b[0m                 \u001b[0;32mreturn\u001b[0m \u001b[0mself\u001b[0m\u001b[0;34m.\u001b[0m\u001b[0m_getitem_multilevel\u001b[0m\u001b[0;34m(\u001b[0m\u001b[0mkey\u001b[0m\u001b[0;34m)\u001b[0m\u001b[0;34m\u001b[0m\u001b[0;34m\u001b[0m\u001b[0m\n\u001b[0;32m-> 3807\u001b[0;31m             \u001b[0mindexer\u001b[0m \u001b[0;34m=\u001b[0m \u001b[0mself\u001b[0m\u001b[0;34m.\u001b[0m\u001b[0mcolumns\u001b[0m\u001b[0;34m.\u001b[0m\u001b[0mget_loc\u001b[0m\u001b[0;34m(\u001b[0m\u001b[0mkey\u001b[0m\u001b[0;34m)\u001b[0m\u001b[0;34m\u001b[0m\u001b[0;34m\u001b[0m\u001b[0m\n\u001b[0m\u001b[1;32m   3808\u001b[0m             \u001b[0;32mif\u001b[0m \u001b[0mis_integer\u001b[0m\u001b[0;34m(\u001b[0m\u001b[0mindexer\u001b[0m\u001b[0;34m)\u001b[0m\u001b[0;34m:\u001b[0m\u001b[0;34m\u001b[0m\u001b[0;34m\u001b[0m\u001b[0m\n\u001b[1;32m   3809\u001b[0m                 \u001b[0mindexer\u001b[0m \u001b[0;34m=\u001b[0m \u001b[0;34m[\u001b[0m\u001b[0mindexer\u001b[0m\u001b[0;34m]\u001b[0m\u001b[0;34m\u001b[0m\u001b[0;34m\u001b[0m\u001b[0m\n",
      "\u001b[0;32m/usr/local/lib/python3.10/dist-packages/pandas/core/indexes/base.py\u001b[0m in \u001b[0;36mget_loc\u001b[0;34m(self, key, method, tolerance)\u001b[0m\n\u001b[1;32m   3802\u001b[0m                 \u001b[0;32mreturn\u001b[0m \u001b[0mself\u001b[0m\u001b[0;34m.\u001b[0m\u001b[0m_engine\u001b[0m\u001b[0;34m.\u001b[0m\u001b[0mget_loc\u001b[0m\u001b[0;34m(\u001b[0m\u001b[0mcasted_key\u001b[0m\u001b[0;34m)\u001b[0m\u001b[0;34m\u001b[0m\u001b[0;34m\u001b[0m\u001b[0m\n\u001b[1;32m   3803\u001b[0m             \u001b[0;32mexcept\u001b[0m \u001b[0mKeyError\u001b[0m \u001b[0;32mas\u001b[0m \u001b[0merr\u001b[0m\u001b[0;34m:\u001b[0m\u001b[0;34m\u001b[0m\u001b[0;34m\u001b[0m\u001b[0m\n\u001b[0;32m-> 3804\u001b[0;31m                 \u001b[0;32mraise\u001b[0m \u001b[0mKeyError\u001b[0m\u001b[0;34m(\u001b[0m\u001b[0mkey\u001b[0m\u001b[0;34m)\u001b[0m \u001b[0;32mfrom\u001b[0m \u001b[0merr\u001b[0m\u001b[0;34m\u001b[0m\u001b[0;34m\u001b[0m\u001b[0m\n\u001b[0m\u001b[1;32m   3805\u001b[0m             \u001b[0;32mexcept\u001b[0m \u001b[0mTypeError\u001b[0m\u001b[0;34m:\u001b[0m\u001b[0;34m\u001b[0m\u001b[0;34m\u001b[0m\u001b[0m\n\u001b[1;32m   3806\u001b[0m                 \u001b[0;31m# If we have a listlike key, _check_indexing_error will raise\u001b[0m\u001b[0;34m\u001b[0m\u001b[0;34m\u001b[0m\u001b[0m\n",
      "\u001b[0;31mKeyError\u001b[0m: ('total_bill', 'tip')"
     ]
    }
   ],
   "source": [
    "# filter df so it only has total_bill and tip columns\n"
   ]
  },
  {
   "cell_type": "code",
   "execution_count": 2,
   "metadata": {},
   "outputs": [
    {
     "data": {
      "text/html": [
       "<div>\n",
       "<style scoped>\n",
       "    .dataframe tbody tr th:only-of-type {\n",
       "        vertical-align: middle;\n",
       "    }\n",
       "\n",
       "    .dataframe tbody tr th {\n",
       "        vertical-align: top;\n",
       "    }\n",
       "\n",
       "    .dataframe thead th {\n",
       "        text-align: right;\n",
       "    }\n",
       "</style>\n",
       "<table border=\"1\" class=\"dataframe\">\n",
       "  <thead>\n",
       "    <tr style=\"text-align: right;\">\n",
       "      <th></th>\n",
       "      <th>Unnamed: 0</th>\n",
       "      <th>id</th>\n",
       "      <th>title</th>\n",
       "      <th>body</th>\n",
       "      <th>relevance</th>\n",
       "      <th>query_id</th>\n",
       "    </tr>\n",
       "  </thead>\n",
       "  <tbody>\n",
       "    <tr>\n",
       "      <th>0</th>\n",
       "      <td>0</td>\n",
       "      <td>2010.11918</td>\n",
       "      <td>AdapterDrop: On the Efficiency of Adapters in ...</td>\n",
       "      <td>Massively pre-trained &lt;hi&gt;transformer&lt;/hi&gt; &lt;...</td>\n",
       "      <td>29.482678</td>\n",
       "      <td>1</td>\n",
       "    </tr>\n",
       "    <tr>\n",
       "      <th>1</th>\n",
       "      <td>1</td>\n",
       "      <td>905.39980</td>\n",
       "      <td>Predicate Transformers and Linear Logic, yet a...</td>\n",
       "      <td>In the refinement calculus, monotonic predic...</td>\n",
       "      <td>27.054091</td>\n",
       "      <td>1</td>\n",
       "    </tr>\n",
       "    <tr>\n",
       "      <th>2</th>\n",
       "      <td>2</td>\n",
       "      <td>1207.32080</td>\n",
       "      <td>Formal Verification of Monad Transformers</td>\n",
       "      <td>We present techniques for reasoning about co...</td>\n",
       "      <td>26.893452</td>\n",
       "      <td>1</td>\n",
       "    </tr>\n",
       "    <tr>\n",
       "      <th>3</th>\n",
       "      <td>3</td>\n",
       "      <td>1307.11490</td>\n",
       "      <td>Solar Activity and Transformer Failures in the...</td>\n",
       "      <td>We study &lt;hi&gt;both&lt;/hi&gt; the short term and lo...</td>\n",
       "      <td>25.520128</td>\n",
       "      <td>1</td>\n",
       "    </tr>\n",
       "    <tr>\n",
       "      <th>4</th>\n",
       "      <td>4</td>\n",
       "      <td>2205.13249</td>\n",
       "      <td>DT-SV: A Transformer-based Time-domain Approac...</td>\n",
       "      <td>Speaker verification (SV) aims to determine ...</td>\n",
       "      <td>24.716539</td>\n",
       "      <td>1</td>\n",
       "    </tr>\n",
       "    <tr>\n",
       "      <th>5</th>\n",
       "      <td>5</td>\n",
       "      <td>1107.26840</td>\n",
       "      <td>Coils and transformers - often used but seldom...</td>\n",
       "      <td>The devices coil and &lt;hi&gt;transformer&lt;/hi&gt; ar...</td>\n",
       "      <td>24.478528</td>\n",
       "      <td>1</td>\n",
       "    </tr>\n",
       "    <tr>\n",
       "      <th>6</th>\n",
       "      <td>6</td>\n",
       "      <td>2004.13138</td>\n",
       "      <td>Investigating the Effectiveness of Representat...</td>\n",
       "      <td>Active learning has been shown to be an effe...</td>\n",
       "      <td>24.379721</td>\n",
       "      <td>1</td>\n",
       "    </tr>\n",
       "    <tr>\n",
       "      <th>7</th>\n",
       "      <td>7</td>\n",
       "      <td>809.23480</td>\n",
       "      <td>The absoption refrigerator as a thermal transf...</td>\n",
       "      <td>The absorption refrigerator can be considere...</td>\n",
       "      <td>24.202046</td>\n",
       "      <td>1</td>\n",
       "    </tr>\n",
       "    <tr>\n",
       "      <th>8</th>\n",
       "      <td>8</td>\n",
       "      <td>908.29010</td>\n",
       "      <td>Prediction of remaining life of power transfor...</td>\n",
       "      <td>Prediction &lt;hi&gt;of&lt;/hi&gt; the remaining life &lt;h...</td>\n",
       "      <td>24.173764</td>\n",
       "      <td>1</td>\n",
       "    </tr>\n",
       "    <tr>\n",
       "      <th>9</th>\n",
       "      <td>9</td>\n",
       "      <td>1202.55390</td>\n",
       "      <td>Register Allocation By Model Transformer Seman...</td>\n",
       "      <td>Register allocation has long been formulated...</td>\n",
       "      <td>23.677296</td>\n",
       "      <td>1</td>\n",
       "    </tr>\n",
       "    <tr>\n",
       "      <th>10</th>\n",
       "      <td>10</td>\n",
       "      <td>2002.10957</td>\n",
       "      <td>MiniLM: Deep Self-Attention Distillation for T...</td>\n",
       "      <td>Pre-trained language models (e.g., BERT (Dev...</td>\n",
       "      <td>43.278728</td>\n",
       "      <td>2</td>\n",
       "    </tr>\n",
       "    <tr>\n",
       "      <th>11</th>\n",
       "      <td>11</td>\n",
       "      <td>805.14800</td>\n",
       "      <td>On-line Learning of an Unlearnable True Teache...</td>\n",
       "      <td>On-line learning &lt;hi&gt;of&lt;/hi&gt; a hierarchical ...</td>\n",
       "      <td>39.817125</td>\n",
       "      <td>2</td>\n",
       "    </tr>\n",
       "    <tr>\n",
       "      <th>12</th>\n",
       "      <td>12</td>\n",
       "      <td>906.54610</td>\n",
       "      <td>Can a student learn optimally from two differe...</td>\n",
       "      <td>We explore the effects &lt;hi&gt;of&lt;/hi&gt; over-spec...</td>\n",
       "      <td>35.523570</td>\n",
       "      <td>2</td>\n",
       "    </tr>\n",
       "    <tr>\n",
       "      <th>13</th>\n",
       "      <td>13</td>\n",
       "      <td>1108.21670</td>\n",
       "      <td>Missing data in value-added modeling of teache...</td>\n",
       "      <td>The increasing availability &lt;hi&gt;of&lt;/hi&gt; long...</td>\n",
       "      <td>35.016854</td>\n",
       "      <td>2</td>\n",
       "    </tr>\n",
       "    <tr>\n",
       "      <th>14</th>\n",
       "      <td>14</td>\n",
       "      <td>1207.03930</td>\n",
       "      <td>Pseudo-finite hard instances for a student-tea...</td>\n",
       "      <td>For an NP intersect coNP function g &lt;hi&gt;of&lt;/...</td>\n",
       "      <td>33.849195</td>\n",
       "      <td>2</td>\n",
       "    </tr>\n",
       "    <tr>\n",
       "      <th>15</th>\n",
       "      <td>15</td>\n",
       "      <td>705.23180</td>\n",
       "      <td>Statistical Mechanics of Nonlinear On-line Lea...</td>\n",
       "      <td>We analyze the generalization performance &lt;h...</td>\n",
       "      <td>33.067393</td>\n",
       "      <td>2</td>\n",
       "    </tr>\n",
       "    <tr>\n",
       "      <th>16</th>\n",
       "      <td>16</td>\n",
       "      <td>1212.10420</td>\n",
       "      <td>Attempts of Transforming Teacher Practice Thro...</td>\n",
       "      <td>A difficult challenge in physics education i...</td>\n",
       "      <td>31.626978</td>\n",
       "      <td>2</td>\n",
       "    </tr>\n",
       "    <tr>\n",
       "      <th>17</th>\n",
       "      <td>17</td>\n",
       "      <td>1211.63400</td>\n",
       "      <td>An Approach of Improving Students Academic Per...</td>\n",
       "      <td>Improving &lt;hi&gt;students&lt;/hi&gt; academic perform...</td>\n",
       "      <td>31.331960</td>\n",
       "      <td>2</td>\n",
       "    </tr>\n",
       "    <tr>\n",
       "      <th>18</th>\n",
       "      <td>18</td>\n",
       "      <td>1206.42610</td>\n",
       "      <td>Fostering Student Enrollment in Basic Sciences...</td>\n",
       "      <td>In recent decades it has been detected in It...</td>\n",
       "      <td>30.544935</td>\n",
       "      <td>2</td>\n",
       "    </tr>\n",
       "    <tr>\n",
       "      <th>19</th>\n",
       "      <td>19</td>\n",
       "      <td>805.04250</td>\n",
       "      <td>Effect of Slow Switching in On-line Learning f...</td>\n",
       "      <td>We have analyzed the generalization performa...</td>\n",
       "      <td>30.277037</td>\n",
       "      <td>2</td>\n",
       "    </tr>\n",
       "    <tr>\n",
       "      <th>20</th>\n",
       "      <td>20</td>\n",
       "      <td>805.43690</td>\n",
       "      <td>A semantic space for modeling children's seman...</td>\n",
       "      <td>The goal of this paper is to present &lt;hi&gt;a&lt;/...</td>\n",
       "      <td>31.514745</td>\n",
       "      <td>3</td>\n",
       "    </tr>\n",
       "    <tr>\n",
       "      <th>21</th>\n",
       "      <td>21</td>\n",
       "      <td>804.01430</td>\n",
       "      <td>Effects of High-Order Co-occurrences on Word S...</td>\n",
       "      <td>&lt;hi&gt;A&lt;/hi&gt; computational &lt;hi&gt;model&lt;/hi&gt; of t...</td>\n",
       "      <td>30.864884</td>\n",
       "      <td>3</td>\n",
       "    </tr>\n",
       "    <tr>\n",
       "      <th>22</th>\n",
       "      <td>22</td>\n",
       "      <td>1010.23450</td>\n",
       "      <td>Using Context Dependent Semantic Similarity to...</td>\n",
       "      <td>This paper deals with the &lt;hi&gt;semantic&lt;/hi&gt; ...</td>\n",
       "      <td>30.348185</td>\n",
       "      <td>3</td>\n",
       "    </tr>\n",
       "    <tr>\n",
       "      <th>23</th>\n",
       "      <td>23</td>\n",
       "      <td>1004.53700</td>\n",
       "      <td>Self-Taught Hashing for Fast Similarity Search</td>\n",
       "      <td>The ability of &lt;hi&gt;fast&lt;/hi&gt; &lt;hi&gt;similarity&lt;...</td>\n",
       "      <td>30.094068</td>\n",
       "      <td>3</td>\n",
       "    </tr>\n",
       "    <tr>\n",
       "      <th>24</th>\n",
       "      <td>24</td>\n",
       "      <td>1105.14060</td>\n",
       "      <td>Comparison Latent Semantic and WordNet Approac...</td>\n",
       "      <td>Information exchange among many sources in I...</td>\n",
       "      <td>29.561107</td>\n",
       "      <td>3</td>\n",
       "    </tr>\n",
       "    <tr>\n",
       "      <th>25</th>\n",
       "      <td>25</td>\n",
       "      <td>911.50430</td>\n",
       "      <td>A Semantic Similarity Measure for Expressive D...</td>\n",
       "      <td>&lt;hi&gt;A&lt;/hi&gt; totally &lt;hi&gt;semantic&lt;/hi&gt; measure...</td>\n",
       "      <td>29.030259</td>\n",
       "      <td>3</td>\n",
       "    </tr>\n",
       "    <tr>\n",
       "      <th>26</th>\n",
       "      <td>26</td>\n",
       "      <td>805.20450</td>\n",
       "      <td>Semantic Analysis of Tag Similarity Measures i...</td>\n",
       "      <td>Social bookmarking systems allow users to or...</td>\n",
       "      <td>28.364411</td>\n",
       "      <td>3</td>\n",
       "    </tr>\n",
       "    <tr>\n",
       "      <th>27</th>\n",
       "      <td>27</td>\n",
       "      <td>1305.48580</td>\n",
       "      <td>Thresholding of Semantic Similarity Networks u...</td>\n",
       "      <td>&lt;hi&gt;Semantic&lt;/hi&gt; &lt;hi&gt;similarity&lt;/hi&gt; measur...</td>\n",
       "      <td>28.144613</td>\n",
       "      <td>3</td>\n",
       "    </tr>\n",
       "    <tr>\n",
       "      <th>28</th>\n",
       "      <td>28</td>\n",
       "      <td>1111.15700</td>\n",
       "      <td>Semantic Grounding Strategies for Tagbased Rec...</td>\n",
       "      <td>Recommender systems usually operate on &lt;hi&gt;s...</td>\n",
       "      <td>27.396208</td>\n",
       "      <td>3</td>\n",
       "    </tr>\n",
       "    <tr>\n",
       "      <th>29</th>\n",
       "      <td>29</td>\n",
       "      <td>1105.54440</td>\n",
       "      <td>Semantic Similarity in a Taxonomy: An Informat...</td>\n",
       "      <td>This article presents &lt;hi&gt;a&lt;/hi&gt; measure of ...</td>\n",
       "      <td>27.048087</td>\n",
       "      <td>3</td>\n",
       "    </tr>\n",
       "    <tr>\n",
       "      <th>30</th>\n",
       "      <td>30</td>\n",
       "      <td>1303.52500</td>\n",
       "      <td>Iterative Expectation for Multi Period Informa...</td>\n",
       "      <td>Many Information &lt;hi&gt;Retrieval&lt;/hi&gt; (IR) &lt;hi...</td>\n",
       "      <td>40.834684</td>\n",
       "      <td>4</td>\n",
       "    </tr>\n",
       "    <tr>\n",
       "      <th>31</th>\n",
       "      <td>31</td>\n",
       "      <td>1101.16370</td>\n",
       "      <td>A Science Model Driven Retrieval Prototype</td>\n",
       "      <td>This paper is about a better understanding o...</td>\n",
       "      <td>40.270083</td>\n",
       "      <td>4</td>\n",
       "    </tr>\n",
       "    <tr>\n",
       "      <th>32</th>\n",
       "      <td>32</td>\n",
       "      <td>1009.50030</td>\n",
       "      <td>Demonstrating a Service-Enhanced Retrieval System</td>\n",
       "      <td>This paper is a short description of &lt;hi&gt;an&lt;...</td>\n",
       "      <td>39.994079</td>\n",
       "      <td>4</td>\n",
       "    </tr>\n",
       "    <tr>\n",
       "      <th>33</th>\n",
       "      <td>33</td>\n",
       "      <td>1106.29460</td>\n",
       "      <td>A Unified Relevance Retrieval Model by Elitene...</td>\n",
       "      <td>In this paper, &lt;hi&gt;an&lt;/hi&gt; Eliteness Hypothe...</td>\n",
       "      <td>39.268673</td>\n",
       "      <td>4</td>\n",
       "    </tr>\n",
       "    <tr>\n",
       "      <th>34</th>\n",
       "      <td>34</td>\n",
       "      <td>1011.04040</td>\n",
       "      <td>A New Email Retrieval Ranking Approach</td>\n",
       "      <td>Email &lt;hi&gt;Retrieval&lt;/hi&gt; task has recently t...</td>\n",
       "      <td>37.890585</td>\n",
       "      <td>4</td>\n",
       "    </tr>\n",
       "    <tr>\n",
       "      <th>35</th>\n",
       "      <td>35</td>\n",
       "      <td>1011.05020</td>\n",
       "      <td>A New Email Retrieval Ranking Approach</td>\n",
       "      <td>Email &lt;hi&gt;Retrieval&lt;/hi&gt; task has recently t...</td>\n",
       "      <td>37.890585</td>\n",
       "      <td>4</td>\n",
       "    </tr>\n",
       "    <tr>\n",
       "      <th>36</th>\n",
       "      <td>36</td>\n",
       "      <td>711.31280</td>\n",
       "      <td>Entity Ranking in Wikipedia</td>\n",
       "      <td>The traditional entity extraction problem li...</td>\n",
       "      <td>37.560193</td>\n",
       "      <td>4</td>\n",
       "    </tr>\n",
       "    <tr>\n",
       "      <th>37</th>\n",
       "      <td>37</td>\n",
       "      <td>2004.12832</td>\n",
       "      <td>ColBERT: Efficient and Effective Passage Searc...</td>\n",
       "      <td>Recent progress in Natural Language Understa...</td>\n",
       "      <td>37.394745</td>\n",
       "      <td>4</td>\n",
       "    </tr>\n",
       "    <tr>\n",
       "      <th>38</th>\n",
       "      <td>38</td>\n",
       "      <td>1107.16600</td>\n",
       "      <td>Click Efficiency: A Unified Optimal Ranking fo...</td>\n",
       "      <td>Traditionally the probabilistic &lt;hi&gt;ranking&lt;...</td>\n",
       "      <td>37.216638</td>\n",
       "      <td>4</td>\n",
       "    </tr>\n",
       "    <tr>\n",
       "      <th>39</th>\n",
       "      <td>39</td>\n",
       "      <td>1204.01860</td>\n",
       "      <td>Semantic-Sensitive Web Information Retrieval M...</td>\n",
       "      <td>With the advent of the Internet, a new era o...</td>\n",
       "      <td>37.119758</td>\n",
       "      <td>4</td>\n",
       "    </tr>\n",
       "    <tr>\n",
       "      <th>40</th>\n",
       "      <td>40</td>\n",
       "      <td>1106.45090</td>\n",
       "      <td>Machine Learning Markets</td>\n",
       "      <td>Prediction markets show considerable promise...</td>\n",
       "      <td>38.342525</td>\n",
       "      <td>5</td>\n",
       "    </tr>\n",
       "    <tr>\n",
       "      <th>41</th>\n",
       "      <td>41</td>\n",
       "      <td>1202.37580</td>\n",
       "      <td>Nonparametric Divergence Estimation with Appli...</td>\n",
       "      <td>Low-dimensional &lt;hi&gt;embedding&lt;/hi&gt;, manifold...</td>\n",
       "      <td>36.777843</td>\n",
       "      <td>5</td>\n",
       "    </tr>\n",
       "    <tr>\n",
       "      <th>42</th>\n",
       "      <td>42</td>\n",
       "      <td>1001.27090</td>\n",
       "      <td>Kernel machines with two layers and multiple k...</td>\n",
       "      <td>&lt;hi&gt;In&lt;/hi&gt; this paper, the framework of ker...</td>\n",
       "      <td>33.265125</td>\n",
       "      <td>5</td>\n",
       "    </tr>\n",
       "    <tr>\n",
       "      <th>43</th>\n",
       "      <td>43</td>\n",
       "      <td>1104.49500</td>\n",
       "      <td>A Machine Learning Based Analytical Framework ...</td>\n",
       "      <td>The Semantic Web &lt;hi&gt;is&lt;/hi&gt; an extension of...</td>\n",
       "      <td>33.146659</td>\n",
       "      <td>5</td>\n",
       "    </tr>\n",
       "    <tr>\n",
       "      <th>44</th>\n",
       "      <td>44</td>\n",
       "      <td>907.50320</td>\n",
       "      <td>Restart Strategy Selection using Machine Learn...</td>\n",
       "      <td>Restart strategies are an important factor &lt;...</td>\n",
       "      <td>33.079312</td>\n",
       "      <td>5</td>\n",
       "    </tr>\n",
       "    <tr>\n",
       "      <th>45</th>\n",
       "      <td>45</td>\n",
       "      <td>903.03140</td>\n",
       "      <td>Granularity-Adaptive Proof Presentation</td>\n",
       "      <td>When mathematicians present proofs they usua...</td>\n",
       "      <td>32.277215</td>\n",
       "      <td>5</td>\n",
       "    </tr>\n",
       "    <tr>\n",
       "      <th>46</th>\n",
       "      <td>46</td>\n",
       "      <td>1111.21110</td>\n",
       "      <td>Generic Multiplicative Methods for Implementin...</td>\n",
       "      <td>&lt;hi&gt;In&lt;/hi&gt; this paper we introduce &lt;hi&gt;a&lt;/h...</td>\n",
       "      <td>31.726475</td>\n",
       "      <td>5</td>\n",
       "    </tr>\n",
       "    <tr>\n",
       "      <th>47</th>\n",
       "      <td>47</td>\n",
       "      <td>1106.21560</td>\n",
       "      <td>A Computational Framework for Nonlinear Dimens...</td>\n",
       "      <td>&lt;hi&gt;In&lt;/hi&gt; this paper, we present &lt;hi&gt;a&lt;/hi...</td>\n",
       "      <td>31.013278</td>\n",
       "      <td>5</td>\n",
       "    </tr>\n",
       "    <tr>\n",
       "      <th>48</th>\n",
       "      <td>48</td>\n",
       "      <td>1206.64430</td>\n",
       "      <td>Isoelastic Agents and Wealth Updates in Machin...</td>\n",
       "      <td>Recently, prediction markets have shown cons...</td>\n",
       "      <td>30.824351</td>\n",
       "      <td>5</td>\n",
       "    </tr>\n",
       "    <tr>\n",
       "      <th>49</th>\n",
       "      <td>49</td>\n",
       "      <td>1011.34940</td>\n",
       "      <td>Learning Planar Ising Models</td>\n",
       "      <td>Inference and &lt;hi&gt;learning&lt;/hi&gt; of graphical...</td>\n",
       "      <td>30.541712</td>\n",
       "      <td>5</td>\n",
       "    </tr>\n",
       "    <tr>\n",
       "      <th>50</th>\n",
       "      <td>50</td>\n",
       "      <td>2010.11929</td>\n",
       "      <td>An Image is Worth 16x16 Words: Transformers fo...</td>\n",
       "      <td>While the &lt;hi&gt;Transformer&lt;/hi&gt; architecture ...</td>\n",
       "      <td>36.705317</td>\n",
       "      <td>6</td>\n",
       "    </tr>\n",
       "    <tr>\n",
       "      <th>51</th>\n",
       "      <td>51</td>\n",
       "      <td>2205.13137</td>\n",
       "      <td>MixMAE: Mixed and Masked Autoencoder for Effic...</td>\n",
       "      <td>In this paper, we propose Mixed and Masked A...</td>\n",
       "      <td>31.530282</td>\n",
       "      <td>6</td>\n",
       "    </tr>\n",
       "    <tr>\n",
       "      <th>52</th>\n",
       "      <td>52</td>\n",
       "      <td>905.39980</td>\n",
       "      <td>Predicate Transformers and Linear Logic, yet a...</td>\n",
       "      <td>In the refinement calculus, monotonic predic...</td>\n",
       "      <td>29.274746</td>\n",
       "      <td>6</td>\n",
       "    </tr>\n",
       "    <tr>\n",
       "      <th>53</th>\n",
       "      <td>53</td>\n",
       "      <td>2004.13138</td>\n",
       "      <td>Investigating the Effectiveness of Representat...</td>\n",
       "      <td>Active learning has been shown &lt;hi&gt;to&lt;/hi&gt; b...</td>\n",
       "      <td>28.978262</td>\n",
       "      <td>6</td>\n",
       "    </tr>\n",
       "    <tr>\n",
       "      <th>54</th>\n",
       "      <td>54</td>\n",
       "      <td>1207.32080</td>\n",
       "      <td>Formal Verification of Monad Transformers</td>\n",
       "      <td>We present techniques for reasoning about co...</td>\n",
       "      <td>28.616875</td>\n",
       "      <td>6</td>\n",
       "    </tr>\n",
       "    <tr>\n",
       "      <th>55</th>\n",
       "      <td>55</td>\n",
       "      <td>908.29010</td>\n",
       "      <td>Prediction of remaining life of power transfor...</td>\n",
       "      <td>Prediction of the remaining life of high-vol...</td>\n",
       "      <td>28.470949</td>\n",
       "      <td>6</td>\n",
       "    </tr>\n",
       "    <tr>\n",
       "      <th>56</th>\n",
       "      <td>56</td>\n",
       "      <td>1307.11490</td>\n",
       "      <td>Solar Activity and Transformer Failures in the...</td>\n",
       "      <td>We study both the short term and long term e...</td>\n",
       "      <td>28.221138</td>\n",
       "      <td>6</td>\n",
       "    </tr>\n",
       "    <tr>\n",
       "      <th>57</th>\n",
       "      <td>57</td>\n",
       "      <td>1107.26840</td>\n",
       "      <td>Coils and transformers - often used but seldom...</td>\n",
       "      <td>The devices coil and &lt;hi&gt;transformer&lt;/hi&gt; ar...</td>\n",
       "      <td>27.709299</td>\n",
       "      <td>6</td>\n",
       "    </tr>\n",
       "    <tr>\n",
       "      <th>58</th>\n",
       "      <td>58</td>\n",
       "      <td>2205.13249</td>\n",
       "      <td>DT-SV: A Transformer-based Time-domain Approac...</td>\n",
       "      <td>Speaker verification (SV) aims &lt;hi&gt;to&lt;/hi&gt; d...</td>\n",
       "      <td>27.405299</td>\n",
       "      <td>6</td>\n",
       "    </tr>\n",
       "    <tr>\n",
       "      <th>59</th>\n",
       "      <td>59</td>\n",
       "      <td>2010.12155</td>\n",
       "      <td>Transformer-based End-to-End Speech Recognitio...</td>\n",
       "      <td>Recently, several studies reported that dot-...</td>\n",
       "      <td>27.064555</td>\n",
       "      <td>6</td>\n",
       "    </tr>\n",
       "  </tbody>\n",
       "</table>\n",
       "</div>"
      ],
      "text/plain": [
       "    Unnamed: 0          id                                              title  \\\n",
       "0            0  2010.11918  AdapterDrop: On the Efficiency of Adapters in ...   \n",
       "1            1   905.39980  Predicate Transformers and Linear Logic, yet a...   \n",
       "2            2  1207.32080          Formal Verification of Monad Transformers   \n",
       "3            3  1307.11490  Solar Activity and Transformer Failures in the...   \n",
       "4            4  2205.13249  DT-SV: A Transformer-based Time-domain Approac...   \n",
       "5            5  1107.26840  Coils and transformers - often used but seldom...   \n",
       "6            6  2004.13138  Investigating the Effectiveness of Representat...   \n",
       "7            7   809.23480  The absoption refrigerator as a thermal transf...   \n",
       "8            8   908.29010  Prediction of remaining life of power transfor...   \n",
       "9            9  1202.55390  Register Allocation By Model Transformer Seman...   \n",
       "10          10  2002.10957  MiniLM: Deep Self-Attention Distillation for T...   \n",
       "11          11   805.14800  On-line Learning of an Unlearnable True Teache...   \n",
       "12          12   906.54610  Can a student learn optimally from two differe...   \n",
       "13          13  1108.21670  Missing data in value-added modeling of teache...   \n",
       "14          14  1207.03930  Pseudo-finite hard instances for a student-tea...   \n",
       "15          15   705.23180  Statistical Mechanics of Nonlinear On-line Lea...   \n",
       "16          16  1212.10420  Attempts of Transforming Teacher Practice Thro...   \n",
       "17          17  1211.63400  An Approach of Improving Students Academic Per...   \n",
       "18          18  1206.42610  Fostering Student Enrollment in Basic Sciences...   \n",
       "19          19   805.04250  Effect of Slow Switching in On-line Learning f...   \n",
       "20          20   805.43690  A semantic space for modeling children's seman...   \n",
       "21          21   804.01430  Effects of High-Order Co-occurrences on Word S...   \n",
       "22          22  1010.23450  Using Context Dependent Semantic Similarity to...   \n",
       "23          23  1004.53700     Self-Taught Hashing for Fast Similarity Search   \n",
       "24          24  1105.14060  Comparison Latent Semantic and WordNet Approac...   \n",
       "25          25   911.50430  A Semantic Similarity Measure for Expressive D...   \n",
       "26          26   805.20450  Semantic Analysis of Tag Similarity Measures i...   \n",
       "27          27  1305.48580  Thresholding of Semantic Similarity Networks u...   \n",
       "28          28  1111.15700  Semantic Grounding Strategies for Tagbased Rec...   \n",
       "29          29  1105.54440  Semantic Similarity in a Taxonomy: An Informat...   \n",
       "30          30  1303.52500  Iterative Expectation for Multi Period Informa...   \n",
       "31          31  1101.16370         A Science Model Driven Retrieval Prototype   \n",
       "32          32  1009.50030  Demonstrating a Service-Enhanced Retrieval System   \n",
       "33          33  1106.29460  A Unified Relevance Retrieval Model by Elitene...   \n",
       "34          34  1011.04040             A New Email Retrieval Ranking Approach   \n",
       "35          35  1011.05020             A New Email Retrieval Ranking Approach   \n",
       "36          36   711.31280                        Entity Ranking in Wikipedia   \n",
       "37          37  2004.12832  ColBERT: Efficient and Effective Passage Searc...   \n",
       "38          38  1107.16600  Click Efficiency: A Unified Optimal Ranking fo...   \n",
       "39          39  1204.01860  Semantic-Sensitive Web Information Retrieval M...   \n",
       "40          40  1106.45090                           Machine Learning Markets   \n",
       "41          41  1202.37580  Nonparametric Divergence Estimation with Appli...   \n",
       "42          42  1001.27090  Kernel machines with two layers and multiple k...   \n",
       "43          43  1104.49500  A Machine Learning Based Analytical Framework ...   \n",
       "44          44   907.50320  Restart Strategy Selection using Machine Learn...   \n",
       "45          45   903.03140            Granularity-Adaptive Proof Presentation   \n",
       "46          46  1111.21110  Generic Multiplicative Methods for Implementin...   \n",
       "47          47  1106.21560  A Computational Framework for Nonlinear Dimens...   \n",
       "48          48  1206.64430  Isoelastic Agents and Wealth Updates in Machin...   \n",
       "49          49  1011.34940                       Learning Planar Ising Models   \n",
       "50          50  2010.11929  An Image is Worth 16x16 Words: Transformers fo...   \n",
       "51          51  2205.13137  MixMAE: Mixed and Masked Autoencoder for Effic...   \n",
       "52          52   905.39980  Predicate Transformers and Linear Logic, yet a...   \n",
       "53          53  2004.13138  Investigating the Effectiveness of Representat...   \n",
       "54          54  1207.32080          Formal Verification of Monad Transformers   \n",
       "55          55   908.29010  Prediction of remaining life of power transfor...   \n",
       "56          56  1307.11490  Solar Activity and Transformer Failures in the...   \n",
       "57          57  1107.26840  Coils and transformers - often used but seldom...   \n",
       "58          58  2205.13249  DT-SV: A Transformer-based Time-domain Approac...   \n",
       "59          59  2010.12155  Transformer-based End-to-End Speech Recognitio...   \n",
       "\n",
       "                                                 body  relevance  query_id  \n",
       "0     Massively pre-trained <hi>transformer</hi> <...  29.482678         1  \n",
       "1     In the refinement calculus, monotonic predic...  27.054091         1  \n",
       "2     We present techniques for reasoning about co...  26.893452         1  \n",
       "3     We study <hi>both</hi> the short term and lo...  25.520128         1  \n",
       "4     Speaker verification (SV) aims to determine ...  24.716539         1  \n",
       "5     The devices coil and <hi>transformer</hi> ar...  24.478528         1  \n",
       "6     Active learning has been shown to be an effe...  24.379721         1  \n",
       "7     The absorption refrigerator can be considere...  24.202046         1  \n",
       "8     Prediction <hi>of</hi> the remaining life <h...  24.173764         1  \n",
       "9     Register allocation has long been formulated...  23.677296         1  \n",
       "10    Pre-trained language models (e.g., BERT (Dev...  43.278728         2  \n",
       "11    On-line learning <hi>of</hi> a hierarchical ...  39.817125         2  \n",
       "12    We explore the effects <hi>of</hi> over-spec...  35.523570         2  \n",
       "13    The increasing availability <hi>of</hi> long...  35.016854         2  \n",
       "14    For an NP intersect coNP function g <hi>of</...  33.849195         2  \n",
       "15    We analyze the generalization performance <h...  33.067393         2  \n",
       "16    A difficult challenge in physics education i...  31.626978         2  \n",
       "17    Improving <hi>students</hi> academic perform...  31.331960         2  \n",
       "18    In recent decades it has been detected in It...  30.544935         2  \n",
       "19    We have analyzed the generalization performa...  30.277037         2  \n",
       "20    The goal of this paper is to present <hi>a</...  31.514745         3  \n",
       "21    <hi>A</hi> computational <hi>model</hi> of t...  30.864884         3  \n",
       "22    This paper deals with the <hi>semantic</hi> ...  30.348185         3  \n",
       "23    The ability of <hi>fast</hi> <hi>similarity<...  30.094068         3  \n",
       "24    Information exchange among many sources in I...  29.561107         3  \n",
       "25    <hi>A</hi> totally <hi>semantic</hi> measure...  29.030259         3  \n",
       "26    Social bookmarking systems allow users to or...  28.364411         3  \n",
       "27    <hi>Semantic</hi> <hi>similarity</hi> measur...  28.144613         3  \n",
       "28    Recommender systems usually operate on <hi>s...  27.396208         3  \n",
       "29    This article presents <hi>a</hi> measure of ...  27.048087         3  \n",
       "30    Many Information <hi>Retrieval</hi> (IR) <hi...  40.834684         4  \n",
       "31    This paper is about a better understanding o...  40.270083         4  \n",
       "32    This paper is a short description of <hi>an<...  39.994079         4  \n",
       "33    In this paper, <hi>an</hi> Eliteness Hypothe...  39.268673         4  \n",
       "34    Email <hi>Retrieval</hi> task has recently t...  37.890585         4  \n",
       "35    Email <hi>Retrieval</hi> task has recently t...  37.890585         4  \n",
       "36    The traditional entity extraction problem li...  37.560193         4  \n",
       "37    Recent progress in Natural Language Understa...  37.394745         4  \n",
       "38    Traditionally the probabilistic <hi>ranking<...  37.216638         4  \n",
       "39    With the advent of the Internet, a new era o...  37.119758         4  \n",
       "40    Prediction markets show considerable promise...  38.342525         5  \n",
       "41    Low-dimensional <hi>embedding</hi>, manifold...  36.777843         5  \n",
       "42    <hi>In</hi> this paper, the framework of ker...  33.265125         5  \n",
       "43    The Semantic Web <hi>is</hi> an extension of...  33.146659         5  \n",
       "44    Restart strategies are an important factor <...  33.079312         5  \n",
       "45    When mathematicians present proofs they usua...  32.277215         5  \n",
       "46    <hi>In</hi> this paper we introduce <hi>a</h...  31.726475         5  \n",
       "47    <hi>In</hi> this paper, we present <hi>a</hi...  31.013278         5  \n",
       "48    Recently, prediction markets have shown cons...  30.824351         5  \n",
       "49    Inference and <hi>learning</hi> of graphical...  30.541712         5  \n",
       "50    While the <hi>Transformer</hi> architecture ...  36.705317         6  \n",
       "51    In this paper, we propose Mixed and Masked A...  31.530282         6  \n",
       "52    In the refinement calculus, monotonic predic...  29.274746         6  \n",
       "53    Active learning has been shown <hi>to</hi> b...  28.978262         6  \n",
       "54    We present techniques for reasoning about co...  28.616875         6  \n",
       "55    Prediction of the remaining life of high-vol...  28.470949         6  \n",
       "56    We study both the short term and long term e...  28.221138         6  \n",
       "57    The devices coil and <hi>transformer</hi> ar...  27.709299         6  \n",
       "58    Speaker verification (SV) aims <hi>to</hi> d...  27.405299         6  \n",
       "59    Recently, several studies reported that dot-...  27.064555         6  "
      ]
     },
     "execution_count": 2,
     "metadata": {},
     "output_type": "execute_result"
    }
   ],
   "source": [
    "import pandas as pd\n",
    "\n",
    "db = pd.read_csv('full_results.csv')\n",
    "\n",
    "db"
   ]
  }
 ],
 "metadata": {
  "kernelspec": {
   "display_name": "Python 3",
   "language": "python",
   "name": "python3"
  },
  "language_info": {
   "codemirror_mode": {
    "name": "ipython",
    "version": 3
   },
   "file_extension": ".py",
   "mimetype": "text/x-python",
   "name": "python",
   "nbconvert_exporter": "python",
   "pygments_lexer": "ipython3",
   "version": "3.10.6"
  }
 },
 "nbformat": 4,
 "nbformat_minor": 2
}
