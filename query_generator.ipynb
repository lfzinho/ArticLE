{
 "cells": [
  {
   "cell_type": "code",
   "execution_count": 32,
   "metadata": {},
   "outputs": [],
   "source": [
    "import random\n",
    "import json\n",
    "from groq import Groq\n",
    "from time import sleep\n",
    "from tqdm import tqdm"
   ]
  },
  {
   "cell_type": "code",
   "execution_count": 10,
   "metadata": {},
   "outputs": [],
   "source": [
    "path = 'data/exemplo.json'"
   ]
  },
  {
   "cell_type": "code",
   "execution_count": 13,
   "metadata": {},
   "outputs": [],
   "source": [
    "import json\n",
    "\n",
    "with open(path, 'r', encoding='utf-8') as f:\n",
    "    data = f.readlines()\n",
    "    data = [json.loads(line) for line in data]"
   ]
  },
  {
   "cell_type": "code",
   "execution_count": 15,
   "metadata": {},
   "outputs": [
    {
     "data": {
      "text/plain": [
       "[{'id': '0704.0001',\n",
       "  'submitter': 'Pavel Nadolsky',\n",
       "  'authors': \"C. Bal\\\\'azs, E. L. Berger, P. M. Nadolsky, C.-P. Yuan\",\n",
       "  'title': 'Calculation of prompt diphoton production cross sections at Tevatron and\\n  LHC energies',\n",
       "  'comments': '37 pages, 15 figures; published version',\n",
       "  'journal-ref': 'Phys.Rev.D76:013009,2007',\n",
       "  'doi': '10.1103/PhysRevD.76.013009',\n",
       "  'report-no': 'ANL-HEP-PR-07-12',\n",
       "  'categories': 'hep-ph',\n",
       "  'license': None,\n",
       "  'abstract': '  A fully differential calculation in perturbative quantum chromodynamics is\\npresented for the production of massive photon pairs at hadron colliders. All\\nnext-to-leading order perturbative contributions from quark-antiquark,\\ngluon-(anti)quark, and gluon-gluon subprocesses are included, as well as\\nall-orders resummation of initial-state gluon radiation valid at\\nnext-to-next-to-leading logarithmic accuracy. The region of phase space is\\nspecified in which the calculation is most reliable. Good agreement is\\ndemonstrated with data from the Fermilab Tevatron, and predictions are made for\\nmore detailed tests with CDF and DO data. Predictions are shown for\\ndistributions of diphoton pairs produced at the energy of the Large Hadron\\nCollider (LHC). Distributions of the diphoton pairs from the decay of a Higgs\\nboson are contrasted with those produced from QCD processes at the LHC, showing\\nthat enhanced sensitivity to the signal can be obtained with judicious\\nselection of events.\\n',\n",
       "  'versions': [{'version': 'v1', 'created': 'Mon, 2 Apr 2007 19:18:42 GMT'},\n",
       "   {'version': 'v2', 'created': 'Tue, 24 Jul 2007 20:10:27 GMT'}],\n",
       "  'update_date': '2008-11-26',\n",
       "  'authors_parsed': [['Balázs', 'C.', ''],\n",
       "   ['Berger', 'E. L.', ''],\n",
       "   ['Nadolsky', 'P. M.', ''],\n",
       "   ['Yuan', 'C. -P.', '']]},\n",
       " {'id': '0704.0002',\n",
       "  'submitter': 'Louis Theran',\n",
       "  'authors': 'Ileana Streinu and Louis Theran',\n",
       "  'title': 'Sparsity-certifying Graph Decompositions',\n",
       "  'comments': 'To appear in Graphs and Combinatorics',\n",
       "  'journal-ref': None,\n",
       "  'doi': None,\n",
       "  'report-no': None,\n",
       "  'categories': 'math.CO cs.CG',\n",
       "  'license': 'http://arxiv.org/licenses/nonexclusive-distrib/1.0/',\n",
       "  'abstract': '  We describe a new algorithm, the $(k,\\\\ell)$-pebble game with colors, and use\\nit obtain a characterization of the family of $(k,\\\\ell)$-sparse graphs and\\nalgorithmic solutions to a family of problems concerning tree decompositions of\\ngraphs. Special instances of sparse graphs appear in rigidity theory and have\\nreceived increased attention in recent years. In particular, our colored\\npebbles generalize and strengthen the previous results of Lee and Streinu and\\ngive a new proof of the Tutte-Nash-Williams characterization of arboricity. We\\nalso present a new decomposition that certifies sparsity based on the\\n$(k,\\\\ell)$-pebble game with colors. Our work also exposes connections between\\npebble game algorithms and previous sparse graph algorithms by Gabow, Gabow and\\nWestermann and Hendrickson.\\n',\n",
       "  'versions': [{'version': 'v1', 'created': 'Sat, 31 Mar 2007 02:26:18 GMT'},\n",
       "   {'version': 'v2', 'created': 'Sat, 13 Dec 2008 17:26:00 GMT'}],\n",
       "  'update_date': '2008-12-13',\n",
       "  'authors_parsed': [['Streinu', 'Ileana', ''], ['Theran', 'Louis', '']]},\n",
       " {'id': '0704.0003',\n",
       "  'submitter': 'Hongjun Pan',\n",
       "  'authors': 'Hongjun Pan',\n",
       "  'title': 'The evolution of the Earth-Moon system based on the dark matter field\\n  fluid model',\n",
       "  'comments': '23 pages, 3 figures',\n",
       "  'journal-ref': None,\n",
       "  'doi': None,\n",
       "  'report-no': None,\n",
       "  'categories': 'physics.gen-ph',\n",
       "  'license': None,\n",
       "  'abstract': \"  The evolution of Earth-Moon system is described by the dark matter field\\nfluid model proposed in the Meeting of Division of Particle and Field 2004,\\nAmerican Physical Society. The current behavior of the Earth-Moon system agrees\\nwith this model very well and the general pattern of the evolution of the\\nMoon-Earth system described by this model agrees with geological and fossil\\nevidence. The closest distance of the Moon to Earth was about 259000 km at 4.5\\nbillion years ago, which is far beyond the Roche's limit. The result suggests\\nthat the tidal friction may not be the primary cause for the evolution of the\\nEarth-Moon system. The average dark matter field fluid constant derived from\\nEarth-Moon system data is 4.39 x 10^(-22) s^(-1)m^(-1). This model predicts\\nthat the Mars's rotation is also slowing with the angular acceleration rate\\nabout -4.38 x 10^(-22) rad s^(-2).\\n\",\n",
       "  'versions': [{'version': 'v1', 'created': 'Sun, 1 Apr 2007 20:46:54 GMT'},\n",
       "   {'version': 'v2', 'created': 'Sat, 8 Dec 2007 23:47:24 GMT'},\n",
       "   {'version': 'v3', 'created': 'Sun, 13 Jan 2008 00:36:28 GMT'}],\n",
       "  'update_date': '2008-01-13',\n",
       "  'authors_parsed': [['Pan', 'Hongjun', '']]},\n",
       " {'id': '0704.0004',\n",
       "  'submitter': 'David Callan',\n",
       "  'authors': 'David Callan',\n",
       "  'title': 'A determinant of Stirling cycle numbers counts unlabeled acyclic\\n  single-source automata',\n",
       "  'comments': '11 pages',\n",
       "  'journal-ref': None,\n",
       "  'doi': None,\n",
       "  'report-no': None,\n",
       "  'categories': 'math.CO',\n",
       "  'license': None,\n",
       "  'abstract': '  We show that a determinant of Stirling cycle numbers counts unlabeled acyclic\\nsingle-source automata. The proof involves a bijection from these automata to\\ncertain marked lattice paths and a sign-reversing involution to evaluate the\\ndeterminant.\\n',\n",
       "  'versions': [{'version': 'v1', 'created': 'Sat, 31 Mar 2007 03:16:14 GMT'}],\n",
       "  'update_date': '2007-05-23',\n",
       "  'authors_parsed': [['Callan', 'David', '']]},\n",
       " {'id': '0704.0005',\n",
       "  'submitter': 'Alberto Torchinsky',\n",
       "  'authors': 'Wael Abu-Shammala and Alberto Torchinsky',\n",
       "  'title': 'From dyadic $\\\\Lambda_{\\\\alpha}$ to $\\\\Lambda_{\\\\alpha}$',\n",
       "  'comments': None,\n",
       "  'journal-ref': 'Illinois J. Math. 52 (2008) no.2, 681-689',\n",
       "  'doi': None,\n",
       "  'report-no': None,\n",
       "  'categories': 'math.CA math.FA',\n",
       "  'license': None,\n",
       "  'abstract': '  In this paper we show how to compute the $\\\\Lambda_{\\\\alpha}$ norm, $\\\\alpha\\\\ge\\n0$, using the dyadic grid. This result is a consequence of the description of\\nthe Hardy spaces $H^p(R^N)$ in terms of dyadic and special atoms.\\n',\n",
       "  'versions': [{'version': 'v1', 'created': 'Mon, 2 Apr 2007 18:09:58 GMT'}],\n",
       "  'update_date': '2013-10-15',\n",
       "  'authors_parsed': [['Abu-Shammala', 'Wael', ''],\n",
       "   ['Torchinsky', 'Alberto', '']]},\n",
       " {'id': '0704.0006',\n",
       "  'submitter': 'Yue Hin Pong',\n",
       "  'authors': 'Y. H. Pong and C. K. Law',\n",
       "  'title': 'Bosonic characters of atomic Cooper pairs across resonance',\n",
       "  'comments': '6 pages, 4 figures, accepted by PRA',\n",
       "  'journal-ref': None,\n",
       "  'doi': '10.1103/PhysRevA.75.043613',\n",
       "  'report-no': None,\n",
       "  'categories': 'cond-mat.mes-hall',\n",
       "  'license': None,\n",
       "  'abstract': '  We study the two-particle wave function of paired atoms in a Fermi gas with\\ntunable interaction strengths controlled by Feshbach resonance. The Cooper pair\\nwave function is examined for its bosonic characters, which is quantified by\\nthe correction of Bose enhancement factor associated with the creation and\\nannihilation composite particle operators. An example is given for a\\nthree-dimensional uniform gas. Two definitions of Cooper pair wave function are\\nexamined. One of which is chosen to reflect the off-diagonal long range order\\n(ODLRO). Another one corresponds to a pair projection of a BCS state. On the\\nside with negative scattering length, we found that paired atoms described by\\nODLRO are more bosonic than the pair projected definition. It is also found\\nthat at $(k_F a)^{-1} \\\\ge 1$, both definitions give similar results, where more\\nthan 90% of the atoms occupy the corresponding molecular condensates.\\n',\n",
       "  'versions': [{'version': 'v1', 'created': 'Sat, 31 Mar 2007 04:24:59 GMT'}],\n",
       "  'update_date': '2015-05-13',\n",
       "  'authors_parsed': [['Pong', 'Y. H.', ''], ['Law', 'C. K.', '']]},\n",
       " {'id': '0704.0007',\n",
       "  'submitter': 'Alejandro Corichi',\n",
       "  'authors': 'Alejandro Corichi, Tatjana Vukasinac and Jose A. Zapata',\n",
       "  'title': 'Polymer Quantum Mechanics and its Continuum Limit',\n",
       "  'comments': '16 pages, no figures. Typos corrected to match published version',\n",
       "  'journal-ref': 'Phys.Rev.D76:044016,2007',\n",
       "  'doi': '10.1103/PhysRevD.76.044016',\n",
       "  'report-no': 'IGPG-07/03-2',\n",
       "  'categories': 'gr-qc',\n",
       "  'license': None,\n",
       "  'abstract': '  A rather non-standard quantum representation of the canonical commutation\\nrelations of quantum mechanics systems, known as the polymer representation has\\ngained some attention in recent years, due to its possible relation with Planck\\nscale physics. In particular, this approach has been followed in a symmetric\\nsector of loop quantum gravity known as loop quantum cosmology. Here we explore\\ndifferent aspects of the relation between the ordinary Schroedinger theory and\\nthe polymer description. The paper has two parts. In the first one, we derive\\nthe polymer quantum mechanics starting from the ordinary Schroedinger theory\\nand show that the polymer description arises as an appropriate limit. In the\\nsecond part we consider the continuum limit of this theory, namely, the reverse\\nprocess in which one starts from the discrete theory and tries to recover back\\nthe ordinary Schroedinger quantum mechanics. We consider several examples of\\ninterest, including the harmonic oscillator, the free particle and a simple\\ncosmological model.\\n',\n",
       "  'versions': [{'version': 'v1', 'created': 'Sat, 31 Mar 2007 04:27:22 GMT'},\n",
       "   {'version': 'v2', 'created': 'Wed, 22 Aug 2007 22:42:11 GMT'}],\n",
       "  'update_date': '2008-11-26',\n",
       "  'authors_parsed': [['Corichi', 'Alejandro', ''],\n",
       "   ['Vukasinac', 'Tatjana', ''],\n",
       "   ['Zapata', 'Jose A.', '']]},\n",
       " {'id': '0704.0008',\n",
       "  'submitter': 'Damian Swift',\n",
       "  'authors': 'Damian C. Swift',\n",
       "  'title': 'Numerical solution of shock and ramp compression for general material\\n  properties',\n",
       "  'comments': 'Minor corrections',\n",
       "  'journal-ref': 'Journal of Applied Physics, vol 104, 073536 (2008)',\n",
       "  'doi': '10.1063/1.2975338',\n",
       "  'report-no': 'LA-UR-07-2051, LLNL-JRNL-410358',\n",
       "  'categories': 'cond-mat.mtrl-sci',\n",
       "  'license': 'http://arxiv.org/licenses/nonexclusive-distrib/1.0/',\n",
       "  'abstract': '  A general formulation was developed to represent material models for\\napplications in dynamic loading. Numerical methods were devised to calculate\\nresponse to shock and ramp compression, and ramp decompression, generalizing\\nprevious solutions for scalar equations of state. The numerical methods were\\nfound to be flexible and robust, and matched analytic results to a high\\naccuracy. The basic ramp and shock solution methods were coupled to solve for\\ncomposite deformation paths, such as shock-induced impacts, and shock\\ninteractions with a planar interface between different materials. These\\ncalculations capture much of the physics of typical material dynamics\\nexperiments, without requiring spatially-resolving simulations. Example\\ncalculations were made of loading histories in metals, illustrating the effects\\nof plastic work on the temperatures induced in quasi-isentropic and\\nshock-release experiments, and the effect of a phase transition.\\n',\n",
       "  'versions': [{'version': 'v1', 'created': 'Sat, 31 Mar 2007 04:47:20 GMT'},\n",
       "   {'version': 'v2', 'created': 'Thu, 10 Apr 2008 08:42:28 GMT'},\n",
       "   {'version': 'v3', 'created': 'Tue, 1 Jul 2008 18:54:28 GMT'}],\n",
       "  'update_date': '2009-02-05',\n",
       "  'authors_parsed': [['Swift', 'Damian C.', '']]},\n",
       " {'id': '0704.0009',\n",
       "  'submitter': 'Paul Harvey',\n",
       "  'authors': 'Paul Harvey, Bruno Merin, Tracy L. Huard, Luisa M. Rebull, Nicholas\\n  Chapman, Neal J. Evans II, Philip C. Myers',\n",
       "  'title': 'The Spitzer c2d Survey of Large, Nearby, Insterstellar Clouds. IX. The\\n  Serpens YSO Population As Observed With IRAC and MIPS',\n",
       "  'comments': None,\n",
       "  'journal-ref': 'Astrophys.J.663:1149-1173,2007',\n",
       "  'doi': '10.1086/518646',\n",
       "  'report-no': None,\n",
       "  'categories': 'astro-ph',\n",
       "  'license': None,\n",
       "  'abstract': \"  We discuss the results from the combined IRAC and MIPS c2d Spitzer Legacy\\nobservations of the Serpens star-forming region. In particular we present a set\\nof criteria for isolating bona fide young stellar objects, YSO's, from the\\nextensive background contamination by extra-galactic objects. We then discuss\\nthe properties of the resulting high confidence set of YSO's. We find 235 such\\nobjects in the 0.85 deg^2 field that was covered with both IRAC and MIPS. An\\nadditional set of 51 lower confidence YSO's outside this area is identified\\nfrom the MIPS data combined with 2MASS photometry. We describe two sets of\\nresults, color-color diagrams to compare our observed source properties with\\nthose of theoretical models for star/disk/envelope systems and our own modeling\\nof the subset of our objects that appear to be star+disks. These objects\\nexhibit a very wide range of disk properties, from many that can be fit with\\nactively accreting disks to some with both passive disks and even possibly\\ndebris disks. We find that the luminosity function of YSO's in Serpens extends\\ndown to at least a few x .001 Lsun or lower for an assumed distance of 260 pc.\\nThe lower limit may be set by our inability to distinguish YSO's from\\nextra-galactic sources more than by the lack of YSO's at very low luminosities.\\nA spatial clustering analysis shows that the nominally less-evolved YSO's are\\nmore highly clustered than the later stages and that the background\\nextra-galactic population can be fit by the same two-point correlation function\\nas seen in other extra-galactic studies. We also present a table of matches\\nbetween several previous infrared and X-ray studies of the Serpens YSO\\npopulation and our Spitzer data set.\\n\",\n",
       "  'versions': [{'version': 'v1', 'created': 'Mon, 2 Apr 2007 19:41:34 GMT'}],\n",
       "  'update_date': '2010-03-18',\n",
       "  'authors_parsed': [['Harvey', 'Paul', ''],\n",
       "   ['Merin', 'Bruno', ''],\n",
       "   ['Huard', 'Tracy L.', ''],\n",
       "   ['Rebull', 'Luisa M.', ''],\n",
       "   ['Chapman', 'Nicholas', ''],\n",
       "   ['Evans', 'Neal J.', 'II'],\n",
       "   ['Myers', 'Philip C.', '']]},\n",
       " {'id': '0704.0010',\n",
       "  'submitter': 'Sergei Ovchinnikov',\n",
       "  'authors': 'Sergei Ovchinnikov',\n",
       "  'title': 'Partial cubes: structures, characterizations, and constructions',\n",
       "  'comments': '36 pages, 17 figures',\n",
       "  'journal-ref': None,\n",
       "  'doi': None,\n",
       "  'report-no': None,\n",
       "  'categories': 'math.CO',\n",
       "  'license': None,\n",
       "  'abstract': \"  Partial cubes are isometric subgraphs of hypercubes. Structures on a graph\\ndefined by means of semicubes, and Djokovi\\\\'{c}'s and Winkler's relations play\\nan important role in the theory of partial cubes. These structures are employed\\nin the paper to characterize bipartite graphs and partial cubes of arbitrary\\ndimension. New characterizations are established and new proofs of some known\\nresults are given.\\n  The operations of Cartesian product and pasting, and expansion and\\ncontraction processes are utilized in the paper to construct new partial cubes\\nfrom old ones. In particular, the isometric and lattice dimensions of finite\\npartial cubes obtained by means of these operations are calculated.\\n\",\n",
       "  'versions': [{'version': 'v1', 'created': 'Sat, 31 Mar 2007 05:10:16 GMT'}],\n",
       "  'update_date': '2007-05-23',\n",
       "  'authors_parsed': [['Ovchinnikov', 'Sergei', '']]}]"
      ]
     },
     "execution_count": 15,
     "metadata": {},
     "output_type": "execute_result"
    }
   ],
   "source": [
    "data[:10]"
   ]
  },
  {
   "cell_type": "code",
   "execution_count": 19,
   "metadata": {},
   "outputs": [],
   "source": [
    "GROQ_API_KEY='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'\n",
    "\n",
    "client = Groq(\n",
    "    api_key=GROQ_API_KEY,\n",
    ")"
   ]
  },
  {
   "cell_type": "code",
   "execution_count": 24,
   "metadata": {},
   "outputs": [],
   "source": [
    "def generate_query(artigo,\n",
    "                model    =  'llama3-70b-8192' ,\n",
    "                max_tokens = 1000 ):\n",
    "    \n",
    "    prompt = f\"Read the following article, named '{artigo['title']}', and create a search query based on its content. \\\n",
    "        The article's content is as follows: \\n {artigo['abstract']}.\"\n",
    "\n",
    "    while True:\n",
    "        try:\n",
    "            response = client.chat.completions.create(\n",
    "                model=model,\n",
    "                n=1,\n",
    "                messages=[\n",
    "                    {\"role\": \"system\", \"content\": \"You are an assistant AI specialized in creating search queries based on the content of articles. \\\n",
    "                     Your goal is to generate a search query that would be able to find the article you just read. Remember to be concise and clear in your query. \\\n",
    "                     The query should be made as if it were written by a human user, using natural language, and can't be a direct copy of something written in the text. \\\n",
    "                     You should return only the query, without any additional information.\"},\n",
    "                    {\"role\": \"user\", \"content\": prompt}\n",
    "                ],\n",
    "                max_tokens = max_tokens)\n",
    "\n",
    "            return response.choices[0].message.content.lower()\n",
    "        except Exception as e:\n",
    "            print(\"Rate limit achieved:\", e)\n",
    "            sleep(30)\n",
    "            continue\n"
   ]
  },
  {
   "cell_type": "code",
   "execution_count": 30,
   "metadata": {},
   "outputs": [],
   "source": [
    "# sample 100 random articles from data\n",
    "sample = random.sample(data, 100)"
   ]
  },
  {
   "cell_type": "code",
   "execution_count": 33,
   "metadata": {},
   "outputs": [],
   "source": [
    "artigos = []"
   ]
  },
  {
   "cell_type": "code",
   "execution_count": 34,
   "metadata": {},
   "outputs": [
    {
     "name": "stderr",
     "output_type": "stream",
     "text": [
      "Generating queries for articles:   0%|          | 0/100 [00:00<?, ?it/s]"
     ]
    },
    {
     "name": "stdout",
     "output_type": "stream",
     "text": [
      "Article: Starobinsky-Bel-Robinson gravity\n",
      "Query: \"modified gravity theory with starobinsky inflation and bel-robinson tensor\"\n",
      "\n",
      "\n",
      "\n"
     ]
    },
    {
     "name": "stderr",
     "output_type": "stream",
     "text": [
      "Generating queries for articles:   1%|          | 1/100 [00:02<04:33,  2.76s/it]"
     ]
    },
    {
     "name": "stdout",
     "output_type": "stream",
     "text": [
      "Article: Deep Convolutional Neural Networks Model-based Brain Tumor Detection in\n",
      "  Brain MRI Images\n",
      "Query: \"brain tumor detection using deep learning and mri images\"\n",
      "\n",
      "\n",
      "\n"
     ]
    },
    {
     "name": "stderr",
     "output_type": "stream",
     "text": [
      "Generating queries for articles:   2%|▏         | 2/100 [00:05<04:16,  2.61s/it]"
     ]
    },
    {
     "name": "stdout",
     "output_type": "stream",
     "text": [
      "Article: A Theory-Based Evaluation of Nearest Neighbor Models Put Into Practice\n",
      "Query: \"evaluating the accuracy of k-nearest neighbor models in data analysis\"\n",
      "\n",
      "\n",
      "\n"
     ]
    },
    {
     "name": "stderr",
     "output_type": "stream",
     "text": [
      "Generating queries for articles:   3%|▎         | 3/100 [00:07<04:17,  2.66s/it]"
     ]
    },
    {
     "name": "stdout",
     "output_type": "stream",
     "text": [
      "Article: Transfer and Share: Semi-Supervised Learning from Long-Tailed Data\n",
      "Query: \"long-tailed data semi-supervised learning class imbalance solutions\"\n",
      "\n",
      "\n",
      "\n"
     ]
    },
    {
     "name": "stderr",
     "output_type": "stream",
     "text": [
      "Generating queries for articles:   4%|▍         | 4/100 [00:10<04:08,  2.59s/it]"
     ]
    },
    {
     "name": "stdout",
     "output_type": "stream",
     "text": [
      "Article: Biharmonic homogeneous polynomial maps between spheres\n",
      "Query: biharmonic polynomial maps between euclidean spheres\n",
      "\n",
      "\n",
      "\n"
     ]
    },
    {
     "name": "stderr",
     "output_type": "stream",
     "text": [
      "Generating queries for articles:   5%|▌         | 5/100 [00:12<04:01,  2.54s/it]"
     ]
    },
    {
     "name": "stdout",
     "output_type": "stream",
     "text": [
      "Article: Integration of Blockchain and Edge Computing in Internet of Things: A\n",
      "  Survey\n",
      "Query: \"blockchain and edge computing integration in iot applications\"\n",
      "\n",
      "\n",
      "\n"
     ]
    },
    {
     "name": "stderr",
     "output_type": "stream",
     "text": [
      "Generating queries for articles:   6%|▌         | 6/100 [00:15<03:56,  2.52s/it]"
     ]
    },
    {
     "name": "stdout",
     "output_type": "stream",
     "text": [
      "Article: Multi-fidelity power flow solver\n",
      "Query: \"neural network for power grid simulation and contingency analysis\"\n",
      "\n",
      "\n",
      "\n"
     ]
    },
    {
     "name": "stderr",
     "output_type": "stream",
     "text": [
      "Generating queries for articles:   7%|▋         | 7/100 [00:17<03:53,  2.51s/it]"
     ]
    },
    {
     "name": "stdout",
     "output_type": "stream",
     "text": [
      "Article: Automatic Detection of ECG Abnormalities by using an Ensemble of Deep\n",
      "  Residual Networks with Attention\n",
      "Query: \"identifying heart disease through automatic ecg analysis using deep learning algorithms\"\n",
      "\n",
      "\n",
      "\n"
     ]
    },
    {
     "name": "stderr",
     "output_type": "stream",
     "text": [
      "Generating queries for articles:   8%|▊         | 8/100 [00:20<03:53,  2.54s/it]"
     ]
    },
    {
     "name": "stdout",
     "output_type": "stream",
     "text": [
      "Article: Determination of the $N_f=12$ step scaling function using M\\\"obius\n",
      "  domain wall fermions\n",
      "Query: \"step scaling function calculation with dynamical fermions and symanzik gauge action\"\n",
      "\n",
      "\n",
      "\n"
     ]
    },
    {
     "name": "stderr",
     "output_type": "stream",
     "text": [
      "Generating queries for articles:   9%|▉         | 9/100 [00:23<03:51,  2.54s/it]"
     ]
    },
    {
     "name": "stdout",
     "output_type": "stream",
     "text": [
      "Article: DDet: Dual-path Dynamic Enhancement Network for Real-World Image\n",
      "  Super-Resolution\n",
      "Query: \"dual path image super resolution network for real-world images\"\n",
      "\n",
      "\n",
      "\n"
     ]
    },
    {
     "name": "stderr",
     "output_type": "stream",
     "text": [
      "Generating queries for articles:  10%|█         | 10/100 [00:25<03:48,  2.54s/it]"
     ]
    },
    {
     "name": "stdout",
     "output_type": "stream",
     "text": [
      "Article: Thermalizing two identical particles\n",
      "Query: particle correlations through indirect environmental interactions\n",
      "\n",
      "\n",
      "\n"
     ]
    },
    {
     "name": "stderr",
     "output_type": "stream",
     "text": [
      "Generating queries for articles:  11%|█         | 11/100 [00:28<03:44,  2.52s/it]"
     ]
    },
    {
     "name": "stdout",
     "output_type": "stream",
     "text": [
      "Article: Development of Transition-Edge Sensor X-ray Microcalorimeter Linear\n",
      "  Array for Compton Scattering and Energy Dispersive Diffraction Imaging\n",
      "Query: \"x-ray microcalorimeter detector for energy dispersive diffraction imaging and compton scattering applications\"\n",
      "\n",
      "\n",
      "\n"
     ]
    },
    {
     "name": "stderr",
     "output_type": "stream",
     "text": [
      "Generating queries for articles:  12%|█▏        | 12/100 [00:30<03:41,  2.52s/it]"
     ]
    },
    {
     "name": "stdout",
     "output_type": "stream",
     "text": [
      "Article: Multiple representations of real numbers on self-similar sets with\n",
      "  overlaps\n",
      "Query: self-similar sets with overlaps and representation of real numbers\n",
      "\n",
      "\n",
      "\n"
     ]
    },
    {
     "name": "stderr",
     "output_type": "stream",
     "text": [
      "Generating queries for articles:  13%|█▎        | 13/100 [00:33<03:39,  2.52s/it]"
     ]
    },
    {
     "name": "stdout",
     "output_type": "stream",
     "text": [
      "Article: Lying on networks: The role of structure and topology in promoting\n",
      "  honesty\n",
      "Query: \"honesty evolution on social networks\"\n",
      "\n",
      "\n",
      "\n"
     ]
    },
    {
     "name": "stderr",
     "output_type": "stream",
     "text": [
      "Generating queries for articles:  14%|█▍        | 14/100 [00:35<03:37,  2.53s/it]"
     ]
    },
    {
     "name": "stdout",
     "output_type": "stream",
     "text": [
      "Article: Elevated ionizing photon production efficiency in faint\n",
      "  high-equivalent-width Lyman-alpha emitters\n",
      "Query: /ionizing photon production efficiency in low-luminosity lyman-alpha emitters\n",
      "\n",
      "\n",
      "\n"
     ]
    },
    {
     "name": "stderr",
     "output_type": "stream",
     "text": [
      "Generating queries for articles:  15%|█▌        | 15/100 [00:38<03:32,  2.50s/it]"
     ]
    },
    {
     "name": "stdout",
     "output_type": "stream",
     "text": [
      "Article: Don't shoot butterfly with rifles: Multi-channel Continuous Speech\n",
      "  Separation with Early Exit Transformer\n",
      "Query: \"efficient multi-channel speech separation using transformers with adaptive depth\"\n",
      "\n",
      "\n",
      "\n"
     ]
    },
    {
     "name": "stderr",
     "output_type": "stream",
     "text": [
      "Generating queries for articles:  16%|█▌        | 16/100 [00:40<03:29,  2.49s/it]"
     ]
    },
    {
     "name": "stdout",
     "output_type": "stream",
     "text": [
      "Article: Unpredictable repeatability in molecular evolution\n",
      "Query: \"molecular evolution unpredictability and parallel evolution probability\"\n",
      "\n",
      "\n",
      "\n"
     ]
    },
    {
     "name": "stderr",
     "output_type": "stream",
     "text": [
      "Generating queries for articles:  17%|█▋        | 17/100 [00:43<03:26,  2.49s/it]"
     ]
    },
    {
     "name": "stdout",
     "output_type": "stream",
     "text": [
      "Article: Simplex-averaged finite element methods for $H({\\rm grad})$, $H({\\rm\n",
      "  curl})$ and $H({\\rm div})$ convection-diffusion problems\n",
      "Query: \"finite element methods for convection-diffusion problems with grad, curl, and div operators\"\n",
      "\n",
      "\n",
      "\n"
     ]
    },
    {
     "name": "stderr",
     "output_type": "stream",
     "text": [
      "Generating queries for articles:  18%|█▊        | 18/100 [00:45<03:23,  2.49s/it]"
     ]
    },
    {
     "name": "stdout",
     "output_type": "stream",
     "text": [
      "Article: Fourier transform detection of weak optical transitions with cyclic\n",
      "  routines\n",
      "Query: \"optical transition detection methods in cold atoms using fourier transform and cyclic routines\"\n",
      "\n",
      "\n",
      "\n"
     ]
    },
    {
     "name": "stderr",
     "output_type": "stream",
     "text": [
      "Generating queries for articles:  19%|█▉        | 19/100 [00:51<04:57,  3.68s/it]"
     ]
    },
    {
     "name": "stdout",
     "output_type": "stream",
     "text": [
      "Article: sBSNN: Stochastic-Bits Enabled Binary Spiking Neural Network with\n",
      "  On-Chip Learning for Energy Efficient Neuromorphic Computing at the Edge\n",
      "Query: \"energy efficient binary neural networks for image recognition\"\n",
      "\n",
      "\n",
      "\n"
     ]
    },
    {
     "name": "stderr",
     "output_type": "stream",
     "text": [
      "Generating queries for articles:  20%|██        | 20/100 [00:54<04:27,  3.34s/it]"
     ]
    },
    {
     "name": "stdout",
     "output_type": "stream",
     "text": [
      "Article: Which Generation Shows the Most Prudent Data Sharing Behaviour?\n",
      "Query: what age group is most careful with personal data online\n",
      "\n",
      "\n",
      "\n"
     ]
    },
    {
     "name": "stderr",
     "output_type": "stream",
     "text": [
      "Generating queries for articles:  21%|██        | 21/100 [00:56<04:03,  3.08s/it]"
     ]
    },
    {
     "name": "stdout",
     "output_type": "stream",
     "text": [
      "Article: A New Charter of Ethics and Rights of Artificial Consciousness in a\n",
      "  Human World\n",
      "Query: \" artificial intelligence rights and ethics charter\"\n",
      "\n",
      "\n",
      "\n"
     ]
    },
    {
     "name": "stderr",
     "output_type": "stream",
     "text": [
      "Generating queries for articles:  22%|██▏       | 22/100 [00:59<03:46,  2.90s/it]"
     ]
    },
    {
     "name": "stdout",
     "output_type": "stream",
     "text": [
      "Article: X-ray measurement model incorporating energy-correlated material\n",
      "  variability and its application in information-theoretic system analysis\n",
      "Query: \"x-ray imaging system performance analysis incorporating material variability and energy correlations\"\n",
      "\n",
      "\n",
      "\n"
     ]
    },
    {
     "name": "stderr",
     "output_type": "stream",
     "text": [
      "Generating queries for articles:  23%|██▎       | 23/100 [01:01<03:33,  2.78s/it]"
     ]
    },
    {
     "name": "stdout",
     "output_type": "stream",
     "text": [
      "Article: Superconductor-metal quantum transition at the EuO-KTaO3 interface\n",
      "Query: \"oxide interface superconductivity with high critical temperature\"\n",
      "\n",
      "\n",
      "\n"
     ]
    },
    {
     "name": "stderr",
     "output_type": "stream",
     "text": [
      "Generating queries for articles:  24%|██▍       | 24/100 [01:04<03:24,  2.69s/it]"
     ]
    },
    {
     "name": "stdout",
     "output_type": "stream",
     "text": [
      "Article: Efficient Inverse-Free Incremental and Decremental Algorithms for\n",
      "  Multiple Hidden Nodes in Extreme Learning Machine\n",
      "Query: \"tikhonov regularization extreme learning machine algorithms for incremental and decremental learning\"\n",
      "\n",
      "\n",
      "\n"
     ]
    },
    {
     "name": "stderr",
     "output_type": "stream",
     "text": [
      "Generating queries for articles:  25%|██▌       | 25/100 [01:06<03:16,  2.62s/it]"
     ]
    },
    {
     "name": "stdout",
     "output_type": "stream",
     "text": [
      "Article: Fingerprints of giant planets in the composition of solar twins\n",
      "Query: \"giant planets impact on solar twin composition\"\n",
      "\n",
      "\n",
      "\n"
     ]
    },
    {
     "name": "stderr",
     "output_type": "stream",
     "text": [
      "Generating queries for articles:  26%|██▌       | 26/100 [01:09<03:13,  2.62s/it]"
     ]
    },
    {
     "name": "stdout",
     "output_type": "stream",
     "text": [
      "Article: Few-Shot Adaptation of Generative Adversarial Networks\n",
      "Query: \"adapting generative adversarial networks for few-shot image synthesis\"\n",
      "\n",
      "\n",
      "\n"
     ]
    },
    {
     "name": "stderr",
     "output_type": "stream",
     "text": [
      "Generating queries for articles:  27%|██▋       | 27/100 [01:12<03:10,  2.60s/it]"
     ]
    },
    {
     "name": "stdout",
     "output_type": "stream",
     "text": [
      "Article: Lamina-specific neuronal properties promote robust, stable signal\n",
      "  propagation in feedforward networks\n",
      "Query: \"how diverse neuronal properties in feedforward networks improve signal transmission\"\n",
      "\n",
      "\n",
      "\n"
     ]
    },
    {
     "name": "stderr",
     "output_type": "stream",
     "text": [
      "Generating queries for articles:  28%|██▊       | 28/100 [01:14<03:04,  2.56s/it]"
     ]
    },
    {
     "name": "stdout",
     "output_type": "stream",
     "text": [
      "Article: BCFT entanglement entropy at large central charge and the black hole\n",
      "  interior\n",
      "Query: \"phase transitions in entanglement entropy of bounded conformal field theories and their relation to black hole interior\"\n",
      "\n",
      "\n",
      "\n"
     ]
    },
    {
     "name": "stderr",
     "output_type": "stream",
     "text": [
      "Generating queries for articles:  29%|██▉       | 29/100 [01:17<03:02,  2.57s/it]"
     ]
    },
    {
     "name": "stdout",
     "output_type": "stream",
     "text": [
      "Article: Longitudinal tension and mechanical stability of a pressurized straw\n",
      "  tube\n",
      "Query: \"measuring mechanical properties of pressurized straw tubes for particle detectors\"\n",
      "\n",
      "\n",
      "\n"
     ]
    },
    {
     "name": "stderr",
     "output_type": "stream",
     "text": [
      "Generating queries for articles:  30%|███       | 30/100 [01:19<02:57,  2.53s/it]"
     ]
    },
    {
     "name": "stdout",
     "output_type": "stream",
     "text": [
      "Article: MeshAdv: Adversarial Meshes for Visual Recognition\n",
      "Query: \"adversarial attack on 3d object recognition using manipulated mesh models\"\n",
      "\n",
      "\n",
      "\n"
     ]
    },
    {
     "name": "stderr",
     "output_type": "stream",
     "text": [
      "Generating queries for articles:  31%|███       | 31/100 [01:22<02:53,  2.52s/it]"
     ]
    },
    {
     "name": "stdout",
     "output_type": "stream",
     "text": [
      "Article: Automatic Segmentation, Feature Extraction and Comparison of Healthy and\n",
      "  Stroke Cerebral Vasculature\n",
      "Query: \"machine learning for cerebral vasculature segmentation and feature extraction in medical imaging\"\n",
      "\n",
      "\n",
      "\n"
     ]
    },
    {
     "name": "stderr",
     "output_type": "stream",
     "text": [
      "Generating queries for articles:  32%|███▏      | 32/100 [01:25<03:02,  2.69s/it]"
     ]
    },
    {
     "name": "stdout",
     "output_type": "stream",
     "text": [
      "Article: How Phonotactics Affect Multilingual and Zero-shot ASR Performance\n",
      "Query: \"impact of phonotactics on multilingual and zero-shot speech recognition performance\"\n",
      "\n",
      "\n",
      "\n"
     ]
    },
    {
     "name": "stderr",
     "output_type": "stream",
     "text": [
      "Generating queries for articles:  33%|███▎      | 33/100 [01:27<02:56,  2.63s/it]"
     ]
    },
    {
     "name": "stdout",
     "output_type": "stream",
     "text": [
      "Article: Constraining annihilating dark matter by radio continuum spectrum of the\n",
      "  Large Magellanic Cloud\n",
      "Query: \"dark matter annihilation signals in the large magellanic cloud\"\n",
      "\n",
      "\n",
      "\n"
     ]
    },
    {
     "name": "stderr",
     "output_type": "stream",
     "text": [
      "Generating queries for articles:  34%|███▍      | 34/100 [01:30<02:49,  2.58s/it]"
     ]
    },
    {
     "name": "stdout",
     "output_type": "stream",
     "text": [
      "Article: Contrastive Learning with Adversarial Examples\n",
      "Query: \"adversarial examples in self-supervised learning for visual representation\"\n",
      "\n",
      "\n",
      "\n"
     ]
    },
    {
     "name": "stderr",
     "output_type": "stream",
     "text": [
      "Generating queries for articles:  35%|███▌      | 35/100 [01:32<02:45,  2.55s/it]"
     ]
    },
    {
     "name": "stdout",
     "output_type": "stream",
     "text": [
      "Article: DeeBERT: Dynamic Early Exiting for Accelerating BERT Inference\n",
      "Query: \"accelerating bert inference with dynamic early exiting\"\n",
      "\n",
      "\n",
      "\n"
     ]
    },
    {
     "name": "stderr",
     "output_type": "stream",
     "text": [
      "Generating queries for articles:  36%|███▌      | 36/100 [01:35<02:41,  2.52s/it]"
     ]
    },
    {
     "name": "stdout",
     "output_type": "stream",
     "text": [
      "Article: Listening for Sirens: Locating and Classifying Acoustic Alarms in City\n",
      "  Scenes\n",
      "Query: \"detecting emergency vehicle sirens in noisy urban environments using deep learning\"\n",
      "\n",
      "\n",
      "\n"
     ]
    },
    {
     "name": "stderr",
     "output_type": "stream",
     "text": [
      "Generating queries for articles:  37%|███▋      | 37/100 [01:37<02:39,  2.53s/it]"
     ]
    },
    {
     "name": "stdout",
     "output_type": "stream",
     "text": [
      "Article: Transient chaotic dimensionality expansion by recurrent networks\n",
      "Query: \"differences in chaotic behavior between spiking and rate-based neural networks\"\n",
      "\n",
      "\n",
      "\n"
     ]
    },
    {
     "name": "stderr",
     "output_type": "stream",
     "text": [
      "Generating queries for articles:  38%|███▊      | 38/100 [01:40<02:36,  2.52s/it]"
     ]
    },
    {
     "name": "stdout",
     "output_type": "stream",
     "text": [
      "Article: Ergodic Achievable Rate Maximization of RIS-assisted Millimeter-Wave\n",
      "  MIMO-OFDM Communication Systems\n",
      "Query: here is a search query based on the content of the article:\n",
      "\n",
      "\"maximizing ergodic rate in ris-assisted mmwave mimo-ofdm systems with statistical csi\"\n",
      "\n",
      "\n",
      "\n"
     ]
    },
    {
     "name": "stderr",
     "output_type": "stream",
     "text": [
      "Generating queries for articles:  39%|███▉      | 39/100 [01:42<02:35,  2.54s/it]"
     ]
    },
    {
     "name": "stdout",
     "output_type": "stream",
     "text": [
      "Article: DeFuzz: Deep Learning Guided Directed Fuzzing\n",
      "Query: \"deep learning guided fuzzing for software vulnerability detection\"\n",
      "\n",
      "\n",
      "\n"
     ]
    },
    {
     "name": "stderr",
     "output_type": "stream",
     "text": [
      "Generating queries for articles:  40%|████      | 40/100 [01:45<02:31,  2.53s/it]"
     ]
    },
    {
     "name": "stdout",
     "output_type": "stream",
     "text": [
      "Article: Inherently stable effective field theory for dark energy and modified\n",
      "  gravity\n",
      "Query: \"dark energy modified gravity effective field theory stability parametrisation\"\n",
      "\n",
      "\n",
      "\n"
     ]
    },
    {
     "name": "stderr",
     "output_type": "stream",
     "text": [
      "Generating queries for articles:  41%|████      | 41/100 [01:51<03:39,  3.72s/it]"
     ]
    },
    {
     "name": "stdout",
     "output_type": "stream",
     "text": [
      "Article: On complexity of representations of quivers\n",
      "Query: \"polynomial time algorithm for checking absolute indecomposability of quiver representations over finite fields\"\n",
      "\n",
      "\n",
      "\n"
     ]
    },
    {
     "name": "stderr",
     "output_type": "stream",
     "text": [
      "Generating queries for articles:  42%|████▏     | 42/100 [01:57<04:09,  4.29s/it]"
     ]
    },
    {
     "name": "stdout",
     "output_type": "stream",
     "text": [
      "Article: Quantum Formation of Primordial Black holes\n",
      "Query: \"quantum mechanics of primordial black hole formation\"\n",
      "\n",
      "\n",
      "\n"
     ]
    },
    {
     "name": "stderr",
     "output_type": "stream",
     "text": [
      "Generating queries for articles:  43%|████▎     | 43/100 [02:01<04:10,  4.40s/it]"
     ]
    },
    {
     "name": "stdout",
     "output_type": "stream",
     "text": [
      "Article: Tree Reconstruction using Topology Optimisation\n",
      "Query: \"3d tree modeling using topology optimization for forestry and environmental applications\"\n",
      "\n",
      "\n",
      "\n"
     ]
    },
    {
     "name": "stderr",
     "output_type": "stream",
     "text": [
      "Generating queries for articles:  44%|████▍     | 44/100 [02:07<04:18,  4.61s/it]"
     ]
    },
    {
     "name": "stdout",
     "output_type": "stream",
     "text": [
      "Article: Deep Learning for Ultra-Reliable and Low-Latency Communications in 6G\n",
      "  Networks\n",
      "Query: \"deep learning applications in 6g networks for ultra-reliable low-latency communications\"\n",
      "\n",
      "\n",
      "\n"
     ]
    },
    {
     "name": "stderr",
     "output_type": "stream",
     "text": [
      "Generating queries for articles:  45%|████▌     | 45/100 [02:16<05:37,  6.13s/it]"
     ]
    },
    {
     "name": "stdout",
     "output_type": "stream",
     "text": [
      "Article: Active galactic nuclei ghosts: A systematic search for faded nuclei\n",
      "Query: \"galaxy nuclei fading activity nearby universe\"\n",
      "\n",
      "\n",
      "\n"
     ]
    },
    {
     "name": "stderr",
     "output_type": "stream",
     "text": [
      "Generating queries for articles:  46%|████▌     | 46/100 [02:23<05:47,  6.43s/it]"
     ]
    },
    {
     "name": "stdout",
     "output_type": "stream",
     "text": [
      "Article: Nonbinary Error-Detecting Hybrid Codes\n",
      "Query: \"hybrid quantum codes for classical information transmission with error detection\"\n",
      "\n",
      "\n",
      "\n"
     ]
    },
    {
     "name": "stderr",
     "output_type": "stream",
     "text": [
      "Generating queries for articles:  47%|████▋     | 47/100 [02:35<07:00,  7.93s/it]"
     ]
    },
    {
     "name": "stdout",
     "output_type": "stream",
     "text": [
      "Article: Interactive Movement Primitives: Planning to Push Occluding Pieces for\n",
      "  Fruit Picking\n",
      "Query: \"robotic fruit picking motion planning in dense clusters\"\n",
      "\n",
      "\n",
      "\n"
     ]
    },
    {
     "name": "stderr",
     "output_type": "stream",
     "text": [
      "Generating queries for articles:  48%|████▊     | 48/100 [02:37<05:27,  6.30s/it]"
     ]
    },
    {
     "name": "stdout",
     "output_type": "stream",
     "text": [
      "Article: Pb-doped p-type Bi$_2$Se$_3$ thin films via interfacial engineering\n",
      "Query: \"p-type topological insulator thin films using heavy metal doping\"\n",
      "\n",
      "\n",
      "\n"
     ]
    },
    {
     "name": "stderr",
     "output_type": "stream",
     "text": [
      "Generating queries for articles:  49%|████▉     | 49/100 [02:47<06:11,  7.28s/it]"
     ]
    },
    {
     "name": "stdout",
     "output_type": "stream",
     "text": [
      "Article: Growth of nonsymmetric operads\n",
      "Query: \"gelfand-kirillov dimension of nonsymmetric operads\"\n",
      "\n",
      "\n",
      "\n"
     ]
    },
    {
     "name": "stderr",
     "output_type": "stream",
     "text": [
      "Generating queries for articles:  50%|█████     | 50/100 [02:56<06:33,  7.87s/it]"
     ]
    },
    {
     "name": "stdout",
     "output_type": "stream",
     "text": [
      "Article: Optimizing Electric Multiple Unit Circulation Plan within Maintenance\n",
      "  Constraints for High-Speed Railway System\n",
      "Query: \"optimizing train circulation plans in high speed rail networks with maintenance constraints\"\n",
      "\n",
      "\n",
      "\n"
     ]
    },
    {
     "name": "stderr",
     "output_type": "stream",
     "text": [
      "Generating queries for articles:  51%|█████     | 51/100 [03:02<05:56,  7.28s/it]"
     ]
    },
    {
     "name": "stdout",
     "output_type": "stream",
     "text": [
      "Article: Near-field imaging of surface-plasmon vortex-modes around a single\n",
      "  elliptical nanohole in a gold film\n",
      "Query: \"near-field imaging of plasmon vortex modes in elliptical nanoholes\"\n",
      "\n",
      "\n",
      "\n"
     ]
    },
    {
     "name": "stderr",
     "output_type": "stream",
     "text": [
      "Generating queries for articles:  52%|█████▏    | 52/100 [03:08<05:27,  6.82s/it]"
     ]
    },
    {
     "name": "stdout",
     "output_type": "stream",
     "text": [
      "Article: Driven translocation of a semiflexible polymer through a conical channel\n",
      "  in the presence of attractive surface interactions\n",
      "Query: \"polymer translocation through conical channels with surface interactions\"\n",
      "\n",
      "\n",
      "\n"
     ]
    },
    {
     "name": "stderr",
     "output_type": "stream",
     "text": [
      "Generating queries for articles:  53%|█████▎    | 53/100 [03:16<05:36,  7.15s/it]"
     ]
    },
    {
     "name": "stdout",
     "output_type": "stream",
     "text": [
      "Article: The Accuracy of Restricted Boltzmann Machine Models of Ising Systems\n",
      "Query: what hyperparameters affect the accuracy of restricted boltzmann machines in modeling ising spin systems?\n",
      "\n",
      "\n",
      "\n"
     ]
    },
    {
     "name": "stderr",
     "output_type": "stream",
     "text": [
      "Generating queries for articles:  54%|█████▍    | 54/100 [03:23<05:37,  7.34s/it]"
     ]
    },
    {
     "name": "stdout",
     "output_type": "stream",
     "text": [
      "Article: See saw mechanism with Yukawa alignment for neutrinos\n",
      "Query: here is a search query based on the article's content:\n",
      "\n",
      "\"neutrino mass generation with yukawa alignment and seesaw mechanism\"\n",
      "\n",
      "\n",
      "\n"
     ]
    },
    {
     "name": "stderr",
     "output_type": "stream",
     "text": [
      "Generating queries for articles:  55%|█████▌    | 55/100 [03:29<05:08,  6.86s/it]"
     ]
    },
    {
     "name": "stdout",
     "output_type": "stream",
     "text": [
      "Article: Game Values of Strong Placement Games\n",
      "Query: \"game theory: finding values in simplicial complexes of strong placement games\"\n",
      "\n",
      "\n",
      "\n"
     ]
    },
    {
     "name": "stderr",
     "output_type": "stream",
     "text": [
      "Generating queries for articles:  56%|█████▌    | 56/100 [03:36<05:05,  6.95s/it]"
     ]
    },
    {
     "name": "stdout",
     "output_type": "stream",
     "text": [
      "Article: On the centralizer of vector fields: criteria of triviality and\n",
      "  genericity results\n",
      "Query: \"criterion for trivial centralizer of vector fields on riemannian manifolds\"\n",
      "\n",
      "\n",
      "\n"
     ]
    },
    {
     "name": "stderr",
     "output_type": "stream",
     "text": [
      "Generating queries for articles:  57%|█████▋    | 57/100 [03:41<04:32,  6.35s/it]"
     ]
    },
    {
     "name": "stdout",
     "output_type": "stream",
     "text": [
      "Article: Attacks Which Do Not Kill Training Make Adversarial Learning Stronger\n",
      "Query: \"adversarial training methods that improve robustness without compromising generalization\"\n",
      "\n",
      "\n",
      "\n"
     ]
    },
    {
     "name": "stderr",
     "output_type": "stream",
     "text": [
      "Generating queries for articles:  58%|█████▊    | 58/100 [03:54<05:46,  8.24s/it]"
     ]
    },
    {
     "name": "stdout",
     "output_type": "stream",
     "text": [
      "Article: SymNMF-Net for The Symmetric NMF Problem\n",
      "Query: \"neural network for symmetric non-negative matrix factorization clustering\"\n",
      "\n",
      "\n",
      "\n"
     ]
    },
    {
     "name": "stderr",
     "output_type": "stream",
     "text": [
      "Generating queries for articles:  59%|█████▉    | 59/100 [04:01<05:26,  7.95s/it]"
     ]
    },
    {
     "name": "stdout",
     "output_type": "stream",
     "text": [
      "Article: Vibrational Heat-Bath Configuration Interaction\n",
      "Query: \"calculating vibrational eigenstates of anharmonic systems using configuration interaction methods\"\n",
      "\n",
      "\n",
      "\n"
     ]
    },
    {
     "name": "stderr",
     "output_type": "stream",
     "text": [
      "Generating queries for articles:  60%|██████    | 60/100 [04:10<05:29,  8.24s/it]"
     ]
    },
    {
     "name": "stdout",
     "output_type": "stream",
     "text": [
      "Article: A unified view of space-time covariance functions through Gelfand pairs\n",
      "Query: \"gelfand pairs and spatio-temporal statistics and positive definite functions\"\n",
      "\n",
      "\n",
      "\n"
     ]
    },
    {
     "name": "stderr",
     "output_type": "stream",
     "text": [
      "Generating queries for articles:  61%|██████    | 61/100 [04:18<05:22,  8.28s/it]"
     ]
    },
    {
     "name": "stdout",
     "output_type": "stream",
     "text": [
      "Article: Grasping as Inference: Reactive Grasping in Heavily Cluttered\n",
      "  Environment\n",
      "Query: \" robot grasping systems for cluttered environments using 6dof and closed-loop feedback\"\n",
      "\n",
      "\n",
      "\n"
     ]
    },
    {
     "name": "stderr",
     "output_type": "stream",
     "text": [
      "Generating queries for articles:  62%|██████▏   | 62/100 [04:23<04:35,  7.24s/it]"
     ]
    },
    {
     "name": "stdout",
     "output_type": "stream",
     "text": [
      "Article: The Case for Learning Application Behavior to Improve Hardware Energy\n",
      "  Efficiency\n",
      "Query: \"improving hardware energy efficiency through machine learning based application behavioral analysis\"\n",
      "\n",
      "\n",
      "\n"
     ]
    },
    {
     "name": "stderr",
     "output_type": "stream",
     "text": [
      "Generating queries for articles:  63%|██████▎   | 63/100 [04:32<04:39,  7.56s/it]"
     ]
    },
    {
     "name": "stdout",
     "output_type": "stream",
     "text": [
      "Article: Cost-Optimal Laser-Accelerated Lightsails\n",
      "Query: \"laser accelerated lightsails for interstellar missions with varying payload and cruise velocity\"\n",
      "\n",
      "\n",
      "\n"
     ]
    },
    {
     "name": "stderr",
     "output_type": "stream",
     "text": [
      "Generating queries for articles:  64%|██████▍   | 64/100 [04:40<04:36,  7.69s/it]"
     ]
    },
    {
     "name": "stdout",
     "output_type": "stream",
     "text": [
      "Article: Nonreciprocal directional dichroism induced by a temperature gradient as\n",
      "  a probe for mobile spin dynamics in quantum magnets\n",
      "Query: experimental probes for mobile spin dynamics in quantum spin liquids\n",
      "\n",
      "\n",
      "\n"
     ]
    },
    {
     "name": "stderr",
     "output_type": "stream",
     "text": [
      "Generating queries for articles:  65%|██████▌   | 65/100 [04:52<05:14,  8.99s/it]"
     ]
    },
    {
     "name": "stdout",
     "output_type": "stream",
     "text": [
      "Article: A broadband achromatic polarization-insensitive metalens consisting of\n",
      "  anisotropic nanostructures\n",
      "Query: \"polarization-insensitive metalens achromatic visible spectrum\"\n",
      "\n",
      "\n",
      "\n"
     ]
    },
    {
     "name": "stderr",
     "output_type": "stream",
     "text": [
      "Generating queries for articles:  66%|██████▌   | 66/100 [04:57<04:32,  8.02s/it]"
     ]
    },
    {
     "name": "stdout",
     "output_type": "stream",
     "text": [
      "Article: Asymptotic Expansions of The Traces of the Thermoelastic Operators\n",
      "Query:  riot and neumann boundary conditions on riemannian manifolds.\n",
      "\n",
      "\n",
      "\n"
     ]
    },
    {
     "name": "stderr",
     "output_type": "stream",
     "text": [
      "Generating queries for articles:  67%|██████▋   | 67/100 [05:08<04:47,  8.70s/it]"
     ]
    },
    {
     "name": "stdout",
     "output_type": "stream",
     "text": [
      "Article: On Eventually Periodic Sets as Minimal Additive Complements\n",
      "Query: \"minimal additive complements in abelian groups periodic sets\"\n",
      "\n",
      "\n",
      "\n"
     ]
    },
    {
     "name": "stderr",
     "output_type": "stream",
     "text": [
      "Generating queries for articles:  68%|██████▊   | 68/100 [05:12<03:59,  7.50s/it]"
     ]
    },
    {
     "name": "stdout",
     "output_type": "stream",
     "text": [
      "Article: Two-phonon structures for beta-decay theory\n",
      "Query: beta decay rates calculation microscopic modelgamow-teller strength phonon coupling\n",
      "\n",
      "\n",
      "\n"
     ]
    },
    {
     "name": "stderr",
     "output_type": "stream",
     "text": [
      "Generating queries for articles:  69%|██████▉   | 69/100 [05:21<04:04,  7.88s/it]"
     ]
    },
    {
     "name": "stdout",
     "output_type": "stream",
     "text": [
      "Article: Symbiotic Child Emotional Support with Social Robots and Temporal\n",
      "  Knowledge Graphs\n",
      "Query: \"emotionally intelligent social robots for children's mental health support\"\n",
      "\n",
      "\n",
      "\n"
     ]
    },
    {
     "name": "stderr",
     "output_type": "stream",
     "text": [
      "Generating queries for articles:  70%|███████   | 70/100 [05:31<04:12,  8.43s/it]"
     ]
    },
    {
     "name": "stdout",
     "output_type": "stream",
     "text": [
      "Article: High Tc superconductivity in heavy Rare Earth Hydrides: correlation\n",
      "  between the presence of the f states on the Fermi surface, nesting and the\n",
      "  value of Tc\n",
      "Query: \"high temperature superconductors in rare earth hydrides at lower pressures\"\n",
      "\n",
      "\n",
      "\n"
     ]
    },
    {
     "name": "stderr",
     "output_type": "stream",
     "text": [
      "Generating queries for articles:  71%|███████   | 71/100 [05:36<03:36,  7.47s/it]"
     ]
    },
    {
     "name": "stdout",
     "output_type": "stream",
     "text": [
      "Article: Diffusion in the presence of correlated dynamical disorder and coherent\n",
      "  exciton transfer in the non-Markovian limit\n",
      "Query: \"coherent exciton transport in disordered quantum systems with correlated fluctuations\"\n",
      "\n",
      "\n",
      "\n"
     ]
    },
    {
     "name": "stderr",
     "output_type": "stream",
     "text": [
      "Generating queries for articles:  72%|███████▏  | 72/100 [05:45<03:37,  7.78s/it]"
     ]
    },
    {
     "name": "stdout",
     "output_type": "stream",
     "text": [
      "Article: Continuous-time multi-state capture-recapture models\n",
      "Query: \"modeling irregularly sampled multi-state capture-recapture data with continuous-time hidden markov models\"\n",
      "\n",
      "\n",
      "\n"
     ]
    },
    {
     "name": "stderr",
     "output_type": "stream",
     "text": [
      "Generating queries for articles:  73%|███████▎  | 73/100 [05:54<03:44,  8.30s/it]"
     ]
    },
    {
     "name": "stdout",
     "output_type": "stream",
     "text": [
      "Article: A panoramic landscape of the Sagittarius stream in Gaia DR2 revealed\n",
      "  with the STREAMFINDER spyglass\n",
      "Query: \"sagittarius stream panoramic landscape gaia dr2 streamfinder\"\n",
      "\n",
      "\n",
      "\n"
     ]
    },
    {
     "name": "stderr",
     "output_type": "stream",
     "text": [
      "Generating queries for articles:  74%|███████▍  | 74/100 [06:06<04:01,  9.30s/it]"
     ]
    },
    {
     "name": "stdout",
     "output_type": "stream",
     "text": [
      "Article: Application of the iterative reconstruction to simulated galaxy fields\n",
      "Query: \"galaxy field reconstruction methods in redshift space with iterative techniques\"\n",
      "\n",
      "\n",
      "\n"
     ]
    },
    {
     "name": "stderr",
     "output_type": "stream",
     "text": [
      "Generating queries for articles:  75%|███████▌  | 75/100 [06:11<03:25,  8.21s/it]"
     ]
    },
    {
     "name": "stdout",
     "output_type": "stream",
     "text": [
      "Article: Model Watermarking for Image Processing Networks\n",
      "Query: \"protecting deep learning models from infringement using watermarking techniques\"\n",
      "\n",
      "\n",
      "\n"
     ]
    },
    {
     "name": "stderr",
     "output_type": "stream",
     "text": [
      "Generating queries for articles:  76%|███████▌  | 76/100 [06:20<03:18,  8.26s/it]"
     ]
    },
    {
     "name": "stdout",
     "output_type": "stream",
     "text": [
      "Article: Numerical approximation of elliptic problems with log-normal random\n",
      "  coefficients\n",
      "Query: \"preconditioning strategies for elliptic equations with random coefficients using wick-type models\"\n",
      "\n",
      "\n",
      "\n"
     ]
    },
    {
     "name": "stderr",
     "output_type": "stream",
     "text": [
      "Generating queries for articles:  77%|███████▋  | 77/100 [06:33<03:43,  9.73s/it]"
     ]
    },
    {
     "name": "stdout",
     "output_type": "stream",
     "text": [
      "Article: A search for cosmological anisotropy using the Lyman alpha forest from\n",
      "  SDSS quasar spectra\n",
      "Query: \"testing cosmological isotropy with lyman alpha forest and quasar spectra\"\n",
      "\n",
      "\n",
      "\n"
     ]
    },
    {
     "name": "stderr",
     "output_type": "stream",
     "text": [
      "Generating queries for articles:  78%|███████▊  | 78/100 [06:36<02:51,  7.80s/it]"
     ]
    },
    {
     "name": "stdout",
     "output_type": "stream",
     "text": [
      "Article: An Inertial Block Majorization Minimization Framework for Nonsmooth\n",
      "  Nonconvex Optimization\n",
      "Query: \"inertial block coordinate descent optimization methods for non smooth non convex problems\"\n",
      "\n",
      "\n",
      "\n"
     ]
    },
    {
     "name": "stderr",
     "output_type": "stream",
     "text": [
      "Generating queries for articles:  79%|███████▉  | 79/100 [06:44<02:43,  7.79s/it]"
     ]
    },
    {
     "name": "stdout",
     "output_type": "stream",
     "text": [
      "Article: Big Quantum cohomology of orbifold spheres\n",
      "Query: \"kodaira-spencer map in quantum cohomology of orbifold spheres\"\n",
      "\n",
      "\n",
      "\n"
     ]
    },
    {
     "name": "stderr",
     "output_type": "stream",
     "text": [
      "Generating queries for articles:  80%|████████  | 80/100 [06:52<02:35,  7.80s/it]"
     ]
    },
    {
     "name": "stdout",
     "output_type": "stream",
     "text": [
      "Article: Synchrotron radiation from a charge circulating around a cylinder with\n",
      "  negative permittivity\n",
      "Query: \"synchrotron radiation patterns from charged particles near negative permittivity dielectric cylinders\"\n",
      "\n",
      "\n",
      "\n"
     ]
    },
    {
     "name": "stderr",
     "output_type": "stream",
     "text": [
      "Generating queries for articles:  81%|████████  | 81/100 [06:57<02:13,  7.04s/it]"
     ]
    },
    {
     "name": "stdout",
     "output_type": "stream",
     "text": [
      "Article: Novel Cascaded Gaussian Mixture Model-Deep Neural Network Classifier for\n",
      "  Speaker Identification in Emotional Talking Environments\n",
      "Query: speaker identification emotional speech classification using gaussian mixture model and deep neural networks\n",
      "\n",
      "\n",
      "\n"
     ]
    },
    {
     "name": "stderr",
     "output_type": "stream",
     "text": [
      "Generating queries for articles:  82%|████████▏ | 82/100 [07:05<02:10,  7.27s/it]"
     ]
    },
    {
     "name": "stdout",
     "output_type": "stream",
     "text": [
      "Article: A Note About the {Ki(z)} Functions\n",
      "Query: \"generalizations of kurepa's left factorial function properties\"\n",
      "\n",
      "\n",
      "\n"
     ]
    },
    {
     "name": "stderr",
     "output_type": "stream",
     "text": [
      "Generating queries for articles:  83%|████████▎ | 83/100 [07:13<02:07,  7.50s/it]"
     ]
    },
    {
     "name": "stdout",
     "output_type": "stream",
     "text": [
      "Article: Understanding Metrics for Paraphrasing\n",
      "Query: \"evaluating paraphrase quality with novel metrics\"\n",
      "\n",
      "\n",
      "\n"
     ]
    },
    {
     "name": "stderr",
     "output_type": "stream",
     "text": [
      "Generating queries for articles:  84%|████████▍ | 84/100 [07:18<01:47,  6.70s/it]"
     ]
    },
    {
     "name": "stdout",
     "output_type": "stream",
     "text": [
      "Article: Single Crystal Growth of Cuprate Superconductor\n",
      "  (Lu$_{0.8}$Nd$_{0.2}$)Ba$_2$Cu$_4$O$_8$ by KOH Flux Method\n",
      "Query: \"growing single crystals of cuprate superconductors using the koh flux method\"\n",
      "\n",
      "\n",
      "\n"
     ]
    },
    {
     "name": "stderr",
     "output_type": "stream",
     "text": [
      "Generating queries for articles:  85%|████████▌ | 85/100 [07:26<01:47,  7.19s/it]"
     ]
    },
    {
     "name": "stdout",
     "output_type": "stream",
     "text": [
      "Article: Nonlinear Stochastic Trajectory Optimization for Centroidal Momentum\n",
      "  Motion Generation of Legged Robots\n",
      "Query: \"legged robot trajectory planning with uncertainty and disturbance compensation\"\n",
      "\n",
      "\n",
      "\n"
     ]
    },
    {
     "name": "stderr",
     "output_type": "stream",
     "text": [
      "Generating queries for articles:  86%|████████▌ | 86/100 [07:34<01:43,  7.42s/it]"
     ]
    },
    {
     "name": "stdout",
     "output_type": "stream",
     "text": [
      "Article: Leveraging Causal Inference for Explainable Automatic Program Repair\n",
      "Query: \"interpretable deep learning for automatic program repair using causal inference\"\n",
      "\n",
      "\n",
      "\n"
     ]
    },
    {
     "name": "stderr",
     "output_type": "stream",
     "text": [
      "Generating queries for articles:  87%|████████▋ | 87/100 [07:41<01:33,  7.22s/it]"
     ]
    },
    {
     "name": "stdout",
     "output_type": "stream",
     "text": [
      "Article: Temporal Attention-Augmented Graph Convolutional Network for Efficient\n",
      "  Skeleton-Based Human Action Recognition\n",
      "Query: \"efficient human action recognition using graph convolutional networks with reduced computational complexity\"\n",
      "\n",
      "\n",
      "\n"
     ]
    },
    {
     "name": "stderr",
     "output_type": "stream",
     "text": [
      "Generating queries for articles:  88%|████████▊ | 88/100 [07:48<01:24,  7.07s/it]"
     ]
    },
    {
     "name": "stdout",
     "output_type": "stream",
     "text": [
      "Article: Control Design of Autonomous Drone Using Deep Learning Based Image\n",
      "  Understanding Techniques\n",
      "Query: \"deep learning image processing for autonomous drone flight control\"\n",
      "\n",
      "\n",
      "\n"
     ]
    },
    {
     "name": "stderr",
     "output_type": "stream",
     "text": [
      "Generating queries for articles:  89%|████████▉ | 89/100 [07:59<01:31,  8.29s/it]"
     ]
    },
    {
     "name": "stdout",
     "output_type": "stream",
     "text": [
      "Article: Rigidity for rigid analytic motives\n",
      "Query: \"rigidity theorem for motives in non-archimedean valued fields\"\n",
      "\n",
      "\n",
      "\n"
     ]
    },
    {
     "name": "stderr",
     "output_type": "stream",
     "text": [
      "Generating queries for articles:  90%|█████████ | 90/100 [08:03<01:11,  7.20s/it]"
     ]
    },
    {
     "name": "stdout",
     "output_type": "stream",
     "text": [
      "Article: Sizing the White Whale\n",
      "Query: \"finding all vertices of high-dimensional zonotopes using computational frameworks\"\n",
      "\n",
      "\n",
      "\n"
     ]
    },
    {
     "name": "stderr",
     "output_type": "stream",
     "text": [
      "Generating queries for articles:  91%|█████████ | 91/100 [08:08<00:57,  6.44s/it]"
     ]
    },
    {
     "name": "stdout",
     "output_type": "stream",
     "text": [
      "Article: Regularized maximal fidelity of the generalized Pauli channels\n",
      "Query: \"quantum channel fidelity formulas for generalized pauli channels\"\n",
      "\n",
      "\n",
      "\n"
     ]
    },
    {
     "name": "stderr",
     "output_type": "stream",
     "text": [
      "Generating queries for articles:  92%|█████████▏| 92/100 [08:16<00:54,  6.81s/it]"
     ]
    },
    {
     "name": "stdout",
     "output_type": "stream",
     "text": [
      "Article: Fighting Contextual Bandits with Stochastic Smoothing\n",
      "Query: adversarial contextual bandit algorithms with stochastic smoothing\n",
      "\n",
      "\n",
      "\n"
     ]
    },
    {
     "name": "stderr",
     "output_type": "stream",
     "text": [
      "Generating queries for articles:  93%|█████████▎| 93/100 [08:20<00:43,  6.16s/it]"
     ]
    },
    {
     "name": "stdout",
     "output_type": "stream",
     "text": [
      "Article: Acute Lymphoblastic Leukemia Detection Using Hypercomplex-Valued\n",
      "  Convolutional Neural Networks\n",
      "Query: \"convolutional neural networks for acute lymphoblastic leukemia diagnosis from blood smear images\"\n",
      "\n",
      "\n",
      "\n"
     ]
    },
    {
     "name": "stderr",
     "output_type": "stream",
     "text": [
      "Generating queries for articles:  94%|█████████▍| 94/100 [08:28<00:39,  6.63s/it]"
     ]
    },
    {
     "name": "stdout",
     "output_type": "stream",
     "text": [
      "Article: The profinite completion of relatively hyperbolic virtually special\n",
      "  groups\n",
      "Query: profinite completion of relatively hyperbolic groups and their subgroups\n",
      "\n",
      "\n",
      "\n"
     ]
    },
    {
     "name": "stderr",
     "output_type": "stream",
     "text": [
      "Generating queries for articles:  95%|█████████▌| 95/100 [08:35<00:33,  6.79s/it]"
     ]
    },
    {
     "name": "stdout",
     "output_type": "stream",
     "text": [
      "Article: On-Shell Electric-Magnetic Duality and the Dual Graviton\n",
      "Query: here is a search query based on the article's content:\n",
      "\n",
      "\"dual graviton and electric-magnetic duality in 4-dimensional scattering amplitudes\"\n",
      "\n",
      "\n",
      "\n"
     ]
    },
    {
     "name": "stderr",
     "output_type": "stream",
     "text": [
      "Generating queries for articles:  96%|█████████▌| 96/100 [08:42<00:27,  6.77s/it]"
     ]
    },
    {
     "name": "stdout",
     "output_type": "stream",
     "text": [
      "Article: A stationary heat conduction problem\n",
      "Query: \"neumann boundary condition on lower dimensional sets with finite borel measure\"\n",
      "\n",
      "\n",
      "\n"
     ]
    },
    {
     "name": "stderr",
     "output_type": "stream",
     "text": [
      "Generating queries for articles:  97%|█████████▋| 97/100 [08:53<00:23,  7.92s/it]"
     ]
    },
    {
     "name": "stdout",
     "output_type": "stream",
     "text": [
      "Article: Small-mass naked singularities censored by the Higgs field\n",
      "Query: \"higgs field effect on black hole formation and vacuum decay\"\n",
      "\n",
      "\n",
      "\n"
     ]
    },
    {
     "name": "stderr",
     "output_type": "stream",
     "text": [
      "Generating queries for articles:  98%|█████████▊| 98/100 [08:56<00:12,  6.46s/it]"
     ]
    },
    {
     "name": "stdout",
     "output_type": "stream",
     "text": [
      "Article: Thermal Instability of Halo Gas Heated by Streaming Cosmic Rays\n",
      "Query: \"thermal stability of galaxy halos heated by cosmic rays\"\n",
      "\n",
      "\n",
      "\n"
     ]
    },
    {
     "name": "stderr",
     "output_type": "stream",
     "text": [
      "Generating queries for articles:  99%|█████████▉| 99/100 [09:03<00:06,  6.70s/it]"
     ]
    },
    {
     "name": "stdout",
     "output_type": "stream",
     "text": [
      "Article: Choppy: Cut Transformer For Ranked List Truncation\n",
      "Query: \"transformer-based models for optimizing ranked list truncation in information retrieval\"\n",
      "\n",
      "\n",
      "\n"
     ]
    },
    {
     "name": "stderr",
     "output_type": "stream",
     "text": [
      "Generating queries for articles: 100%|██████████| 100/100 [09:12<00:00,  5.52s/it]\n"
     ]
    }
   ],
   "source": [
    "for artigo in tqdm(sample, desc=\"Generating queries for articles\"):\n",
    "    query = generate_query(artigo)\n",
    "    print(f\"Article: {artigo['title']}\")\n",
    "    print(f\"Query: {query}\")\n",
    "    artigo['query'] = query\n",
    "    artigos.append(artigo)\n",
    "    print(\"\\n\\n\")\n",
    "    sleep(2)"
   ]
  },
  {
   "cell_type": "code",
   "execution_count": 36,
   "metadata": {},
   "outputs": [],
   "source": [
    "# for each 'query' in artigos, remove \" and ' characters and replace them with empty space, and write the entire artigo json as a single line on a file\n",
    "with open('data/queries.json', 'w') as f:\n",
    "    for artigo in artigos:\n",
    "        artigo['query'] = artigo['query'].replace('\"', '').replace(\"'\", \"\")\n",
    "        f.write(json.dumps(artigo) + '\\n')"
   ]
  }
 ],
 "metadata": {
  "kernelspec": {
   "display_name": "Python 3",
   "language": "python",
   "name": "python3"
  },
  "language_info": {
   "codemirror_mode": {
    "name": "ipython",
    "version": 3
   },
   "file_extension": ".py",
   "mimetype": "text/x-python",
   "name": "python",
   "nbconvert_exporter": "python",
   "pygments_lexer": "ipython3",
   "version": "3.10.6"
  }
 },
 "nbformat": 4,
 "nbformat_minor": 2
}
